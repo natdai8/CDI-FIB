{
 "cells": [
  {
   "cell_type": "markdown",
   "id": "05e1ed0b",
   "metadata": {},
   "source": [
    "## Codificación y decodificación\n"
   ]
  },
  {
   "cell_type": "code",
   "execution_count": 139,
   "id": "3208ca6d",
   "metadata": {},
   "outputs": [],
   "source": [
    "def encode (txta, corr):\n",
    "    \n",
    "    txt_encoded = ''\n",
    "    i, j = 0, 0\n",
    "    \n",
    "    while j <= len(txta):\n",
    "        substring = txta[i:j]\n",
    "        if substring in corr:\n",
    "            txt_encoded += corr[substring]\n",
    "            i = j\n",
    "        j += 1\n",
    "\n",
    "    if i != len(txta): # all the text could not be processed\n",
    "        return 'Message could not be encoded'\n",
    "    \n",
    "    return txt_encoded"
   ]
  },
  {
   "cell_type": "code",
   "execution_count": 138,
   "id": "a6ac3f87",
   "metadata": {},
   "outputs": [
    {
     "name": "stdout",
     "output_type": "stream",
     "text": [
      "bbbbddddffff\n"
     ]
    }
   ],
   "source": [
    "corr = [('a','b'), ('c','d'), ('eee','ffff')]\n",
    "corr = dict(corr)\n",
    "out = encode(\"aaaacccceee\", corr)\n",
    "print(out)"
   ]
  },
  {
   "cell_type": "code",
   "execution_count": 168,
   "id": "6bdd4aea",
   "metadata": {},
   "outputs": [],
   "source": [
    "def decode(txta, corr):\n",
    "    \n",
    "    txt_decoded = ''\n",
    "    i, j = 0, 1\n",
    "    \n",
    "    while j <= len(txta):\n",
    "        substring = txta[i:j]\n",
    "        if substring in corr.values():\n",
    "            key = list(corr.keys())[list(corr.values()).index(substring)]\n",
    "            txt_decoded += key\n",
    "            i = j\n",
    "        j += 1\n",
    "\n",
    "    if i != len(txta):\n",
    "        return 'Message could not be decoded'\n",
    "    \n",
    "    return txt_decoded"
   ]
  },
  {
   "cell_type": "code",
   "execution_count": 10,
   "id": "a870d5ab",
   "metadata": {},
   "outputs": [
    {
     "name": "stdout",
     "output_type": "stream",
     "text": [
      "aaaacccceeee\n"
     ]
    }
   ],
   "source": [
    "corr = [('a','b'), ('cc','dd'), ('e','f')]\n",
    "corr = dict(corr)\n",
    "out = decode(\"bbbbddddffff\", corr)\n",
    "print(out)"
   ]
  },
  {
   "cell_type": "markdown",
   "id": "3036505a",
   "metadata": {},
   "source": [
    "## Códigos canónicos"
   ]
  },
  {
   "cell_type": "code",
   "execution_count": 73,
   "id": "42d8957e",
   "metadata": {},
   "outputs": [],
   "source": [
    "def kraft_inequality2(lengths):\n",
    "    s = 0\n",
    "    for l in lengths:\n",
    "        s += 2**-l\n",
    "\n",
    "    return s <= 1"
   ]
  },
  {
   "cell_type": "code",
   "execution_count": 72,
   "id": "fbc809d8",
   "metadata": {},
   "outputs": [],
   "source": [
    "def canonical_code2(L):\n",
    "    \n",
    "    if not kraft_inequality2(L):\n",
    "        return 'The entry does not satisfy Kraft-McMillan inequality.'\n",
    "\n",
    "    codigo_binario = []\n",
    "    maximum = max(L) + 1\n",
    "    bl_count = [0] * maximum\n",
    "    for n in L:\n",
    "        bl_count[n] += 1\n",
    "\n",
    "    code = 0\n",
    "    bl_count[0] = 0\n",
    "    next_code = [0] * maximum\n",
    "    for bits in range (1, maximum):\n",
    "        code = (code + bl_count[bits-1]) << 1\n",
    "        next_code[bits] = code \n",
    "\n",
    "    for n in range (len(L)):\n",
    "        length = L[n]\n",
    "        if (length != 0):\n",
    "            codigo_binario.append(bin(next_code[length])[2:])\n",
    "            next_code[length] += 1\n",
    "\n",
    "    for i in range (len(L)):\n",
    "        while (len(codigo_binario[i]) != L[i]):\n",
    "            codigo_binario[i] = '0'+codigo_binario[i]\n",
    "\n",
    "    return codigo_binario"
   ]
  },
  {
   "cell_type": "code",
   "execution_count": 138,
   "id": "4d822f41",
   "metadata": {},
   "outputs": [],
   "source": [
    "def generate_canonical_code(L, q, M):\n",
    "\n",
    "    codigo_canonico = canonical_code(L)\n",
    "    codigo_mapeado = ''\n",
    "\n",
    "    if (codigo_canonico != 'The entry does not satisfy Kraft-McMillan inequality.'):\n",
    "        print(codigo_canonico)\n",
    "        print(M)\n",
    "        codigo_mapeado += [([M[c] for c in codigo]) for codigo in codigo_canonico]\n",
    "        return codigo_mapeado\n",
    "    \n",
    "    return codigo_canonico"
   ]
  },
  {
   "cell_type": "code",
   "execution_count": 46,
   "id": "89ae7e9a",
   "metadata": {},
   "outputs": [],
   "source": [
    "def kraft_inequality(L, N):\n",
    "    suma = 0\n",
    "    for l in L:\n",
    "        suma += N ** -l\n",
    "        \n",
    "    return suma <= 1"
   ]
  },
  {
   "cell_type": "code",
   "execution_count": 51,
   "id": "e5dd9943",
   "metadata": {},
   "outputs": [],
   "source": [
    "def canonical_code(Lista, N, Chars):\n",
    "    \n",
    "    if not kraft_inequality(Lista, N):\n",
    "        return 'Les longituds no satisfan Kraft: no existeix cap codi'\n",
    "    \n",
    "    L = sorted(Lista)\n",
    "    #print(L)\n",
    "    codes = []\n",
    "    index = 0\n",
    "    l = 0\n",
    "    for length in L:\n",
    "        if codes == []:\n",
    "            code = list(Chars[index])\n",
    "            l = 1\n",
    "            while l != length:\n",
    "                l += 1\n",
    "                code.append(Chars[0])\n",
    "        else:\n",
    "            index += 1\n",
    "            if (index < N):\n",
    "                code[-1] = Chars[index]\n",
    "            else:\n",
    "                code[-1] = Chars[0]\n",
    "                change_index = -2\n",
    "                while code[change_index] == Chars[N-1]:\n",
    "                    code[change_index] = Chars[0]\n",
    "                    change_index -= 1   \n",
    "                code[change_index] = Chars[Chars.index(code[change_index])+1]\n",
    "                index = 0\n",
    "            while l != length:\n",
    "                l += 1\n",
    "                code.append(Chars[0])\n",
    "                index = 0\n",
    "        codes.append(''.join(code))\n",
    "    res = []\n",
    "    for long in Lista:\n",
    "        element = list(filter(lambda i: (len(i) == long), codes))\n",
    "        res.append(element[0])\n",
    "        codes.remove(element[0])\n",
    "        \n",
    "    return res"
   ]
  },
  {
   "cell_type": "code",
   "execution_count": 58,
   "id": "c85273ad",
   "metadata": {},
   "outputs": [
    {
     "data": {
      "text/plain": [
       "'Les longituds no satisfan Kraft: no existeix cap codi'"
      ]
     },
     "execution_count": 58,
     "metadata": {},
     "output_type": "execute_result"
    }
   ],
   "source": [
    "canonical_code([8,8,2,2,3,7,6,5,9,9,9,9,2,3,5],2,['0','1'])"
   ]
  },
  {
   "cell_type": "code",
   "execution_count": 59,
   "id": "26f5c90b",
   "metadata": {
    "scrolled": false
   },
   "outputs": [
    {
     "data": {
      "text/plain": [
       "['100100000001001000001000000000000000000000000000000000000000000000000000000000000',\n",
       " '100100000001001000001000000000000000000000000000000000000000000000000000000000001',\n",
       " '100100000000',\n",
       " '00',\n",
       " '010',\n",
       " '1000110',\n",
       " '100010',\n",
       " '100100000001000',\n",
       " '100011100',\n",
       " '100011101',\n",
       " '100011110',\n",
       " '100011111',\n",
       " '100100000001001000000',\n",
       " '011',\n",
       " '10000']"
      ]
     },
     "execution_count": 59,
     "metadata": {},
     "output_type": "execute_result"
    }
   ],
   "source": [
    "canonical_code([81,81,12,2,3,7,6,15,9,9,9,9,21,3,5],2,['0','1'])"
   ]
  },
  {
   "cell_type": "code",
   "execution_count": 60,
   "id": "903dae0c",
   "metadata": {},
   "outputs": [
    {
     "data": {
      "text/plain": [
       "['bda',\n",
       " 'bdgaeabeba',\n",
       " 'bdgaeaa',\n",
       " 'bdgaa',\n",
       " 'bdgab',\n",
       " 'bdgac',\n",
       " 'bdgaeaba',\n",
       " 'bdgaeabb',\n",
       " 'bdgaeabea',\n",
       " 'bdgaeabc',\n",
       " 'bdgaeabd',\n",
       " 'ba',\n",
       " 'bdb',\n",
       " 'bdc',\n",
       " 'a',\n",
       " 'bdgad',\n",
       " 'bdd',\n",
       " 'bde',\n",
       " 'bdf',\n",
       " 'bb',\n",
       " 'bc']"
      ]
     },
     "execution_count": 60,
     "metadata": {},
     "output_type": "execute_result"
    }
   ],
   "source": [
    "canonical_code([3,10,7,5,5,5,8,8,9,8,8,2,3,3,1,5,3,3,3,2,2],7,['a','b','c','d','e','f','g'])"
   ]
  },
  {
   "cell_type": "code",
   "execution_count": 65,
   "id": "b410c9f8",
   "metadata": {},
   "outputs": [
    {
     "data": {
      "text/plain": [
       "['0010010011000',\n",
       " '0010010011011010',\n",
       " '001001001101000',\n",
       " '001001001101001',\n",
       " '0010000',\n",
       " '001001001101010',\n",
       " '00100100110010',\n",
       " '001001001101011',\n",
       " '001001000',\n",
       " '00100100110111000',\n",
       " '0010001',\n",
       " '0010010011011011',\n",
       " '00100100110011',\n",
       " '00100100100',\n",
       " '00100100101',\n",
       " '001001001101100',\n",
       " '00100100110111001',\n",
       " '000']"
      ]
     },
     "execution_count": 65,
     "metadata": {},
     "output_type": "execute_result"
    }
   ],
   "source": [
    "canonical_code( [13, 16, 15, 15, 7, 15, 14, 15, 9, 17, 7, 16, 14, 11, 11, 15, 17, 3], 2, ['0', '1'])"
   ]
  },
  {
   "cell_type": "code",
   "execution_count": 74,
   "id": "3a43e97c",
   "metadata": {},
   "outputs": [
    {
     "data": {
      "text/plain": [
       "['0010010011000',\n",
       " '0010010011011010',\n",
       " '001001001101000',\n",
       " '001001001101001',\n",
       " '0010000',\n",
       " '001001001101010',\n",
       " '00100100110010',\n",
       " '001001001101011',\n",
       " '001001000',\n",
       " '00100100110111000',\n",
       " '0010001',\n",
       " '0010010011011011',\n",
       " '00100100110011',\n",
       " '00100100100',\n",
       " '00100100101',\n",
       " '001001001101100',\n",
       " '00100100110111001',\n",
       " '000']"
      ]
     },
     "execution_count": 74,
     "metadata": {},
     "output_type": "execute_result"
    }
   ],
   "source": [
    "canonical_code2([13, 16, 15, 15, 7, 15, 14, 15, 9, 17, 7, 16, 14, 11, 11, 15, 17, 3])"
   ]
  },
  {
   "cell_type": "code",
   "execution_count": 107,
   "id": "85a929e7",
   "metadata": {},
   "outputs": [
    {
     "data": {
      "text/plain": [
       "['111111111010',\n",
       " '111111111011',\n",
       " '00',\n",
       " '111111100',\n",
       " '01',\n",
       " '111100',\n",
       " '11111111111110',\n",
       " '1111111100',\n",
       " '111111101',\n",
       " '111111111100',\n",
       " '111101',\n",
       " '1111100',\n",
       " '1111111101',\n",
       " '1111111111110',\n",
       " '11111111100',\n",
       " '11111100',\n",
       " '111111111101',\n",
       " '10',\n",
       " '110',\n",
       " '1110',\n",
       " '1111101',\n",
       " '11111101',\n",
       " '111111111110',\n",
       " '11111111111111']"
      ]
     },
     "execution_count": 107,
     "metadata": {},
     "output_type": "execute_result"
    }
   ],
   "source": [
    "canonical_code([12, 12, 2, 9, 2, 6, 14, 10, 9, 12, 6, 7, 10, 13, 11, 8, 12, 2, 3, 4, 7, 8, 12, 14], 2, ['0', '1'])"
   ]
  },
  {
   "cell_type": "code",
   "execution_count": 108,
   "id": "b40537d4",
   "metadata": {},
   "outputs": [
    {
     "data": {
      "text/plain": [
       "['aaabbaaabaababca',\n",
       " 'aaabbaaabaababcfdbba',\n",
       " 'aaabbaaaa',\n",
       " 'aaabbaaabaababcfdbbba',\n",
       " 'aaabbaaabaababcfda',\n",
       " 'aaabbaaabaababcfdbbbb',\n",
       " 'aaabbaaabaababcfa',\n",
       " 'aaaa',\n",
       " 'aaabbaaabaababcb',\n",
       " 'aaabbaaabaababcfb',\n",
       " 'aaabbaaabaaa',\n",
       " 'aaabbaaabaababcc',\n",
       " 'aaabbaaabaababcfdba',\n",
       " 'aaabbaaabaababcfdbbbca',\n",
       " 'aaabbaaabaababa',\n",
       " 'aaabbaaabaababcd',\n",
       " 'aaabbaaabaababb',\n",
       " 'aaabbaaabaababcfdbbbcb',\n",
       " 'aaabbaaabaabaa',\n",
       " 'aaabbaaabaababcfdbbbcc',\n",
       " 'aaabbaaabaababcfc',\n",
       " 'aaabbaaabaababce',\n",
       " 'aaaba']"
      ]
     },
     "execution_count": 108,
     "metadata": {},
     "output_type": "execute_result"
    }
   ],
   "source": [
    "canonical_code([16, 20, 9, 21, 18, 21, 17, 4, 16, 17, 12, 16, 19, 22, 15, 16, 15, 22, 14, 22, 17, 16, 5], 8, ['a', 'b', 'c', 'd', 'e', 'f', 'g', 'h'])"
   ]
  },
  {
   "cell_type": "markdown",
   "id": "34c18ec7",
   "metadata": {},
   "source": [
    "## Código de Shannon"
   ]
  },
  {
   "cell_type": "code",
   "execution_count": 114,
   "id": "4642dc44",
   "metadata": {},
   "outputs": [],
   "source": [
    "import math\n",
    "from collections import defaultdict"
   ]
  },
  {
   "cell_type": "code",
   "execution_count": 125,
   "id": "23ce946d",
   "metadata": {},
   "outputs": [],
   "source": [
    "def shannon_code(src):\n",
    "\n",
    "    w = sum([x[1] for x in src])\n",
    "    pi = [x[1]/w for x in src]\n",
    "    li = [int(-math.log(x, 2))+1 for x in pi]\n",
    "        \n",
    "    return canonical_code2(li)"
   ]
  },
  {
   "cell_type": "code",
   "execution_count": 126,
   "id": "83f37ed0",
   "metadata": {},
   "outputs": [
    {
     "name": "stdout",
     "output_type": "stream",
     "text": [
      "['000', '0010', '1001110', '100010', '01010', '0011', '101001110', '1001111', '1010000', '01011', '10100110', '01100', '100011', '01101', '0100', '100100', '100101', '01110', '01111', '100110', '10000', '1010001', '10101000000010000000', '1010100000000', '1010010', '101001111']\n"
     ]
    }
   ],
   "source": [
    "src = [(' ', 381208), ('a', 200499), ('b', 24147), ('c', 59437), ('d', 87240), ('e', 229191), ('f', 7581), ('g', 17225), ('h', 19920), ('i', 90077), ('j', 10530), ('l', 89143), ('m', 44658), ('n', 112683), ('o', 162514), ('p', 35465), ('q', 32483), ('r', 100955), ('s', 125728), ('t', 61749), ('u', 79560), ('v', 17856), ('w', 2), ('x', 377), ('y', 25115), ('z', 6491)] #las veces que sale la letra\n",
    "sha = shannon_code(src)\n",
    "print(sha)"
   ]
  },
  {
   "cell_type": "markdown",
   "id": "4cd14778",
   "metadata": {},
   "source": [
    "## Del Lab1"
   ]
  },
  {
   "cell_type": "code",
   "execution_count": 35,
   "id": "c27e59e8",
   "metadata": {},
   "outputs": [],
   "source": [
    "def source_fromtext(txt):\n",
    "    \n",
    "    letras = [*txt]           # se puede quitar esto en vdd\n",
    "    out = defaultdict(int)\n",
    "    for letra in letras:\n",
    "        esta = 0\n",
    "        for i in out:\n",
    "            if i == letra:\n",
    "                out[i] += 1 \n",
    "                esta = 1\n",
    "                break\n",
    "        if esta == 0:\n",
    "            out[letra] = 1\n",
    "            \n",
    "    out = sorted(out.items());\n",
    "    return out"
   ]
  },
  {
   "cell_type": "markdown",
   "id": "97101f1d",
   "metadata": {},
   "source": [
    "## Prueba Atenea\n"
   ]
  },
  {
   "cell_type": "code",
   "execution_count": 36,
   "id": "46027689",
   "metadata": {},
   "outputs": [
    {
     "data": {
      "text/plain": [
       "'el ingenioso hidalgo don quijote de la mancha tasa yo juan gallo de andrada escribano de camara del rey nuestro senor de los que residen en su consejo certifico y doy fe que habiendo visto por los senores del un libro intitulado el ingenioso hidalgo de la mancha compuesto por miguel de cervantes saavedra tasaron cada pliego del dicho libro a tres maravedis y medio el cual tiene ochenta y tres pliegos que al dicho precio monta el dicho libro docientos y noventa maravedis y medio en que se ha de vender en papel y dieron licencia para que a este precio se pueda vender y mandaron que esta tasa se ponga al principio del dicho libro y no se pueda vender sin ella y para que dello conste di la presente en valladolid a veinte dias del mes de deciembre de mil y seiscientos y cuatro anos juan gallo de andrada testimonio de las erratas este libro no tiene cosa digna que no corresponda a su original en testimonio de lo haber correcto di esta fee en el colegio de la madre de dios de los teologos de '"
      ]
     },
     "execution_count": 36,
     "metadata": {},
     "output_type": "execute_result"
    }
   ],
   "source": [
    "txt = open(\"quijote_clean.txt\",\"r\",encoding=\"utf-8\").read(); txt[:1000]"
   ]
  },
  {
   "cell_type": "code",
   "execution_count": 37,
   "id": "f077880d",
   "metadata": {},
   "outputs": [
    {
     "name": "stdout",
     "output_type": "stream",
     "text": [
      "[(' ', 381208), ('a', 200499), ('b', 24147), ('c', 59437), ('d', 87240), ('e', 229191), ('f', 7581), ('g', 17225), ('h', 19920), ('i', 90077), ('j', 10530), ('l', 89143), ('m', 44658), ('n', 112683), ('o', 162514), ('p', 35465), ('q', 32483), ('r', 100955), ('s', 125728), ('t', 61749), ('u', 79560), ('v', 17856), ('w', 2), ('x', 377), ('y', 25115), ('z', 6491)]\n"
     ]
    }
   ],
   "source": [
    "src = source_fromtext(txt); print(src)"
   ]
  },
  {
   "cell_type": "code",
   "execution_count": 122,
   "id": "4a053f73",
   "metadata": {},
   "outputs": [
    {
     "name": "stdout",
     "output_type": "stream",
     "text": [
      "[3, 4, 7, 6, 5, 4, 9, 7, 7, 5, 8, 5, 6, 5, 4, 6, 6, 5, 5, 6, 5, 7, 20, 13, 7, 9]\n"
     ]
    }
   ],
   "source": [
    "sha = shannon_code(src); print(sha)"
   ]
  },
  {
   "cell_type": "code",
   "execution_count": 91,
   "id": "08070c36",
   "metadata": {},
   "outputs": [
    {
     "name": "stdout",
     "output_type": "stream",
     "text": [
      "[(' ', '000'), ('a', '0010'), ('b', '1001110'), ('c', '100010'), ('d', '01010'), ('e', '0011'), ('f', '101001110'), ('g', '1001111'), ('h', '1010000'), ('i', '01011'), ('j', '10100110'), ('l', '01100'), ('m', '100011'), ('n', '01101'), ('o', '0100'), ('p', '100100'), ('q', '100101'), ('r', '01110'), ('s', '01111'), ('t', '100110'), ('u', '10000'), ('v', '1010001'), ('w', '10101000000010000000'), ('x', '1010100000000'), ('y', '1010010'), ('z', '101001111')]\n"
     ]
    }
   ],
   "source": [
    "corr = [(src[i][0],sha[i]) for i in range(len(src))]; print(corr)\n",
    "corr = dict(corr)"
   ]
  },
  {
   "cell_type": "code",
   "execution_count": 92,
   "id": "894f3423",
   "metadata": {},
   "outputs": [
    {
     "data": {
      "text/plain": [
       "'00110110000001011011011001111001101101010110100011110100000101000001011010100010011001001111010000001010010001101000100101100000101110100110010010011000110000101000110000110000100001000110010011011000101010000001000010011000100111100100001010010010000010100110100000010011010001001111001001100011000100000010100011000001001101010100111000100101000100000011011111000100111001011100111000100110101000000101000110001000100010100011001001110001000001010001101100000011100011101001000001101100000011011111001100111001000000111100110110101000111000001010001100001100010001111000100101100000011000011100011011110101101010001101101000001101101000011111000000010001001000110101111001110100110010000010001000110111010011001011101001110010111000100100000101001000001010010010100100001010011100011000100101100000011000101000000101001110010110011011010101001000001010001010110111110011001000001001000100011100000110001000111100001111001101101010001110001101111000010100011011000001000001101000011000101110011100111001000000101101101100110010111001101000001100001001010010000000110110000001011011011001111001101101010110100011110100000101000001011010100010011001001111010000001010001100001100001000010001100100110110001010100000010000100010010010001110010010000001101111100110010000010010001000111000010001101011100111110000001101100000010100011000100010001101110101000100100110110011000110111100001111001000101010001001101010011100010000100110001001111001001110010001101000100010001001010001000010010001100010110011100111101000000101000110110000001010010111000101010000010000001100010111001110011100100000001000010011001110001101111000100011001001110001010100010011010100101101111000101001000010001100110101001011010000000110110000010001010000001001100000100110010110011011010011000010010001010100000011011011001100010000101001000010011001110001101111000100100011000101100111001111010001111000100101100000011000001001100000010100101110001010100000100000100100011100011100010010110100000100011010001101100110001000000110110000001010010111000101010000010000001100010111001110011100100000010100100100010010110011011011001100100011110001010010000011010100101000100110110110011000100001000110010011100010101000100110101001011011110001010010000100011001101010010110100000001101101000100101100000011000011110011000101000000100000101000110001010001001101101010100011011100000011011010001001000010100100001101100000101001000001010010110011011100100011010000110001011100010001101101100010010110010000100100001001110001000010010110000001100000100000011011111001100011000100100011100011100010010110100000011110011000100100100000011010100010000101000100110110101010001101110000101001000010001100100110101010001001110010001101000100101100000011000001101111100110001000010011000100111100100000111100110001001000100011011001111001000000100110000010010001110010110110110001001011100100010110100000010100011011000000101001011100010101000001000000110001011100111001110010000010100100000110101000000111100110001001001000000110101000100001010001001101101010100011011100000111101011011010000011011000110000100001010010000100100001001110001000010010110000001100001010001101100011000100000100010010001101011111001100011000010100101100001100001000010010001110001101111001101101100110001100000110110100010100010010011000110000100101001000110001011010100000010000101000100110101101101100110001100001010010110010011110000101000110110000010001100110111100001010001100001010001110001001011001110001110011100111000110000101000110001000110101101100000101001000001111001101011011111000100101100110110110011001000111100010100100001000101000000101001100111001000000010011010100011110001010011010000001001101000100111100100110001100010000001010001100000100110101010011100010010100010000100110001101111100110010111000110100011010101101000000101000110000110000100111100000110111001110001010011000100111100000110111110011000110000110001011100111001110010000001101010000010011001011001101101001100010001001000111100100000101001011100111101101001000010010110000001100001101010000010001001000111001110001101111100100010001101010100010000001000001111100000000100011100101110011110101101101001001100000001101101000100110001101111100110010111000110100011010101101000000101000110000110001000001010000001010011100011011100001000100100011100111000111000101001100100000010100101100000110111110011000100001010011100011001100000110110100000110110000010001001000110000111001111010110100000010100011000011000010000100011001001010011100011000010100011000010100101101000111100001010001100001100010001111000100110001101000110001001001111010001111000010100011000'"
      ]
     },
     "execution_count": 92,
     "metadata": {},
     "output_type": "execute_result"
    }
   ],
   "source": [
    "encode(txt[:1000],corr)"
   ]
  },
  {
   "cell_type": "code",
   "execution_count": 94,
   "id": "7c6421be",
   "metadata": {},
   "outputs": [
    {
     "name": "stdout",
     "output_type": "stream",
     "text": [
      "temps codificació = 4.8125\n",
      "True\n",
      "temps descodificació = 9.78125\n"
     ]
    }
   ],
   "source": [
    "from time import process_time\n",
    "t = process_time();\n",
    "c = encode(txt,dict(corr));\n",
    "print(\"temps codificació =\",process_time()-t);\n",
    "t = process_time();\n",
    "print(decode(c,dict(corr))==txt);\n",
    "print(\"temps descodificació =\",process_time()-t)"
   ]
  },
  {
   "cell_type": "code",
   "execution_count": 161,
   "id": "cd2c6887",
   "metadata": {},
   "outputs": [],
   "source": [
    "txt = \"0100010110011000001110110000011001010010001000000110001110010000111000010001001110010001000110001110100110000011010010010001100010010100001010001100000100111001010000011010111101110100110011000100101000010100011000011111001010001010110011111010001000000010010101100100001000101000001000101000010011100101000010101010111101100011100100000001101101100010011000100010111100010010001011001001110100100001100001101011001010111000110000010100000011000100011010001001000101100001111101010010001001110000101011110010010001100011110111010001000011111001010000100010110011000010110110001101011011000100001000101100100100000101011001111101000100000001010101100000011100100011001000100110001010101100000011101011110110001111101000100010001000101000010011100101000010101010111101100011100100000101001011111010000110101010000100000011101100000010100001100100000011000001000001101001010101000111110000011000111110100010001000100000011000010100110010001100100011111010111100111000010101100000110101100101011100011000010001011001100010001011110110101111100111001000001100100010110100100111001010100010001010010101101100100100010110001000101000110001101011010001000000111001110010011000111000001100011101001000111110011001110011000100001000001000101101111101000100110010110000111101110100100001100001011011001001100101100010000101000100101100101001101010000100111001101110010100010011100111000100000100100000111101010000010001011001110011100000100111001010000011110110101010000100101011001001101010000011100000010000100100010111000001111011100110010010001101001101010000010001011001110011100001110011111000000010100101011001101110000001110110000011101010100100111001010011000111010011001101101011000001101011001001010100001101010000101010010101100001010110011111010001000000010001101000101010010110000010001110010001000001001000010011100001010110011111010000001001010010011000110100001000111100001001000000101001000011000011111010000100000100110100000011001001000001010010101100100110100111000100001100011100000100010110011000100010100001010000100001010110000010110011001010101111001101110100010000010011100101000010101000111100100100100010000110001110000101010110100010000100011010000110001000000111110010100001000101100111001110000010100010001010010101100110111000001101011110111010011000010010101100011010110100110101000010100101100010001011000010001011011111010001001100101101001000100001111100101000101001001010000000010001011001100000110010100010100001110000011100000111000100100011000111101110100010001000100101010010000010100001001110110000111000100001101011111001001010111000110101000001100011100001010100001001000100011010011000001010011101111011101001100000100010110011000100100011010111110100001010100010000100010111010001000100000100100000010001011001100001110011111000001000101100001011001010101111001100001100000100100010110010100010011010100000110100111010111101100001001000101100100111000010000011111010000111001010000001001110010100001000001111101000011100101000001000101100110001010101011110110100110001010010110001000101100001000101100110001000000111010111101111011011010000100011000111101110100010000111110010100001000101100110001010100100000110010011001011010000010101010111101100011100100100010000100010110010010000010010101100100001000101000000101000111001010110001110001101010000010110110010011100001000111100010011100110000010011100101000010101000011011100011001001000101100001000101100110000011100101100101101000011011001100011011100100000001001110010000101000010010001000110010010000010001101011100110000111000100001100000010110010101011110011000101010001111001010000010100011010100000100010110011000001010000100110011110000111000101010111101100100010000010011100101000010110000010011110110001110001101010000010001011001100010010001011001010001001100000101001100010011000111010001010000001000101100110001000101000010100001000010101100001001000011010010100010001000100101001010000000101010000111010110011110111001010\""
   ]
  },
  {
   "cell_type": "code",
   "execution_count": 166,
   "id": "299ad4a8",
   "metadata": {},
   "outputs": [],
   "source": [
    "src = [(' ', 1877), ('!', 1), (\"'\", 4), (',', 212), ('-', 5), ('.', 37), (':', 6), (';', 21), ('?', 1), ('A', 10), ('B', 4), ('C', 8), ('D', 6), ('E', 7), ('F', 4), ('G', 6), ('H', 2), ('I', 2), ('L', 6), ('M', 8), ('N', 2), ('O', 1), ('P', 6), ('Q', 9), ('R', 5), ('S', 3), ('T', 6), ('U', 1), ('Y', 6), ('a', 1017), ('b', 175), ('c', 302), ('d', 427), ('e', 1067), ('f', 46), ('g', 80), ('h', 92), ('i', 358), ('j', 34), ('l', 498), ('m', 230), ('n', 550), ('o', 734), ('p', 149), ('q', 132), ('r', 508), ('s', 571), ('t', 267), ('u', 391), ('v', 68), ('x', 2), ('y', 122), ('z', 34), ('¡', 1), ('¿', 1), ('á', 31), ('é', 29), ('í', 95), ('ñ', 18), ('ó', 62), ('ú', 7), ('ü', 1)]"
   ]
  },
  {
   "cell_type": "code",
   "execution_count": 163,
   "id": "df6da9d9",
   "metadata": {},
   "outputs": [
    {
     "name": "stdout",
     "output_type": "stream",
     "text": [
      "['000', '0010', '1010100', '100100', '01010', '0011', '100101', '100110', '01011', '01100', '10110000010', '10101110', '01101', '100111', '01110', '01111', '1010101', '1011000000', '10000', '10001', '0100', '101000', '10101111', '101001', '10110000011', '1010110', '10110000100']\n"
     ]
    }
   ],
   "source": [
    "sha = shannon_code(src); print(sha)"
   ]
  },
  {
   "cell_type": "code",
   "execution_count": 164,
   "id": "83f3f25f",
   "metadata": {},
   "outputs": [
    {
     "name": "stdout",
     "output_type": "stream",
     "text": [
      "[(' ', '000'), ('a', '0010'), ('b', '1010100'), ('c', '100100'), ('d', '01010'), ('e', '0011'), ('f', '100101'), ('g', '100110'), ('h', '01011'), ('i', '01100'), ('j', '10110000010'), ('k', '10101110'), ('l', '01101'), ('m', '100111'), ('n', '01110'), ('o', '01111'), ('p', '1010101'), ('q', '1011000000'), ('r', '10000'), ('s', '10001'), ('t', '0100'), ('u', '101000'), ('v', '10101111'), ('w', '101001'), ('x', '10110000011'), ('y', '1010110'), ('z', '10110000100')]\n"
     ]
    }
   ],
   "source": [
    "corr = [(src[i][0],sha[i]) for i in range(len(src))]; print(corr)\n",
    "corr = dict(corr)"
   ]
  },
  {
   "cell_type": "code",
   "execution_count": 169,
   "id": "121989f3",
   "metadata": {},
   "outputs": [
    {
     "data": {
      "text/plain": [
       "'the exact intersecting latitude and longitude of your first stand point else so chance like are such observations of the hills that your precise previous stand point would require a laborious re discovery like the soloma islands which still remain incognita though once high ruffed mendanna trod them and old figuera chronicled them nor when expandingly lifted by your subject can you fail to trace out great whales in the starry heavens and boats in pursuit of them as when long filled with thoughts of war the eastern nations saw armies locked in battle among the clouds thus at the north have i chased leviathan round and round the pole with the revolutions of the bright points that first defined him to me and beneath the effulgent antarctic skies i have boarded the argo navis and joined the chase against the starry cetus far beyond'"
      ]
     },
     "execution_count": 169,
     "metadata": {},
     "output_type": "execute_result"
    }
   ],
   "source": [
    "decode(txt,corr)"
   ]
  }
 ],
 "metadata": {
  "kernelspec": {
   "display_name": "Python 3 (ipykernel)",
   "language": "python",
   "name": "python3"
  },
  "language_info": {
   "codemirror_mode": {
    "name": "ipython",
    "version": 3
   },
   "file_extension": ".py",
   "mimetype": "text/x-python",
   "name": "python",
   "nbconvert_exporter": "python",
   "pygments_lexer": "ipython3",
   "version": "3.9.13"
  }
 },
 "nbformat": 4,
 "nbformat_minor": 5
}
