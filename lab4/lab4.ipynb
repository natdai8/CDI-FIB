{
 "cells": [
  {
   "cell_type": "markdown",
   "id": "5179708e",
   "metadata": {},
   "source": [
    "## LZ77"
   ]
  },
  {
   "cell_type": "code",
   "execution_count": 1,
   "id": "829ecb19",
   "metadata": {},
   "outputs": [],
   "source": [
    "def LZ77_encode(txt, s, t):\n",
    "    n = len(txt)\n",
    "    i = 0\n",
    "    tok = []\n",
    "    while i < n:\n",
    "        j = max(i - s, 0)\n",
    "        max_match_len = 0\n",
    "        max_match_pos = 0\n",
    "        while j < i:\n",
    "            match_len = 0\n",
    "            while i + match_len < n and txt[j + match_len] == txt[i + match_len] and match_len < t:\n",
    "                match_len += 1\n",
    "            if match_len >= max_match_len:\n",
    "                max_match_len = match_len\n",
    "                max_match_pos = i - j\n",
    "            j += 1\n",
    "        if max_match_len == 0:\n",
    "            tok.append((1, 0, txt[i]))\n",
    "            i += 1\n",
    "        else:\n",
    "            if (i+max_match_len < n):\n",
    "                tok.append((max_match_pos, max_match_len, txt[i + max_match_len]))\n",
    "            else: \n",
    "                tok.append((max_match_pos, max_match_len-1, txt[i + max_match_len-1]))\n",
    "            i += max_match_len + 1\n",
    "    return tok"
   ]
  },
  {
   "cell_type": "code",
   "execution_count": 2,
   "id": "edcbbefd",
   "metadata": {},
   "outputs": [],
   "source": [
    "def LZ77_decode(tok):\n",
    "    txt = []\n",
    "    for (pos, length, a) in tok:\n",
    "        if (length == 0):\n",
    "            txt.append(a)\n",
    "        else:\n",
    "#             print(txt[len(txt)-pos])\n",
    "            aux = len(txt)-pos\n",
    "            for i in range(0,length):\n",
    "                txt.append(txt[len(txt)-pos])\n",
    "            txt.append(a)\n",
    "        \n",
    "    return ''.join(txt)"
   ]
  },
  {
   "cell_type": "markdown",
   "id": "4a4a300d",
   "metadata": {},
   "source": [
    "## LZSS"
   ]
  },
  {
   "cell_type": "code",
   "execution_count": 3,
   "id": "46c18e10",
   "metadata": {},
   "outputs": [],
   "source": [
    "def LZSS_encode(txt,mm,s,t):\n",
    "    tok = []\n",
    "    i = 0\n",
    "    n = len(txt)\n",
    "    while i < n:\n",
    "        j = max(i - s, 0)\n",
    "        max_match_len = 0\n",
    "        max_match_pos = 0\n",
    "        while(j < i):\n",
    "            match_len = 0\n",
    "            while i + match_len < n and txt[j + match_len] == txt[i + match_len] and match_len < t:\n",
    "                match_len += 1\n",
    "            if match_len >= max_match_len and match_len >= mm:\n",
    "                max_match_len = match_len\n",
    "                max_match_pos = i - j\n",
    "            j += 1 \n",
    "        if max_match_len == 0:\n",
    "            tok.append(txt[i])\n",
    "            i += 1\n",
    "        else: \n",
    "            tok.append((max_match_pos, max_match_len))\n",
    "        i += max_match_len\n",
    "    return tok"
   ]
  },
  {
   "cell_type": "code",
   "execution_count": 4,
   "id": "15f88fc7",
   "metadata": {},
   "outputs": [],
   "source": [
    "def LZSS_decode(tok):\n",
    "    txt = []\n",
    "    for element in tok:\n",
    "        if (len(element) == 1):\n",
    "            txt.append(element)\n",
    "        else:\n",
    "            aux = len(txt)-element[0]\n",
    "            for i in range(0,element[1]):\n",
    "                txt.append(txt[len(txt)-element[0]])\n",
    "\n",
    "    return ''.join(txt)"
   ]
  },
  {
   "cell_type": "markdown",
   "id": "e2afeadb",
   "metadata": {},
   "source": [
    "## LZ78"
   ]
  },
  {
   "cell_type": "code",
   "execution_count": 5,
   "id": "fdccd5eb",
   "metadata": {},
   "outputs": [],
   "source": [
    "def LZ78_encode(text):\n",
    "    dictionary = {}\n",
    "    next_index = 1\n",
    "    output = []\n",
    "    prefix = ''\n",
    "    for symbol in text:\n",
    "        if prefix + symbol in dictionary:\n",
    "            prefix = prefix + symbol\n",
    "        else:\n",
    "            if prefix:\n",
    "                output.append((dictionary[prefix], symbol))\n",
    "            else:\n",
    "                output.append((0, symbol))\n",
    "            dictionary[prefix + symbol] = next_index\n",
    "            next_index += 1\n",
    "            prefix = ''\n",
    "    if prefix:\n",
    "        output.append((dictionary[prefix], ''))\n",
    "    return output"
   ]
  },
  {
   "cell_type": "code",
   "execution_count": 6,
   "id": "83a0dfb0",
   "metadata": {},
   "outputs": [],
   "source": [
    "def LZ78_decode(encoded):\n",
    "    dictionary = {0: ''}\n",
    "    next_index = 1\n",
    "    output = []\n",
    "    for index, symbol in encoded:\n",
    "        if symbol:\n",
    "            if index in dictionary:\n",
    "                entry = dictionary[index] + symbol\n",
    "            else:\n",
    "                entry = dictionary[index - 1] + symbol\n",
    "            dictionary[next_index] = entry\n",
    "            next_index += 1\n",
    "            output.append(entry)\n",
    "        else:\n",
    "            output.append(dictionary[index])\n",
    "    return ''.join(output)"
   ]
  },
  {
   "cell_type": "markdown",
   "id": "367fb2c6",
   "metadata": {},
   "source": [
    "## LZW"
   ]
  },
  {
   "cell_type": "code",
   "execution_count": 7,
   "id": "7640f680",
   "metadata": {},
   "outputs": [],
   "source": [
    "def LZW_encode(txt):\n",
    "    dictionary = dict()\n",
    "    for i, c in enumerate(sorted(set(txt))):\n",
    "        dictionary[c] = i\n",
    "    #print(dictionary)\n",
    "    curr_code = len(dictionary)\n",
    "    curr_str = \"\"\n",
    "    res = []\n",
    "    for c in txt:\n",
    "        if curr_str + c in dictionary:\n",
    "            curr_str += c\n",
    "        else:\n",
    "            res.append(dictionary[curr_str])\n",
    "            dictionary[curr_str + c] = curr_code\n",
    "            curr_code += 1\n",
    "            curr_str = c\n",
    "    res.append(dictionary[curr_str])\n",
    "  #  dictionary[curr_code] = curr_str\n",
    "    return res\n",
    "    "
   ]
  },
  {
   "cell_type": "code",
   "execution_count": 8,
   "id": "b0ca2fb5",
   "metadata": {},
   "outputs": [],
   "source": [
    "def LZW_decode(op, alf):\n",
    "    dictionary = dict(enumerate(alf))\n",
    "    curr_code = len(alf)\n",
    "    prev_str = \"\"\n",
    "    res = \"\"\n",
    "    for code in tok:\n",
    "        if code in dictionary:\n",
    "            curr_str = dictionary[code]\n",
    "        elif code == curr_code:\n",
    "            curr_str = prev_str + prev_str[0]\n",
    "        else:\n",
    "            raise ValueError(\"Invalid token\")\n",
    "        res += curr_str\n",
    "        if prev_str:\n",
    "            dictionary[curr_code] = prev_str + curr_str[0]\n",
    "            curr_code += 1\n",
    "        prev_str = curr_str\n",
    "    return res"
   ]
  },
  {
   "cell_type": "markdown",
   "id": "d1e53d50",
   "metadata": {},
   "source": [
    "## Burrows wheeler"
   ]
  },
  {
   "cell_type": "code",
   "execution_count": 9,
   "id": "9b491b5f",
   "metadata": {},
   "outputs": [],
   "source": [
    "def permutaciones(mensaje):\n",
    "    ans = [mensaje]\n",
    "    i = 1\n",
    "    while i < len(mensaje):\n",
    "        ans += [ans[-1][-1] + ans[-1][0:-1]]\n",
    "        i += 1\n",
    "    return ans"
   ]
  },
  {
   "cell_type": "code",
   "execution_count": 10,
   "id": "b51e35df",
   "metadata": {},
   "outputs": [],
   "source": [
    "from operator import itemgetter\n",
    "def encode_burrows_wheeler(mensaje):\n",
    "    permuts = sorted(permutaciones(mensaje))\n",
    "    ultima_columna = ''.join([x[-1] for x in permuts])\n",
    "    posicion = permuts.index(mensaje)\n",
    "    return ultima_columna, posicion"
   ]
  },
  {
   "cell_type": "code",
   "execution_count": 11,
   "id": "bdd49ecc",
   "metadata": {},
   "outputs": [],
   "source": [
    "def decode_burrows_wheeler(ultima_columna, posicion):\n",
    "    n = len(ultima_columna)\n",
    "    primera_columna = sorted([(i, x) for i, x in enumerate(ultima_columna)], key=itemgetter(1))\n",
    "    T = [None for i in range(n)]\n",
    "    for i, y in enumerate(primera_columna):\n",
    "        j, _ = y\n",
    "        T[j] = i\n",
    "    Tx = [posicion]\n",
    "    for i in range(1, n):\n",
    "        Tx.append(T[Tx[i - 1]])\n",
    "    S = [ultima_columna[i] for i in Tx]\n",
    "    S.reverse()\n",
    "    return ''.join(S)"
   ]
  },
  {
   "cell_type": "markdown",
   "id": "b3978246",
   "metadata": {},
   "source": [
    "## Move to front"
   ]
  },
  {
   "cell_type": "code",
   "execution_count": 12,
   "id": "c2667c41",
   "metadata": {},
   "outputs": [],
   "source": [
    "def encode_move_to_front(txt):\n",
    "    alphabet = list(set(txt))\n",
    "    alphabet.sort()\n",
    "    q = len(alphabet)\n",
    "    sequence = []\n",
    "    for char in txt:\n",
    "        index = alphabet.index(char)\n",
    "        sequence.append(index)\n",
    "        alphabet.pop(index)\n",
    "        alphabet.insert(0, char)\n",
    "    return sequence"
   ]
  },
  {
   "cell_type": "code",
   "execution_count": 13,
   "id": "324fb87c",
   "metadata": {},
   "outputs": [],
   "source": [
    "def decode_move_to_front(cod, alf):\n",
    "    alphabet = list(alf)\n",
    "    txt = \"\"\n",
    "    for index in cod:\n",
    "        char = alphabet[index]\n",
    "        txt += char\n",
    "        alphabet.pop(index)\n",
    "        alphabet.insert(0, char)\n",
    "    return txt"
   ]
  },
  {
   "cell_type": "markdown",
   "id": "f7b02648",
   "metadata": {},
   "source": [
    "## Tests"
   ]
  },
  {
   "cell_type": "code",
   "execution_count": 14,
   "id": "b8d9c135",
   "metadata": {},
   "outputs": [],
   "source": [
    "txt1 = \"Setze jutges d'un jutjat mengen fetge d'un penjat.\"\n",
    "txt2 = \"En un lugar de la Mancha, de cuyo nombre no quiero acordarme, no ha mucho tiempo que vivía un hidalgo de los de lanza en astillero, adarga antigua, rocín flaco y galgo corredor. Una olla de algo más vaca que carnero, salpicón las más noches, duelos y quebrantos los sábados, lantejas los viernes, algún palomino de añadidura los domingos, consumían las tres partes de su hacienda. El resto della concluían sayo de velarte, calzas de velludo para las fiestas, con sus pantuflos de lo mesmo, y los días de entresemana se honraba con su vellorí de lo más fino. Tenía en su casa una ama que pasaba de los cuarenta, y una sobrina que no llegaba a los veinte, y un mozo de campo y plaza, que así ensillaba el rocín como tomaba la podadera. Frisaba la edad de nuestro hidalgo con los cincuenta años; era de complexión recia, seco de carnes, enjuto de rostro, gran madrugador y amigo de la caza. Quieren decir que tenía el sobrenombre de Quijada, o Quesada, que en esto hay alguna diferencia en los autores que deste caso escriben; aunque, por conjeturas verosímiles, se deja entender que se llamaba Quejana. Pero esto importa poco a nuestro cuento; basta que en la narración dél no se salga un punto de la verdad.\\nEs, pues, de saber que este sobredicho hidalgo, los ratos que estaba ocioso, que eran los más del año, se daba a leer libros de caballerías, con tanta afición y gusto, que olvidó casi de todo punto el ejercicio de la caza, y aun la administración de su hacienda. Y llegó a tanto su curiosidad y desatino en esto, que vendió muchas hanegas de tierra de sembradura para comprar libros de caballerías en que leer, y así, llevó a su casa todos cuantos pudo haber dellos; y de todos, ningunos le parecían tan bien como los que compuso el famoso Feliciano de Silva, porque la claridad de su prosa y aquellas entricadas razones suyas le parecían de perlas, y más cuando llegaba a leer aquellos requiebros y cartas de desafíos, donde en muchas partes hallaba escrito: La razón de la sinrazón que a mi razón se hace, de tal manera mi razón enflaquece, que con razón me quejo de la vuestra fermosura. Y también cuando leía: ...los altos cielos que de vuestra divinidad divinamente con las estrellas os fortifican, y os hacen merecedora del merecimiento que merece la vuestra grandeza.\\nCon estas razones perdía el pobre caballero el juicio, y desvelábase por entenderlas y desentrañarles el sentido, que no se lo sacara ni las entendiera el mesmo Aristóteles, si resucitara para sólo ello. No estaba muy bien con las heridas que don Belianís daba y recebía, porque se imaginaba que, por grandes maestros que le hubiesen curado, no dejaría de tener el rostro y todo el cuerpo lleno de cicatrices y señales. Pero, con todo, alababa en su autor aquel acabar su libro con la promesa de aquella inacabable aventura, y muchas veces le vino deseo de tomar la pluma y dalle fin al pie de la letra, como allí se promete; y sin duda alguna lo hiciera, y aun saliera con ello, si otros mayores y continuos pensamientos no se lo estorbaran. Tuvo muchas veces competencia con el cura de su lugar -que era hombre docto, graduado en Sigüenza-, sobre cuál había sido mejor caballero: Palmerín de Ingalaterra o Amadís de Gaula; mas maese Nicolás, barbero del mesmo pueblo, decía que ninguno llegaba al Caballero del Febo, y que si alguno se le podía comparar, era don Galaor, hermano de Amadís de Gaula, porque tenía muy acomodada condición para todo; que no era caballero melindroso, ni tan llorón como su hermano, y que en lo de la valentía no le iba en zaga.\\nEn resolución, él se enfrascó tanto en su letura, que se le pasaban las noches leyendo de claro en claro, y los días de turbio en turbio; y así, del poco dormir y del mucho leer, se le secó el celebro, de manera que vino a perder el juicio. Llenósele la fantasía de todo aquello que leía en los libros, así de encantamentos como de pendencias, batallas, desafíos, heridas, requiebros, amores, tormentas y disparates imposibles; y asentósele de tal modo en la imaginación que era verdad toda aquella máquina de aquellas sonadas soñadas invenciones que leía, que para él no había otra historia más cierta en el mundo. Decía él que el Cid Ruy Díaz había sido muy buen caballero, pero que no tenía que ver con el Caballero de la Ardiente Espada, que de sólo un revés había partido por medio dos fieros y descomunales gigantes. Mejor estaba con Bernardo del Carpio, porque en Roncesvalles había muerto a Roldán el encantado, valiéndose de la industria de Hércules, cuando ahogó a Anteo, el hijo de la Tierra, entre los brazos. Decía mucho bien del gigante Morgante, porque, con ser de aquella generación gigantea, que todos son soberbios y descomedidos, él solo era afable y bien criado. Pero, sobre todos, estaba bien con Reinaldos de Montalbán, y más cuando le veía salir de su castillo y robar cuantos topaba, y cuando en allende robó aquel ídolo de Mahoma que era todo de oro, según dice su historia. Diera él, por dar una mano de coces al traidor de Galalón, al ama que tenía, y aun a su sobrina de añadidura.\\nEn efeto, rematado ya su juicio, vino a dar en el más estraño pensamiento que jamás dio loco en el mundo; y fue que le pareció convenible y necesario, así para el aumento de su honra como para el servicio de su república, hacerse caballero andante, y irse por todo el mundo con sus armas y caballo a buscar las aventuras y a ejercitarse en todo aquello que él había leído que los caballeros andantes se ejercitaban, deshaciendo todo género de agravio, y poniéndose en ocasiones y peligros donde, acabándolos, cobrase eterno nombre y fama. Imaginábase el pobre ya coronado por el valor de su brazo, por lo menos, del imperio de Trapisonda; y así, con estos tan agradables pensamientos, llevado del estraño gusto que en ellos sentía, se dio priesa a poner en efeto lo que deseaba.\\nY lo primero que hizo fue limpiar unas armas que habían sido de sus bisabuelos, que, tomadas de orín y llenas de moho, luengos siglos había que estaban puestas y olvidadas en un rincón. Limpiólas y aderezólas lo mejor que pudo, pero vio que tenían una gran falta, y era que no tenían celada de encaje, sino morrión simple; mas a esto suplió su industria, porque de cartones hizo un modo de media celada, que, encajada con el morrión, hacían una apariencia de celada entera. Es verdad que para probar si era fuerte y podía estar al riesgo de una cuchillada, sacó su espada y le dio dos golpes, y con el primero y en un punto deshizo lo que había hecho en una semana; y no dejó de parecerle mal la facilidad con que la había hecho pedazos, y, por asegurarse deste peligro, la tornó a hacer de nuevo, poniéndole unas barras de hierro por de dentro, de tal manera que él quedó satisfecho de su fortaleza; y, sin querer hacer nueva experiencia della, la diputó y tuvo por celada finísima de encaje.\\nFue luego a ver su rocín, y, aunque tenía más cuartos que un real y más tachas que el caballo de Gonela, que tantum pellis et ossa fuit, le pareció que ni el Bucéfalo de Alejandro ni Babieca el del Cid con él se igualaban. Cuatro días se le pasaron en imaginar qué nombre le pondría; porque, según se decía él a sí mesmo, no era razón que caballo de caballero tan famoso, y tan bueno él por sí, estuviese sin nombre conocido; y ansí, procuraba acomodársele de manera que declarase quién había sido, antes que fuese de caballero andante, y lo que era entonces; pues estaba muy puesto en razón que, mudando su señor estado, mudase él también el nombre, y le cobrase famoso y de estruendo, como convenía a la nueva orden y al nuevo ejercicio que ya profesaba. Y así, después de muchos nombres que formó, borró y quitó, añadió, deshizo y tornó a hacer en su memoria e imaginación, al fin le vino a llamar Rocinante: nombre, a su parecer, alto, sonoro y significativo de lo que había sido cuando fue rocín, antes de lo que ahora era, que era antes y primero de todos los rocines del mundo.\\nPuesto nombre, y tan a su gusto, a su caballo, quiso ponérsele a sí mismo, y en este pensamiento duró otros ocho días, y al cabo se vino a llamar don Quijote; de donde -como queda dicho- tomaron ocasión los autores desta tan verdadera historia que, sin duda, se debía de llamar Quijada, y no Quesada, como otros quisieron decir. Pero, acordándose que el valeroso Amadís no sólo se había contentado con llamarse Amadís a secas, sino que añadió el nombre de su reino y patria, por Hepila famosa, y se llamó Amadís de Gaula, así quiso, como buen caballero, añadir al suyo el nombre de la suya y llamarse don Quijote de la Mancha, con que, a su parecer, declaraba muy al vivo su linaje y patria, y la honraba con tomar el sobrenombre della.\\nLimpias, pues, sus armas, hecho del morrión celada, puesto nombre a su rocín y confirmándose a sí mismo, se dio a entender que no le faltaba otra cosa sino buscar una dama de quien enamorarse; porque el caballero andante sin amores era árbol sin hojas y sin fruto y cuerpo sin alma. Decíase él a sí:\\n-Si yo, por malos de mis pecados, o por mi buena suerte, me encuentro por ahí con algún gigante, como de ordinario les acontece a los caballeros andantes, y le derribo de un encuentro, o le parto por mitad del cuerpo, o, finalmente, le venzo y le rindo, ¿no será bien tener a quien enviarle presentado y que entre y se hinque de rodillas ante mi dulce señora, y diga con voz humilde y rendido: ''Yo, señora, soy el gigante Caraculiambro, señor de la ínsula Malindrania, a quien venció en singular batalla el jamás como se debe alabado caballero don Quijote de la Mancha, el cual me mandó que me presentase ante vuestra merced, para que la vuestra grandeza disponga de mí a su talante''?\\n¡Oh, cómo se holgó nuestro buen caballero cuando hubo hecho este discurso, y más cuando halló a quien dar nombre de su dama! Y fue, a lo que se cree, que en un lugar cerca del suyo había una moza labradora de muy buen parecer, de quien él un tiempo anduvo enamorado, aunque, según se entiende, ella jamás lo supo, ni le dio cata dello. Llamábase Aldonza Lorenzo, y a ésta le pareció ser bien darle título de señora de sus pensamientos; y, buscándole nombre que no desdijese mucho del suyo, y que tirase y se encaminase al de princesa y gran señora, vino a llamarla Dulcinea del Toboso, porque era natural del Toboso; nombre, a su parecer, músico y peregrino y significativo, como todos los demás que a él y a sus cosas había puesto.\""
   ]
  },
  {
   "cell_type": "code",
   "execution_count": 15,
   "id": "d23c537a",
   "metadata": {},
   "outputs": [
    {
     "name": "stdout",
     "output_type": "stream",
     "text": [
      "[(1, 0, 'S'), (1, 0, 'e'), (1, 0, 't'), (1, 0, 'z'), (3, 1, ' '), (1, 0, 'j'), (1, 0, 'u'), (6, 1, 'g'), (6, 1, 's'), (7, 1, 'd'), (1, 0, \"'\"), (8, 1, 'n'), (5, 1, 'j'), (4, 1, 't'), (3, 1, 'a'), (3, 1, ' '), (1, 0, 'm'), (1, 0, 'e'), (1, 0, 'n'), (1, 0, 'g'), (3, 2, ' '), (1, 0, 'f'), (4, 1, 't'), (7, 2, ' '), (1, 0, 'd'), (1, 0, \"'\"), (1, 0, 'u'), (1, 0, 'n'), (5, 1, 'p'), (8, 1, 'n'), (1, 0, 'j'), (1, 0, 'a'), (1, 0, 't'), (1, 0, '.')]\n"
     ]
    },
    {
     "data": {
      "text/plain": [
       "True"
      ]
     },
     "execution_count": 15,
     "metadata": {},
     "output_type": "execute_result"
    }
   ],
   "source": [
    "tok = LZ77_encode(txt1,8,4);\n",
    "print(tok);\n",
    "txt1 == LZ77_decode(tok)"
   ]
  },
  {
   "cell_type": "code",
   "execution_count": 16,
   "id": "40658905",
   "metadata": {},
   "outputs": [
    {
     "name": "stdout",
     "output_type": "stream",
     "text": [
      "[(1, 0, 'S'), (1, 0, 'e'), (1, 0, 't'), (1, 0, 'z'), (3, 1, ' '), (1, 0, 'j'), (1, 0, 'u'), (6, 1, 'g'), (6, 1, 's'), (7, 1, 'd'), (1, 0, \"'\"), (8, 1, 'n'), (12, 4, 'j'), (1, 0, 'a'), (3, 1, ' '), (1, 0, 'm'), (16, 1, 'n'), (19, 2, 'n'), (7, 1, 'f'), (32, 2, 'g'), (32, 2, 'd'), (25, 4, 'p'), (15, 2, 'j'), (25, 2, '.')]\n"
     ]
    },
    {
     "data": {
      "text/plain": [
       "True"
      ]
     },
     "execution_count": 16,
     "metadata": {},
     "output_type": "execute_result"
    }
   ],
   "source": [
    "tok = LZ77_encode(txt1,32,8);\n",
    "print(tok);\n",
    "txt1 == LZ77_decode(tok)"
   ]
  },
  {
   "cell_type": "code",
   "execution_count": 17,
   "id": "d894fa33",
   "metadata": {},
   "outputs": [
    {
     "name": "stdout",
     "output_type": "stream",
     "text": [
      "[(1, 0, 'E'), (1, 0, 'n'), (1, 0, ' '), (1, 0, 'u'), (3, 2, 'l'), (4, 1, 'g'), (1, 0, 'a'), (1, 0, 'r'), (6, 1, 'd'), (1, 0, 'e'), (9, 2, 'a'), (3, 1, 'M'), (3, 1, 'n'), (1, 0, 'c'), (1, 0, 'h'), (4, 1, ','), (14, 4, 'c'), (23, 1, 'y'), (1, 0, 'o'), (5, 1, 'n'), (3, 1, 'm'), (1, 0, 'b'), (28, 1, 'e'), (7, 3, ' '), (1, 0, 'q'), (15, 1, 'i'), (8, 1, 'r'), (7, 2, 'a'), (23, 1, 'o'), (6, 1, 'd'), (47, 2, 'm'), (12, 1, ','), (21, 4, 'h'), (50, 2, 'm'), (24, 1, 'c'), (6, 1, 'o'), (6, 1, 't'), (29, 2, 'm'), (1, 0, 'p'), (37, 4, 'e'), (4, 1, 'v'), (11, 1, 'v'), (1, 0, 'í'), (23, 2, 'u'), (88, 2, 'h'), (9, 1, 'd'), (8, 1, 'l'), (91, 1, 'o'), (90, 5, 'o'), (1, 0, 's'), (97, 6, 'n'), (1, 0, 'z'), (27, 2, 'e'), (27, 2, 'a'), (15, 1, 't'), (29, 1, 'l'), (1, 1, 'e'), (80, 2, ','), (11, 2, 'd'), (78, 2, 'g'), (21, 2, 'a'), (21, 1, 't'), (18, 1, 'g'), (53, 1, 'a'), (16, 2, 'r'), (20, 1, 'c'), (63, 1, 'n'), (6, 1, 'f'), (43, 2, 'c'), (58, 2, 'y'), (2, 1, 'g'), (66, 5, 'c'), (116, 2, 'r'), (45, 1, 'd'), (5, 2, '.'), (10, 1, 'U'), (27, 1, 'a'), (4, 1, 'o'), (58, 2, 'a'), (78, 4, 'a'), (27, 4, 'm'), (1, 0, 'á'), (90, 2, 'v'), (44, 2, 'a'), (123, 5, 'c'), (75, 2, 'n'), (85, 5, 's'), (28, 2, 'p'), (79, 1, 'c'), (1, 0, 'ó'), (220, 3, 'a'), (31, 2, 'm'), (35, 3, 'n'), (86, 2, 'h'), (26, 1, 's'), (216, 3, 'u'), (6, 1, 'l'), (140, 3, 'y'), (47, 4, 'b'), (42, 1, 'a'), (117, 2, 'o'), (13, 2, 'l'), (4, 3, 's'), (36, 1, 'b'), (137, 2, 'o'), (33, 3, 'l'), (20, 3, 'e'), (1, 0, 'j'), (54, 3, 'l'), (22, 3, 'v'), (243, 3, 'n'), (55, 4, 'a'), (107, 2, 'ú'), (77, 2, 'p'), (7, 2, 'o'), (77, 1, 'i'), (247, 3, 'd'), (125, 3, 'ñ'), (48, 2, 'i'), (78, 2, 'r'), (121, 2, 'l'), (220, 4, 'o'), (24, 3, 'g'), (64, 4, 'c'), (5, 1, 'n'), (6, 1, 'u'), (13, 1, 'í'), (70, 2, ' '), (123, 4, 't'), (183, 2, 's'), (55, 3, 'r'), (83, 2, 's'), (53, 4, 's'), (26, 1, ' '), (306, 2, 'c'), (85, 2, 'n'), (244, 2, '.'), (10, 1, 'E'), (33, 1, ' '), (30, 3, 't'), (78, 4, 'l'), (209, 3, 'c'), (57, 2, 'c'), (394, 2, 'í'), (57, 3, 's'), (4, 1, 'y'), (99, 5, 'v'), (24, 2, 'a'), (58, 3, ','), (215, 3, 'l'), (311, 2, 's'), (19, 7, 'l'), (36, 1, 'd'), (30, 2, 'p'), (25, 2, 'a'), (97, 5, 'f'), (77, 2, 's'), (35, 1, 'a'), (120, 6, ' '), (95, 2, 's'), (26, 3, 'n'), (16, 1, 'u'), (318, 2, 'o'), (368, 6, 'o'), (253, 2, 'e'), (10, 1, 'm'), (273, 3, 'y'), (167, 6, 'í'), (71, 6, 'e'), (36, 2, 'r'), (24, 2, 'e'), (25, 1, 'a'), (334, 3, 's'), (15, 2, 'h'), (60, 2, 'r'), (9, 1, 'b'), (131, 5, ' '), (163, 3, 'v'), (101, 3, 'o'), (17, 1, 'í'), (65, 8, 'á'), (102, 4, 'n'), (9, 1, '.'), (6, 1, 'T'), (55, 2, 'í'), (446, 5, 's'), (36, 2, 'c'), (73, 2, 'a'), (484, 3, 'a'), (264, 2, 'm'), (379, 6, 'p'), (17, 3, 'b'), (407, 5, 'l'), (105, 3, 'c'), (458, 2, 'r'), (101, 3, 'a'), (121, 4, 'u'), (101, 4, 'o'), (365, 2, 'i'), (8, 3, 'q'), (42, 3, 'n'), (84, 2, 'l'), (507, 2, 'g'), (46, 4, 'a'), (358, 6, 'e'), (27, 2, 't'), (231, 3, 'y'), (565, 4, 'm'), (17, 1, 'z'), (253, 5, 'c'), (89, 2, 'p'), (513, 4, 'p'), (230, 2, 'z'), (71, 3, 'q'), (57, 3, 'a'), (43, 1, 'í'), (126, 3, 's'), (569, 3, 'a'), (60, 3, 'e'), (319, 3, 'o'), (555, 4, 'c'), (380, 2, 'o'), (361, 2, 'o'), (136, 2, 'b'), (275, 4, ' '), (54, 2, 'd'), (410, 2, 'e'), (208, 2, '.'), (10, 1, 'F'), (115, 2, 's'), (21, 7, 'e'), (20, 3, ' '), (86, 3, 'n'), (71, 2, 's'), (251, 2, 'o'), (667, 9, 'c'), (242, 3, 'l'), (176, 4, 'i'), (381, 2, 'u'), (177, 4, ' '), (472, 2, 'o'), (15, 1, ';'), (48, 2, 'r'), (203, 5, 'c'), (86, 2, 'p'), (171, 2, 'x'), (29, 1, 'ó'), (38, 2, 'r'), (7, 1, 'c'), (7, 1, 'a'), (601, 3, 'e'), (663, 3, 'd'), (618, 7, 's'), (16, 2, 'e'), (6, 1, 'j'), (56, 1, 't'), (18, 5, 'r'), (56, 2, 't'), (635, 4, 'g'), (598, 3, ' '), (141, 2, 'd'), (7, 1, 'u'), (227, 2, 'd'), (327, 2, ' '), (195, 2, 'a'), (540, 2, 'g'), (774, 6, 'a'), (56, 3, 'z'), (154, 3, 'Q'), (844, 4, 'e'), (39, 2, 'd'), (85, 3, 'r'), (220, 5, 't'), (348, 6, 'l'), (298, 5, 'e'), (886, 7, 'd'), (3, 2, 'Q'), (42, 2, 'j'), (802, 3, ','), (757, 2, ' '), (11, 2, 'e'), (207, 2, 'd'), (268, 7, 'e'), (61, 2, 'e'), (572, 4, 'h'), (556, 2, ' '), (202, 3, 'u'), (348, 3, 'd'), (42, 1, 'f'), (85, 4, 'c'), (167, 2, ' '), (30, 3, 'l'), (214, 3, 'a'), (155, 3, 'r'), (634, 3, 'q'), (49, 3, 'd'), (47, 3, 'e'), (439, 4, 'o'), (57, 3, 'c'), (282, 2, 'b'), (36, 2, ';'), (33, 3, 'n'), (28, 3, ','), (308, 3, 'r'), (267, 4, 'j'), (11, 1, 't'), (721, 3, 's'), (401, 3, 'r'), (62, 2, 'í'), (182, 2, 'l'), (226, 4, 's'), (60, 4, 'j'), (84, 4, 't'), (696, 3, 'e'), (175, 6, 's'), (205, 3, 'l'), (507, 3, 'b'), (24, 2, 'Q'), (15, 2, 'j'), (584, 3, '.'), (9, 1, 'P'), (1055, 4, 'e'), (149, 4, 'i'), (443, 3, 'r'), (332, 3, 'p'), (416, 2, 'o'), (484, 3, 'n'), (373, 7, 'c'), (354, 4, 'o'), (118, 2, 'b'), (1022, 3, 'a'), (198, 8, 'l'), (32, 3, 'a'), (990, 2, 'a'), (183, 2, 'ó'), (272, 3, 'é'), (257, 2, 'n'), (41, 2, 's'), (97, 3, 'a'), (213, 2, 'a'), (528, 4, 'p'), (4, 2, 't'), (317, 8, 'v'), (98, 2, 'd'), (258, 2, '.'), (1, 0, '\\n'), (826, 1, 's'), (179, 3, 'u'), (975, 5, 'e'), (42, 3, 'b'), (149, 7, 'e'), (226, 4, 's'), (320, 4, 'd'), (1020, 2, 'h'), (485, 9, ','), (268, 5, 'r'), (11, 1, 't'), (6, 3, 'q'), (39, 6, 'a'), (184, 3, 'o'), (114, 2, 'o'), (45, 2, ','), (19, 6, 'r'), (944, 4, 'o'), (1067, 6, 'd'), (390, 3, 'a'), (518, 2, ','), (250, 5, 'a'), (678, 6, 'e'), (99, 3, 'l'), (308, 2, 'r'), (855, 6, 'c'), (22, 3, 'l'), (1214, 3, 'í'), (889, 8, 't'), (885, 3, 'a'), (40, 2, 'f'), (119, 2, 'i'), (198, 3, 'y'), (516, 2, 'u'), (263, 3, ','), (91, 5, 'o'), (40, 1, 'v'), (135, 2, 'ó'), (377, 4, 'i'), (59, 4, 't'), (670, 2, 'o'), (212, 7, 'e'), (103, 2, 'e'), (370, 2, 'r'), (51, 2, 'c'), (137, 2, ' '), (542, 10, ','), (562, 4, 'u'), (281, 5, 'a'), (22, 1, 'm'), (664, 2, 'i'), (316, 3, 'a'), (286, 6, 'e'), (1089, 14, 'Y'), (840, 5, 'ó'), (160, 3, 't'), (1225, 4, ' '), (919, 4, 'u'), (474, 2, 'o'), (106, 2, 'd'), (750, 3, 'y'), (499, 4, 'a'), (1365, 2, 'n'), (106, 3, 'n'), (408, 5, ','), (1439, 6, 'e'), (61, 2, 'i'), (53, 2, 'm'), (1463, 3, 'a'), (206, 2, 'h'), (58, 2, 'e'), (361, 2, 's'), (155, 5, 'i'), (141, 2, 'r'), (759, 5, 's'), (1050, 2, 'b'), (10, 2, 'd'), (1245, 4, 'p'), (1129, 4, 'c'), (775, 3, 'r'), (1571, 3, 'l'), (258, 16, 'r'), (1104, 4, 'e'), (94, 2, 'q'), (88, 3, 'l'), (292, 3, ','), (188, 4, 's'), (21, 1, ','), (153, 4, 'v'), (153, 4, 's'), (1066, 7, 't'), (247, 3, 's'), (1046, 4, 'n'), (390, 4, 'p'), (1219, 4, 'h'), (440, 5, 'd'), (1132, 4, 's'), (532, 2, 'y'), (285, 8, 's'), (1624, 3, 'i'), (1355, 2, 'u'), (183, 2, 's'), (83, 3, ' '), (128, 3, 'e'), (997, 2, 'a'), (355, 5, ' '), (49, 1, 'i'), (108, 3, 'c'), (1007, 4, 'l'), (460, 7, 'c'), (154, 3, 'u'), (723, 4, 'l'), (1188, 2, 'a'), (24, 2, 's'), (10, 2, 'F'), (11, 2, 'i'), (771, 3, 'n'), (339, 5, 'S'), (707, 2, 'v'), (337, 3, 'p'), (654, 2, 'q'), (162, 4, 'a'), (48, 2, 'l'), (80, 2, 'i'), (1036, 7, 's'), (156, 2, 'p'), (207, 3, 'a'), (180, 4, 'q'), (1559, 3, 'l'), (204, 5, 't'), (32, 2, 'c'), (870, 3, 's'), (561, 3, 'z'), (474, 2, 'e'), (1562, 3, 'u'), (32, 1, 'a'), (139, 14, 'd'), (12, 3, 'e'), (12, 1, 'l'), (509, 4, 'y'), (562, 5, 'c'), (216, 3, 'd'), (1238, 13, 'e'), (219, 3, 'a'), (85, 5, 'o'), (74, 3, 'e'), (1852, 4, 'b'), (315, 4, 'y'), (1081, 4, 't'), (368, 6, 'd'), (415, 3, 'f'), (80, 1, 'o'), (710, 4, 'o'), (857, 3, ' '), (220, 3, 'm'), (405, 6, 'p'), (1585, 6, 'h'), (355, 3, 'a'), (1258, 4, 's'), (944, 3, 't'), (36, 1, ':'), (9, 1, 'L'), (12, 2, 'r'), (150, 2, 'ó'), (130, 5, 'l'), (349, 3, 'i'), (1463, 3, 'z'), (15, 3, 'q'), (1309, 4, ' '), (556, 2, ' '), (15, 6, 's'), (1490, 3, 'a'), (51, 1, 'e'), (798, 5, 't'), (68, 2, ' '), (1511, 3, 'e'), (454, 3, 'm'), (32, 8, 'e'), (3, 1, 'f'), (62, 2, 'q'), (52, 2, 'c'), (35, 3, 'q'), (325, 5, 'n'), (26, 7, 'm'), (13, 2, 'q'), (975, 3, 'o'), (880, 8, 'u'), (953, 4, 'a'), (347, 2, 'e'), (2032, 2, 'o'), (264, 2, 'r'), (628, 5, 't'), (360, 2, 'b'), (74, 1, 'é'), (392, 3, 'u'), (245, 6, 'e'), (275, 2, ':'), (6, 1, '.'), (1, 2, 'l'), (1137, 4, 'l'), (479, 4, 'c'), (237, 2, 'l'), (416, 7, 'd'), (624, 3, 'u'), (69, 6, 'd'), (2071, 2, 'i'), (474, 2, 'd'), (380, 4, 'i'), (10, 3, 'a'), (108, 2, 'n'), (1169, 4, 'o'), (1833, 6, 'e'), (36, 3, 'e'), (387, 5, 'o'), (1647, 3, 'o'), (256, 2, 'i'), (845, 3, 'a'), (28, 1, ','), (306, 3, 'o'), (266, 4, 'c'), (286, 4, 'e'), (385, 3, 'e'), (1364, 3, 'a'), (932, 5, 'm'), (15, 4, 'i'), (214, 2, 'e'), (764, 4, 'q'), (109, 3, 'm'), (32, 5, ' '), (185, 11, 'g'), (984, 3, 'd'), (11, 1, 'z'), (184, 2, '\\n'), (1, 0, 'C'), (104, 3, 'e'), (1834, 4, ' '), (472, 8, 'p'), (1101, 3, 'í'), (1395, 5, 'p'), (1075, 4, ' '), (723, 8, 'o'), (19, 4, 'j'), (433, 2, 'c'), (841, 2, ','), (837, 6, 'v'), (17, 2, 'á'), (1204, 3, 'e'), (1319, 5, 'e'), (1287, 7, 'l'), (75, 3, 'y'), (30, 4, 'e'), (563, 3, 'a'), (2061, 2, 'r'), (1325, 3, ' '), (1472, 4, 'e'), (2249, 3, 'd'), (876, 7, 'n'), (1228, 5, 'l'), (6, 3, 'a'), (504, 3, 'a'), (730, 3, ' '), (614, 7, 'e'), (901, 3, 'e'), (18, 3, 'e'), (200, 4, 's'), (722, 3, 'A'), (1709, 3, 't'), (387, 1, 't'), (16, 2, 'e'), (1396, 4, 'i'), (2075, 4, 'u'), (131, 2, 't'), (54, 4, 'p'), (5, 4, 's'), (28, 1, 'l'), (154, 4, 'l'), (1928, 3, 'N'), (1383, 5, 'a'), (538, 3, 'm'), (668, 2, ' '), (789, 7, 'n'), (90, 5, 'h'), (84, 2, 'i'), (701, 4, 'q'), (380, 4, 'o'), (20, 2, 'B'), (782, 3, 'a'), (1626, 2, 's'), (1225, 6, 'y'), (1734, 4, 'e'), (9, 1, 'í'), (787, 10, 's'), (3, 2, 'i'), (543, 2, 'g'), (399, 3, 'b'), (1426, 5, ','), (228, 5, 'g'), (311, 5, 's'), (569, 3, 'e'), (1465, 4, 's'), (992, 7, ' '), (94, 1, 'u'), (109, 3, 's'), (111, 4, 'u'), (1055, 3, 'o'), (2562, 5, 'd'), (1534, 3, 'r'), (328, 3, 'd'), (1732, 5, 'e'), (289, 3, 'l'), (1803, 7, ' '), (111, 2, 't'), (1262, 4, 'e'), (17, 2, 'c'), (64, 2, 'r'), (1998, 3, 'l'), (68, 2, 'n'), (1854, 6, 'i'), (271, 2, 't'), (873, 3, 'e'), (324, 4, 's'), (6, 1, 'ñ'), (377, 2, 'e'), (6, 1, '.'), (1601, 5, ','), (1360, 6, 'o'), (94, 4, 'a'), (766, 4, 'b'), (2162, 8, 'a'), (1741, 4, ' '), (853, 5, ' '), (334, 3, 'b'), (1168, 3, 's'), (22, 2, 'l'), (1171, 4, ' '), (255, 6, ' '), (975, 3, 'm'), (853, 3, ' '), (2463, 4, 'q'), (978, 5, ' '), (218, 3, 'c'), (70, 4, 'l'), (19, 3, 'v'), (376, 3, 'u'), (185, 2, ','), (950, 4, 'u'), (873, 5, 'v'), (271, 3, 's'), (218, 4, 'v'), (2518, 6, 's'), (2, 1, 'o'), (1160, 6, 'm'), (1262, 4, 'a'), (2173, 3, 'u'), (2271, 3, 'y'), (318, 3, 'l'), (37, 3, 'f'), (37, 2, ' '), (847, 3, 'p'), (260, 2, ' '), (800, 6, 'l'), (1840, 2, 'r'), (79, 3, 'c'), (1170, 4, 'a'), (34, 2, 'í'), (335, 4, 'p'), (132, 4, 't'), (2, 1, ';'), (217, 4, 'i'), (938, 3, 'u'), (60, 2, ' '), (1953, 7, 'l'), (1683, 4, 'c'), (503, 4, ','), (1508, 7, 's'), (26, 2, 'i'), (518, 4, 'c'), (670, 4, 'l'), (32, 2, ','), (506, 4, 'o'), (371, 5, 'm'), (2565, 3, 'r'), (288, 5, 'c'), (29, 2, 't'), (74, 2, 'u'), (1336, 4, 'e'), (2302, 2, 'a'), (753, 6, 's'), (604, 10, 'e'), (1499, 3, 'r'), (271, 3, 'a'), (18, 1, '.'), (2467, 2, 'u'), (202, 1, 'o'), (221, 14, 'c'), (1314, 3, 'e'), (410, 3, 'c'), (2071, 3, 'c'), (103, 5, ' '), (446, 4, ' '), (1281, 6, 'l'), (3067, 5, '-'), (1796, 7, ' '), (1845, 2, 'm'), (2168, 5, 'o'), (35, 1, 't'), (2250, 6, 'd'), (997, 2, 'd'), (1600, 5, 'S'), (2243, 2, 'ü'), (7, 2, 'z'), (14, 1, '-'), (163, 3, 'o'), (815, 5, 'u'), (788, 1, 'l'), (1476, 4, 'í'), (1160, 4, 'd'), (2664, 4, 'j'), (2117, 4, 'a'), (837, 7, ':'), (462, 2, 'a'), (8, 1, 'm'), (1569, 3, 'n'), (106, 4, 'I'), (1489, 2, 'a'), (304, 2, 't'), (1632, 5, 'o'), (747, 2, 'm'), (85, 2, 'í'), (1283, 5, 'G'), (261, 2, 'l'), (3, 1, ';'), (236, 3, 's'), (620, 5, 'e'), (731, 2, 'i'), (164, 2, 'l'), (1362, 2, ','), (2084, 3, 'r'), (1567, 3, 'o'), (1001, 7, 's'), (353, 3, 'p'), (2993, 3, 'l'), (150, 3, 'd'), (1413, 4, ' '), (862, 5, 'i'), (1576, 5, ' '), (1400, 9, 'l'), (3, 1, 'C'), (965, 9, 'd'), (57, 3, 'F'), (50, 2, 'o'), (363, 4, 'q'), (746, 4, 'i'), (391, 6, 'o'), (310, 5, 'e'), (2599, 4, 'í'), (1754, 6, 'a'), (1755, 3, ','), (2546, 6, 'o'), (174, 2, 'G'), (169, 3, 'o'), (16, 3, 'h'), (1268, 3, 'a'), (686, 6, 'A'), (176, 14, ','), (829, 8, 't'), (2484, 5, 'm'), (900, 3, 'a'), (515, 4, 'd'), (1591, 3, ' '), (355, 3, 'd'), (2054, 6, 'p'), (950, 4, 't'), (713, 3, ';'), (1035, 8, 'e'), (490, 4, 'a'), (161, 8, 'm'), (923, 3, 'n'), (2598, 2, 'o'), (2180, 4, 'n'), (157, 2, 't'), (2178, 4, 'l'), (89, 2, 'ó'), (1762, 7, 's'), (2026, 3, 'e'), (131, 5, ','), (194, 7, 'e'), (2211, 4, ' '), (1434, 7, 'a'), (843, 3, 't'), (126, 3, 'n'), (1410, 4, ' '), (773, 2, 'a'), (31, 4, 'z'), (970, 2, 'a'), (2334, 3, 'n'), (1085, 4, 'o'), (475, 2, 'c'), (135, 3, ','), (12, 1, 'é'), (1172, 4, ' '), (1524, 3, 'r'), (358, 2, 'c'), (1940, 2, 't'), (2091, 5, 'e'), (851, 5, 'l'), (2544, 5, ','), (2514, 9, 'e'), (3014, 7, 'n'), (1100, 5, 'n'), (3379, 5, ' '), (22, 2, 'y'), (1197, 3, 'o'), (951, 5, 'l'), (212, 2, 'o'), (60, 4, 'c'), (9, 4, ','), (3157, 15, 't'), (76, 2, 'b'), (2250, 3, 'e'), (959, 3, 'u'), (10, 4, ';'), (2061, 8, 'd'), (1380, 5, 'c'), (67, 3, 'o'), (209, 2, 'i'), (2834, 4, 'd'), (470, 4, 'u'), (2468, 4, 'l'), (2102, 5, 's'), (125, 5, 's'), (474, 2, 'ó'), (672, 5, 'e'), (13, 2, 'b'), (96, 4, 'd'), (1492, 3, 'a'), (1724, 5, 'q'), (3672, 5, 'n'), (2638, 4, 'p'), (1464, 3, 'e'), (1127, 5, 'j'), (1445, 5, '.'), (1815, 2, 'l'), (116, 2, 'ó'), (61, 2, 'l'), (282, 5, 'f'), (2443, 4, 's'), (1169, 7, 'o'), (184, 3, 'a'), (1927, 6, ' '), (1220, 6, 'í'), (2845, 9, 'l'), (2253, 5, ','), (3158, 5, 'd'), (289, 4, 'c'), (58, 4, 'm'), (861, 6, 'c'), (387, 4, 'd'), (2024, 4, 'n'), (6, 2, 'n'), (828, 3, 's'), (659, 4, 't'), (1937, 4, 's'), (152, 4, 's'), (1978, 7, 'h'), (1392, 6, ','), (2020, 11, ','), (3056, 3, 'o'), (385, 3, ','), (127, 3, 'r'), (79, 4, 'a'), (1577, 5, 'i'), (6, 1, 'p'), (529, 3, 't'), (337, 3, 'i'), (2846, 3, 's'), (125, 2, 'l'), (11, 2, ';'), (290, 5, 'e'), (35, 2, 'ó'), (190, 5, 'd'), (1967, 7, 'o'), (883, 6, 'l'), (1214, 3, 'm'), (1436, 5, 'c'), (592, 4, 'q'), (932, 7, 'v'), (2821, 5, ' '), (220, 3, 'a'), (1254, 9, 'm'), (819, 1, 'q'), (126, 2, 'n'), (1273, 12, 's'), (935, 3, 'n'), (2248, 5, 's'), (8, 1, 'ñ'), (8, 5, 'i'), (15, 1, 'v'), (202, 4, 'o'), (1788, 4, 'q'), (268, 7, ','), (3515, 7, 'r'), (59, 2, 'é'), (2938, 5, 'h'), (977, 5, 'o'), (1852, 4, 'h'), (1680, 3, 'o'), (222, 2, 'a'), (2274, 6, 'i'), (118, 2, 't'), (315, 5, 'e'), (442, 4, 'n'), (162, 2, '.'), (7, 1, 'D'), (905, 5, 'é'), (16, 2, 'q'), (154, 4, 'l'), (892, 2, 'i'), (150, 2, 'R'), (781, 3, 'D'), (22, 2, 'z'), (1050, 13, 'u'), (1701, 3, 'u'), (566, 4, 'a'), (764, 7, ','), (453, 4, 'o'), (791, 8, 't'), (839, 5, 'q'), (2715, 5, 'r'), (1188, 8, 'C'), (969, 11, ' '), (226, 3, 'A'), (245, 2, 'i'), (2097, 5, 'E'), (328, 3, 'd'), (185, 7, 'd'), (564, 3, 'ó'), (475, 3, 'u'), (754, 4, 'v'), (138, 1, 's'), (118, 7, 'p'), (2367, 3, 'i'), (2919, 4, 'o'), (79, 2, 'm'), (3084, 3, 'o'), (633, 3, 's'), (3882, 4, 'r'), (2434, 5, 'd'), (2384, 3, 'o'), (196, 3, 'a'), (1970, 4, 'g'), (1240, 2, 'a'), (87, 3, 's'), (207, 2, 'M'), (1217, 5, 'e'), (1881, 6, 'c'), (1852, 5, 'r'), (3226, 3, 'd'), (1099, 6, 'C'), (10, 2, 'p'), (2065, 4, 'p'), (1019, 6, 'e'), (31, 2, 'R'), (4016, 3, 'e'), (2076, 2, 'a'), (166, 3, 's'), (121, 7, 'm'), (1767, 3, 't'), (676, 4, 'R'), (894, 2, 'd'), (310, 1, 'n'), (3042, 5, 'n'), (599, 5, 'd'), (59, 3, 'v'), (1517, 3, 'é'), (314, 3, 's'), (1599, 8, 'i'), (13, 2, 'u'), (1833, 3, 'i'), (440, 5, 'H'), (27, 1, 'r'), (1363, 2, 'l'), (567, 4, 'c'), (2393, 6, 'a'), (798, 2, 'g'), (2883, 4, 'A'), (159, 3, 'o'), (1184, 3, 'l'), (402, 3, 'j'), (271, 8, 'T'), (2988, 5, ','), (4041, 6, ' '), (719, 4, 'b'), (2264, 4, 's'), (406, 8, 'm'), (861, 5, 'b'), (2075, 4, 'd'), (58, 3, 'g'), (230, 6, ' '), (228, 1, 'o'), (38, 1, 'g'), (9, 4, ','), (200, 7, ','), (4083, 6, 'e'), (2952, 4, ' '), (589, 8, 'g'), (1991, 4, 'a'), (628, 5, 'g'), (56, 6, 'a'), (367, 6, 't'), (3013, 5, 's'), (50, 4, 'o'), (1437, 3, 'b'), (3178, 3, ' '), (335, 8, 'e'), (359, 2, 'd'), (764, 4, 'é'), (3778, 4, 'l'), (1260, 6, 'a'), (908, 2, 'b'), (727, 3, 'y'), (2211, 7, 'r'), (233, 2, 'd'), (567, 3, 'P'), (513, 5, 's'), (1605, 5, 't'), (3057, 6, 'e'), (373, 6, 'b'), (2250, 8, 'R'), (8, 1, 'i'), (414, 3, 'd'), (3179, 6, 'M'), (1791, 3, 'a'), (13, 1, 'b'), (335, 2, ','), (2926, 15, 'e'), (560, 3, 'í'), (612, 3, 'a'), (343, 2, 'r'), (1743, 7, 'c'), (3674, 3, 'i'), (1005, 4, 'y'), (2180, 3, 'b'), (1754, 3, 'c'), (3186, 7, 't'), (4, 1, 'p'), (98, 3, ','), (1870, 4, 'u'), (62, 5, 'e'), (1995, 4, 'l'), (990, 4, ' '), (42, 3, 'ó'), (2136, 7, 'í'), (26, 2, 'l'), (355, 5, 'M'), (382, 3, 'm'), (3748, 7, 'r'), (1479, 6, ' '), (23, 3, 'o'), (187, 5, 'e'), (277, 1, 'ú'), (343, 3, 'i'), (2667, 3, 's'), (1445, 3, 'i'), (807, 6, '.'), (378, 2, 'i'), (43, 4, 'é'), (65, 1, ','), (633, 5, 'd'), (126, 3, 'u'), (915, 3, 'm'), (1605, 7, 'c'), (1281, 2, 'e'), (2849, 4, ' '), (860, 3, 'i'), (1289, 3, ' '), (1615, 5, 'l'), (2, 2, 'ó'), (217, 3, 'a'), (2259, 3, 'm'), (111, 6, 't'), (782, 4, ','), (2080, 7, 'a'), (98, 4, 's'), (299, 3, 'i'), (989, 7, 'ñ'), (323, 2, 'i'), (3480, 4, '.'), (1510, 4, 'e'), (2968, 2, 't'), (144, 3, 'r'), (3502, 2, 'a'), (610, 4, ' '), (3240, 2, ' '), (47, 3, 'j'), (2747, 7, 'v'), (1327, 6, 'd'), (136, 3, 'e'), (951, 6, 'á'), (2919, 6, 'a'), (3804, 2, ' '), (2122, 11, ' '), (118, 4, 'j'), (13, 2, 'á'), (366, 3, 'i'), (3418, 4, 'c'), (3633, 6, 'l'), (1000, 6, ';'), (139, 3, 'f'), (34, 3, 'q'), (2563, 6, 'p'), (3333, 4, 'i'), (3792, 3, 'o'), (1103, 4, 'i'), (480, 6, 'n'), (2154, 4, 'a'), (3706, 3, ','), (1358, 5, 'p'), (1104, 4, 'e'), (211, 3, 'u'), (1358, 5, ' '), (3768, 7, 'o'), (3246, 3, ' '), (1369, 5, 'p'), (33, 7, 's'), (305, 2, 'v'), (3838, 8, 's'), (34, 2, 'r'), (6, 1, 'p'), (345, 1, 'b'), (3518, 3, 'a'), (1368, 3, 'a'), (82, 2, 'r'), (809, 3, 'c'), (1031, 9, 'a'), (3827, 3, 'n'), (698, 4, 'y'), (824, 2, 'r'), (2956, 7, 't'), (2655, 7, 'm'), (169, 4, ' '), (715, 5, 'u'), (356, 3, 'r'), (2128, 4, 'y'), (60, 7, 'o'), (260, 3, 'b'), (22, 2, 'c'), (2513, 5, 's'), (2565, 9, 's'), (354, 4, ' '), (3968, 6, 't'), (28, 2, 's'), (979, 5, 't'), (1584, 16, 'é'), (2275, 8, 'l'), (618, 2, 'd'), (1603, 7, 'o'), (642, 3, 'a'), (150, 7, 's'), (151, 8, 's'), (1892, 5, 'j'), (78, 6, 'b'), (3256, 4, 'd'), (20, 2, 'h'), (4010, 6, 'o'), (88, 6, 'g'), (1020, 2, 'e'), (1231, 6, 'a'), (2393, 3, 'v'), (3166, 6, 'p'), (180, 2, 'i'), (1044, 7, 'e'), (128, 2, 'o'), (704, 3, 'i'), (1441, 5, 'y'), (418, 3, 'l'), (893, 2, 'r'), (771, 4, 'o'), (677, 3, ','), (2803, 5, 'á'), (42, 3, 'l'), (817, 4, 'c'), (531, 3, 'a'), (52, 4, 't'), (1188, 3, 'o'), (1349, 3, 'm'), (846, 4, 'y'), (3844, 4, 'a'), (649, 2, 'I'), (1590, 5, 'á'), (3251, 5, 'e'), (3295, 8, 'y'), (380, 4, 'r'), (1556, 4, 'o'), (3272, 6, 'l'), (1169, 4, 'o'), (826, 8, 'b'), (1087, 4, ','), (26, 5, 'l'), (2204, 4, 'n'), (3736, 5, 'e'), (37, 2, 'i'), (2623, 3, 'r'), (419, 6, 'T'), (36, 2, 'p'), (750, 2, 'o'), (242, 3, ';'), (2011, 8, 'c'), (3415, 6, 'o'), (866, 3, 'a'), (687, 3, 'g'), (2610, 3, 'a'), (1754, 4, ' '), (2731, 12, ','), (2466, 4, 'v'), (121, 4, 'd'), (1298, 4, 's'), (643, 6, 'g'), (1276, 3, 'o'), (2265, 8, 'e'), (3881, 5, 's'), (2260, 5, ','), (332, 4, 'd'), (115, 3, 'p'), (120, 2, 'e'), (3022, 3, 'a'), (294, 4, 'e'), (710, 6, 'f'), (754, 3, ' '), (413, 7, 'd'), (2609, 3, 'a'), (229, 2, '.'), (779, 1, 'Y'), (18, 4, 'p'), (45, 2, 'm'), (1621, 8, 'h'), (11, 1, 'z'), (9, 2, 'f'), (429, 4, 'i'), (190, 2, 'i'), (905, 6, 's'), (536, 7, 'q'), (32, 4, 'a'), (468, 3, 'n'), (1694, 6, 'd'), (255, 4, 's'), (1148, 3, 's'), (21, 2, 'u'), (3768, 4, ','), (3336, 6, 't'), (1024, 3, 'd'), (2265, 6, 'o'), (2758, 4, 'y'), (3262, 5, 'a'), (17, 5, 'm'), (18, 1, 'h'), (300, 3, 'l'), (1748, 3, 'g'), (182, 4, 'i'), (6, 1, 'l'), (3748, 5, 'b'), (1735, 7, 'e'), (1231, 5, 'n'), (2738, 4, 's'), (2046, 6, 'o'), (33, 1, 'v'), (3834, 4, 'a'), (3579, 4, ' '), (1710, 4, 'i'), (1559, 2, 'ó'), (2991, 3, 'L'), (160, 4, 'ó'), (3659, 6, 'a'), (2262, 3, 'e'), (3973, 2, 'l'), (13, 3, 'l'), (2895, 8, 'q'), (1950, 4, 'u'), (1597, 4, 'p'), (220, 4, 'v'), (277, 3, 'q'), (1060, 8, 'n'), (1119, 5, 'g'), (3063, 3, ' '), (503, 2, 'l'), (104, 2, ','), (68, 3, 'e'), (2347, 7, 'n'), (1878, 7, 'n'), (2380, 4, 'a'), (2089, 3, 'd'), (2273, 6, 'j'), (217, 3, 's'), (1048, 4, 'm'), (93, 2, 'r'), (1505, 4, 's'), (129, 3, 'l'), (3245, 3, 'm'), (288, 4, ' '), (458, 4, ' '), (270, 2, 'p'), (311, 2, 'ó'), (532, 4, 'i'), (1696, 8, ','), (1783, 8, 'd'), (914, 4, 'r'), (37, 2, 'n'), (1779, 4, 'i'), (357, 3, 'u'), (3990, 3, 'o'), (326, 6, 'm'), (1539, 3, 'a'), (112, 7, ','), (324, 6, 'e'), (115, 4, 'a'), (2838, 6, ' '), (936, 4, 'o'), (118, 5, ','), (991, 4, 'í'), (193, 7, 'a'), (1037, 3, 'i'), (3231, 6, 'd'), (94, 3, 'e'), (175, 5, 'e'), (851, 3, 'r'), (714, 3, 'E'), (3270, 4, 'r'), (2287, 4, 'q'), (2216, 8, 'p'), (1497, 6, 's'), (2866, 2, 'e'), (14, 3, 'f'), (1906, 4, 'e'), (841, 5, 'd'), (2523, 4, 's'), (972, 3, ' '), (1358, 3, 'r'), (570, 3, 'g'), (151, 5, 'u'), (100, 3, 'c'), (1806, 3, 'i'), (1755, 3, 'd'), (604, 4, 'a'), (2661, 3, 's'), (221, 2, 'e'), (2120, 5, ' '), (471, 3, 'e'), (621, 5, 'd'), (451, 3, 'g'), (424, 2, 'p'), (1922, 4, 'y'), (177, 8, 'p'), (597, 7, 'y'), (440, 7, 'p'), (4, 2, 't'), (3624, 5, 'h'), (253, 4, 'l'), (622, 7, 'a'), (505, 4, 'h'), (1284, 2, 'h'), (1337, 5, 'u'), (113, 3, 's'), (1427, 3, 'n'), (806, 5, 'n'), (3874, 5, 'ó'), (2636, 5, 'a'), (3966, 4, 'r'), (112, 3, 'm'), (162, 3, 'l'), (2731, 4, 'c'), (150, 2, 'i'), (222, 4, 'c'), (111, 3, 'q'), (688, 4, 'a'), (78, 13, 'p'), (339, 2, 'a'), (2005, 3, ','), (72, 2, ','), (922, 5, 'a'), (1659, 3, 'u'), (3246, 3, 's'), (765, 5, 't'), (2719, 4, 'l'), (1061, 4, ','), (57, 4, 't'), (33, 2, 'n'), (2096, 4, 'h'), (1339, 4, ' '), (112, 3, 'n'), (81, 2, 'v'), (979, 5, 'n'), (1123, 5, 'l'), (268, 5, 's'), (3418, 4, 'r'), (711, 6, 'h'), (2117, 4, 'o'), (1710, 6, 'e'), (3, 3, 'n'), (3705, 3, ','), (2694, 9, 'a'), (2937, 9, 'é'), (2531, 5, 'd'), (311, 3, 'a'), (1886, 2, 's'), (899, 2, 'c'), (155, 3, 'd'), (1078, 5, 'f'), (59, 2, 't'), (2375, 3, 'z'), (235, 4, ','), (3824, 5, 'q'), (401, 3, 'e'), (80, 2, 'h'), (133, 5, 'n'), (130, 3, 'a'), (276, 2, 'x'), (1090, 4, 'e'), (483, 7, 'l'), (3393, 4, 'l'), (10, 3, 'i'), (333, 2, 't'), (83, 2, 'y'), (3117, 3, 'v'), (132, 6, 'c'), (508, 6, 'f'), (70, 2, 'í'), (663, 3, 'a'), (692, 10, '.'), (994, 1, 'F'), (284, 4, 'u'), (253, 2, 'o'), (224, 3, 'v'), (89, 3, 's'), (1581, 3, 'o'), (579, 2, 'n'), (282, 5, 'a'), (215, 2, 'q'), (3470, 10, 'á'), (2081, 5, 'r'), (1171, 4, 'q'), (22, 3, 'u'), (2587, 4, 'a'), (193, 2, 'y'), (26, 5, 't'), (151, 2, 'h'), (1028, 7, 'e'), (3176, 3, 'a'), (1569, 6, 'd'), (1930, 3, 'o'), (238, 2, 'l'), (2279, 8, 'a'), (1570, 3, 'm'), (348, 4, 'l'), (238, 2, ' '), (1137, 2, ' '), (75, 2, 's'), (618, 4, 'i'), (10, 1, ','), (1794, 12, 'q'), (3714, 5, ' '), (72, 3, 'B'), (607, 2, 'é'), (899, 3, 'o'), (3628, 5, 'l'), (494, 2, 'a'), (3543, 4, ' '), (28, 3, 'B'), (97, 2, 'i'), (44, 2, 'a'), (36, 4, 'd'), (2849, 7, 'c'), (490, 3, 'é'), (3474, 5, 'i'), (459, 2, 'a'), (115, 2, 'b'), (4022, 4, 'C'), (10, 2, 't'), (1563, 4, 'í'), (2991, 4, 'e'), (3464, 8, 'r'), (644, 4, 'n'), (3076, 8, 'r'), (113, 3, 'é'), (1514, 8, 'l'), (1792, 4, 'n'), (102, 2, 'í'), (377, 3, 'p'), (2506, 7, 's'), (2199, 5, 's'), (457, 4, 'c'), (2968, 6, 'a'), (14, 2, 'í'), (3901, 6, ','), (3711, 8, 'r'), (592, 2, 'ó'), (619, 6, 'c'), (253, 10, 'c'), (1893, 9, 't'), (1101, 5, 'm'), (3732, 5, 'y'), (14, 5, 'b'), (1253, 3, 'o'), (77, 4, 'p'), (418, 3, 's'), (1522, 3, 'e'), (632, 2, 'u'), (1160, 2, 'e'), (104, 3, 's'), (495, 3, 'n'), (144, 6, 'c'), (141, 2, 'o'), (276, 2, 'd'), (3571, 6, 'n'), (39, 4, 'p'), (416, 3, 'u'), (110, 2, 'b'), (993, 3, 'c'), (3868, 4, 'á'), (693, 3, 'l'), (1089, 5, 'm'), (601, 10, 'd'), (170, 2, 'l'), (980, 3, 's'), (2142, 4, 'i'), (676, 2, ' '), (3125, 10, ','), (71, 3, 't'), (3241, 7, 'f'), (1351, 3, 'e'), (168, 14, 'a'), (2061, 10, 'l'), (1604, 7, 'r'), (1078, 5, 'o'), (2964, 4, ';'), (1402, 5, ' '), (2646, 7, 'm'), (3199, 3, 'p'), (1418, 4, 'o'), (334, 4, 'r'), (257, 8, ','), (25, 3, 'd'), (2571, 5, 's'), (2403, 3, 'e'), (1681, 2, 'r'), (49, 5, 'd'), (123, 3, 'm'), (25, 3, 's'), (759, 5, 't'), (268, 2, 'b'), (153, 4, 'e'), (3357, 4, 'm'), (234, 3, ','), (1073, 6, 'c'), (1920, 7, 'f'), (300, 5, ' '), (2821, 4, ' '), (1752, 4, 'u'), (2031, 4, ','), (2277, 6, 'c'), (2338, 5, 'í'), (1728, 4, 'l'), (4008, 3, 'u'), (779, 4, 'o'), (3771, 3, 'n'), (292, 4, 'l'), (926, 6, ' '), (2099, 6, 'c'), (1496, 7, 'y'), (1247, 5, 'f'), (1781, 3, 'b'), (1277, 3, 'Y'), (3902, 8, 's'), (191, 2, 'é'), (1656, 6, 'u'), (891, 3, 's'), (139, 7, 's'), (285, 6, 'o'), (1750, 2, 'ó'), (3740, 3, 'o'), (970, 2, 'ó'), (89, 3, 'q'), (678, 3, 'ó'), (317, 3, 'ñ'), (2600, 3, 'ó'), (2181, 6, 'i'), (1194, 3, 'y'), (1054, 15, 'e'), (4095, 5, 'm'), (1190, 2, 'o'), (3198, 4, 'e'), (3688, 12, ','), (157, 4, 'f'), (475, 3, 'l'), (3954, 9, 'l'), (192, 2, 'm'), (640, 3, 'R'), (483, 3, 'n'), (375, 4, ':'), (269, 9, 'a'), (71, 4, 'p'), (1240, 6, ','), (57, 3, 't'), (3034, 5, 'n'), (2152, 3, ' '), (115, 2, 's'), (738, 2, 'n'), (3, 1, 'f'), (2511, 3, 't'), (4, 1, 'v'), (3256, 6, 'o'), (1328, 11, 's'), (1917, 4, 'c'), (2957, 6, 'f'), (22, 3, 'r'), (976, 6, 'a'), (503, 5, 'd'), (45, 9, 'a'), (241, 2, 'r'), (162, 3, 'r'), (924, 7, 'e'), (3159, 4, 'n'), (35, 4, 'y'), (1437, 9, 'd'), (3226, 8, 'l'), (4, 3, 'r'), (165, 4, 'e'), (66, 4, 'l'), (3752, 7, '\\n'), (3185, 1, 'u'), (509, 5, 'n'), (449, 9, 't'), (2219, 4, ' '), (186, 3, 'g'), (2179, 4, ','), (12, 6, 'c'), (784, 6, ','), (323, 4, 's'), (1169, 4, 'n'), (3473, 2, 's'), (691, 4, 'a'), (838, 5, 'i'), (838, 5, 'y'), (2181, 5, 's'), (1402, 5, 'n'), (2881, 9, 'd'), (745, 2, 'ó'), (3892, 4, 'o'), (119, 2, 'o'), (1308, 5, 'í'), (441, 2, ','), (486, 6, 'c'), (86, 2, 'o'), (916, 4, 'v'), (330, 13, 'd'), (986, 3, 'Q'), (103, 2, 'j'), (52, 2, 'e'), (684, 2, 'd'), (732, 3, 'o'), (3208, 4, '-'), (567, 5, 'q'), (1386, 3, 'a'), (3166, 4, 'h'), (12, 1, '-'), (2181, 5, 'r'), (45, 3, 'o'), (2585, 4, 'ó'), (404, 3, 'o'), (1959, 3, 'u'), (460, 3, 'e'), (226, 4, 's'), (3986, 3, 't'), (204, 3, 'v'), (1827, 5, 'e'), (4020, 12, 'q'), (1042, 5, 'i'), (3239, 3, 'u'), (1781, 5, 'e'), (47, 3, 'b'), (374, 3, 'd'), (345, 3, 'l'), (132, 5, 'Q'), (128, 3, 'a'), (28, 4, 'y'), (1052, 4, 'Q'), (292, 3, 'a'), (14, 4, 'c'), (132, 4, 'o'), (204, 5, 'q'), (265, 3, 'i'), (353, 3, 'n'), (936, 4, 'i'), (8, 1, '.'), (3514, 7, 'a'), (2631, 3, 'd'), (2698, 4, 's'), (3093, 6, 'e'), (2633, 5, 'e'), (50, 3, 'o'), (1278, 2, 'm'), (69, 2, 'í'), (673, 4, ' '), (3992, 5, 's'), (493, 8, 'c'), (3524, 3, 'e'), (3847, 5, ' '), (1281, 4, 'l'), (131, 5, 's'), (1326, 3, 'm'), (48, 5, 'a'), (42, 3, 'c'), (308, 4, 's'), (295, 4, 'q'), (503, 4, 'ñ'), (705, 4, ' '), (888, 9, ' '), (3106, 8, 'i'), (33, 3, 'y'), (627, 3, 't'), (2199, 8, ' '), (3897, 1, 'e'), (2371, 2, 'l'), (1869, 4, 'm'), (130, 2, 'a'), (207, 4, 's'), (228, 6, 'ó'), (94, 8, 'd'), (3433, 4, 'u'), (1502, 4, 'a'), (458, 3, 'q'), (479, 4, ','), (232, 6, 'b'), (944, 3, ' '), (1110, 9, ','), (118, 6, 'r'), (440, 4, 's'), (1077, 2, 'o'), (126, 14, 'l'), (550, 4, 'y'), (2097, 5, 'l'), (190, 7, 'd'), (455, 10, ' '), (34, 6, 'M'), (398, 2, 'c'), (242, 2, ','), (2000, 8, ','), (801, 15, 'd'), (1264, 6, 'b'), (1173, 6, 'a'), (313, 3, 'i'), (794, 3, 's'), (34, 2, 'l'), (857, 3, 'j'), (2247, 5, 'a'), (217, 6, 'y'), (2059, 5, 'o'), (3378, 3, 'b'), (2366, 6, 't'), (522, 4, ' '), (3380, 4, 'o'), (145, 3, 'n'), (151, 8, 'l'), (39, 2, '.'), (737, 1, 'L'), (2790, 5, 's'), (271, 3, 'u'), (2238, 4, 's'), (3332, 8, ','), (2119, 7, 'd'), (2427, 10, ' '), (2464, 8, 'p'), (789, 12, ' '), (167, 5, 'r'), (898, 4, ' '), (2300, 5, 'f'), (262, 2, 'm'), (483, 7, 'a'), (767, 11, 's'), (2347, 6, 'a'), (2464, 5, 'n'), (626, 3, ' '), (2669, 7, 'l'), (1291, 4, 'l'), (1391, 5, 'o'), (3038, 3, ' '), (67, 2, 's'), (994, 4, 'n'), (355, 4, 's'), (3451, 4, 'u'), (3776, 4, 'a'), (2005, 6, 'q'), (307, 2, 'e'), (1754, 4, 'a'), (148, 3, 'a'), (328, 3, ';'), (2654, 8, 'e'), (1939, 8, 'e'), (1507, 10, ' '), (709, 4, 'a'), (42, 3, 'e'), (1489, 3, 'r'), (64, 2, 'á'), (4, 1, 'b'), (2250, 2, ' '), (21, 4, 'h'), (8, 1, 'j'), (2872, 5, 's'), (12, 3, 'f'), (1402, 2, 't'), (536, 4, 'c'), (2174, 3, 'p'), (338, 3, 'i'), (4062, 4, 'm'), (3988, 4, 'e'), (1804, 3, 's'), (1484, 5, 'a'), (201, 3, ':'), (300, 1, '-'), (1, 0, 'S'), (1943, 2, 'y'), (3305, 7, 'm'), (1972, 3, 's'), (1368, 5, 'i'), (3249, 4, 'c'), (671, 3, 's'), (26, 2, 'o'), (28, 6, 'i'), (542, 5, 'a'), (281, 3, 'e'), (2658, 3, ','), (1325, 3, ' '), (2190, 3, 'u'), (2341, 5, ' '), (2445, 5, 'h'), (280, 2, 'c'), (410, 3, 'a'), (69, 1, 'g'), (1912, 3, 'g'), (1261, 2, 'a'), (1682, 5, 'c'), (601, 4, 'd'), (3125, 4, 'd'), (1974, 4, 'i'), (285, 4, 's'), (821, 4, 'n'), (30, 2, 'c'), (335, 4, 'l'), (3649, 16, 'd'), (1233, 5, ','), (2699, 7, 'e'), (424, 3, 'b'), (2746, 7, ' '), (114, 9, ','), (151, 3, 'l'), (2172, 5, 't'), (160, 8, 't'), (2616, 3, 'd'), (307, 4, 'u'), (244, 4, ','), (33, 2, ','), (1463, 4, 'a'), (247, 2, 'e'), (136, 5, 'l'), (1141, 3, 'e'), (10, 1, 'z'), (278, 4, 'l'), (1374, 3, 'i'), (1689, 5, '¿'), (922, 4, 'e'), (13, 1, 'á'), (3311, 3, 'e'), (596, 3, 'e'), (3415, 4, 'a'), (401, 9, 'v'), (3371, 3, 'l'), (101, 3, 'r'), (1904, 3, 'n'), (941, 5, 'y'), (3488, 7, 't'), (3678, 5, 's'), (2611, 4, 'n'), (3080, 7, 'r'), (1395, 2, 'i'), (638, 3, 's'), (1423, 5, ' '), (303, 3, 'd'), (867, 2, 'c'), (431, 3, 'e'), (1866, 3, 'a'), (205, 4, 'd'), (274, 3, ' '), (289, 4, 'v'), (4, 1, 'z'), (56, 2, 'u'), (34, 2, 'l'), (54, 3, 'y'), (963, 3, 'n'), (26, 2, 'd'), (19, 1, ':'), (9, 1, \"'\"), (1, 1, 'Y'), (595, 5, 'ñ'), (48, 5, 's'), (6, 1, 'y'), (512, 4, 'g'), (327, 6, ' '), (2322, 1, 'a'), (21, 2, 'c'), (81, 2, 'i'), (1920, 3, 'r'), (38, 8, ' '), (868, 6, 'í'), (1401, 2, 'u'), (875, 5, 'l'), (212, 3, 'r'), (46, 2, 'i'), (985, 4, ' '), (196, 6, 'v'), (2662, 4, 'ó'), (1759, 5, 'i'), (3484, 2, 'u'), (877, 3, ' '), (361, 2, 't'), (363, 3, 'a'), (93, 4, 'j'), (78, 2, 'á'), (380, 3, 'o'), (417, 3, 's'), (1297, 5, 'e'), (445, 3, 'a'), (33, 2, 'd'), (1174, 3, 'a'), (632, 8, 'd'), (981, 16, ' '), (981, 8, 'e'), (364, 4, 'a'), (843, 3, 'e'), (2244, 4, 'd'), (2562, 6, 'm'), (304, 10, 's'), (79, 3, 'n'), (54, 3, 'v'), (859, 4, 'r'), (996, 3, 'e'), (2011, 2, 'e'), (39, 1, ','), (3255, 6, 'q'), (3038, 6, 'v'), (28, 7, 'g'), (185, 3, 'd'), (2872, 3, ' '), (268, 2, 's'), (1643, 3, 'g'), (793, 5, 'm'), (593, 2, 'a'), (905, 4, 't'), (150, 3, 'n'), (73, 2, \"'\"), (1, 1, '?'), (687, 1, '¡'), (1, 0, 'O'), (122, 1, ','), (118, 2, 'ó'), (178, 6, 'h'), (762, 2, 'g'), (118, 2, 'n'), (67, 5, 'o'), (1213, 15, ' '), (1867, 7, 'h'), (7, 1, 'b'), (5, 3, 'e'), (3212, 5, 's'), (195, 4, 'i'), (896, 2, 'u'), (869, 2, 'o'), (402, 4, 'm'), (2844, 6, 'n'), (39, 4, 'a'), (54, 2, 'ó'), (311, 9, 'd'), (296, 3, 'n'), (1384, 12, 'd'), (939, 3, '!'), (2177, 3, 'f'), (1220, 6, 'l'), (1429, 6, 's'), (2297, 3, 'r'), (4, 1, 'e'), (1930, 7, 'n'), (673, 4, 'l'), (4, 1, 'g'), (60, 3, 'c'), (234, 3, 'a'), (653, 5, 's'), (1336, 4, 'h'), (1524, 5, 'u'), (829, 3, 'm'), (507, 2, 'a'), (247, 3, 'b'), (238, 2, 'd'), (1991, 4, 'd'), (2243, 4, 'y'), (186, 6, 'p'), (1301, 10, ' '), (134, 6, 'é'), (63, 2, 'u'), (661, 3, 'i'), (2198, 2, 'p'), (1023, 5, 'u'), (2336, 4, 'n'), (1062, 5, 'd'), (1437, 4, 'u'), (635, 4, ','), (2792, 10, 'e'), (292, 2, 'i'), (1158, 4, ','), (410, 3, 'l'), (93, 2, 'j'), (478, 5, 'l'), (3777, 5, 'o'), (2801, 3, 'i'), (3546, 8, 'c'), (514, 3, ' '), (1323, 4, 'o'), (3953, 3, 'l'), (38, 3, 'b'), (427, 4, 'A'), (655, 2, 'o'), (799, 2, 'a'), (18, 2, 'o'), (658, 3, 'z'), (288, 5, 'a'), (131, 2, 's'), (43, 3, 'l'), (3044, 10, 's'), (800, 3, 'b'), (290, 7, 'l'), (2151, 3, 'í'), (2812, 2, 'l'), (3324, 6, 'e'), (695, 4, ' '), (302, 5, 's'), (2061, 12, 's'), (3338, 5, 'b'), (1270, 3, 'á'), (3444, 6, 'n'), (344, 6, 'q'), (1321, 6, 'd'), (405, 2, 'd'), (604, 2, 'e'), (128, 3, 'm'), (2508, 4, ' '), (308, 8, ','), (875, 7, 't'), (1401, 2, 'a'), (29, 3, 'y'), (224, 6, 'c'), (85, 3, 'n'), (600, 5, 'l'), (3649, 5, 'r'), (14, 2, 'c'), (1960, 3, ' '), (31, 2, 'g'), (4087, 4, 's'), (828, 7, 'v'), (2141, 12, 'l'), (9, 2, 'D'), (906, 3, 'i'), (987, 2, 'a'), (94, 5, 'T'), (1584, 2, 'o'), (511, 4, 'p'), (1380, 7, 'r'), (2700, 3, 'a'), (199, 2, 'r'), (83, 5, 'l'), (31, 7, ';'), (2514, 16, 'r'), (412, 6, 'm'), (362, 1, 's'), (2185, 2, 'o'), (1688, 4, 'e'), (18, 2, 'g'), (127, 3, 'o'), (2520, 16, ','), (848, 6, 't'), (2433, 9, 'd'), (447, 2, 'á'), (2715, 6, 'a'), (466, 4, 'y'), (82, 5, 's'), (1554, 5, 's'), (538, 7, 'p'), (1660, 5, '.')]\n"
     ]
    },
    {
     "data": {
      "text/plain": [
       "True"
      ]
     },
     "execution_count": 17,
     "metadata": {},
     "output_type": "execute_result"
    }
   ],
   "source": [
    "tok = LZ77_encode(txt2,4095,16);\n",
    "print(tok);\n",
    "txt2 == LZ77_decode(tok)"
   ]
  },
  {
   "cell_type": "code",
   "execution_count": 18,
   "id": "e039c02e",
   "metadata": {},
   "outputs": [
    {
     "name": "stdout",
     "output_type": "stream",
     "text": [
      "['S', 'e', 't', 'z', 'e', ' ', 'j', 'u', 't', 'g', 'e', 's', ' ', 'd', \"'\", 'u', 'n', (12, 4), 'j', 'a', 't', ' ', 'm', 'e', 'n', (19, 2), (14, 2), 'f', (32, 2), (7, 2), (25, 6), 'p', (15, 2), (25, 3), '.']\n"
     ]
    },
    {
     "data": {
      "text/plain": [
       "True"
      ]
     },
     "execution_count": 18,
     "metadata": {},
     "output_type": "execute_result"
    }
   ],
   "source": [
    "tok = LZSS_encode(txt1,2,32,8);\n",
    "print(tok);\n",
    "txt1 == LZSS_decode(tok)"
   ]
  },
  {
   "cell_type": "code",
   "execution_count": 19,
   "id": "4d57b123",
   "metadata": {},
   "outputs": [
    {
     "name": "stdout",
     "output_type": "stream",
     "text": [
      "['S', 'e', 't', 'z', 'e', ' ', 'j', 'u', 't', 'g', 'e', 's', ' ', 'd', \"'\", 'u', 'n', (12, 4), 'j', 'a', 't', ' ', 'm', 'e', 'n', 'g', 'e', 'n', ' ', 'f', 'e', (26, 3), (25, 6), 'p', 'e', 'n', (25, 3), '.']\n"
     ]
    },
    {
     "data": {
      "text/plain": [
       "True"
      ]
     },
     "execution_count": 19,
     "metadata": {},
     "output_type": "execute_result"
    }
   ],
   "source": [
    "tok = LZSS_encode(txt1,3,32,8);\n",
    "print(tok);\n",
    "txt1 == LZSS_decode(tok)"
   ]
  },
  {
   "cell_type": "code",
   "execution_count": 20,
   "id": "26a9f89e",
   "metadata": {},
   "outputs": [
    {
     "name": "stdout",
     "output_type": "stream",
     "text": [
      "['E', 'n', ' ', 'u', 'n', ' ', 'l', 'u', 'g', 'a', 'r', ' ', 'd', 'e', ' ', 'l', 'a', ' ', 'M', 'a', 'n', 'c', 'h', 'a', ',', (14, 4), 'c', 'u', 'y', 'o', ' ', 'n', 'o', 'm', 'b', 'r', 'e', (7, 3), ' ', 'q', 'u', 'i', 'e', 'r', 'o', ' ', 'a', 'c', 'o', 'r', 'd', 'a', 'r', 'm', 'e', ',', (21, 4), 'h', 'a', ' ', 'm', 'u', 'c', 'h', 'o', ' ', 't', 'i', 'e', 'm', 'p', (37, 4), 'e', ' ', 'v', 'i', 'v', 'í', 'a', (88, 4), 'h', 'i', 'd', 'a', 'l', 'g', 'o', (90, 5), 'o', 's', (97, 6), 'n', 'z', 'a', ' ', 'e', 'n', ' ', 'a', 's', 't', 'i', 'l', 'l', (80, 3), ',', ' ', 'a', (78, 3), 'g', 'a', ' ', 'a', 'n', 't', 'i', 'g', 'u', (122, 3), 'r', 'o', 'c', 'í', 'n', ' ', 'f', 'l', (105, 3), ' ', 'y', ' ', 'g', (66, 5), (116, 3), 'r', 'e', 'd', 'o', 'r', '.', ' ', 'U', 'n', 'a', ' ', 'o', 'l', (169, 3), (78, 3), (27, 5), 'm', 'á', 's', ' ', 'v', 'a', 'c', 'a', (123, 5), 'c', 'a', 'r', 'n', (85, 5), 's', 'a', 'l', 'p', 'i', 'c', 'ó', (220, 3), 'a', 's', (35, 5), 'n', 'o', 'c', 'h', 'e', 's', (216, 3), 'u', 'e', (140, 4), 'y', (47, 4), 'b', 'r', (117, 3), (13, 3), (17, 4), 's', 'á', 'b', 'a', 'd', 'o', (33, 3), (163, 3), 't', 'e', 'j', (54, 3), (22, 4), 'v', (243, 3), 'n', (55, 4), (107, 3), 'ú', 'n', ' ', 'p', 'a', 'l', 'o', 'm', 'i', (247, 3), (125, 4), 'ñ', 'a', 'd', 'i', 'd', 'u', 'r', 'a', (220, 6), (24, 4), 'g', (64, 4), 'c', 'o', 'n', 's', 'u', 'm', 'í', 'a', (123, 6), 't', 'r', 'e', 's', (55, 3), 'r', 't', (7, 3), (53, 3), 's', 'u', (306, 3), 'c', 'i', 'e', 'n', 'd', 'a', '.', ' ', 'E', 'l', ' ', (30, 3), 't', (78, 4), (209, 4), (57, 3), 'c', 'l', 'u', (57, 4), 's', 'a', (377, 3), (46, 3), 'v', 'e', 'l', (58, 4), (84, 3), 'a', 'l', 'z', (77, 3), (19, 6), 'l', 'u', 'd', 'o', (83, 4), (121, 3), (20, 3), 'f', 'i', (67, 3), 'a', (120, 6), (95, 3), (109, 4), 'n', 't', 'u', 'f', (368, 8), (288, 3), 'e', 's', 'm', (273, 3), 'y', (167, 6), 'í', (71, 6), 'e', 'n', (153, 4), 'e', 'm', 'a', (334, 3), 's', 'e', ' ', 'h', 'o', 'n', 'r', 'a', 'b', (131, 5), (163, 4), (101, 4), 'o', 'r', 'í', (65, 8), (318, 3), 'f', (245, 3), '.', ' ', 'T', 'e', 'n', (473, 3), (446, 3), (36, 3), 'c', 'a', 's', (484, 4), (440, 3), 'm', (379, 6), 'p', (17, 3), (67, 3), (492, 7), 'c', 'u', 'a', 'r', (101, 3), (463, 3), 'y', (38, 5), 's', 'o', 'b', 'r', 'i', (8, 3), (42, 4), (320, 3), (507, 3), 'g', (46, 4), (317, 6), 'v', 'e', 'i', (372, 3), (43, 6), ' ', 'm', 'o', 'z', (253, 5), 'c', 'a', (592, 4), 'y', ' ', 'p', 'l', 'a', 'z', (71, 3), (57, 4), 'a', 's', 'í', (126, 3), 's', (569, 3), (60, 4), 'e', (319, 3), (555, 5), 'c', 'o', 'm', (640, 3), 'o', 'm', (21, 4), (328, 3), 'p', 'o', 'd', 'a', 'd', 'e', 'r', (353, 3), 'F', 'r', 'i', (148, 5), (21, 3), 'e', (20, 3), (86, 4), 'n', 'u', (303, 3), (710, 3), (667, 8), (242, 4), (176, 5), 'i', 'n', 'c', 'u', (177, 4), (472, 3), 'o', 's', ';', ' ', (64, 3), (133, 5), 'o', 'm', 'p', 'l', 'e', 'x', 'i', (585, 3), 'r', 'e', 'c', 'i', (136, 3), 's', 'e', (663, 3), (159, 5), (537, 6), 'e', 'n', 'j', 'u', (451, 5), (141, 3), (90, 4), ',', ' ', 'g', (598, 3), ' ', 'm', 'a', 'd', 'r', (854, 3), (691, 3), (195, 3), 'a', 'm', 'i', (774, 7), (355, 3), (206, 3), '.', ' ', 'Q', (844, 4), (329, 3), 'd', (85, 3), 'r', (220, 5), 't', (348, 6), 'l', (298, 5), 'e', (886, 7), (51, 3), (42, 3), 'j', (802, 3), ',', ' ', 'o', (11, 3), 'e', 's', (11, 5), (48, 4), (61, 3), (572, 5), 'h', 'a', (96, 3), 'l', 'g', (356, 4), 'd', 'i', 'f', (85, 4), (167, 3), (30, 4), (214, 4), 'a', (155, 3), (641, 4), (49, 4), 'd', (47, 3), (183, 4), 's', 'o', (57, 3), 'c', 'r', 'i', 'b', 'e', 'n', ';', (33, 3), 'n', (28, 3), ',', (308, 3), 'r', (267, 4), 'j', 'e', 't', (721, 3), (401, 4), (205, 3), 'í', 'm', 'i', 'l', (226, 4), (544, 3), 'd', (785, 3), (564, 4), (696, 3), 'e', (175, 6), (21, 3), (390, 3), (371, 5), (151, 3), 'j', (584, 3), '.', ' ', 'P', (1055, 4), (149, 5), 'i', (443, 3), 'r', (332, 3), 'p', 'o', (301, 3), 'a', (373, 9), (354, 5), 'o', ';', ' ', 'b', (1022, 3), (523, 6), (168, 4), (32, 3), 'a', 'r', 'r', (790, 3), (357, 3), 'd', 'é', 'l', (543, 4), (94, 3), (961, 3), (1045, 3), (528, 3), 'p', 'u', (52, 3), (317, 7), (152, 3), (456, 3), '.', '\\n', 'E', (151, 3), 'p', (85, 3), (1191, 5), (483, 3), (149, 7), (226, 5), (320, 5), 'd', 'i', (1172, 4), (485, 7), (980, 3), (268, 3), 'r', 'a', (1003, 4), (39, 7), (184, 4), 'o', 'c', 'i', 'o', 's', (29, 3), (19, 5), (436, 4), (38, 4), (749, 4), (911, 3), (518, 4), (250, 6), (678, 7), 'e', (99, 3), 'l', 'i', 'b', (279, 3), (509, 6), 'b', 'a', (1214, 4), (846, 3), (889, 6), 't', (885, 3), (40, 3), 'f', 'i', (198, 5), (1206, 3), 'u', (263, 3), (91, 6), 'o', 'l', 'v', 'i', 'd', 'ó', (377, 4), 'i', (59, 4), 't', 'o', (958, 4), (212, 5), (103, 3), 'e', 'j', 'e', 'r', 'c', (53, 3), (542, 12), (776, 4), (408, 3), (15, 4), 'a', 'd', (1110, 3), 'i', (316, 3), (286, 7), (1089, 15), 'Y', (840, 5), 'ó', (160, 3), (128, 4), (311, 3), (919, 3), 'u', 'r', (214, 3), (248, 3), 'd', (70, 3), (499, 3), 'a', 't', (1199, 4), (557, 7), (145, 6), 'v', (61, 3), 'i', 'ó', (1463, 5), (491, 3), 'h', 'a', 'n', (907, 3), (214, 5), (1475, 3), (392, 3), (102, 5), 'e', (639, 3), 'a', (1245, 5), (1129, 5), (775, 4), 'r', (1571, 3), (258, 16), (258, 5), (94, 4), (88, 4), (292, 4), (188, 5), 's', 'í', (370, 3), 'l', 'e', 'v', (153, 4), (1066, 8), (247, 4), (1046, 5), (1393, 5), 'p', (1219, 4), 'h', (440, 5), (1276, 4), (881, 4), (174, 4), (38, 6), (1624, 3), (1355, 3), 'u', 'n', (1433, 4), (1111, 4), (889, 3), (1301, 4), (227, 3), ' ', 'b', (249, 3), (1007, 6), (428, 4), (1521, 5), (154, 3), 'u', (723, 4), 'l', ' ', 'f', 'a', 'm', (464, 3), ' ', 'F', 'e', 'l', (337, 3), 'a', (1445, 6), 'S', 'i', 'l', 'v', (337, 3), (654, 3), (162, 5), (202, 3), (1362, 3), (286, 5), (332, 6), 'p', (207, 3), 'a', (180, 4), (31, 3), (720, 3), (204, 4), 't', 'r', 'i', 'c', (870, 3), (561, 4), 'z', 'o', (995, 3), (39, 3), 'y', (1550, 4), (139, 11), (60, 3), 'p', 'e', 'r', (47, 3), (239, 4), (562, 4), (216, 4), (210, 3), (1238, 11), (560, 4), (85, 6), (635, 4), 'e', (1852, 4), (315, 5), 'y', (1081, 4), (1456, 3), (68, 4), (415, 4), 'f', 'í', (241, 4), 'd', 'o', (857, 3), (328, 4), (405, 7), (1585, 7), 'h', (355, 3), (1258, 5), (944, 4), 't', 'o', ':', ' ', 'L', 'a', (150, 4), (522, 6), (205, 3), 's', 'i', (1463, 3), (15, 4), (1309, 5), ' ', 'm', 'i', (30, 7), (1490, 4), 'a', 'c', (983, 3), (339, 4), 'a', 'l', (1165, 3), (1813, 3), (32, 11), 'e', 'n', (1886, 3), (52, 3), (35, 4), (325, 6), (1247, 3), (26, 5), 'm', 'e', (17, 4), 'j', (880, 9), (953, 5), 'a', ' ', (1112, 3), (348, 3), (527, 3), (628, 4), 't', 'a', 'm', 'b', 'i', 'é', (392, 3), (245, 7), 'e', 'í', 'a', ':', ' ', '.', '.', '.', (1137, 5), 'l', (479, 4), (672, 3), (416, 8), (1715, 4), (69, 7), 'd', 'i', 'v', (717, 3), (380, 5), (10, 4), 'a', 'm', (1105, 4), (1409, 6), (377, 4), (36, 3), (387, 6), (58, 3), 'f', (1086, 3), 'i', (845, 3), 'a', 'n', (354, 4), (17, 3), (207, 4), (158, 4), (385, 3), (2055, 4), (677, 4), (215, 3), (15, 4), 'i', 'm', (532, 3), (764, 3), (109, 4), (32, 6), (185, 12), (1420, 4), 'd', 'e', (1394, 3), '\\n', 'C', (104, 3), (1834, 5), (472, 9), (451, 3), (1807, 3), (570, 4), 'p', (1075, 4), (723, 9), (589, 5), 'j', 'u', (918, 4), (126, 4), (422, 3), (1808, 3), (2078, 3), (342, 3), (1319, 4), (1287, 8), (171, 4), (30, 5), (563, 4), (2061, 3), 'r', (1325, 3), (1472, 5), (16, 3), 'i', 'd', (876, 7), (1228, 6), (1861, 3), 's', (2210, 3), (144, 3), 'n', 'i', (237, 6), (68, 5), (879, 3), (127, 5), (1954, 5), ' ', 'A', (1709, 3), 't', 'ó', 't', 'e', (1396, 6), (427, 3), 'e', 's', 'u', 'c', 'i', 't', (54, 4), (900, 5), 's', 'ó', (71, 3), (592, 4), '.', ' ', 'N', (1383, 5), (538, 4), 'm', 'u', 'y', (789, 8), (327, 6), 'h', 'e', (735, 4), (380, 7), (20, 3), 'B', (782, 3), 'a', 'n', 'í', (624, 3), (47, 4), 'y', (1734, 4), 'e', 'b', 'í', (787, 10), (158, 3), 'i', 'm', 'a', 'g', (399, 3), (31, 3), (1547, 9), (311, 6), (1294, 3), 'a', (1465, 5), (79, 6), (770, 3), 'h', 'u', (109, 3), (225, 3), (1127, 4), (1756, 3), (2562, 5), (1564, 4), (1031, 3), (620, 5), 'e', (616, 3), (1944, 6), (1520, 5), 'y', (1262, 6), (17, 3), (1530, 3), 'r', (1998, 3), (351, 3), (920, 6), (1268, 3), 'a', (873, 4), (100, 3), 'y', (132, 3), 'ñ', 'a', (246, 3), (1601, 6), (1360, 7), (56, 3), (2421, 4), (150, 3), (768, 4), (2162, 5), (1741, 5), (853, 6), (2693, 3), (24, 3), 'r', (22, 4), (1171, 5), (255, 7), (975, 4), (333, 3), (2588, 6), (978, 6), ' ', (218, 3), (44, 4), 'b', (190, 3), 'a', (1274, 3), (1760, 4), (950, 5), (873, 6), 'v', (271, 3), (988, 5), (657, 3), (153, 4), 's', 'e', (159, 5), (2125, 4), (1262, 3), (81, 3), 'l', 'u', (2271, 3), (487, 3), (538, 4), (2310, 4), (148, 3), ' ', 'p', 'i', (728, 5), (31, 3), 'l', 'e', (507, 3), (178, 4), (448, 3), (34, 3), 'í', (335, 4), (132, 5), 't', 'e', (1234, 4), (928, 3), (2672, 3), 'd', (1041, 3), (1953, 6), (449, 3), 'h', (599, 3), (503, 3), (1508, 8), (1766, 3), (518, 5), (192, 4), (476, 4), (506, 5), 'o', (371, 5), 'm', (2565, 3), (1980, 4), (1074, 3), 'o', (594, 3), 'n', 'u', (1336, 4), (2302, 3), (2125, 3), (753, 4), (2770, 4), (604, 7), (1499, 4), 'r', (271, 3), 'a', 'n', (2467, 3), 'u', 'v', (2482, 3), (221, 12), (1314, 4), (144, 3), (2071, 5), (103, 6), (446, 5), (1281, 7), (3067, 6), '-', (1796, 7), (2569, 3), (2168, 6), 'o', 'c', (1582, 4), (519, 3), 'd', 'u', (488, 3), (385, 4), 'S', 'i', 'g', 'ü', 'e', (3005, 3), '-', (163, 3), (815, 6), 'u', 'á', 'l', (1476, 4), (507, 3), (1648, 3), (2664, 4), 'j', (2117, 4), (837, 8), ':', ' ', 'P', 'a', 'l', (913, 3), (2464, 3), (106, 3), 'I', 'n', (3016, 3), 'a', 't', (1632, 5), (747, 3), (2334, 3), (659, 4), 'e', ' ', 'G', 'a', 'u', 'l', 'a', ';', (236, 3), (620, 6), 'e', ' ', 'N', 'i', 'c', 'o', 'l', 'á', (770, 3), (208, 3), (1567, 3), (2844, 5), (801, 7), (2033, 3), 'b', (290, 4), (2356, 3), (116, 3), (862, 5), (1576, 6), (1400, 10), 'l', ' ', 'C', (965, 9), (57, 4), 'F', 'e', 'b', (964, 5), (746, 5), 'i', (391, 6), (310, 6), (972, 4), (1022, 4), (286, 4), (314, 3), (1721, 3), (2546, 5), (288, 3), 'G', (169, 3), 'o', (16, 3), (842, 3), (1336, 3), (527, 5), (176, 15), (829, 9), (2484, 6), (900, 4), (3244, 3), 'm', (2679, 4), (355, 5), (2173, 3), (1966, 4), (950, 5), (713, 4), ';', (1035, 8), (490, 5), (161, 9), 'm', (923, 3), 'n', 'd', (491, 3), (840, 4), 'i', (1760, 5), (2935, 4), (58, 3), (592, 5), (2026, 4), (131, 6), (194, 8), (2517, 5), (1434, 8), (818, 3), 'n', 't', (126, 3), (255, 4), (964, 3), (806, 6), 'z', 'a', 'g', (1259, 3), (3541, 3), (569, 3), 'o', 'l', (1087, 3), 'ó', (1345, 3), (2387, 3), (242, 3), (1524, 3), (2522, 3), 'c', 'ó', (2091, 7), (851, 6), (704, 3), (784, 5), (2514, 8), (3014, 8), (1100, 6), (3379, 6), (22, 3), 'y', (1197, 3), (951, 6), (1854, 3), (60, 5), (9, 5), (3157, 16), (76, 3), 'b', (2250, 3), (31, 3), (10, 6), (771, 4), (2061, 5), (395, 4), (2571, 5), (1467, 3), 'm', (2800, 3), (1335, 4), (470, 3), (3640, 5), (2102, 6), (125, 6), (2908, 3), 'ó', (672, 5), (1285, 3), (982, 3), (1728, 5), (1724, 7), (3672, 6), (237, 3), (916, 3), (1464, 3), (1127, 6), (1445, 6), '.', ' ', 'L', (268, 3), 'ó', 's', (53, 3), (282, 4), 'f', (2443, 4), 's', (1169, 7), (1151, 4), (1927, 7), (1220, 7), (3265, 6), (183, 4), (2253, 6), (1126, 3), (3158, 3), (1918, 5), (1647, 3), (1756, 3), (861, 6), (387, 5), (2024, 5), (1289, 3), (828, 4), (659, 5), (1869, 3), (2038, 5), (1978, 10), (1392, 7), (3766, 3), (2020, 9), (82, 3), 'm', (954, 4), ',', (127, 3), (3879, 3), (142, 4), (242, 4), 'i', 's', (529, 4), (2007, 4), (2846, 4), 's', 'i', (1170, 3), (2295, 5), (1624, 3), 'n', 't', (190, 6), (1967, 8), (1333, 5), (1233, 5), (1436, 7), (592, 5), (932, 8), (2821, 6), (220, 4), (754, 3), (1254, 7), 'm', 'á', (126, 3), (3075, 4), (1273, 9), (2232, 3), 'o', 'n', (2248, 5), 's', 'o', (3754, 3), (8, 3), 'i', 'n', (1280, 3), (304, 3), (1788, 4), (268, 8), (507, 6), (682, 5), (2938, 6), (977, 6), (1154, 3), (1036, 3), (1680, 3), 'o', 'r', (1078, 3), (2274, 5), (1191, 3), (2786, 3), (2633, 4), (442, 4), (528, 3), '.', ' ', 'D', (905, 5), (56, 3), (154, 5), (892, 3), 'i', 'd', ' ', 'R', (781, 3), 'D', 'í', 'a', 'z', (1050, 13), (1701, 4), (3067, 3), (764, 10), (834, 3), (770, 4), (791, 7), (839, 6), (2715, 6), (3207, 5), (77, 5), (969, 11), (266, 4), 'A', 'r', (1840, 3), (2097, 4), 'E', (328, 3), (3333, 8), (1220, 4), (1815, 4), (1354, 3), 'r', 'e', 'v', 'é', (2088, 4), (118, 4), (2367, 4), (121, 4), (1739, 4), 'm', (3084, 3), (633, 4), (3882, 5), (2434, 6), (446, 3), (479, 3), (1425, 3), (1970, 4), 'g', 'i', 'g', (4081, 4), (1662, 3), 'M', (1217, 5), (1881, 7), (134, 4), 'B', (4092, 3), 'a', 'r', (762, 5), (144, 4), 'r', 'p', (2065, 4), (1019, 7), (206, 3), 'R', (4016, 3), (2076, 3), (166, 4), (121, 8), 'm', (1767, 3), (861, 3), 'a', (28, 3), 'l', 'd', 'á', (200, 5), (599, 7), (1743, 4), (43, 3), (2360, 3), (139, 3), (1599, 8), (1023, 3), (3112, 3), (355, 4), (16, 3), 'H', 'é', 'r', 'c', 'u', (2045, 5), (2393, 7), 'a', 'h', 'o', (3036, 5), 'A', (159, 3), (62, 3), (76, 3), 'h', 'i', (2458, 9), 'T', (2988, 5), (3711, 4), (2359, 3), (719, 5), (2993, 3), 'z', 'o', (199, 3), (406, 6), (861, 6), (2075, 5), (190, 4), (230, 7), ' ', 'M', 'o', 'r', (9, 5), (200, 8), (1902, 6), 's', (2952, 5), (589, 9), 'g', (1991, 4), (628, 6), (56, 7), (367, 7), (3013, 6), (600, 3), (1539, 4), 'e', (995, 4), (335, 10), (359, 3), (3004, 5), (1134, 4), 'o', (1685, 4), (578, 3), 'a', 'f', (1912, 5), (2211, 8), (233, 3), (567, 4), (2022, 6), (1605, 6), (3057, 7), (373, 7), (2250, 9), 'R', 'e', (717, 3), 'l', (109, 4), (151, 3), 'M', (1791, 3), 'a', 'l', 'b', 'á', (2572, 5), (2926, 12), (560, 4), (612, 4), (343, 3), (192, 5), (3180, 6), 't', 'i', (1005, 4), (2282, 3), 'o', (2082, 4), (3186, 8), 't', 'o', 'p', (98, 3), (66, 4), (62, 7), (106, 3), (442, 4), (2936, 4), (42, 3), (360, 3), (2136, 5), 'í', 'd', (188, 4), (117, 4), (382, 3), (2042, 3), (884, 8), (1097, 5), (23, 3), 'o', (187, 5), 'e', 'g', 'ú', (343, 3), (2238, 3), (1445, 5), (807, 7), (378, 3), (1995, 5), 'é', 'l', (2372, 6), 'd', (126, 3), (2037, 4), (1605, 8), 'c', 'o', (1934, 4), (991, 3), (860, 3), (299, 3), (178, 5), (1644, 4), 'l', (1444, 4), (23, 3), (3917, 3), (357, 6), (782, 4), (2080, 8), (3393, 5), (299, 4), (989, 8), (971, 3), 'i', (3480, 4), (1510, 5), 'e', 'f', 'e', (1959, 4), 'r', 'e', 'm', (1178, 3), (161, 3), 'y', (47, 5), (2747, 8), (1327, 7), (136, 4), (951, 7), (316, 3), (2839, 5), 'ñ', (795, 3), (2122, 10), (118, 5), 'j', 'a', (3834, 5), (811, 3), 'l', (1449, 4), (1000, 11), (1188, 4), 'f', (34, 3), (2563, 7), (3333, 5), (3647, 3), (423, 3), (1103, 3), (1222, 4), (32, 3), 'n', (2154, 4), (3417, 3), (2484, 4), (1358, 3), (1104, 5), (2470, 4), 'u', (1358, 5), (3768, 8), 'o', (3246, 3), (1369, 6), (33, 8), (633, 3), 'v', (3838, 8), (34, 3), 'r', 'e', 'p', 'ú', 'b', (3518, 3), (255, 3), (3057, 4), 'r', (809, 3), (1839, 10), (438, 3), (698, 6), 'y', ' ', 'i', (26, 4), (356, 4), (2655, 8), (169, 5), (715, 6), 'u', (356, 3), (1846, 3), (3434, 6), (60, 4), (260, 4), 'b', 'u', 's', (2943, 3), (1749, 5), (2565, 8), (33, 4), (132, 3), (3968, 5), (2917, 3), (1826, 5), (1584, 16), 'e', (718, 4), (986, 6), (1325, 3), (27, 3), (260, 5), (1566, 4), (150, 8), (80, 3), (151, 6), (791, 3), (66, 3), (78, 7), (1857, 3), (1572, 5), (4010, 7), (1250, 3), (88, 4), 'g', 'é', (855, 3), (235, 5), 'a', (2393, 3), 'v', (3166, 6), 'p', 'o', 'n', (1044, 8), (128, 3), 'o', (704, 3), (1441, 6), (26, 3), (2079, 3), 'g', (3950, 5), (3613, 4), (345, 3), (117, 3), 'á', (42, 3), (128, 3), (950, 4), (1007, 3), (52, 4), (2387, 3), (486, 3), 'n', (2487, 6), (425, 3), (582, 3), '.', ' ', 'I', (1590, 5), (3251, 6), (3295, 9), (541, 3), 'c', (703, 3), (1556, 3), (1305, 6), (25, 3), (1169, 3), (648, 6), (380, 3), (1087, 5), (698, 6), (252, 3), (440, 3), (3736, 5), (37, 3), (1710, 3), (1764, 3), (184, 5), 'T', 'r', 'a', 'p', 'i', (1023, 3), 'd', (2483, 3), (2011, 7), (1454, 5), (769, 3), (866, 3), (2102, 3), (217, 4), (3177, 3), (1297, 4), (2731, 12), ',', (2466, 4), 'v', (121, 4), (81, 4), (643, 8), 'g', (1276, 3), (339, 6), (622, 5), (344, 4), (1803, 4), (765, 4), (1314, 4), (115, 3), 'p', 'r', (3182, 3), (3919, 4), (294, 3), (2034, 4), (754, 7), (161, 4), (1534, 6), 's', 'e', (364, 3), '.', '\\n', 'Y', (18, 4), (45, 3), (2671, 3), (26, 6), 'h', 'i', 'z', 'o', (693, 5), 'l', (190, 3), 'i', (905, 6), (536, 8), (32, 5), (468, 4), (557, 3), (1573, 4), (255, 5), (1343, 3), 'i', (2297, 3), (505, 3), (174, 4), (1305, 5), (3076, 4), (1847, 4), (1014, 5), (2758, 3), (2284, 3), (1071, 3), (17, 6), 'm', 'o', 'h', (300, 3), 'l', (1748, 3), 'g', (182, 4), 'i', 'g', (189, 4), (553, 6), (208, 5), (1231, 5), (2562, 3), (3718, 4), (618, 5), 'o', 'l', 'v', (3834, 4), (3579, 5), (1710, 5), 'i', 'n', 'c', 'ó', (2991, 3), 'L', (160, 4), 'ó', (3659, 6), 'a', (2262, 3), 'e', 'z', (13, 5), (386, 5), (1678, 4), (1950, 5), 'u', (1597, 4), (1841, 5), (565, 3), (1060, 10), (73, 4), (3810, 6), (503, 3), 'l', 't', (1076, 5), (2347, 8), (1878, 8), (1359, 3), 'e', 'l', (2711, 4), (2273, 7), 'j', (217, 3), (3222, 3), (95, 3), 'o', 'r', 'r', (1505, 4), 's', (129, 3), 'l', (3245, 3), (282, 4), (783, 3), (402, 4), 's', 'u', 'p', 'l', (993, 3), (532, 3), (1696, 9), (1783, 9), (1224, 4), (1885, 3), (675, 5), (357, 5), (204, 3), (2223, 5), (277, 4), (1539, 3), (612, 3), (112, 5), (324, 7), (115, 5), (2838, 7), (936, 5), (118, 6), (991, 5), (193, 8), 'a', (1037, 3), (551, 3), (3231, 4), (94, 4), (175, 6), (2026, 4), (1253, 3), (2029, 3), (2287, 8), (2216, 9), (3424, 3), (3579, 5), 'i', (237, 5), (485, 3), 'r', (1752, 3), (841, 4), (4045, 5), (368, 3), (3620, 3), (3714, 3), (570, 3), 'g', (151, 5), (100, 4), 'c', (1806, 3), (1559, 3), (153, 5), (3978, 3), (221, 5), 'e', (2120, 5), (471, 4), (621, 6), (1646, 4), 'g', 'o', 'l', 'p', (1922, 4), (3444, 5), (827, 5), (597, 7), (346, 3), (440, 5), 'p', 'u', (1232, 6), 's', (253, 5), (648, 7), (505, 6), 'h', 'e', (1906, 4), (39, 5), (1415, 3), (1427, 3), 'n', (806, 5), (3874, 6), 'ó', (2636, 5), (1339, 4), 'e', 'r', (112, 3), 'm', (162, 3), (2731, 5), 'c', 'i', 'l', (536, 4), (111, 5), (1117, 5), (72, 3), (78, 11), 'p', 'e', 'd', (2005, 4), (145, 3), (922, 6), (977, 3), 'g', (1212, 3), (1198, 4), (132, 3), (248, 3), (1061, 7), (652, 3), (1700, 4), 'r', 'n', (2096, 4), (1339, 5), (112, 4), 'n', 'u', 'e', 'v', (979, 5), (1123, 6), (120, 3), (775, 5), (318, 3), (1279, 4), (33, 3), 'h', (2117, 4), (1038, 6), (14, 3), (2792, 3), (3705, 3), (2933, 5), (2694, 5), (2937, 10), (2531, 6), 'd', (311, 3), 'a', 't', 'i', 's', 'f', (155, 5), (1078, 6), 'f', 'o', (2582, 3), 'l', 'e', 'z', (235, 4), (602, 5), (41, 4), 'r', (127, 3), (133, 6), (130, 4), (405, 3), 'x', (1090, 4), (483, 8), (391, 3), (175, 5), 'd', 'i', 'p', 'u', 't', 'ó', (290, 3), 't', (3763, 4), (132, 4), (508, 7), (3942, 3), 'í', (663, 3), (692, 11), '.', '\\n', 'F', (284, 4), 'u', 'e', (466, 3), (2816, 5), (1581, 5), 'o', 'c', 'í', (2067, 4), (1306, 3), 'u', 'n', (3470, 11), (2081, 6), (676, 3), (1003, 6), (2587, 5), (207, 3), (2107, 6), 't', 'a', (3866, 5), (2737, 7), (1569, 8), (1930, 4), (723, 3), (153, 4), (73, 5), (1489, 3), 'u', 'm', (348, 4), 'l', 'i', (945, 3), 't', ' ', 'o', 's', (1158, 3), 'f', 'u', 'i', 't', (185, 3), (1794, 10), (3714, 6), (72, 4), 'B', 'u', 'c', 'é', (899, 3), (3628, 6), 'l', 'e', 'j', (1556, 3), (343, 3), (28, 3), 'B', 'a', (2259, 3), 'c', (1771, 5), (2628, 5), (2849, 3), (490, 4), (3474, 6), 'i', 'g', 'u', (2047, 3), (1064, 3), '.', ' ', 'C', 'u', 'a', (379, 3), (3401, 6), (3464, 10), (1453, 3), (592, 4), (3076, 7), (1037, 4), 'é', (1514, 8), (3776, 5), (102, 3), 'í', (377, 3), (2506, 8), (2199, 6), (539, 5), (2968, 7), (648, 3), 'í', (3901, 6), (3682, 3), (2451, 6), (1510, 3), (3147, 7), (253, 11), (1893, 10), (1477, 4), (1604, 3), (3732, 5), (410, 3), (14, 3), (3001, 4), 'o', (77, 4), (418, 4), (1522, 4), (632, 3), 'u', 'v', (862, 3), (3922, 4), 'n', (144, 8), (214, 3), 'o', 'c', (1358, 3), (1560, 5), 'n', (39, 4), (935, 3), 'c', (683, 3), (3990, 4), (3868, 5), 'á', (693, 3), (3299, 6), (601, 11), (170, 3), (3657, 3), (1703, 4), (3263, 3), 'é', 'n', (3125, 11), (470, 3), (1878, 5), (38, 4), (996, 3), (2867, 6), (2061, 16), (2061, 5), (901, 7), (83, 4), (1645, 4), (2964, 4), (276, 3), (51, 3), (2646, 8), (3199, 4), (1418, 5), (926, 5), (257, 9), ',', (25, 3), (69, 3), (1212, 3), (2403, 4), 'e', 'ñ', (3068, 7), (123, 4), (25, 4), (114, 3), (245, 3), (3600, 3), 'b', (153, 4), (445, 3), (234, 6), (114, 5), (240, 4), (1920, 6), (300, 6), (2821, 5), (1752, 5), (301, 3), (65, 4), (2277, 5), (2338, 6), (208, 3), (2110, 3), (4008, 3), (779, 5), 'o', (3771, 3), (1611, 4), (657, 3), (926, 5), (2099, 7), (2307, 4), (197, 4), (1956, 3), (312, 3), 'f', (1781, 3), (1751, 3), ' ', 'Y', (3902, 8), 's', 'p', 'u', (3292, 3), (315, 4), (3030, 4), (3993, 4), (139, 4), (285, 7), (3684, 3), 'ó', (3740, 3), (1370, 3), (845, 4), (328, 3), 't', (15, 3), (2600, 5), (8, 3), (1194, 8), (460, 3), (1054, 13), (4095, 6), 'm', 'e', (1425, 3), (917, 3), (652, 3), (3688, 10), (2701, 5), (900, 3), (2912, 5), (2627, 6), (947, 3), 'm', (640, 3), 'R', (483, 3), 'n', (375, 4), ':', (269, 9), (2673, 5), (1240, 7), (57, 4), (2703, 4), (2081, 3), (2152, 3), (115, 3), (1816, 3), 'n', 'i', 'f', (2511, 3), 't', 'i', (234, 3), (3256, 4), (1328, 12), (1917, 5), (2957, 7), (1963, 4), (976, 7), (503, 6), (45, 10), (2952, 3), (474, 4), (3308, 4), (487, 8), (35, 6), (469, 3), (1437, 7), (4073, 7), (1847, 4), 's', (71, 4), 'i', (1694, 4), (880, 4), (3752, 6), '\\n', 'P', (509, 6), (449, 10), (2219, 5), (186, 4), (2179, 5), (198, 7), (784, 7), (103, 4), (2276, 3), (863, 4), 'é', (691, 6), (838, 6), 'i', (838, 5), (1544, 5), (1402, 7), (2881, 10), (2961, 3), 'ó', (3892, 4), (127, 3), 'o', (1308, 5), (968, 3), (3010, 5), (1123, 5), (609, 3), (330, 16), (2515, 3), ' ', 'Q', 'u', (3534, 3), 't', (1915, 3), (1403, 4), (2531, 4), ' ', '-', (567, 5), (1386, 4), (1310, 4), (73, 3), '-', (2181, 5), (1031, 4), (2585, 5), (696, 3), (226, 4), 'a', 'u', (460, 3), (226, 5), (687, 3), (204, 5), (1827, 6), (283, 4), (4020, 9), (1042, 6), (454, 3), 'd', (716, 3), (2385, 6), 'e', (374, 4), (345, 4), (132, 6), (128, 4), (1809, 5), (1700, 5), 'Q', (292, 3), (14, 5), (132, 5), (204, 6), (265, 4), (3892, 4), (3651, 4), 'c', 'i', 'r', (3514, 8), (976, 3), 'r', (3805, 3), (2740, 5), (1353, 7), (2633, 3), (2829, 4), 'o', ' ', 'A', (2356, 3), 'í', (673, 4), (3992, 6), (34, 3), (493, 6), (780, 3), (1439, 3), (3237, 5), (1281, 4), (131, 6), (30, 3), (48, 7), (1841, 4), (226, 3), (2204, 7), (503, 5), (705, 5), (888, 10), (3106, 9), (33, 4), (507, 3), (1328, 3), (2199, 7), ' ', 'H', 'e', 'p', 'i', (1869, 5), (907, 3), (207, 5), (1346, 4), (97, 3), 'ó', (94, 8), (3433, 5), 'u', (1502, 4), (3229, 4), (479, 5), (232, 7), (1245, 4), (1110, 10), (823, 7), (2112, 5), 's', 'u', 'y', (3162, 5), (126, 10), (99, 3), (21, 3), (2097, 5), (190, 8), (455, 11), (34, 7), 'M', 'a', 'n', (1633, 3), (2839, 6), (387, 5), (801, 14), (1264, 7), (1173, 7), (103, 3), 'v', (794, 4), (34, 3), 'l', (857, 3), 'j', (2247, 5), (217, 7), (102, 3), (462, 3), (3378, 4), (45, 3), (78, 4), (522, 5), (3380, 5), (3022, 4), (151, 9), (140, 3), '.', '\\n', (2630, 5), (319, 4), (1255, 4), (325, 3), (3332, 8), (2408, 3), (1964, 7), (2427, 9), (2464, 9), (1298, 7), (73, 7), (167, 5), (898, 5), (2300, 6), 'f', 'i', 'r', 'm', (483, 7), (767, 12), (2968, 7), (2464, 6), (691, 3), (2721, 6), (402, 3), (807, 3), (2692, 5), (173, 3), (572, 3), (178, 4), (1842, 3), (461, 5), (3451, 7), (2325, 4), 'd', (3811, 4), (296, 3), (386, 3), (838, 4), 'n', (433, 3), (2252, 5), (1731, 8), (1939, 10), (1507, 11), (709, 5), (42, 4), (1489, 4), (90, 3), 'á', 'r', 'b', 'o', (261, 3), (21, 3), 'h', 'o', 'j', (2872, 5), (12, 4), 'f', 'r', (789, 3), (4061, 5), 'e', 'r', 'p', (338, 3), (52, 4), 'l', (3339, 4), 'D', (1804, 4), (1484, 6), (201, 4), ':', '\\n', '-', 'S', 'i', ' ', 'y', (3305, 7), (2439, 3), (3424, 4), (1368, 3), (2024, 3), 'p', (642, 3), (241, 3), ',', ' ', (2189, 6), 'm', 'i', (542, 5), (281, 4), (2658, 4), (1557, 3), (2190, 5), (19, 3), (1962, 4), (2445, 5), 'h', 'í', (410, 5), 'a', 'l', (1912, 4), 'g', 'i', 'g', (1682, 6), (601, 5), (3125, 5), 'd', (1974, 4), (3922, 4), (4088, 4), (770, 5), 'c', (335, 4), (3649, 16), (3649, 7), (1626, 7), (341, 3), 'r', 'i', (1076, 3), (2746, 5), (114, 10), (151, 4), (2172, 6), (232, 3), (160, 6), (846, 3), (474, 5), (244, 6), (33, 3), ',', (1463, 4), (247, 3), (413, 4), (2218, 5), (1663, 3), (1532, 5), (11, 3), (3185, 3), (1689, 4), '¿', (922, 4), 'e', 'r', 'á', (3311, 3), (3823, 4), 'e', (3415, 4), (1069, 4), (401, 6), 'v', (3371, 3), (101, 4), (364, 3), (941, 7), (1617, 4), (248, 4), 't', (3678, 5), (975, 4), 'i', (2412, 5), (158, 3), 'r', 'o', 'd', (2899, 4), (193, 4), (422, 3), (303, 3), 'd', 'u', 'l', (224, 3), (1866, 5), (705, 5), 'd', (274, 3), (289, 5), 'v', 'o', 'z', ' ', 'h', 'u', 'm', 'i', 'l', (54, 3), 'y', (963, 3), 'n', 'd', (1531, 3), ':', ' ', \"'\", \"'\", 'Y', (595, 5), (48, 6), 's', 'o', (1372, 3), 'l', (327, 8), ' ', 'C', (807, 3), 'c', 'u', 'l', 'i', (1920, 3), (253, 4), (1952, 6), (868, 6), 'í', 'n', 's', (973, 3), (875, 3), (821, 3), 'd', (3326, 3), (815, 4), (196, 8), (242, 3), (2459, 4), (1759, 4), 'i', 'n', 'g', (39, 3), 'r', (2799, 3), (2722, 3), (48, 3), (93, 3), 'j', 'a', (2590, 5), (417, 4), (1297, 6), (399, 3), (2434, 4), (1174, 4), (632, 9), (981, 16), (981, 10), (364, 5), (2842, 4), (2244, 5), (2831, 3), (266, 4), (13, 3), (304, 8), (813, 4), (188, 4), 'v', (859, 4), (683, 3), (1693, 3), 'c', 'e', 'd', (619, 3), (3255, 4), (3038, 7), (28, 8), (3511, 4), 'd', (2872, 3), (294, 3), 's', (1643, 3), (298, 3), (647, 4), 'í', (905, 6), (177, 3), (73, 4), \"'\", \"'\", '?', '\\n', '¡', 'O', 'h', (595, 3), 'ó', (178, 6), 'h', 'o', 'l', 'g', 'ó', (2105, 4), (67, 3), (1213, 16), (1867, 8), 'h', 'u', (573, 3), (3212, 7), (1704, 4), (96, 3), (2440, 3), (2512, 6), (2844, 7), (39, 5), (54, 3), (2063, 4), (311, 6), 'd', (296, 3), (1384, 13), (939, 4), '!', (2177, 3), (1945, 3), (349, 4), (1932, 7), (131, 3), 'c', 'r', 'e', (18, 3), (4021, 7), (673, 3), 'l', 'u', 'g', (60, 3), (1245, 3), (2790, 3), (653, 4), (1336, 5), (1524, 6), (1011, 4), 'm', 'o', (227, 3), (355, 3), 'r', (356, 3), (246, 3), (2243, 5), 'y', (186, 6), (1301, 11), (134, 7), (932, 3), (82, 3), 't', 'i', 'e', 'm', (963, 3), (166, 3), (3096, 4), (1062, 7), (2577, 5), (3047, 5), (2792, 11), (372, 3), (55, 3), 'd', (3688, 4), (481, 4), (478, 6), (1654, 4), 'u', (783, 4), (2943, 3), (3546, 7), (2177, 3), (3193, 6), 'o', (3953, 3), (1468, 3), 'á', 'b', (427, 4), 'A', 'l', (490, 3), (158, 3), 'L', (1115, 3), (807, 3), (1968, 5), ' ', 'é', (1875, 4), (3044, 11), (812, 3), (811, 6), (290, 3), (23, 3), 't', 'í', 't', 'u', (2867, 6), (695, 6), (302, 6), (1084, 4), (2061, 9), (2685, 3), (3219, 3), (1270, 4), (1344, 4), (52, 3), (344, 7), (1321, 7), (1973, 3), 'd', 'i', 'j', (2768, 4), (2508, 5), (308, 9), (127, 4), (3196, 5), 'i', (2648, 5), (876, 5), (3325, 4), 'm', (978, 3), (600, 4), (3137, 4), (2289, 4), (2783, 4), (1668, 4), (4087, 5), (828, 8), (2141, 13), (266, 3), 'D', (906, 3), (2309, 3), (402, 6), 'T', 'o', 'b', (3023, 5), (1380, 8), (182, 3), 'n', 'a', 't', (2971, 3), (3220, 6), (31, 6), ';', (2514, 16), (412, 7), 'm', 'ú', 's', 'i', 'c', (1905, 5), (3542, 3), 'g', (127, 3), (2520, 16), (1866, 8), (2433, 10), 'd', 'e', (391, 4), (1988, 5), (466, 4), (342, 4), (291, 4), (1554, 4), 's', (538, 7), (1660, 6), '.']\n"
     ]
    },
    {
     "data": {
      "text/plain": [
       "True"
      ]
     },
     "execution_count": 20,
     "metadata": {},
     "output_type": "execute_result"
    }
   ],
   "source": [
    "tok = LZSS_encode(txt2,3,4095,16);\n",
    "print(tok);\n",
    "txt2 == LZSS_decode(tok)"
   ]
  },
  {
   "cell_type": "code",
   "execution_count": 21,
   "id": "c0d3934d",
   "metadata": {},
   "outputs": [
    {
     "name": "stdout",
     "output_type": "stream",
     "text": [
      "[(0, 'S'), (0, 'e'), (0, 't'), (0, 'z'), (2, ' '), (0, 'j'), (0, 'u'), (3, 'g'), (2, 's'), (0, ' '), (0, 'd'), (0, \"'\"), (7, 'n'), (10, 'j'), (7, 't'), (6, 'a'), (3, ' '), (0, 'm'), (2, 'n'), (0, 'g'), (19, ' '), (0, 'f'), (2, 't'), (20, 'e'), (10, 'd'), (12, 'u'), (0, 'n'), (10, 'p'), (19, 'j'), (0, 'a'), (3, '.')]\n"
     ]
    },
    {
     "data": {
      "text/plain": [
       "True"
      ]
     },
     "execution_count": 21,
     "metadata": {},
     "output_type": "execute_result"
    }
   ],
   "source": [
    "tok = LZ78_encode(txt1);\n",
    "print(tok);\n",
    "txt1 == LZ78_decode(tok)"
   ]
  },
  {
   "cell_type": "code",
   "execution_count": 22,
   "id": "ec559a41",
   "metadata": {},
   "outputs": [
    {
     "name": "stdout",
     "output_type": "stream",
     "text": [
      "[(0, 'E'), (0, 'n'), (0, ' '), (0, 'u'), (2, ' '), (0, 'l'), (4, 'g'), (0, 'a'), (0, 'r'), (3, 'd'), (0, 'e'), (3, 'l'), (8, ' '), (0, 'M'), (8, 'n'), (0, 'c'), (0, 'h'), (8, ','), (10, 'e'), (3, 'c'), (4, 'y'), (0, 'o'), (3, 'n'), (22, 'm'), (0, 'b'), (9, 'e'), (23, 'o'), (3, 'q'), (4, 'i'), (11, 'r'), (22, ' '), (8, 'c'), (22, 'r'), (0, 'd'), (8, 'r'), (0, 'm'), (11, ','), (27, ' '), (17, 'a'), (3, 'm'), (4, 'c'), (17, 'o'), (3, 't'), (0, 'i'), (11, 'm'), (0, 'p'), (31, 'q'), (4, 'e'), (3, 'v'), (44, 'v'), (0, 'í'), (13, 'u'), (5, 'h'), (44, 'd'), (8, 'l'), (0, 'g'), (31, 'd'), (11, ' '), (6, 'o'), (0, 's'), (19, ' '), (6, 'a'), (2, 'z'), (13, 'e'), (5, 'a'), (60, 't'), (44, 'l'), (6, 'e'), (9, 'o'), (0, ','), (3, 'a'), (34, 'a'), (9, 'g'), (13, 'a'), (2, 't'), (44, 'g'), (4, 'a'), (70, ' '), (69, 'c'), (51, 'n'), (3, 'f'), (62, 'c'), (31, 'y'), (3, 'g'), (55, 'g'), (31, 'c'), (33, 'r'), (11, 'd'), (33, '.'), (3, 'U'), (2, 'a'), (3, 'o'), (6, 'l'), (13, 'd'), (58, 'a'), (6, 'g'), (31, 'm'), (0, 'á'), (60, ' '), (0, 'v'), (32, 'a'), (28, 'u'), (58, 'c'), (35, 'n'), (30, 'o'), (78, 's'), (55, 'p'), (44, 'c'), (0, 'ó'), (5, 'l'), (8, 's'), (40, 'á'), (99, 'n'), (22, 'c'), (17, 'e'), (60, ','), (10, 'u'), (11, 'l'), (22, 's'), (3, 'y'), (102, 'e'), (25, 'r'), (15, 't'), (119, ' '), (59, 's'), (3, 's'), (98, 'b'), (8, 'd'), (119, ','), (12, 'a'), (75, 'e'), (0, 'j'), (111, ' '), (125, ' '), (100, 'i'), (30, 'n'), (11, 's'), (78, 'a'), (96, 'ú'), (5, 'p'), (55, 'o'), (36, 'i'), (2, 'o'), (61, 'a'), (0, 'ñ'), (128, 'i'), (34, 'u'), (9, 'a'), (12, 'o'), (99, 'd'), (24, 'i'), (2, 'g'), (129, ' '), (16, 'o'), (2, 's'), (4, 'm'), (51, 'a'), (110, 'a'), (99, 't'), (26, 's'), (3, 'p'), (35, 't'), (137, ' '), (34, 'e'), (126, 'u'), (3, 'h'), (32, 'i'), (11, 'n'), (72, '.'), (3, 'E'), (6, ' '), (160, 't'), (57, 'e'), (93, 'a'), (20, 'o'), (2, 'c'), (6, 'u'), (157, 'n'), (126, 'a'), (0, 'y'), (173, ' '), (100, 'e'), (62, 'r'), (0, 't'), (37, ' '), (16, 'a'), (6, 'z'), (133, 'd'), (58, 'v'), (118, 'l'), (4, 'd'), (31, 'p'), (35, 'a'), (130, 's'), (81, 'i'), (137, 't'), (111, ','), (175, 'n'), (165, 's'), (161, 'a'), (75, 'u'), (0, 'f'), (134, 'd'), (58, 'l'), (97, 'e'), (60, 'm'), (22, ','), (120, ' '), (203, 'í'), (188, 'e'), (3, 'e'), (75, 'r'), (137, 'e'), (36, 'a'), (91, ' '), (60, 'e'), (166, 'o'), (2, 'r'), (8, 'b'), (13, 'c'), (22, 'n'), (165, ' '), (182, 'l'), (59, 'r'), (51, ' '), (164, ' '), (59, ' '), (36, 'á'), (99, 'f'), (44, 'n'), (22, '.'), (3, 'T'), (168, 'í'), (64, 'n'), (222, 'c'), (111, 'a'), (3, 'u'), (215, 'a'), (214, ' '), (0, 'q'), (48, ' '), (46, 'a'), (60, 'a'), (25, 'a'), (61, 'l'), (124, 'c'), (77, 'r'), (168, 't'), (18, ' '), (180, ' '), (4, 'n'), (13, 's'), (22, 'b'), (9, 'i'), (215, 'q'), (241, 'n'), (31, 'l'), (68, 'g'), (219, 'a'), (71, ' '), (134, 'v'), (11, 'i'), (131, ','), (208, 'u'), (5, 'm'), (22, 'z'), (181, 'c'), (8, 'm'), (46, 'o'), (208, 'p'), (62, 'z'), (249, 'q'), (241, 'a'), (60, 'í'), (211, 'n'), (60, 'i'), (174, 'b'), (64, 'l'), (3, 'r'), (114, 'í'), (5, 'c'), (24, 'o'), (43, 'o'), (214, 'b'), (13, 'l'), (13, 'p'), (22, 'd'), (128, 'e'), (148, '.'), (3, 'F'), (254, 's'), (259, ' '), (62, ' '), (88, 'a'), (34, ' '), (226, 'n'), (48, 's'), (184, 'r'), (31, 'h'), (54, 'a'), (96, 'o'), (198, ' '), (134, 'c'), (230, 'c'), (48, 'n'), (184, 'a'), (71, 'ñ'), (119, ';'), (211, 'r'), (94, 'e'), (175, 'm'), (46, 'l'), (11, 'x'), (44, 'ó'), (5, 'r'), (11, 'c'), (44, 'a'), (106, 'e'), (154, ' '), (226, 'c'), (104, 'e'), (116, ' '), (168, 'j'), (4, 't'), (181, 'r'), (119, 't'), (69, ','), (84, 'r'), (15, ' '), (214, 'd'), (9, 'u'), (56, 'a'), (34, 'o'), (9, ' '), (250, 'a'), (142, 'g'), (181, 'l'), (220, 'a'), (0, 'z'), (8, '.'), (3, 'Q'), (29, 'e'), (26, 'n'), (19, 'c'), (44, 'r'), (121, ' '), (184, 'e'), (2, 'í'), (278, ' '), (60, 'o'), (122, 'e'), (143, 'm'), (351, ' '), (226, 'Q'), (29, 'j'), (128, 'a'), (78, 'o'), (341, 'u'), (137, 'a'), (72, ','), (346, 'e'), (5, 'e'), (66, 'o'), (166, 'a'), (335, 'l'), (56, 'u'), (215, 'd'), (44, 'f'), (30, 'e'), (176, 'i'), (234, ' '), (134, 'a'), (324, 'o'), (160, ' '), (240, 'u'), (58, 'd'), (196, 'e'), (20, 'a'), (350, ' '), (137, 'c'), (254, 'b'), (168, ';'), (71, 'u'), (2, 'q'), (48, ','), (161, 'o'), (334, 'c'), (221, 'j'), (11, 't'), (4, 'r'), (133, 'v'), (105, 's'), (51, 'm'), (67, 'e'), (322, 's'), (376, 'e'), (132, 'a'), (275, 't'), (168, 'd'), (30, ' '), (375, 'e'), (126, 'e'), (12, 'l'), (268, 'a'), (244, ' '), (0, 'Q'), (48, 'j'), (15, 'a'), (0, '.'), (3, 'P'), (105, ' '), (196, 'o'), (3, 'i'), (36, 'p'), (33, 't'), (286, 'o'), (319, 'a'), (23, 'u'), (196, 'r'), (86, 'u'), (248, 'o'), (0, ';'), (3, 'b'), (111, 't'), (13, 'q'), (241, 'e'), (158, ' '), (91, 'r'), (148, 'c'), (314, 'n'), (10, 'é'), (171, 'n'), (31, 's'), (58, 's'), (85, 'a'), (237, 'n'), (161, 'u'), (75, 'o'), (245, 'a'), (49, 'e'), (9, 'd'), (128, '.'), (0, '\\n'), (1, 's'), (78, 'p'), (297, ','), (61, 's'), (219, 'e'), (334, 'q'), (426, 's'), (347, ' '), (350, 'b'), (26, 'd'), (108, 'h'), (299, 'i'), (72, 'l'), (56, 'o'), (78, 'l'), (124, 'r'), (8, 't'), (124, 'q'), (450, 't'), (292, 'o'), (16, 'i'), (119, 'o'), (78, 'q'), (426, 'r'), (329, 'l'), (124, 'm'), (98, 's'), (19, 'l'), (307, 'o'), (318, ' '), (72, 'b'), (74, ' '), (68, 'e'), (334, 'l'), (44, 'b'), (69, 's'), (61, 'c'), (259, 'l'), (68, 'r'), (157, 's'), (78, 'c'), (221, ' '), (306, 'n'), (306, ' '), (8, 'f'), (108, 'i'), (109, 'n'), (208, 'g'), (4, 's'), (184, 'o'), (466, 'u'), (58, 'o'), (6, 'v'), (54, 'ó'), (378, 's'), (44, ' '), (226, 't'), (287, 'o'), (437, 'n'), (493, ' '), (118, ' '), (11, 'j'), (30, 'c'), (489, 'o'), (439, ' '), (186, 'z'), (249, 'y'), (383, 'n'), (130, ' '), (128, 'm'), (230, 'i'), (66, 'r'), (167, 'ó'), (5, 'd'), (434, 'u'), (364, 'c'), (44, 'e'), (2, 'd'), (340, ' '), (0, 'Y'), (403, 'e'), (56, 'ó'), (260, 't'), (123, 'o'), (235, 'u'), (254, 'o'), (276, 'd'), (128, ' '), (250, 'd'), (359, 't'), (230, 'o'), (275, ' '), (412, ','), (346, 'v'), (399, 'i'), (109, ' '), (36, 'u'), (16, 'h'), (133, 'h'), (15, 'e'), (332, 's'), (61, 't'), (520, 'r'), (148, ' '), (226, 's'), (45, 'b'), (148, 'd'), (390, 'a'), (200, 'r'), (220, 'o'), (414, 'r'), (35, ' '), (6, 'i'), (122, 'o'), (150, 'e'), (378, 'b'), (55, 'l'), (30, 'í'), (133, 'e'), (5, 'q'), (241, 'l'), (11, 'e'), (9, ','), (208, 'a'), (274, ','), (524, 'v'), (539, 'a'), (235, 'a'), (243, ' '), (493, 'd'), (246, 'u'), (527, 's'), (437, 'd'), (299, 'a'), (25, 'e'), (334, 'd'), (190, 'o'), (60, ';'), (208, 'd'), (58, 't'), (501, 's'), (78, 'n'), (230, 'g'), (251, 'o'), (99, 'l'), (58, 'p'), (35, 'e'), (16, 'í'), (329, 't'), (329, 'b'), (520, 'n'), (311, 'o'), (149, 's'), (346, 'c'), (24, 'p'), (492, 'o'), (211, 'l'), (81, 'a'), (36, 'o'), (379, 'F'), (118, 'i'), (464, 'a'), (143, ' '), (226, 'S'), (67, 'v'), (249, 'p'), (33, 'q'), (564, 'a'), (20, 'l'), (35, 'i'), (72, 'd'), (447, 'u'), (161, 'r'), (119, 'a'), (567, 'q'), (48, 'l'), (62, 's'), (398, 'r'), (108, 'a'), (72, 's'), (279, 'a'), (339, 'o'), (2, 'e'), (99, 's'), (21, 'a'), (588, 'e'), (552, 'e'), (591, 'a'), (517, 'e'), (161, 'e'), (9, 'l'), (197, ' '), (250, 'm'), (470, ' '), (16, 'u'), (15, 'd'), (257, 'l'), (11, 'g'), (292, 'a'), (12, 'e'), (400, 'a'), (401, 'l'), (134, 'r'), (11, 'q'), (342, 'b'), (479, ' '), (250, 'c'), (162, 'a'), (558, ' '), (164, 's'), (488, 'í'), (153, 'd'), (221, 'd'), (58, 'e'), (265, 'u'), (541, 'a'), (99, 'p'), (162, 'e'), (99, 'h'), (560, 'a'), (405, 'e'), (60, 'c'), (254, 't'), (22, ':'), (3, 'L'), (13, 'r'), (8, 'z'), (490, ' '), (226, 'l'), (252, 'i'), (218, 'a'), (339, 'ó'), (563, 'u'), (95, ' '), (142, ' '), (148, 'z'), (671, 's'), (58, 'h'), (32, 'e'), (78, 'd'), (583, 'a'), (171, 'm'), (543, 'r'), (13, 'm'), (499, 'r'), (670, 'ó'), (362, 'n'), (202, 'l'), (8, 'q'), (48, 'c'), (185, 'q'), (241, 'c'), (485, 'r'), (689, 'n'), (40, 'e'), (121, 'j'), (337, 'a'), (49, 'u'), (419, 'a'), (81, 'e'), (9, 'm'), (119, 'u'), (289, ' '), (523, ' '), (306, 'm'), (25, 'i'), (0, 'é'), (281, 'u'), (639, 'o'), (643, 'í'), (8, ':'), (3, '.'), (409, '.'), (372, 'l'), (493, 's'), (20, 'i'), (118, 'o'), (99, 'q'), (241, 'd'), (189, 'u'), (702, ' '), (34, 'i'), (135, 'n'), (300, 'd'), (10, 'i'), (726, 'a'), (36, 'e'), (131, ' '), (154, 'n'), (194, ' '), (419, 'e'), (174, 's'), (92, 's'), (81, 'o'), (9, 't'), (368, 'i'), (186, 'n'), (78, 'y'), (736, ' '), (39, 'c'), (168, ' '), (730, 'r'), (316, 'e'), (333, 'r'), (310, 'l'), (698, 'r'), (316, 'i'), (142, 'e'), (438, ' '), (401, ' '), (745, 'e'), (16, 'e'), (512, 'v'), (297, 't'), (547, 'g'), (148, 'n'), (164, 'z'), (340, '\\n'), (0, 'C'), (485, 'e'), (66, 'a'), (99, 'r'), (670, 'o'), (626, 's'), (633, 'r'), (34, 'í'), (349, 'p'), (253, 'r'), (103, 'a'), (244, 'l'), (482, 'o'), (600, ' '), (132, 'u'), (507, ','), (582, 'e'), (60, 'v'), (118, 'á'), (244, 's'), (589, 'o'), (334, 'e'), (131, 'n'), (164, 'r'), (620, ' '), (532, 'e'), (216, 'n'), (298, 'a'), (145, 'a'), (634, 'e'), (99, 'e'), (171, 's'), (248, 'i'), (333, ','), (346, 'n'), (433, 'e'), (149, ' '), (243, 'c'), (193, ' '), (2, 'i'), (733, 'e'), (784, 'd'), (546, 'a'), (775, 'm'), (137, 'm'), (31, 'A'), (291, 't'), (109, 't'), (118, 'e'), (395, 'i'), (279, 'e'), (60, 'u'), (464, 't'), (800, 'p'), (800, 's'), (109, 'l'), (31, 'e'), (93, 'o'), (409, ' '), (0, 'N'), (818, 's'), (306, 'b'), (687, 'u'), (250, 'b'), (594, ' '), (732, ' '), (786, 'h'), (30, 'i'), (623, ' '), (753, 'd'), (485, 'B'), (604, 'a'), (348, 's'), (10, 'a'), (405, 'y'), (812, 'c'), (11, 'b'), (157, ','), (386, 'r'), (753, 's'), (58, 'i'), (214, 'g'), (230, 'a'), (405, 'q'), (385, ' '), (269, 'r'), (328, 'a'), (521, 'e'), (99, 'm'), (8, 'e'), (515, 'o'), (721, 'u'), (204, 'e'), (166, 'u'), (709, 'e'), (788, ' '), (638, 'r'), (128, 'o'), (585, 'o'), (19, 'j'), (35, 'í'), (310, ' '), (347, 'n'), (400, 'e'), (171, 'r'), (326, 'r'), (83, ' '), (573, 'o'), (775, 'c'), (48, 'r'), (269, ' '), (93, 'e'), (606, 'd'), (103, 'i'), (186, 't'), (254, 'c'), (163, 'y'), (402, 'ñ'), (55, 'e'), (60, '.'), (410, 'e'), (327, ' '), (827, 't'), (501, ','), (71, 'l'), (259, 'b'), (371, 's'), (4, ' '), (8, 'u'), (493, 'r'), (71, 'q'), (619, ' '), (101, 'b'), (555, 's'), (889, 'l'), (478, 'r'), (86, 'o'), (427, 'p'), (69, 'm'), (359, ' '), (226, 'a'), (645, 'l'), (13, 'i'), (91, 'c'), (887, 'l'), (95, 'v'), (248, 'u'), (148, ','), (208, 'm'), (41, 'h'), (391, 'e'), (755, 's'), (643, ' '), (726, 'o'), (19, 's'), (11, 'o'), (545, 'o'), (214, 'r'), (512, 'p'), (177, 'm'), (13, 'y'), (835, 'l'), (68, ' '), (202, 'i'), (65, 'l'), (161, 'i'), (396, ' '), (293, 'l'), (389, 'r'), (249, 'c'), (282, ' '), (560, 'í'), (402, ' '), (46, 'r'), (24, 'e'), (347, ';'), (208, 's'), (230, ' '), (147, 'd'), (74, 'l'), (366, 'n'), (285, 'o'), (166, 'i'), (464, 'e'), (909, ' '), (335, 'u'), (5, 's'), (55, 'i'), (30, 'a'), (302, 'e'), (819, ','), (126, 'i'), (92, 't'), (649, 'm'), (8, 'y'), (33, 'e'), (99, 'y'), (198, 't'), (230, 'u'), (124, 'p'), (168, 's'), (268, 'i'), (421, 's'), (38, 's'), (204, 'o'), (211, 's'), (891, 'b'), (193, 'n'), (820, 'T'), (4, 'v'), (97, 'u'), (659, 's'), (440, 'c'), (163, 'c'), (598, 'e'), (864, 'c'), (317, ' '), (827, 'e'), (171, 'c'), (551, ' '), (548, 'u'), (12, 'u'), (332, 'r'), (3, '-'), (753, 'e'), (547, 'h'), (24, 'b'), (26, ' '), (333, 'c'), (493, ','), (848, 'd'), (77, 'd'), (818, 'n'), (3, 'S'), (76, 'ü'), (168, 'z'), (8, '-'), (106, 'o'), (353, 'c'), (4, 'á'), (171, 'h'), (219, 'í'), (673, 'd'), (205, 'j'), (33, ' '), (186, 'b'), (560, 'e'), (69, ':'), (410, 'a'), (6, 'm'), (561, 'n'), (61, 'I'), (152, 'a'), (62, 't'), (30, 'r'), (13, 'o'), (3, 'A'), (330, 'í'), (652, 'G'), (890, 'l'), (8, ';'), (40, 'a'), (850, 'a'), (213, ' '), (821, 'i'), (154, 'l'), (470, ','), (423, 'a'), (9, 'b'), (411, 'd'), (504, 'm'), (806, 'o'), (437, 'e'), (25, 'l'), (207, ' '), (164, 'c'), (157, ' '), (753, 'n'), (586, 'u'), (606, 'l'), (258, 'a'), (405, 'a'), (171, 'C'), (481, 'l'), (1031, 'e'), (171, 'F'), (838, 'o'), (741, ' '), (841, 'i'), (886, 'g'), (587, ' '), (216, ' '), (924, 'p'), (287, 'í'), (553, 'm'), (242, 'r'), (35, ','), (309, 'a'), (10, 'o'), (5, 'G'), (55, 'a'), (33, ','), (166, 'e'), (704, 'a'), (874, 'e'), (1018, 'm'), (128, 'í'), (1020, 'a'), (4, 'l'), (609, 'o'), (9, 'q'), (241, 't'), (233, 'a'), (40, 'u'), (335, 'c'), (282, 'd'), (356, ' '), (732, 'd'), (489, 'ó'), (140, 'a'), (547, 't'), (501, ';'), (796, 'o'), (1059, ' '), (1007, 'a'), (873, 'r'), (205, 'l'), (230, 'd'), (479, 'o'), (585, 'i'), (43, 'a'), (110, 'l'), (33, 'ó'), (281, 'o'), (602, ' '), (813, ' '), (115, 'r'), (214, 'n'), (1036, 'y'), (361, 'n'), (798, 'd'), (204, 'a'), (49, 'a'), (68, 'n'), (184, 'í'), (13, 'n'), (257, 'e'), (413, 'b'), (371, 'z'), (8, 'g'), (761, 'E'), (315, 'e'), (350, 'l'), (41, 'i'), (490, ','), (3, 'é'), (793, 'e'), (275, 'f'), (148, 's'), (16, 'ó'), (1092, 'n'), (503, 'e'), (948, 'u'), (643, 't'), (551, ','), (346, 's'), (854, ' '), (242, 's'), (259, 'n'), (733, 'n'), (114, 'h'), (163, 'l'), (11, 'y'), (399, 'o'), (480, 'l'), (35, 'o'), (535, 'c'), (183, 'o'), (1049, 'l'), (124, 'd'), (483, ' '), (500, 'u'), (1030, 'i'), (994, ' '), (184, 'u'), (1144, 'o'), (422, ' '), (335, 's'), (51, ','), (471, ' '), (269, 'c'), (57, 'o'), (704, 'i'), (334, 'y'), (1151, 'm'), (911, 'o'), (643, 'e'), (566, ' '), (1053, 'l'), (434, 'e'), (1121, ' '), (504, 'c'), (810, 'b'), (883, 'd'), (58, 'm'), (686, 'a'), (537, 'i'), (606, 'a'), (768, 'd'), (865, 'l'), (3, 'j'), (29, 'c'), (44, 'o'), (820, 'L'), (1105, 'ó'), (216, 'l'), (1103, ' '), (202, 'a'), (75, 'a'), (274, 'a'), (918, 'd'), (31, 'a'), (903, 'o'), (346, 'l'), (11, 'í'), (371, 'l'), (124, 'l'), (897, 'o'), (322, 'a'), (274, ' '), (226, 'e'), (176, 'a'), (1180, 'm'), (964, ' '), (154, 'm'), (181, 'p'), (399, 'e'), (370, 'a'), (322, 'b'), (460, 'a'), (735, ','), (916, 'a'), (202, 'í'), (153, 'h'), (829, 'd'), (635, 'r'), (647, 'u'), (520, 'b'), (479, ','), (71, 'm'), (957, 's'), (78, 't'), (33, 'm'), (248, 'a'), (958, ' '), (725, 's'), (1057, 'a'), (347, 's'), (413, 'm'), (269, 's'), (478, 'l'), (137, ';'), (567, 's'), (248, 'ó'), (1177, 'e'), (545, 'a'), (685, 'o'), (333, ' '), (744, 'l'), (904, 'm'), (1111, 'i'), (905, 'i'), (671, 'q'), (467, 'a'), (440, 'r'), (614, ' '), (573, 'a'), (892, 'u'), (190, 'a'), (112, 'q'), (29, 'n'), (863, 'a'), (903, 'a'), (627, 'o'), (91, 'd'), (133, 's'), (22, 'ñ'), (356, 's'), (413, 'n'), (182, 'n'), (464, 'o'), (767, ' '), (753, 'l'), (1186, 'a'), (494, 'e'), (552, 'a'), (1117, 'l'), (38, 'h'), (1003, 'a'), (954, 'r'), (13, 'h'), (44, 's'), (891, 'i'), (687, 'á'), (99, 'c'), (546, 't'), (371, 'e'), (685, 'u'), (521, 'o'), (820, 'D'), (316, 'í'), (13, 'é'), (171, 'q'), (426, 'l'), (3, 'C'), (54, ' '), (0, 'R'), (21, ' '), (0, 'D'), (157, 'z'), (364, 'b'), (1038, 's'), (54, 'o'), (1075, 'y'), (423, 'u'), (744, 'c'), (1045, 'e'), (883, 'p'), (411, 'q'), (256, 'o'), (43, 'e'), (348, 'a'), (537, 'e'), (387, 'o'), (362, 'l'), (1276, 'a'), (773, 'l'), (1046, ' '), (293, 'A'), (441, 'i'), (248, 'e'), (170, 's'), (242, 'd'), (272, 'u'), (928, 's'), (817, 'o'), (436, ' '), (26, 'v'), (710, 's'), (1282, 'í'), (286, 'a'), (738, 'i'), (1229, 'p'), (1006, 'm'), (88, 'i'), (1153, 's'), (195, 'e'), (649, 'y'), (916, 'c'), (24, 'u'), (91, 'l'), (163, 'g'), (76, 'a'), (131, 's'), (820, 'M'), (505, 'o'), (783, 's'), (823, 'a'), (302, 'B'), (136, 'a'), (441, 'o'), (1151, 'C'), (35, 'p'), (1174, ','), (840, 'q'), (426, 'n'), (3, 'R'), (221, 'c'), (137, 'v'), (1008, 's'), (1311, 'a'), (1075, 'e'), (738, 'o'), (260, 'R'), (22, 'l'), (34, 'á'), (1296, ' '), (168, 'c'), (123, 'a'), (795, ' '), (100, 'a'), (556, 'é'), (1270, 's'), (928, 'l'), (904, 'n'), (147, 's'), (298, 'i'), (863, 'H'), (710, 'r'), (638, 'l'), (137, ','), (20, 'u'), (712, ' '), (8, 'h'), (22, 'g'), (570, ' '), (0, 'A'), (131, 'o'), (78, 'e'), (1002, 'i'), (132, 'o'), (508, 'T'), (546, 'r'), (249, 'e'), (212, 'e'), (596, ' '), (122, 'a'), (625, 's'), (1271, 'e'), (631, ' '), (540, 'c'), (42, ' '), (856, 'n'), (1151, 'g'), (1324, 'n'), (451, 'M'), (33, 'g'), (123, 'e'), (445, 'o'), (1072, 'u'), (185, 'c'), (485, 's'), (400, 'd'), (95, 'q'), (619, 'l'), (13, 'g'), (168, 'e'), (429, 'i'), (671, 'g'), (1386, 't'), (11, 'a'), (1256, ' '), (869, 's'), (126, 'o'), (948, 'o'), (578, 'r'), (709, 'o'), (1216, 'd'), (380, 'o'), (730, 'd'), (1284, 's'), (78, 'é'), (793, 'o'), (227, 'e'), (547, 'a'), (1179, 'b'), (924, 'y'), (423, 'i'), (1287, 'r'), (317, 'd'), (231, ' '), (0, 'P'), (105, ','), (1405, 'b'), (989, 't'), (584, ','), (967, 't'), (292, 'b'), (826, 'c'), (485, 'R'), (262, 'n'), (55, 'd'), (1141, 'e'), (3, 'M'), (221, 't'), (55, 'b'), (98, 'n'), (1049, 'm'), (637, 'c'), (77, 'n'), (1229, 'l'), (189, 'e'), (1283, 'a'), (556, 'r'), (615, ' '), (186, 's'), (184, 'i'), (819, ' '), (250, 'r'), (253, 'a'), (387, 'u'), (575, ' '), (493, 'p'), (259, ','), (208, 'c'), (1441, 'd'), (1145, 'a'), (873, 'n'), (226, 'r'), (253, 'ó'), (1239, 'e'), (171, 'í'), (333, 'l'), (181, 'M'), (1365, 'o'), (239, 'q'), (1235, ' '), (869, ' '), (226, 'o'), (883, 's'), (641, 'ú'), (517, 'i'), (755, ' '), (1097, 'h'), (1263, 't'), (33, 'i'), (522, 'D'), (804, ' '), (710, 'l'), (1390, 'r'), (835, 'r'), (436, 'a'), (1023, 'n'), (267, 'o'), (913, ' '), (55, ' '), (789, 'i'), (747, ' '), (226, 'G'), (1062, 'l'), (1116, ' '), (1487, 'a'), (1467, 'u'), (583, 'e'), (1293, ','), (567, 'u'), (65, ' '), (1097, 's'), (771, 'i'), (367, 'e'), (307, 'a'), (725, 'd'), (551, '.'), (443, 'E'), (362, 'f'), (389, 'o'), (78, 'r'), (45, 'a'), (306, 'd'), (83, 'a'), (222, 'j'), (1173, 'i'), (1036, 'v'), (534, ' '), (94, 'a'), (783, 'n'), (805, 'á'), (792, 's'), (789, 'ñ'), (192, 'e'), (155, 'a'), (751, 'n'), (503, 'q'), (241, 'j'), (268, 'á'), (150, 'i'), (257, 'o'), (319, 'e'), (1348, 'm'), (251, 'd'), (22, ';'), (208, 'f'), (241, 'q'), (564, 'e'), (630, 'c'), (314, ' '), (732, 'v'), (168, 'i'), (1035, 'e'), (208, 'n'), (746, 's'), (613, 'o'), (138, 's'), (225, 'p'), (800, 'e'), (171, 'a'), (156, 'e'), (752, 'd'), (518, ' '), (42, 'n'), (547, 'c'), (932, 'p'), (1546, 'l'), (402, 'r'), (135, 'c'), (1174, ' '), (982, ' '), (26, 'p'), (0, 'ú'), (1035, 'i'), (186, ','), (519, 'e'), (9, 's'), (772, 'b'), (1008, 'r'), (1183, 'n'), (72, 'n'), (347, ','), (208, 'i'), (1564, 'e'), (840, ' '), (1469, 'e'), (1269, 'n'), (1229, 'c'), (1393, 'u'), (99, 'a'), (1065, 's'), (1456, 'a'), (1298, 'o'), (260, 'b'), (492, 'c'), (555, 'l'), (133, 'a'), (1251, 't'), (551, 's'), (567, ' '), (505, 'e'), (9, 'c'), (44, 't'), (35, 's'), (657, 'n'), (283, 'd'), (1183, 'q'), (1396, 'o'), (346, 'é'), (1002, 'a'), (25, 'í'), (285, 'e'), (51, 'd'), (47, 'u'), (966, 's'), (559, 'a'), (1087, 'o'), (1577, 'n'), (1568, 't'), (163, 's'), (657, 'j'), (506, 'i'), (1329, 'n'), (683, 'e'), (60, 'h'), (167, 'e'), (1270, ' '), (1469, 'g'), (710, 'n'), (1299, 'a'), (56, 'r'), (8, 'v'), (1335, ' '), (250, 'p'), (221, 'i'), (1616, 'd'), (119, 'e'), (535, 'o'), (1447, 'i'), (221, 'e'), (1216, 'p'), (604, 'g'), (649, 'd'), (656, 'e'), (138, 'c'), (219, 'á'), (1270, 'l'), (153, 'c'), (771, 'a'), (1053, 'e'), (347, 'r'), (606, 'n'), (988, 'r'), (58, 'y'), (601, 'm'), (522, 'I'), (843, 'i'), (2, 'á'), (781, 'e'), (775, 'p'), (771, 'e'), (120, 'a'), (175, 'r'), (221, 'a'), (1314, 'o'), (783, 'l'), (1104, 'l'), (1006, 'd'), (1550, 'b'), (679, 'o'), (1481, ' '), (227, 'm'), (168, 'o'), (322, 'd'), (504, 'i'), (414, 'e'), (529, ' '), (226, 'T'), (148, 'p'), (1263, 'o'), (521, 'a'), (1148, 'y'), (71, 's'), (1150, ' '), (979, 's'), (718, ' '), (486, ' '), (1111, 'r'), (356, 'b'), (68, 's'), (633, 'n'), (243, 'm'), (594, 't'), (153, 'l'), (68, 'v'), (859, ' '), (164, 'l'), (1428, 'r'), (8, 'ñ'), (31, 'g'), (492, 't'), (1601, 'e'), (535, 'e'), (819, 's'), (402, 'n'), (1106, 'a'), (473, 'd'), (1557, 'p'), (254, 'e'), (572, 'a'), (386, 'n'), (865, 'n'), (211, 'f'), (1507, ' '), (227, 'q'), (722, 'e'), (216, 'a'), (244, '.'), (443, 'Y'), (798, 'p'), (254, 'm'), (1290, 'u'), (681, 'i'), (625, ' '), (202, 'u'), (204, 'i'), (414, 'i'), (555, 'u'), (91, 's'), (71, 'r'), (214, 's'), (346, 'h'), (1260, 'n'), (953, 'd'), (181, 's'), (492, ' '), (709, 's'), (219, 'u'), (720, 's'), (1256, ','), (283, 'm'), (1249, ' '), (1470, 'r'), (80, ' '), (250, 'l'), (1105, 'a'), (652, 'm'), (22, 'h'), (1036, 'l'), (305, 'g'), (124, 's'), (76, 'l'), (124, 'h'), (1260, ' '), (986, 's'), (1610, ' '), (46, 'u'), (196, 'a'), (1216, 'o'), (496, 'i'), (614, 'a'), (792, 'n'), (1308, 'r'), (304, 'ó'), (2, '.'), (668, 'i'), (1714, 'ó'), (786, 'y'), (71, 'd'), (369, 'z'), (817, 'a'), (588, 'o'), (698, 'j'), (1006, 'q'), (241, 'p'), (191, 'o'), (445, 'e'), (69, ' '), (135, 'o'), (346, 't'), (1074, 'n'), (1483, ' '), (1618, 'a'), (5, 'f'), (55, 't'), (510, ' '), (950, ' '), (1039, 'o'), (1292, 'n'), (178, ' '), (755, 'l'), (1078, 'd'), (1592, 'c'), (8, 'j'), (185, 's'), (1515, 'm'), (87, 'i'), (680, 'i'), (414, 'l'), (11, ';'), (1023, 's'), (260, 'e'), (363, ' '), (813, 'p'), (556, 'ó'), (222, 'i'), (521, 'u'), (515, 'i'), (1071, 'r'), (831, 'e'), (378, 'r'), (493, 'n'), (163, 'h'), (44, 'z'), (31, 'u'), (265, 'o'), (1229, 'd'), (1166, 'e'), (725, 'a'), (20, 'e'), (62, 'd'), (1305, 'e'), (1370, 'n'), (186, 'j'), (1078, 'c'), (763, 'l'), (40, 'o'), (9, 'r'), (430, ','), (519, 'í'), (329, 'u'), (238, 'p'), (613, 'e'), (1199, ' '), (320, 'e'), (1808, 'a'), (398, 'e'), (706, 'E'), (99, 'v'), (30, 'd'), (531, 'q'), (1762, 'a'), (547, 'p'), (69, 'b'), (895, 'i'), (1085, 'f'), (871, 't'), (1641, ' '), (269, 'd'), (1038, 'e'), (764, 'r'), (886, ' '), (1696, 's'), (457, ' '), (226, 'u'), (215, 'c'), (911, 'i'), (174, 'd'), (249, 's'), (32, 'ó'), (222, 'e'), (60, 'p'), (1078, 'y'), (914, 'd'), (1557, 'd'), (124, 'g'), (1346, 'p'), (1362, ' '), (650, 'o'), (1348, 'p'), (1708, 'e'), (1765, 'y'), (535, 'u'), (140, 'u'), (1549, 'e'), (1612, 'i'), (1711, 'l'), (1689, ' '), (39, 'b'), (1038, 'h'), (316, 'h'), (1145, 'u'), (215, 's'), (1509, 'n'), (1022, ' '), (250, 'n'), (173, 'j'), (539, 'd'), (589, 'a'), (26, 'c'), (30, 'l'), (1166, 'a'), (171, 'l'), (13, 'f'), (167, 'l'), (727, ' '), (827, 'q'), (611, ' '), (1866, 'í'), (1262, 'e'), (541, 'o'), (633, 'd'), (766, 's'), (741, ','), (1572, 'a'), (216, 'g'), (551, 'r'), (1053, 'd'), (377, ' '), (46, 'e'), (556, 'g'), (883, 'l'), (13, 't'), (33, 'n'), (1367, 'h'), (682, 'r'), (61, 'n'), (48, 'v'), (1036, 'p'), (1622, 'é'), (1634, 'e'), (1483, 's'), (1029, 'r'), (1120, ' '), (226, 'h'), (1374, 'o'), (1572, 'd'), (396, 'n'), (298, 'o'), (1611, ' '), (306, 'l'), (1484, 'e'), (547, 'q'), (241, 'é'), (1274, 'u'), (88, 'ó'), (179, 't'), (1263, 'f'), (1868, 'o'), (1446, 'f'), (415, 'a'), (68, 'z'), (1872, 'y'), (106, 'i'), (676, 'e'), (26, 'r'), (1563, 'r'), (418, 'e'), (1352, ' '), (313, 'p'), (829, 'e'), (1821, 'd'), (1240, ','), (512, 'd'), (44, 'p'), (324, 'ó'), (208, 't'), (971, 'o'), (1572, 'c'), (118, 'a'), (72, ' '), (925, 'n'), (51, 's'), (44, 'm'), (863, 'e'), (1193, 'j'), (11, '.'), (443, 'F'), (564, 'u'), (641, 'o'), (260, 'v'), (400, 's'), (889, 'r'), (280, 'n'), (1891, ' '), (890, 'n'), (753, 't'), (1074, ' '), (228, 's'), (1363, 'a'), (1344, 's'), (346, 'u'), (1113, 'a'), (171, 'y'), (112, 's'), (1092, 'c'), (39, 's'), (361, 'l'), (1603, 'l'), (227, 'd'), (58, 'G'), (1627, 'l'), (1809, ' '), (486, 't'), (156, ' '), (1897, 'l'), (556, 's'), (211, 't'), (736, 's'), (1881, 'u'), (1590, ','), (914, 'p'), (590, 'c'), (1537, 'q'), (256, 'i'), (775, 'B'), (41, 'é'), (1179, 'l'), (181, 'A'), (68, 'j'), (639, 'r'), (31, 'n'), (499, 'B'), (219, 'i'), (316, 'a'), (775, 'd'), (504, 'C'), (1277, 'c'), (485, 'é'), (1118, ' '), (76, 'u'), (1062, 'b'), (15, '.'), (1276, 'u'), (460, 'r'), (57, 'í'), (1247, 'e'), (1989, 'a'), (243, 'r'), (763, 'n'), (1220, 'a'), (56, 'i'), (428, ' '), (375, 'é'), (27, 'm'), (353, 'l'), (782, 'n'), (34, 'r'), (157, ';'), (1336, 'u'), (1782, 'e'), (56, 'ú'), (948, 'e'), (344, 'í'), (1273, 'l'), (260, 's'), (225, 'm'), (1033, ','), (38, 'e'), (547, 'r'), (697, ' '), (753, 'c'), (1045, 'o'), (480, 'a'), (1298, 'e'), (1765, 't'), (329, 'f'), (268, 'o'), (350, ','), (1944, 'a'), (5, 'b'), (305, 'o'), (1258, ' '), (847, ' '), (568, ' '), (196, 'u'), (135, 'e'), (1053, 's'), (939, 'n'), (1640, 'e'), (198, 'o'), (464, 'd'), (1532, ' '), (335, 'n'), (2052, 'p'), (79, 'u'), (148, 'b'), (74, 'c'), (1077, 'á'), (1571, 'l'), (928, 'm'), (1167, ' '), (1797, 'c'), (183, 'a'), (1053, 'q'), (29, 'é'), (53, 'a'), (1598, 'a'), (1721, 'o'), (138, 'n'), (1219, ' '), (753, 'f'), (297, 'e'), (2041, 'b'), (1566, 'o'), (71, 'n'), (1606, 'e'), (1140, 'o'), (361, 'r'), (234, 't'), (1339, 'e'), (581, ' '), (1744, 'e'), (1519, 't'), (292, 'm'), (1279, 'p'), (757, 'o'), (535, 'r'), (2038, 'q'), (846, 'm'), (191, 'a'), (1614, 's'), (889, 's'), (11, 'ñ'), (1006, 'e'), (764, 'd'), (1036, 'm'), (2098, 's'), (58, 'é'), (171, 't'), (268, 'b'), (44, 'é'), (1348, 'n'), (2057, ','), (208, 'l'), (103, 'o'), (1378, 's'), (58, 'f'), (2045, 's'), (868, 'd'), (657, 's'), (298, 'u'), (1135, ','), (595, ' '), (1538, 'e'), (1293, ' '), (285, 'a'), (1935, 'v'), (1017, 'r'), (164, 'n'), (567, 'l'), (2125, 'o'), (211, 'j'), (1609, 'c'), (1557, 'q'), (241, 'y'), (286, 'r'), (22, 'f'), (359, 'b'), (522, 'Y'), (1670, 'í'), (1611, 's'), (1744, 'é'), (1734, 'u'), (1888, 's'), (2022, 'b'), (374, 'q'), (241, 'f'), (1214, 'ó'), (78, 'b'), (87, 'ó'), (208, 'q'), (29, 't'), (109, ','), (1502, 'd'), (314, ','), (916, 'h'), (1801, 'o'), (1944, 'o'), (9, 'n'), (1902, 'a'), (755, 'r'), (535, 's'), (889, 'm'), (45, 'o'), (254, 'a'), (211, ' '), (1951, 'a'), (2019, 'n'), (516, 'n'), (138, 'l'), (195, 'n'), (914, 'v'), (1515, 'a'), (403, 'a'), (919, ' '), (1278, 'o'), (464, 'n'), (1389, ':'), (2143, 'r'), (185, 'a'), (222, 'p'), (1990, 'e'), (1159, 'a'), (6, 't'), (1036, 's'), (221, 'o'), (1859, ' '), (276, 'g'), (801, 'f'), (622, 't'), (50, 'o'), (245, 'o'), (1719, 'a'), (2075, ' '), (530, 'o'), (1967, 'n'), (1229, 'f'), (241, 'r'), (1961, ','), (2083, 't'), (163, 'd'), (966, ' '), (753, 'a'), (42, 'r'), (64, 'r'), (1980, 'e'), (1416, 'n'), (2078, 'y'), (616, 'i'), (745, 'o'), (1182, 'o'), (1759, 's'), (279, 'o'), (2175, 'e'), (558, 'l'), (1075, 'n'), (333, '.'), (443, 'P'), (2094, ' '), (352, 'b'), (26, ','), (2047, 'n'), (2033, 'u'), (84, 'u'), (363, ','), (2221, ' '), (1086, 'l'), (59, ','), (102, 'i'), (379, 'p'), (221, 'é'), (2067, 'e'), (2033, 'í'), (40, 'i'), (206, 'o'), (1049, 'e'), (362, 's'), (451, 'p'), (962, 'a'), (1523, 't'), (57, 'u'), (9, 'ó'), (1261, 'o'), (99, 'o'), (1888, ' '), (769, 'a'), (322, 'y'), (1839, 'c'), (219, 'o'), (934, 'v'), (2171, ' '), (174, 'm'), (555, 'd'), (485, 'Q'), (355, 'o'), (937, ' '), (226, 'd'), (1631, ' '), (0, '-'), (1196, 'o'), (121, 'd'), (94, 'i'), (1888, '-'), (1728, 'a'), (69, 'n'), (92, 'c'), (111, 'i'), (671, 'l'), (124, 'a'), (373, 'r'), (2199, 'e'), (764, ' '), (1674, 'v'), (1827, 'a'), (785, 'a'), (944, 's'), (1264, 'a'), (121, ','), (953, 'n'), (117, 'd'), (1846, 'e'), (19, 'b'), (1038, 'd'), (204, 'l'), (404, 'r'), (358, 'i'), (397, 'd'), (1773, 'n'), (31, 'Q'), (297, 'a'), (360, ' '), (2258, ' '), (22, 't'), (649, 'q'), (29, 's'), (546, 'o'), (632, 'c'), (345, '.'), (882, 'r'), (1036, 'a'), (154, 'r'), (1347, 'n'), (333, 's'), (58, 'q'), (1275, ' '), (1352, 'l'), (392, 'o'), (1067, 'a'), (769, 's'), (965, 'ó'), (227, 's'), (681, 'a'), (2192, 'c'), (1436, 'e'), (1180, 'd'), (898, 'n'), (2172, 'm'), (1591, 'e'), (2306, 'd'), (1950, ' '), (252, 'e'), (1447, ','), (2277, 'o'), (346, 'a'), (790, 'd'), (1537, 'e'), (432, 'o'), (36, 'b'), (989, 'd'), (1550, 'r'), (1432, 'o'), (270, 'a'), (1358, 'a'), (1658, 'H'), (11, 'p'), (67, 'a'), (1642, 'o'), (243, ','), (938, 'e'), (2315, 'ó'), (2317, 'í'), (1069, 'u'), (62, ','), (2138, ' '), (375, 'i'), (2046, ' '), (2290, 'b'), (305, ' '), (2225, 'l'), (1424, ' '), (1686, 'a'), (725, 'r'), (1839, 's'), (21, 'o'), (775, 'n'), (2057, ' '), (672, 'a'), (165, 'y'), (922, ' '), (2250, 'a'), (1571, ' '), (333, 'n'), (2284, 'j'), (2291, 'e'), (508, 'M'), (15, 'c'), (39, ','), (302, 'q'), (846, 'a'), (2179, 'a'), (1877, 'e'), (1159, 'd'), (316, 'l'), (193, 'b'), (824, 'y'), (1839, 'v'), (2189, ' '), (1097, 'l'), (844, 'j'), (1835, 'p'), (2012, 'i'), (1773, 'l'), (1262, 'o'), (674, 'b'), (553, 'n'), (2262, 'r'), (775, 's'), (1648, 'n'), (2354, 'd'), (1240, '.'), (443, 'L'), (1951, 'p'), (317, 's'), (445, 'u'), (1855, 's'), (1723, 'a'), (1578, ','), (1064, 'c'), (1383, 'd'), (1032, 'o'), (1815, 'i'), (671, 'c'), (1947, 'd'), (609, 'u'), (412, ' '), (2218, 'r'), (677, 's'), (1960, 'o'), (591, 'n'), (1456, 'o'), (2, 'f'), (345, 'm'), (1438, 'd'), (1624, ' '), (252, 'í'), (2232, 's'), (602, ','), (934, 'd'), (1557, 'a'), (1824, 'n'), (785, ' '), (1775, ' '), (924, 'f'), (1772, 'a'), (405, 'o'), (789, ' '), (154, 's'), (673, 'n'), (31, 'b'), (1582, 'a'), (334, 'u'), (367, 'a'), (239, 'd'), (2302, 'u'), (826, 'e'), (91, 'm'), (33, 'a'), (1571, ';'), (2027, 'e'), (870, 'a'), (2042, 'r'), (1567, 'd'), (1389, ' '), (276, 'n'), (1211, 'o'), (374, 'e'), (547, 'á'), (1030, 'o'), (793, 'i'), (53, 'o'), (397, 's'), (938, 'i'), (1771, 'r'), (373, ' '), (650, 'u'), (30, 'p'), (433, 'i'), (926, 'm'), (1478, 'e'), (631, 's'), (2106, 'l'), (2231, ':'), (443, '-'), (0, 'S'), (499, 'y'), (1906, 'o'), (334, 'm'), (141, 's'), (61, 'm'), (1263, ' '), (1897, 'c'), (859, 's'), (357, ' '), (2051, 'm'), (499, 'b'), (305, 'a'), (165, 'e'), (738, 'e'), (78, 'm'), (1780, 'u'), (248, 'r'), (192, 'o'), (334, 'a'), (17, 'í'), (302, 'a'), (139, 'n'), (84, 'i'), (332, 'n'), (1569, ' '), (2290, 'd'), (495, 'r'), (725, 'n'), (1543, ' '), (1677, ' '), (32, 'o'), (131, 'c'), (677, 'l'), (246, 'a'), (2439, 'o'), (1605, 'd'), (1389, 's'), (1140, 'e'), (19, 'r'), (381, 'o'), (61, 'u'), (690, 'c'), (305, 't'), (883, 'o'), (2015, 'r'), (503, 'p'), (1315, 'i'), (1510, ' '), (1684, ' '), (638, 'e'), (9, 'p'), (1036, 'o'), (78, 'f'), (844, 'l'), (730, 'n'), (2487, 'l'), (1443, 'n'), (1711, 'y'), (914, 'r'), (1089, 'o'), (78, '¿'), (606, 's'), (30, 'á'), (1419, 'e'), (5, 't'), (1398, 'r'), (260, 'q'), (342, 'n'), (275, 'v'), (317, 'r'), (1054, 'r'), (213, 'n'), (1510, 'o'), (2149, 'u'), (1592, 't'), (989, 'y'), (934, 'h'), (230, 'q'), (1703, ' '), (69, 'd'), (67, 'l'), (1584, 'n'), (451, 'm'), (499, 'd'), (1070, 'c'), (1161, 'ñ'), (2435, ','), (582, 'i'), (332, ' '), (827, 'v'), (266, ' '), (17, 'u'), (142, 'l'), (226, 'y'), (812, 'n'), (1503, 'o'), (0, ':'), (3, \"'\"), (0, \"'\"), (523, 'o'), (318, 'ñ'), (2549, ' '), (350, 'y'), (775, 'g'), (1401, 'e'), (1297, 'r'), (32, 'u'), (556, 'a'), (2326, 'r'), (2183, 'e'), (145, 'o'), (579, 'e'), (512, 'í'), (155, 'u'), (293, 'M'), (949, 'n'), (2025, 'a'), (801, 'a'), (138, ' '), (2343, 'e'), (5, 'v'), (1349, 'i'), (539, 'e'), (948, 'i'), (152, 'u'), (183, ' '), (244, 't'), (663, ' '), (504, 'j'), (1526, 's'), (2121, 's'), (396, 'b'), (95, 'l'), (259, 'd'), (86, 'a'), (2497, ' '), (2360, ' '), (406, 'u'), (44, 'j'), (2362, ' '), (2355, ' '), (14, 'a'), (176, 'h'), (1375, 'l'), (1967, 'l'), (698, ' '), (1099, 'd'), (539, 'q'), (241, 'm'), (589, 'r'), (2534, 't'), (111, 'e'), (2198, 'e'), (701, 'e'), (515, 'a'), (749, 'c'), (88, ','), (1257, ' '), (1254, 'a'), (2616, 's'), (2424, 'g'), (759, 'd'), (11, 'z'), (2260, 's'), (269, 'n'), (2551, 'd'), (1166, 'í'), (2224, 't'), (1062, 'n'), (347, \"'\"), (2561, '?'), (443, '¡'), (0, 'O'), (17, ','), (20, 'ó'), (1096, 's'), (681, 'o'), (96, 'ó'), (1935, 's'), (1916, ' '), (25, 'u'), (1287, 'a'), (2598, 'c'), (1457, 'o'), (855, 'b'), (299, 'e'), (2243, 'e'), (66, 'e'), (728, 's'), (858, 's'), (1100, ' '), (1966, ' '), (638, 'a'), (1614, 'h'), (560, 'ó'), (2529, 'u'), (826, 'd'), (555, 'n'), (2387, 'e'), (222, 'd'), (404, '!'), (3, 'Y'), (81, 'u'), (2178, ' '), (1702, 'u'), (1161, ' '), (16, 'r'), (565, ','), (1101, ' '), (251, ' '), (177, 'g'), (555, 'c'), (506, 'a'), (1151, 's'), (2352, ' '), (1886, 'a'), (1769, 'm'), (266, 'a'), (130, 'b'), (550, 'o'), (547, 'd'), (1166, 'u'), (825, 'u'), (744, 'p'), (2180, 'r'), (1917, 'q'), (2530, ' '), (1480, ' '), (2672, 't'), (520, 'm'), (872, 'a'), (1794, 'v'), (994, 'a'), (602, 'r'), (859, ','), (511, 'q'), (846, 's'), (1472, 'n'), (934, 'e'), (75, 'i'), (1198, ','), (600, 'l'), (13, 'j'), (2592, ' '), (2309, 'u'), (269, ','), (23, 'i'), (1851, 'i'), (2597, 't'), (748, 'l'), (1422, 'L'), (62, 'm'), (127, 'a'), (1053, 'A'), (6, 'd'), (221, 'z'), (13, 'L'), (957, 'n'), (625, ','), (1587, 'é'), (2270, 'l'), (1876, 'r'), (750, 'ó'), (1555, ' '), (1384, ' '), (72, 'r'), (924, 't'), (51, 't'), (1070, 'o'), (447, 'e'), (2573, 'r'), (863, 's'), (1723, 'p'), (2237, 'm'), (1680, 'o'), (2089, 'y'), (2147, 'u'), (665, 'á'), (1908, ' '), (2404, 'e'), (1084, ' '), (653, 'd'), (2601, 'e'), (1053, 'm'), (1157, ' '), (2511, 's'), (2352, ','), (2536, 'e'), (43, 'i'), (1120, 'e'), (2337, ' '), (1349, 'a'), (142, 'n'), (2614, ' '), (1487, 'd'), (2612, 'i'), (176, 'e'), (572, 'y'), (848, 'n'), (879, 'o'), (946, 'v'), (2249, 'l'), (2714, 'a'), (634, 'a'), (3, 'D'), (2547, 'i'), (626, 'a'), (1151, 'T'), (253, 'o'), (2344, 'p'), (610, 'u'), (657, 'r'), (1107, 'a'), (1146, 'r'), (2757, 'e'), (171, 'T'), (2771, 's'), (2060, 'n'), (2111, ' '), (252, 'u'), (1536, 'e'), (1159, 'm'), (1560, 's'), (108, 'o'), (270, 'e'), (26, 'g'), (254, 'n'), (868, 's'), (76, 'n'), (739, 'c'), (460, 'i'), (100, 'o'), (484, 'o'), (1096, 't'), (584, ' '), (203, 'e'), (2654, 'q'), (273, ' '), (2690, 'y'), (2221, 's'), (175, 's'), (542, 'a'), (2192, 'p'), (2094, '.')]\n"
     ]
    },
    {
     "data": {
      "text/plain": [
       "True"
      ]
     },
     "execution_count": 22,
     "metadata": {},
     "output_type": "execute_result"
    }
   ],
   "source": [
    "tok = LZ78_encode(txt2);\n",
    "print(tok);\n",
    "txt2 == LZ78_decode(tok)"
   ]
  },
  {
   "cell_type": "code",
   "execution_count": 23,
   "id": "fb2143c4",
   "metadata": {},
   "outputs": [
    {
     "ename": "NameError",
     "evalue": "name 'txt' is not defined",
     "output_type": "error",
     "traceback": [
      "\u001b[1;31m---------------------------------------------------------------------------\u001b[0m",
      "\u001b[1;31mNameError\u001b[0m                                 Traceback (most recent call last)",
      "\u001b[1;32m~\\AppData\\Local\\Temp\\ipykernel_7444\\321364774.py\u001b[0m in \u001b[0;36m<module>\u001b[1;34m\u001b[0m\n\u001b[1;32m----> 1\u001b[1;33m \u001b[0malf\u001b[0m \u001b[1;33m=\u001b[0m \u001b[0msorted\u001b[0m\u001b[1;33m(\u001b[0m\u001b[0mlist\u001b[0m\u001b[1;33m(\u001b[0m\u001b[0mset\u001b[0m\u001b[1;33m(\u001b[0m\u001b[0mtxt\u001b[0m\u001b[1;33m)\u001b[0m\u001b[1;33m)\u001b[0m\u001b[1;33m)\u001b[0m\u001b[1;33m;\u001b[0m\u001b[1;33m\u001b[0m\u001b[1;33m\u001b[0m\u001b[0m\n\u001b[0m\u001b[0;32m      2\u001b[0m \u001b[0mtok\u001b[0m \u001b[1;33m=\u001b[0m \u001b[0mLZW_encode\u001b[0m\u001b[1;33m(\u001b[0m\u001b[0mtxt\u001b[0m\u001b[1;33m)\u001b[0m\u001b[1;33m;\u001b[0m\u001b[1;33m\u001b[0m\u001b[1;33m\u001b[0m\u001b[0m\n\u001b[0;32m      3\u001b[0m \u001b[0mprint\u001b[0m\u001b[1;33m(\u001b[0m\u001b[0mtok\u001b[0m\u001b[1;33m)\u001b[0m\u001b[1;33m;\u001b[0m\u001b[1;33m\u001b[0m\u001b[1;33m\u001b[0m\u001b[0m\n\u001b[0;32m      4\u001b[0m \u001b[0mtxt1\u001b[0m \u001b[1;33m==\u001b[0m \u001b[0mLZW_decode\u001b[0m\u001b[1;33m(\u001b[0m\u001b[0mtok\u001b[0m\u001b[1;33m,\u001b[0m\u001b[0malf\u001b[0m\u001b[1;33m)\u001b[0m\u001b[1;33m\u001b[0m\u001b[1;33m\u001b[0m\u001b[0m\n",
      "\u001b[1;31mNameError\u001b[0m: name 'txt' is not defined"
     ]
    }
   ],
   "source": [
    "alf = sorted(list(set(txt)));\n",
    "tok = LZW_encode(txt);\n",
    "print(tok);\n",
    "txt1 == LZW_decode(tok,alf)"
   ]
  },
  {
   "cell_type": "code",
   "execution_count": null,
   "id": "0026ce73",
   "metadata": {},
   "outputs": [],
   "source": [
    "txt = \"En un lugar de la Mancha, de cuyo nombre no quiero acordarme, no ha mucho tiempo que vivía un hidalgo de los de lanza en astillero, adarga antigua, rocín flaco y galgo corredor. Una olla de algo más vaca que carnero, salpicón las más noches, duelos y quebrantos los sábados, lantejas los viernes, algún palomino de añadidura los domingos, consumían las tres partes de su hacienda. El resto della concluían sayo de velarte, calzas de velludo para las fiestas, con sus pantuflos de lo mesmo, y los días de entresemana se honraba con su vellorí de lo más fino. Tenía en su casa una ama que pasaba de los cuarenta, y una sobrina que no llegaba a los veinte, y un mozo de campo y plaza, que así ensillaba el rocín como tomaba la podadera. Frisaba la edad de nuestro hidalgo con los cincuenta años; era de complexión recia, seco de carnes, enjuto de rostro, gran madrugador y amigo de la caza. Quieren decir que tenía el sobrenombre de Quijada, o Quesada, que en esto hay alguna diferencia en los autores que deste caso escriben; aunque, por conjeturas verosímiles, se deja entender que se llamaba Quejana. Pero esto importa poco a nuestro cuento; basta que en la narración dél no se salga un punto de la verdad.\\nEs, pues, de saber que este sobredicho hidalgo, los ratos que estaba ocioso, que eran los más del año, se daba a leer libros de caballerías, con tanta afición y gusto, que olvidó casi de todo punto el ejercicio de la caza, y aun la administración de su hacienda. Y llegó a tanto su curiosidad y desatino en esto, que vendió muchas hanegas de tierra de sembradura para comprar libros de caballerías en que leer, y así, llevó a su casa todos cuantos pudo haber dellos; y de todos, ningunos le parecían tan bien como los que compuso el famoso Feliciano de Silva, porque la claridad de su prosa y aquellas entricadas razones suyas le parecían de perlas, y más cuando llegaba a leer aquellos requiebros y cartas de desafíos, donde en muchas partes hallaba escrito: La razón de la sinrazón que a mi razón se hace, de tal manera mi razón enflaquece, que con razón me quejo de la vuestra fermosura. Y también cuando leía: ...los altos cielos que de vuestra divinidad divinamente con las estrellas os fortifican, y os hacen merecedora del merecimiento que merece la vuestra grandeza.\\nCon estas razones perdía el pobre caballero el juicio, y desvelábase por entenderlas y desentrañarles el sentido, que no se lo sacara ni las entendiera el mesmo Aristóteles, si resucitara para sólo ello. No estaba muy bien con las heridas que don Belianís daba y recebía, porque se imaginaba que, por grandes maestros que le hubiesen curado, no dejaría de tener el rostro y todo el cuerpo lleno de cicatrices y señales. Pero, con todo, alababa en su autor aquel acabar su libro con la promesa de aquella inacabable aventura, y muchas veces le vino deseo de tomar la pluma y dalle fin al pie de la letra, como allí se promete; y sin duda alguna lo hiciera, y aun saliera con ello, si otros mayores y continuos pensamientos no se lo estorbaran. Tuvo muchas veces competencia con el cura de su lugar -que era hombre docto, graduado en Sigüenza-, sobre cuál había sido mejor caballero: Palmerín de Ingalaterra o Amadís de Gaula; mas maese Nicolás, barbero del mesmo pueblo, decía que ninguno llegaba al Caballero del Febo, y que si alguno se le podía comparar, era don Galaor, hermano de Amadís de Gaula, porque tenía muy acomodada condición para todo; que no era caballero melindroso, ni tan llorón como su hermano, y que en lo de la valentía no le iba en zaga.\\nEn resolución, él se enfrascó tanto en su letura, que se le pasaban las noches leyendo de claro en claro, y los días de turbio en turbio; y así, del poco dormir y del mucho leer, se le secó el celebro, de manera que vino a perder el juicio. Llenósele la fantasía de todo aquello que leía en los libros, así de encantamentos como de pendencias, batallas, desafíos, heridas, requiebros, amores, tormentas y disparates imposibles; y asentósele de tal modo en la imaginación que era verdad toda aquella máquina de aquellas sonadas soñadas invenciones que leía, que para él no había otra historia más cierta en el mundo. Decía él que el Cid Ruy Díaz había sido muy buen caballero, pero que no tenía que ver con el Caballero de la Ardiente Espada, que de sólo un revés había partido por medio dos fieros y descomunales gigantes. Mejor estaba con Bernardo del Carpio, porque en Roncesvalles había muerto a Roldán el encantado, valiéndose de la industria de Hércules, cuando ahogó a Anteo, el hijo de la Tierra, entre los brazos. Decía mucho bien del gigante Morgante, porque, con ser de aquella generación gigantea, que todos son soberbios y descomedidos, él solo era afable y bien criado. Pero, sobre todos, estaba bien con Reinaldos de Montalbán, y más cuando le veía salir de su castillo y robar cuantos topaba, y cuando en allende robó aquel ídolo de Mahoma que era todo de oro, según dice su historia. Diera él, por dar una mano de coces al traidor de Galalón, al ama que tenía, y aun a su sobrina de añadidura.\\nEn efeto, rematado ya su juicio, vino a dar en el más estraño pensamiento que jamás dio loco en el mundo; y fue que le pareció convenible y necesario, así para el aumento de su honra como para el servicio de su república, hacerse caballero andante, y irse por todo el mundo con sus armas y caballo a buscar las aventuras y a ejercitarse en todo aquello que él había leído que los caballeros andantes se ejercitaban, deshaciendo todo género de agravio, y poniéndose en ocasiones y peligros donde, acabándolos, cobrase eterno nombre y fama. Imaginábase el pobre ya coronado por el valor de su brazo, por lo menos, del imperio de Trapisonda; y así, con estos tan agradables pensamientos, llevado del estraño gusto que en ellos sentía, se dio priesa a poner en efeto lo que deseaba.\\nY lo primero que hizo fue limpiar unas armas que habían sido de sus bisabuelos, que, tomadas de orín y llenas de moho, luengos siglos había que estaban puestas y olvidadas en un rincón. Limpiólas y aderezólas lo mejor que pudo, pero vio que tenían una gran falta, y era que no tenían celada de encaje, sino morrión simple; mas a esto suplió su industria, porque de cartones hizo un modo de media celada, que, encajada con el morrión, hacían una apariencia de celada entera. Es verdad que para probar si era fuerte y podía estar al riesgo de una cuchillada, sacó su espada y le dio dos golpes, y con el primero y en un punto deshizo lo que había hecho en una semana; y no dejó de parecerle mal la facilidad con que la había hecho pedazos, y, por asegurarse deste peligro, la tornó a hacer de nuevo, poniéndole unas barras de hierro por de dentro, de tal manera que él quedó satisfecho de su fortaleza; y, sin querer hacer nueva experiencia della, la diputó y tuvo por celada finísima de encaje.\\nFue luego a ver su rocín, y, aunque tenía más cuartos que un real y más tachas que el caballo de Gonela, que tantum pellis et ossa fuit, le pareció que ni el Bucéfalo de Alejandro ni Babieca el del Cid con él se igualaban. Cuatro días se le pasaron en imaginar qué nombre le pondría; porque, según se decía él a sí mesmo, no era razón que caballo de caballero tan famoso, y tan bueno él por sí, estuviese sin nombre conocido; y ansí, procuraba acomodársele de manera que declarase quién había sido, antes que fuese de caballero andante, y lo que era entonces; pues estaba muy puesto en razón que, mudando su señor estado, mudase él también el nombre, y le cobrase famoso y de estruendo, como convenía a la nueva orden y al nuevo ejercicio que ya profesaba. Y así, después de muchos nombres que formó, borró y quitó, añadió, deshizo y tornó a hacer en su memoria e imaginación, al fin le vino a llamar Rocinante: nombre, a su parecer, alto, sonoro y significativo de lo que había sido cuando fue rocín, antes de lo que ahora era, que era antes y primero de todos los rocines del mundo.\\nPuesto nombre, y tan a su gusto, a su caballo, quiso ponérsele a sí mismo, y en este pensamiento duró otros ocho días, y al cabo se vino a llamar don Quijote; de donde -como queda dicho- tomaron ocasión los autores desta tan verdadera historia que, sin duda, se debía de llamar Quijada, y no Quesada, como otros quisieron decir. Pero, acordándose que el valeroso Amadís no sólo se había contentado con llamarse Amadís a secas, sino que añadió el nombre de su reino y patria, por Hepila famosa, y se llamó Amadís de Gaula, así quiso, como buen caballero, añadir al suyo el nombre de la suya y llamarse don Quijote de la Mancha, con que, a su parecer, declaraba muy al vivo su linaje y patria, y la honraba con tomar el sobrenombre della.\\nLimpias, pues, sus armas, hecho del morrión celada, puesto nombre a su rocín y confirmándose a sí mismo, se dio a entender que no le faltaba otra cosa sino buscar una dama de quien enamorarse; porque el caballero andante sin amores era árbol sin hojas y sin fruto y cuerpo sin alma. Decíase él a sí:\\n-Si yo, por malos de mis pecados, o por mi buena suerte, me encuentro por ahí con algún gigante, como de ordinario les acontece a los caballeros andantes, y le derribo de un encuentro, o le parto por mitad del cuerpo, o, finalmente, le venzo y le rindo, ¿no será bien tener a quien enviarle presentado y que entre y se hinque de rodillas ante mi dulce señora, y diga con voz humilde y rendido: ''Yo, señora, soy el gigante Caraculiambro, señor de la ínsula Malindrania, a quien venció en singular batalla el jamás como se debe alabado caballero don Quijote de la Mancha, el cual me mandó que me presentase ante vuestra merced, para que la vuestra grandeza disponga de mí a su talante''?\\n¡Oh, cómo se holgó nuestro buen caballero cuando hubo hecho este discurso, y más cuando halló a quien dar nombre de su dama! Y fue, a lo que se cree, que en un lugar cerca del suyo había una moza labradora de muy buen parecer, de quien él un tiempo anduvo enamorado, aunque, según se entiende, ella jamás lo supo, ni le dio cata dello. Llamábase Aldonza Lorenzo, y a ésta le pareció ser bien darle título de señora de sus pensamientos; y, buscándole nombre que no desdijese mucho del suyo, y que tirase y se encaminase al de princesa y gran señora, vino a llamarla Dulcinea del Toboso, porque era natural del Toboso; nombre, a su parecer, músico y peregrino y significativo, como todos los demás que a él y a sus cosas había puesto.\"\n",
    "alf = sorted(list(set(txt)));\n",
    "tok = LZW_encode(txt);\n",
    "print(tok);#\n",
    "txt == LZW_decode(tok,alf)"
   ]
  },
  {
   "cell_type": "code",
   "execution_count": null,
   "id": "49769efb",
   "metadata": {},
   "outputs": [],
   "source": [
    "alf = sorted(list(set(txt2)));\n",
    "tok = LZW_encode(txt2);\n",
    "print(tok);\n",
    "txt2 == LZW_decode(tok,alf)\n",
    "print(txt2)"
   ]
  },
  {
   "cell_type": "code",
   "execution_count": null,
   "id": "c79ffc6c",
   "metadata": {},
   "outputs": [],
   "source": [
    "cod, ind = encode_burrows_wheeler(txt1);\n",
    "print(\"índex (posició del text a les permutacions)\",ind);\n",
    "print(\"codi =\",cod);\n",
    "txt1 == decode_burrows_wheeler(cod,ind)"
   ]
  },
  {
   "cell_type": "code",
   "execution_count": 24,
   "id": "df31a395",
   "metadata": {},
   "outputs": [
    {
     "name": "stdout",
     "output_type": "stream",
     "text": [
      "índex (posició del text a les permutacions) 2195\n",
      "codi = :........?:er:eeeóeooaaoinnlllelll.....ay..elo.eneeeere.e:...aeaaaa.eee.:....aoo.ernnnnrandne.alle...!..óoooyosóóaaaooo,eaeooaór,s,ón,,,eníyleelóoeyl,yaso,,yaaaneoera,ye,ynrrsy,eeyain,non,salyn,ooossoyse,,aaaróeeayeoorsssryn,e,,yyYylyyy,;,ussesee,e,la,s;r,nayyroás,usooyyinao,leenoeaennrsseeyleul,eeeyeuuóeuoaanernalresssaen,ee,,,,sn,asn,naseaeaníraaya,oenood,e,ao,,,aadaayre,ayóoaoasenl,yososnssrssaolyllnuee,esyauanrnoorsssoanoseoooaraaoaeossooeaoooa,rs;aaísysoereoooeeneooorsasísoaoe,osssaadroosóonla,eo,aorreosnoadeooae,,easaioyosoooseeenn,e,eeoooloalsdon,aooys,aooaearseee,yyyoeyo,o,,seeynaayeeeseaeyadaeseaeore,sooonn,ionssooaannloeaineaeeó,onaonoy,aoranonnnoónaenarsaarer,noneooaoraoreyeonoeeaaeesoóaaoreoeysoaon,eeeleenne,íaarsaea,eesnoeo;,eieeyoeesaeoau,roseeranonenoanonlsse,seaaneyalenaassel,saneusnoyoYaeayallnnss,a,yraaouyoooeealsossselznoeesaar,uu,soso,aoas,,uoonoeleaauesneaueaeozeeeaenlosaausyleaulleeeeeneee,aleeyneenaranee,eeeeeea,erinannnnyyiyoeoe,assoeeeeye,onsaaoeoauseeoaurrseueeaaanyeoooYyo,,nneasreeYeoyoeaesonneeaneesayynno,ssase,unnnssereleela;;s,lenerooouoaenlllíoreaaeíírnlelolanónoyaelae,,allllaaaoeaaayyyaslosyoe,aayoea,,e,y,yee,,leaeeselseessonlrléoeo:;losóaeralea,,,,nnsaayeaeeesytaaióonsaíooe,aneunuueeeeeessaeeeeyysoeymeeosssasye,,lyallalaeyea,yo,o,o,,ooe,,,ooole,;,,,,,,;eeoyolea,aaeuseo;,,ny,annonso,onas,,saosslseo,ay,y,oan,sarssoosoonasenosoóoóae;ra,oa,d,aro,ry,raoy,s,aaoooan,naa,yolenaeaaeos,íyersssainaninynu,yus,nlinlneyesl,ueueleeo,ena,óne,o,n,,,sylnonyoaleeso,eyooíooa,e,,,aelsónloy,ue,neer,,anaaasyynoey,yle,na,,an,,ellualss,,sneaaneoeóeaeeoeeóanroenaaaeeearoaanaoon,eaneaslllsaaaraaoeseeeuYlysnyoianóaeneeeeoeoenoeedenayroenaaoeeeeo,ne-s,aylsenyeeannoyaneonlanernranyresal,lssseueneeeasaanses,ee,eeoleneaaaesl,s,nr;a;;;,,,,ess,ns,oao;rdsss,,s,o,e;oan,,,,aoan,,,,,,,le,;s,oesooe,s,o,,sóaeoee,soo;s,,ooó,,,;,;eeoin,aaeeaoae,n,enaaalaae ''eaoeeeeoonnosrsnosoayooóssóyesaooeaoíaessosshaorseorosísnóíssaoeesarsíoooanssraostesíooeeoroosooeaosodoooayeleooaooaaaeíssaaeaaeaoooaaaaoasoosaaooasoaraoeeoooseyes-ooasesooaosraaasaoaoaeaeseooaonsanooooaeoeansonsoa\n",
      "  aaadeaoansoaaaaaanoosoarsoaonraaa .o.íoaooenoeseaoeasoosaosoaesa'                    \n",
      "        \n",
      "\n",
      ". \n",
      "    \n",
      "           \n",
      "              ¡     \n",
      "              -            \n",
      " ' llzllllb líbbbsblrtbdnrgndtb rllilrírbidrbbgldíyrnn ilsnnirdmíbrgmrrrííercitdnlzrril rclríbríztiíbíb jdrrbí vlllrdrslnrrl  íírrrlllllb bzrt  lí   n  r nrr níhííbbbliílrrí lrbnvbírrí ltl rylícrtmírínrmmírrbi   Lrín níííísln   y      n l    rt rrslígsíl rllllsmsdybrírí r lmilrdhhhrcldiivíldzddrírleduddíirrízrbrtirdstzzrglbmidrrmnzbdrílídnzmgdgrgttrrslblsmrttttndpeslclccccCCcccccccccccccccsttlchsBbfdclschhhhhhhhhhhhhhhvn  shhhhhhthhhfrrrnnl     rhsdddtdddddjdlllpsjlpslljr mdñcndd ñññññ btvunttrtrtigrbcmrrmmmmmmm  sszmmmmm   M  rcncc    r mttut      e  uGtGgtnvvnñtsdgd d     sMsvthtd bbbbbbbbbbbbbbbbbvbbbb h nPfpvmsff  cld  dflllllllttintsssss cnn  ffffcljjjlttttíírtbítrrbíríííítbcbrmjmMMM     rrruuuuuuuudj mhmmmmrmimm tccfgg d lggddngl  d dg ttruuptlil rl          gmmtlgbgmmdmcrdnbbcdirppppctppppplCbplpbnppppppppppudlpnsmidñ   dccllsmCnbmrmtrclppppcujmlnlntírndgízídllllshldyljmlllhdhmtdíldlhhrrlmlttjitílmidcílccppprbntbrrbrríd  ccccb c        tcmbblrssccrppcunGGG            rhsmílccrrrdrrrrrrrr     rrr  aaaaaaaaaaaaaiaaaaaaaaaaaaaaaaáaaaaaaaaaaaaaaaaaaaaaaaaaooar  ááá   eiaaora       urrr mmaaiaiúeiuaer ooameoo  momommmmmmmmmomommmmooomooiemiieeia         laaeaaaaaaaaaaaaaeaoreaia                   a aiennn n innssa    e   oo   iii  eeliaeere      aaaaeeee eaoeeinnennnnuuauuoouueeuoeeiueuiunnnnein rro aaai aeo loiiiiiinoeerureneeaaaiaiauee   noeooai   is        -    aa     s                                a    aa      sso              n nn   ra o  s  sueeeeeeaeoooooeas iniaiaaaaaaaeauoaaaeaaaaaaaaaauannn  aieiirriroiroiii   unnnnn   a raaaiaaiuen                                     n                                                n                                   lnn                                   rn rnnaaan n                 nne e nneaarn  sor  e    a     anaanooaaninooiraooanonounnnnniiuaioínnaaoianaauiannnaioin nnín         liaeae ol  ooooaoainnnnnnnana    iai nnnlro oro    aaaaainedsdsdttdddddddddtsdddcursludusbdsdddulddusdrdddududdtdddlddutursdrsrsuttsirlurrulussussrdlduussllstrusdsuuusuuuuuudssuddsdmssuduuuuuuuuuudslsluusuuusdsussllss uddddddduluddddddducdduusssrsuuuusdssddddsruddulmddudutddsddduuuuuuruuuldduddduudllllllulltdtdllsslmdsusurmddsldudddsuuuulddcutstddddddcddddddddddduduuuuududddurdddldudlddulullsuludtlrljtdsrrusuustururdttucduttumuutceuuujutrtrtjttlstntsrduFuliidcipstrurrrrrrrvvnfhhhhrrddrrrddsDddDrrDscu pmrmmrcurllll  lllnurslsssRrvduldt    umMmd  d ddddu d     d    d  d d   d dd d d        d       dd  uncccccvssssctBFppmduu uddurupuu d vu dviuuvssrsmiid    uuu iiiisiiri     ii         c  u       i      id ibu  l      tiirdvv  iiliptttrtvyiuttg  uv lurrmppppp urtsmsimm     s miiiu miiis    uduvvlss üvrvtTttttttlstHrrrnesvscbdnncrecbddvccccee   i  i  d n n nn    i itdn bcmjjjjvvvvppmmmpifudhhppdpchhfBitillllnlmlbllPlmplpmPllPlnPlillilvuuuitidiciuuussllmlccttnrlrulltntchdrlnrrtntnrntcnluhnllurpttlclimcfuuddcddd  daujidrirrddidddmmmmr dd         uid d  ru  uu  u  uuuuu   uuua  rcd mp fflljuuluurll lddlrlvlllsssssssa é        si oeeiiia       n nu   n        aarinlaeeeun iiiriiuuue      aaaaaiiiellilsll nna       aeiiiinllnlne    oelelleeiO ccc                        s    ccccc         cc      c     s scccccccccccoca  a    ac   ansmsmnsnnsmmsnSdcrccrcrrnrrcrrrlclpvcp rnsrlllllrfffcdrddlhcvcuuudfsNpCClrnsvhhhrrsssststdcadddvpuubcttbbbbubbuubuurrcctcdmmmmmmldDcuvusftThcrvbrfdtnndgggggsssmllt SuudhuuupmmcshdttSs    rrrc lLLs  fssssssfssurrg gglefvcgdmrcrrll  ccmsnnvmvvvvvsmvtsserfhset gfddrccddbrddvcrpccvcbcsbrcddlcmctf lmrbdtummuupddhhhnrucmccruddtvtvhhhhbbunlncdcdccldprcccsccxrccrceaii   eeeeoaaaeeeeinieeeeiii   neeeaeeeeeeééeaeeeeaeeeeeaeaeeeeaeeéáeeeeeaaaaeeeaeeeeeeeeééeeeaaeeeéeééEaeeééeeoeeéaeeéaéeeaéaeé ru        ll  l i l   l l l              uluelullaaa feeeeelalllllllLla  afucccccel  l   ó  ll órlrapauuiAaoeb ee    l  ero          r  ro    bbpe    llllAlllaLllllllllllllllllall ralbuieab  llp a    aaaaaaaaaoaaue    beiaee  aealapeoaeeeeeeiai        ieeeaa     a aaaaaaaaaaiaaaaaaaa  eaaaeeiaeeee eeeeaaaaalalol uóo            l l ó ólbllll aall.        fa    g   e l l   eoeloaaaaaol     pciooaeollauiaoaaualaaoo AAAAA  iiiiI  ee     r raaaooaoaa  rrre aaeoooooooooooooooooa    r o      ralua    iiilo    o    aaiaaaauíaodor    soooooooosooóooosssso  o aaaae   aaaar  oioiiiioeeaiioo            o          ar  a     a  a e   uar oooooooeeauaioeiieaaeeeaóeeóíeeeéeeeíóaóeoeúiióeEooáoeeeéooeoeuóeoeeeoaaíiúóéuieueeoooóaaioaeóeoeauuaóeuueieoúóeauuóóóoeoóioeuóEuuuaúúóoaaóeoeeeeoooaoeueooeeEeeaaeeaoeíóíeoeóóíaóáaíóaóaeuuuuiiuuuuuUiauueaaiiiiooiiuiieeiiri uuei eeeeeeoioaaaeeeeeeeoieeieeoaaaaaooeoeeeeeaaaoeeeaueaaaaaaaaeeiuuuáéááééáiaioiiaai aoeeoaaaaeériooooorroeeoIeiiii     aeigg  ioooe iiiiiiaaiea   ii       uiri u   ¿   iieai  o  e   e         oueiuuuoooieeeeeeíoaaeeeeaoaeeaaeaeaaaaaeaaaiaaoaeeeeoAeaaaaaaeeaoueueuaeeaeeeaeaaeeeeeeeeeeaaeeeee       iiooeoaeeeioeeeeeeeeeairre smsn tlninnncngrdmrrrpddhrmndirdgdmgdrrlnllnirnlzcndnrjigltjvgdmdmtlhtidrebgynndrdrhhtnntrciitrhvdtsrdylddrcndttihvlnnsNhrlzdñdndnydtblrhdtnn dhiddnnptzimdlrllnvdlgrtyntmmdhñsrvrdd tilmdlnltlllrtldtrlipilmnlmlmnnnnbnptmvdtlnrnnhdmmzlrtsrczncpdlrnrzdntrrddidrsdvrrrle trrghdpsdmrprdvzyissdttltrñmrrYlrtdizimmrsinbysdhddlildntdtrtsddidrrsTTccpsspsssssr  cnn nRr ppldrrrrrrtmprttmtttmttttttttttmpprhmhbRddh dsdgs  chtttttnnnnnnnhnnnnnnnnncrrdlcccccccccccccccccccccdcddddccrcccccrCccccccrccccsccccccccsrtRcsdddcpGptzizicpppccshhhcMcccccdptpptpjpppdpñlppjñppppppjppdaddñdhñññmmtc  cLtmtymMmttttdfttn cpppppppppcmmmbpffl llrrllllltltdldrrlllllrlld dl nlddtrlthrutlltrtrllllgdlttllrirlrrlgnídídtddlzdzñltcrmcddddpirmmrbimb rrmrjjj     svmmsoss           ms          a                       xm   lmmml eram mmu mrmrmur         s                             mmm                          mise         rn       r  r        -r             r                         r     rn             r  n rn   a   aaaaaaaaaa ee      á      aoaaeoaioeoaeooaeoaooeoaoeoieaeeaoeaeooooeaaaeoooooaeeeoeiaaaeooaaaoieeeaoeeeioeeenaeteoruooteaeaeotettteeauteearuaaeaeeeeaeaeeaetreuooeouueeuunnatreagoubgbtugeggagggdbTpauoruufbbaia gb  b   n   tttoauueáeeeeeeéeeeeooeAoaoebbbbbbbbbbbtbbbbtbbbbb e eaaaaa eaaaaabrce t ee bbao   eootobootpp    eaotoootttoccrttaeeaep pppbbp  geaauFAcrrraeeeaaaeeaaaaooeioeaeaeooeeeetbeteeeeeeteaetedtreeeeeoteeeebttgteeobeae p  p      pppeaaoeebbgttttbebbped  eaeeeoooooooooeeeaaoeoooeoaeaaaiaéáueooaeaeaaaoeaaatdfeeoadeeeouroaíeeoooaauuooaauooooáooáeuáááooáííííoooaaaooeoaéaeaaaáeoeáooooeaaaaeeáaioaáoeoeéaooeaaeeaaoeeoaáoooaaeooaoíaáooaueaioeueoáooeaaoeeaoeoooaaooeaoooaaeoáooaáaaoEaoaaaoeooaaaeeoeaeooáaoaaoeeoaoeeoaoooooEaoaeeaeeaeeaoooeeoeeooeesoaaoeoaiea i  eeee    nnnnneaoe  uueeeeiuaeareoaar  eo    r  r aor   aa               ear oa e aaare   a   rróóe  eee e ae           ieeee a   oúo     i   ní              aaeeeiieoouaioioooroo         e  i   eEiieoéaeeeeeeeeeeeeeeeeeaaeeeeeeueuueeeiiieeeeeeieeeuueeeooeeei                                   e nn  o           ee aa   aaaaa an ao   einnarsrsslnssssslsi innasn    nraa  n           siirsnssnnnnnsnoosnssnsnrnrnnrnnnnnoennnóennnn  n       nneanrrannnnnrn  n rnssan aaarnunsnnnsnssessrsnnnsuscsselsin                     nr usuusss   lnnnnarsnnnossssoses nssnns nsasanassasnsnsnoososnínenaen  s nn uinssssssssssssssssssssssssssssssssssssgdcgccccccccccccChhmmmmcmmmmmslBddmmplpqqqqqqqqqqqqqqqqqqqqqqqqqqqqqqqqqqqqqqqqqqqqqqqqqqqqqfqFqqqqqqqqqqqqqqqqffqqqqqqqqqqqqqqqqqqqqqfqqqqqqqqqqpqqqqlQqqqqqqqqqqqdbbbbbbrlbccccqcccfsmpppQQfpppPpvvvvvnnnnnnntrllljjjqqqqqqqQqQQQQQqqqqfqqsaaagdDccttlahsa  a         a     g g    m  mmmmgggaaapppnsscddttdscctgttttccdssssssbbbpgggddjraaaptdTtRmmmmmmsssscscqpleel e   s       sn  naa n        nrll uii       a  ieuuuiie      eieeeu   u   ua          u uu                  o                                     u                               uueauuu uaaonenoaaneae loiiinianaaaaeaaaaaaa\n",
      " rsmnludbcbmdm dmmmmmmmmmmmmmmmluc    d          iiiiiigHnuv mhsrsssssslsssssssndbbrsdnendbbbcbnntbbbbcnebbbbvbccbetnerncmubccnddrdrdcDe scrccrcc ffdnddddntoaaaaaeaaaaeeeeeeamgnnlvgbdijciiigrdidicicrttmizissscirziizicizizziziziiliiictntpgggggmg\n"
     ]
    },
    {
     "data": {
      "text/plain": [
       "True"
      ]
     },
     "execution_count": 24,
     "metadata": {},
     "output_type": "execute_result"
    }
   ],
   "source": [
    "cod, ind = encode_burrows_wheeler(txt2);\n",
    "print(\"índex (posició del text a les permutacions)\",ind);\n",
    "print(\"codi =\",cod);\n",
    "txt2 == decode_burrows_wheeler(cod,ind)"
   ]
  },
  {
   "cell_type": "code",
   "execution_count": 28,
   "id": "2973e4a8",
   "metadata": {},
   "outputs": [
    {
     "name": "stdout",
     "output_type": "stream",
     "text": [
      "17\n",
      "codi = [3, 6, 14, 16, 2, 4, 11, 16, 5, 12, 5, 16, 6, 12, 10, 7, 15, 4, 9, 3, 9, 2, 13, 2, 4, 15, 10, 7, 11, 2, 2, 4, 15, 3, 6, 5, 2, 4, 11, 11, 11, 8, 4, 16, 6, 3, 12, 12, 10, 16]\n"
     ]
    },
    {
     "data": {
      "text/plain": [
       "True"
      ]
     },
     "execution_count": 28,
     "metadata": {},
     "output_type": "execute_result"
    }
   ],
   "source": [
    "alf = sorted(list(set(txt1))); print(len(alf))\n",
    "cod = encode_move_to_front(txt1);\n",
    "print(\"codi =\",cod);\n",
    "txt1 == decode_move_to_front(cod,alf)"
   ]
  },
  {
   "cell_type": "code",
   "execution_count": 29,
   "id": "e659cc05",
   "metadata": {},
   "outputs": [
    {
     "name": "stdout",
     "output_type": "stream",
     "text": [
      "63\n",
      "codi = [14, 42, 3, 49, 2, 2, 42, 3, 39, 34, 47, 5, 38, 39, 2, 7, 5, 2, 28, 2, 9, 39, 41, 3, 16, 6, 9, 9, 2, 6, 12, 52, 46, 4, 10, 2, 46, 43, 15, 9, 6, 6, 6, 2, 48, 9, 46, 6, 7, 6, 6, 14, 12, 3, 4, 13, 4, 2, 12, 7, 14, 8, 12, 8, 2, 15, 8, 2, 7, 12, 11, 5, 6, 5, 50, 13, 11, 8, 49, 6, 6, 15, 10, 6, 3, 51, 8, 1, 58, 13, 4, 6, 14, 2, 13, 7, 17, 6, 21, 22, 13, 7, 5, 12, 2, 5, 4, 52, 3, 5, 5, 2, 5, 7, 10, 54, 2, 4, 5, 4, 2, 3, 7, 18, 11, 8, 0, 7, 21, 11, 21, 9, 9, 12, 1, 5, 13, 2, 4, 1, 12, 11, 11, 5, 15, 5, 9, 7, 8, 10, 21, 17, 11, 5, 52, 15, 9, 6, 7, 5, 24, 1, 12, 5, 6, 2, 5, 4, 6, 2, 10, 0, 16, 16, 3, 3, 31, 6, 51, 13, 11, 3, 6, 11, 0, 3, 3, 8, 9, 2, 3, 4, 11, 6, 4, 25, 57, 21, 3, 24, 8, 15, 1, 3, 25, 21, 12, 3, 5, 5, 17, 15, 5, 2, 12, 21, 7, 11, 7, 15, 26, 23, 11, 60, 12, 8, 6, 7, 8, 3, 17, 17, 3, 3, 6, 12, 9, 27, 15, 6, 14, 7, 20, 17, 5, 13, 9, 7, 6, 23, 1, 19, 7, 7, 28, 20, 17, 15, 27, 11, 11, 10, 12, 3, 3, 3, 1, 17, 9, 8, 14, 6, 5, 15, 7, 8, 6, 10, 10, 12, 55, 4, 8, 7, 7, 9, 3, 3, 23, 22, 8, 15, 11, 2, 6, 12, 7, 10, 10, 24, 61, 8, 5, 25, 6, 6, 13, 24, 13, 7, 3, 7, 17, 13, 2, 8, 61, 1, 4, 7, 1, 21, 16, 4, 6, 11, 9, 16, 3, 7, 3, 12, 9, 12, 15, 4, 7, 16, 8, 25, 4, 6, 5, 13, 9, 30, 13, 5, 8, 13, 3, 7, 3, 21, 15, 17, 4, 4, 18, 6, 5, 6, 6, 6, 6, 17, 3, 2, 3, 12, 2, 26, 8, 15, 18, 7, 13, 9, 5, 29, 8, 33, 15, 2, 14, 8, 13, 14, 18, 5, 10, 5, 7, 0, 10, 4, 13, 6, 12, 2, 5, 15, 17, 7, 5, 7, 11, 3, 28, 9, 4, 11, 11, 2, 24, 2, 11, 7, 14, 14, 4, 21, 7, 15, 6, 7, 32, 2, 13, 5, 11, 8, 2, 11, 2, 7, 0, 16, 5, 13, 6, 21, 9, 14, 1, 3, 7, 2, 10, 3, 32, 21, 11, 4, 16, 6, 2, 16, 7, 16, 12, 18, 3, 5, 15, 1, 2, 14, 8, 5, 9, 6, 12, 13, 9, 9, 9, 15, 13, 2, 5, 5, 2, 23, 4, 6, 2, 4, 14, 5, 19, 1, 7, 4, 6, 3, 8, 20, 14, 4, 4, 4, 10, 2, 1, 14, 14, 18, 3, 6, 1, 13, 8, 6, 1, 7, 5, 5, 2, 23, 11, 6, 8, 7, 28, 1, 6, 19, 6, 6, 3, 9, 18, 2, 21, 11, 16, 0, 7, 11, 16, 6, 16, 6, 2, 6, 6, 2, 15, 29, 11, 3, 20, 22, 14, 7, 25, 5, 56, 11, 5, 13, 18, 5, 4, 4, 2, 10, 17, 2, 18, 6, 4, 1, 3, 4, 5, 3, 3, 1, 14, 1, 2, 31, 5, 8, 3, 25, 5, 8, 1, 21, 1, 4, 19, 6, 2, 19, 16, 7, 3, 13, 10, 8, 20, 8, 14, 23, 4, 25, 8, 25, 1, 8, 6, 5, 3, 10, 11, 14, 11, 21, 7, 7, 7, 17, 9, 13, 3, 5, 9, 2, 15, 0, 4, 28, 8, 11, 1, 5, 1, 1, 5, 6, 12, 3, 25, 8, 12, 10, 16, 3, 16, 6, 16, 1, 14, 6, 2, 20, 11, 27, 1, 3, 20, 9, 2, 20, 16, 7, 21, 7, 5, 11, 1, 3, 17, 6, 10, 1, 13, 5, 20, 14, 12, 3, 5, 18, 22, 3, 4, 16, 4, 18, 11, 0, 7, 20, 1, 7, 7, 4, 2, 22, 16, 18, 11, 11, 5, 3, 4, 18, 1, 3, 20, 2, 3, 10, 11, 1, 5, 10, 2, 2, 18, 6, 20, 4, 1, 13, 13, 3, 24, 7, 46, 4, 16, 17, 6, 12, 1, 6, 12, 2, 2, 9, 10, 3, 1, 3, 1, 3, 2, 16, 18, 3, 8, 16, 11, 14, 7, 28, 13, 10, 11, 12, 25, 7, 7, 19, 2, 14, 3, 5, 3, 12, 3, 5, 9, 6, 2, 14, 14, 3, 14, 11, 7, 1, 30, 10, 10, 41, 5, 8, 16, 7, 3, 15, 4, 2, 12, 8, 21, 21, 16, 6, 58, 17, 35, 17, 10, 13, 6, 11, 6, 13, 26, 6, 16, 6, 6, 14, 4, 15, 4, 2, 4, 7, 9, 10, 5, 8, 9, 7, 3, 4, 35, 20, 20, 12, 6, 12, 7, 2, 10, 4, 10, 6, 3, 3, 10, 5, 21, 4, 12, 12, 4, 19, 3, 11, 5, 12, 7, 4, 4, 9, 5, 7, 29, 1, 5, 8, 16, 8, 7, 5, 8, 14, 2, 19, 8, 2, 17, 2, 29, 1, 27, 4, 55, 15, 12, 9, 15, 1, 16, 6, 12, 3, 11, 6, 6, 5, 30, 8, 6, 3, 19, 2, 9, 30, 13, 5, 4, 15, 2, 21, 17, 29, 12, 6, 9, 4, 20, 5, 5, 5, 7, 16, 2, 2, 17, 14, 16, 23, 14, 7, 1, 23, 7, 12, 1, 8, 8, 9, 14, 7, 8, 1, 8, 7, 18, 7, 7, 3, 1, 15, 2, 2, 8, 18, 11, 4, 29, 10, 24, 3, 2, 19, 24, 11, 11, 4, 5, 14, 17, 33, 14, 19, 1, 7, 23, 5, 8, 8, 5, 5, 2, 11, 14, 16, 3, 6, 12, 16, 5, 11, 9, 7, 7, 17, 7, 4, 3, 14, 2, 5, 8, 2, 4, 13, 10, 5, 10, 4, 5, 3, 5, 10, 13, 21, 5, 14, 29, 8, 10, 13, 4, 14, 2, 6, 20, 6, 29, 14, 12, 3, 13, 3, 9, 23, 8, 16, 10, 8, 12, 16, 10, 32, 7, 5, 10, 5, 26, 26, 19, 21, 7, 5, 17, 10, 2, 3, 2, 21, 2, 15, 13, 4, 3, 16, 16, 2, 2, 6, 2, 14, 5, 19, 17, 4, 3, 10, 2, 2, 12, 0, 10, 14, 1, 21, 1, 4, 26, 8, 7, 14, 5, 13, 1, 27, 7, 55, 6, 14, 20, 4, 3, 14, 17, 4, 4, 19, 15, 23, 4, 8, 6, 11, 7, 5, 5, 23, 1, 3, 4, 1, 13, 15, 12, 12, 9, 10, 8, 7, 9, 7, 7, 8, 7, 6, 24, 7, 18, 11, 11, 6, 2, 4, 20, 10, 10, 3, 1, 10, 2, 20, 6, 2, 3, 2, 13, 0, 1, 13, 16, 30, 5, 6, 22, 61, 9, 3, 4, 17, 2, 15, 12, 2, 2, 11, 6, 28, 2, 4, 14, 8, 2, 19, 3, 3, 17, 10, 5, 12, 11, 2, 10, 9, 2, 27, 4, 17, 6, 5, 1, 23, 41, 38, 16, 28, 10, 16, 16, 11, 5, 5, 5, 9, 4, 2, 4, 10, 23, 4, 12, 5, 23, 9, 4, 3, 1, 7, 17, 2, 3, 3, 17, 8, 8, 5, 10, 22, 23, 32, 7, 9, 2, 4, 5, 13, 20, 22, 7, 16, 8, 4, 3, 13, 3, 12, 7, 14, 5, 5, 5, 16, 16, 15, 3, 1, 4, 6, 7, 16, 1, 5, 8, 16, 15, 2, 7, 1, 13, 5, 11, 11, 11, 3, 1, 12, 10, 22, 4, 14, 9, 10, 3, 26, 38, 3, 3, 18, 10, 7, 3, 9, 36, 9, 14, 4, 8, 7, 2, 8, 7, 17, 1, 3, 1, 1, 9, 5, 0, 13, 3, 3, 16, 6, 4, 10, 9, 6, 9, 8, 2, 17, 10, 8, 1, 10, 0, 5, 9, 32, 4, 9, 12, 9, 9, 11, 16, 3, 19, 7, 3, 2, 2, 3, 1, 33, 15, 7, 1, 29, 7, 6, 34, 1, 23, 22, 13, 11, 12, 13, 6, 23, 6, 17, 3, 5, 18, 29, 14, 21, 15, 6, 16, 18, 14, 6, 4, 6, 10, 2, 14, 11, 4, 1, 3, 26, 13, 18, 6, 5, 5, 7, 14, 2, 2, 33, 1, 22, 14, 12, 1, 1, 7, 6, 12, 6, 2, 8, 14, 2, 7, 2, 35, 1, 19, 4, 21, 1, 3, 15, 15, 3, 8, 4, 2, 1, 10, 27, 13, 6, 1, 18, 17, 16, 7, 14, 5, 19, 7, 10, 10, 16, 2, 10, 13, 2, 28, 10, 10, 10, 7, 9, 9, 5, 31, 8, 59, 1, 16, 0, 7, 25, 14, 4, 7, 1, 16, 2, 10, 2, 21, 4, 16, 16, 2, 15, 2, 17, 16, 6, 6, 2, 16, 10, 1, 8, 19, 1, 2, 14, 6, 5, 11, 7, 12, 9, 8, 7, 3, 2, 2, 7, 6, 5, 20, 5, 25, 13, 7, 3, 25, 2, 9, 12, 11, 16, 6, 22, 8, 17, 22, 16, 16, 6, 3, 3, 10, 11, 19, 3, 6, 6, 12, 5, 2, 17, 13, 3, 19, 0, 7, 5, 6, 4, 2, 7, 2, 13, 28, 7, 7, 7, 14, 3, 3, 8, 26, 2, 3, 1, 3, 15, 20, 9, 6, 6, 6, 1, 6, 22, 13, 11, 4, 8, 13, 6, 12, 13, 2, 12, 10, 8, 1, 10, 0, 5, 9, 28, 4, 9, 8, 5, 17, 2, 21, 16, 4, 3, 9, 2, 0, 9, 22, 4, 23, 1, 10, 10, 11, 5, 4, 8, 0, 8, 23, 23, 4, 8, 1, 8, 11, 2, 15, 4, 4, 1, 3, 21, 18, 18, 1, 5, 4, 6, 7, 7, 17, 8, 7, 7, 7, 20, 7, 9, 5, 4, 23, 9, 20, 14, 19, 5, 7, 3, 16, 0, 8, 11, 34, 6, 20, 1, 7, 7, 2, 14, 7, 4, 1, 7, 19, 5, 16, 22, 1, 24, 17, 2, 7, 7, 6, 13, 11, 2, 18, 17, 16, 4, 19, 22, 4, 10, 7, 16, 3, 3, 3, 19, 15, 8, 4, 4, 8, 13, 24, 1, 3, 13, 2, 14, 3, 24, 16, 9, 3, 8, 6, 8, 16, 6, 8, 4, 6, 7, 9, 2, 29, 14, 9, 6, 7, 1, 5, 38, 8, 8, 14, 12, 1, 9, 14, 8, 8, 21, 8, 2, 59, 7, 9, 27, 9, 23, 6, 17, 10, 22, 19, 19, 12, 6, 10, 9, 2, 15, 3, 3, 7, 12, 14, 3, 1, 6, 1, 7, 2, 17, 9, 2, 12, 8, 12, 5, 8, 5, 24, 1, 2, 13, 8, 9, 12, 0, 4, 7, 6, 4, 17, 22, 11, 14, 15, 8, 15, 1, 9, 9, 6, 3, 30, 15, 10, 11, 7, 7, 1, 13, 15, 8, 3, 4, 14, 6, 2, 16, 5, 11, 4, 13, 24, 4, 11, 7, 14, 6, 2, 8, 2, 8, 9, 7, 10, 18, 7, 12, 1, 22, 33, 5, 3, 14, 15, 8, 14, 14, 16, 6, 12, 0, 14, 26, 7, 26, 1, 5, 1, 1, 5, 5, 0, 16, 3, 4, 22, 11, 5, 6, 0, 9, 13, 7, 8, 5, 7, 7, 21, 3, 10, 5, 8, 8, 8, 17, 1, 15, 12, 6, 22, 2, 6, 5, 15, 10, 2, 2, 2, 3, 4, 26, 22, 11, 4, 21, 8, 8, 4, 19, 2, 9, 4, 1, 3, 2, 21, 17, 14, 28, 13, 11, 6, 23, 3, 16, 16, 11, 6, 6, 7, 6, 21, 0, 1, 19, 1, 4, 6, 6, 10, 9, 20, 10, 16, 47, 8, 56, 10, 2, 7, 2, 26, 31, 19, 5, 20, 14, 2, 16, 7, 2, 15, 14, 7, 10, 5, 10, 10, 4, 7, 25, 20, 11, 3, 7, 1, 21, 10, 2, 10, 4, 10, 10, 10, 5, 11, 9, 2, 20, 7, 19, 4, 22, 5, 16, 3, 2, 20, 6, 17, 3, 15, 3, 11, 6, 14, 3, 5, 5, 15, 2, 4, 4, 15, 15, 8, 5, 8, 2, 24, 10, 7, 18, 18, 6, 16, 1, 16, 9, 5, 5, 4, 3, 5, 21, 10, 3, 13, 9, 13, 13, 5, 5, 15, 9, 2, 11, 11, 3, 34, 11, 5, 18, 4, 2, 15, 12, 2, 29, 8, 5, 21, 20, 16, 7, 7, 19, 6, 4, 14, 12, 8, 9, 4, 8, 34, 9, 34, 1, 11, 4, 9, 26, 23, 38, 20, 7, 23, 12, 8, 4, 19, 15, 6, 19, 17, 29, 7, 28, 5, 17, 0, 0, 6, 7, 19, 4, 6, 4, 17, 5, 5, 5, 13, 15, 11, 7, 6, 6, 6, 23, 15, 6, 3, 14, 2, 2, 22, 4, 3, 6, 11, 21, 13, 7, 8, 12, 9, 1, 17, 1, 3, 5, 1, 5, 1, 3, 5, 1, 5, 5, 20, 10, 3, 9, 2, 8, 15, 14, 5, 3, 15, 8, 13, 3, 7, 2, 8, 13, 3, 6, 0, 6, 5, 6, 8, 2, 2, 22, 3, 7, 8, 12, 4, 1, 11, 8, 11, 26, 9, 30, 1, 10, 11, 2, 28, 7, 8, 14, 9, 5, 15, 3, 14, 1, 5, 1, 17, 10, 4, 8, 7, 4, 5, 16, 3, 8, 3, 6, 1, 8, 14, 4, 1, 3, 10, 16, 11, 8, 19, 19, 6, 3, 8, 2, 10, 1, 10, 1, 4, 11, 13, 2, 19, 8, 5, 16, 12, 9, 7, 7, 31, 3, 3, 14, 16, 8, 29, 4, 22, 38, 52, 19, 8, 11, 8, 13, 13, 9, 2, 4, 12, 3, 11, 8, 8, 8, 7, 7, 33, 3, 8, 13, 27, 10, 6, 5, 18, 2, 7, 10, 29, 9, 6, 5, 20, 8, 5, 1, 8, 0, 5, 6, 7, 7, 3, 4, 2, 31, 20, 24, 10, 1, 7, 27, 6, 27, 1, 15, 10, 16, 24, 2, 12, 34, 16, 16, 6, 5, 8, 17, 12, 17, 3, 4, 19, 21, 2, 2, 13, 2, 5, 12, 10, 10, 8, 14, 1, 7, 7, 4, 1, 8, 9, 9, 8, 38, 1, 2, 10, 6, 7, 9, 2, 3, 2, 3, 3, 8, 8, 17, 10, 12, 17, 8, 28, 20, 9, 3, 9, 6, 2, 10, 4, 2, 11, 4, 2, 4, 13, 20, 1, 14, 1, 4, 8, 13, 2, 8, 4, 7, 3, 9, 6, 14, 2, 2, 14, 8, 3, 9, 8, 7, 3, 9, 2, 28, 3, 10, 2, 12, 4, 51, 8, 9, 6, 12, 35, 1, 9, 10, 1, 4, 17, 9, 2, 7, 2, 8, 5, 4, 16, 16, 6, 9, 14, 7, 1, 8, 20, 2, 3, 1, 3, 8, 12, 12, 14, 4, 12, 3, 0, 3, 29, 4, 57, 3, 2, 5, 7, 11, 9, 23, 1, 5, 18, 16, 23, 3, 5, 16, 9, 21, 4, 18, 12, 3, 3, 15, 11, 13, 3, 32, 8, 18, 10, 22, 7, 7, 7, 23, 15, 8, 3, 6, 12, 12, 3, 53, 5, 13, 11, 11, 6, 29, 12, 8, 10, 5, 16, 1, 3, 17, 1, 15, 11, 17, 1, 6, 9, 7, 24, 7, 24, 16, 9, 18, 18, 10, 6, 14, 2, 2, 16, 20, 11, 33, 3, 18, 3, 15, 1, 6, 10, 10, 9, 14, 4, 14, 14, 14, 3, 12, 2, 9, 11, 18, 9, 15, 7, 15, 6, 4, 4, 22, 8, 10, 3, 7, 14, 14, 7, 3, 20, 2, 2, 22, 4, 17, 18, 5, 8, 1, 15, 7, 20, 7, 12, 14, 16, 14, 19, 7, 8, 3, 2, 4, 9, 30, 7, 8, 21, 2, 6, 6, 6, 2, 18, 2, 9, 1, 7, 4, 2, 17, 2, 3, 10, 14, 7, 3, 3, 4, 22, 1, 4, 3, 9, 1, 3, 8, 8, 2, 15, 15, 4, 9, 22, 7, 6, 7, 0, 5, 12, 4, 4, 9, 4, 2, 9, 17, 1, 14, 12, 11, 4, 4, 6, 14, 7, 14, 1, 2, 3, 28, 9, 13, 3, 4, 26, 6, 43, 4, 11, 14, 20, 5, 12, 3, 16, 3, 15, 3, 16, 1, 6, 4, 13, 13, 1, 21, 1, 1, 1, 3, 11, 9, 2, 14, 19, 2, 5, 2, 11, 10, 13, 5, 5, 23, 6, 9, 11, 5, 5, 14, 1, 12, 1, 8, 4, 11, 8, 2, 7, 19, 7, 6, 11, 5, 9, 2, 13, 3, 7, 10, 2, 20, 7, 6, 24, 13, 13, 7, 7, 17, 4, 2, 3, 15, 15, 4, 11, 0, 4, 5, 15, 13, 3, 14, 1, 15, 1, 1, 6, 7, 7, 4, 31, 3, 7, 17, 10, 16, 6, 18, 8, 22, 1, 17, 6, 13, 25, 7, 18, 6, 13, 13, 6, 1, 4, 4, 14, 3, 2, 5, 16, 15, 19, 4, 19, 6, 8, 1, 4, 4, 4, 3, 2, 17, 4, 14, 12, 17, 5, 12, 3, 2, 20, 3, 16, 6, 5, 5, 17, 1, 11, 3, 6, 0, 11, 4, 35, 15, 15, 3, 6, 6, 2, 11, 5, 7, 3, 8, 2, 2, 5, 6, 2, 2, 3, 14, 13, 5, 19, 6, 18, 16, 15, 1, 3, 5, 9, 0, 25, 3, 18, 11, 2, 14, 11, 8, 9, 5, 12, 1, 42, 7, 18, 1, 9, 16, 17, 3, 17, 19, 1, 16, 3, 1, 16, 28, 5, 6, 4, 5, 5, 14, 2, 22, 9, 19, 1, 14, 17, 8, 20, 7, 15, 1, 3, 12, 12, 3, 15, 4, 13, 10, 10, 10, 4, 6, 11, 13, 9, 3, 6, 8, 0, 4, 12, 4, 10, 10, 2, 4, 17, 11, 2, 5, 4, 18, 12, 14, 5, 6, 11, 7, 7, 5, 1, 13, 6, 13, 10, 11, 2, 14, 4, 8, 7, 19, 10, 6, 4, 12, 13, 9, 5, 5, 10, 9, 7, 9, 4, 3, 2, 3, 5, 2, 15, 4, 2, 3, 4, 6, 4, 14, 23, 11, 2, 1, 9, 26, 9, 46, 15, 25, 9, 4, 15, 4, 17, 20, 10, 14, 6, 8, 15, 6, 1, 4, 4, 3, 9, 9, 18, 6, 16, 1, 14, 6, 18, 11, 9, 3, 9, 5, 3, 6, 18, 2, 5, 14, 17, 8, 4, 22, 7, 2, 14, 6, 2, 8, 2, 22, 7, 8, 5, 52, 27, 6, 9, 4, 1, 5, 6, 3, 19, 14, 18, 22, 6, 7, 6, 14, 6, 15, 18, 2, 24, 5, 15, 8, 12, 8, 13, 2, 2, 7, 6, 10, 18, 2, 43, 20, 10, 62, 6, 6, 38, 10, 20, 14, 10, 22, 12, 18, 16, 10, 5, 18, 17, 38, 23, 4, 22, 13, 9, 30, 2, 4, 12, 19, 21, 14, 4, 23, 14, 34, 4, 16, 5, 16, 10, 12, 1, 14, 0, 8, 6, 7, 41, 8, 34, 7, 7, 11, 8, 8, 15, 22, 8, 14, 5, 2, 58, 4, 25, 10, 10, 1, 27, 7, 10, 0, 3, 8, 14, 1, 40, 13, 4, 12, 13, 20, 6, 3, 9, 2, 57, 6, 24, 13, 2, 36, 5, 10, 3, 9, 3, 3, 3, 8, 4, 1, 4, 40, 24, 23, 15, 10, 26, 8, 27, 8, 25, 11, 19, 2, 12, 2, 9, 5, 17, 4, 10, 3, 14, 3, 10, 2, 6, 4, 33, 17, 6, 10, 8, 6, 12, 7, 10, 6, 14, 19, 14, 5, 33, 11, 6, 3, 24, 18, 1, 24, 5, 2, 12, 5, 13, 0, 7, 6, 9, 14, 1, 5, 1, 5, 2, 42, 3, 4, 1, 4, 0, 6, 19, 8, 7, 15, 4, 5, 3, 47, 3, 8, 6, 17, 5, 39, 1, 16, 15, 7, 3, 21, 17, 2, 14, 12, 16, 7, 17, 12, 6, 8, 9, 2, 7, 2, 2, 20, 5, 16, 19, 11, 5, 20, 5, 21, 7, 5, 20, 1, 1, 18, 7, 10, 3, 4, 3, 10, 8, 13, 3, 25, 5, 13, 1, 5, 7, 9, 6, 32, 10, 4, 12, 7, 10, 8, 7, 11, 7, 2, 27, 7, 7, 5, 15, 16, 6, 3, 7, 2, 14, 6, 17, 15, 2, 15, 5, 16, 13, 15, 20, 8, 10, 6, 28, 2, 17, 15, 11, 5, 16, 7, 22, 3, 4, 20, 12, 6, 1, 17, 4, 1, 1, 5, 5, 4, 9, 5, 22, 4, 1, 43, 4, 6, 16, 8, 16, 1, 3, 15, 10, 10, 1, 29, 4, 17, 15, 17, 3, 11, 6, 2, 3, 10, 10, 3, 14, 2, 25, 1, 20, 0, 6, 6, 7, 7, 17, 4, 5, 17, 10, 14, 8, 8, 22, 1, 21, 10, 6, 7, 2, 17, 12, 4, 3, 10, 0, 7, 9, 19, 5, 5, 15, 5, 14, 1, 3, 12, 16, 2, 24, 16, 10, 7, 12, 10, 9, 15, 8, 21, 1, 19, 11, 10, 3, 1, 7, 2, 15, 8, 2, 18, 5, 2, 4, 10, 2, 38, 2, 3, 4, 7, 18, 23, 5, 7, 4, 9, 2, 7, 7, 2, 20, 21, 7, 3, 4, 7, 2, 36, 4, 27, 1, 40, 44, 48, 7, 7, 22, 9, 24, 14, 14, 19, 25, 16, 26, 10, 24, 11, 46, 8, 2, 10, 11, 2, 1, 6, 44, 13, 17, 6, 12, 11, 8, 22, 5, 8, 2, 15, 4, 10, 4, 2, 8, 15, 2, 12, 5, 7, 4, 11, 9, 14, 7, 25, 5, 7, 3, 9, 2, 2, 9, 2, 2, 30, 8, 5, 1, 23, 1, 12, 5, 7, 3, 5, 3, 4, 13, 15, 29, 10, 6, 6, 8, 3, 28, 1, 8, 28, 9, 6, 2, 4, 2, 9, 7, 10, 16, 7, 5, 6, 8, 2, 7, 7, 7, 7, 7, 16, 6, 10, 1, 6, 4, 11, 3, 11, 27, 9, 4, 4, 4, 12, 2, 18, 17, 12, 16, 22, 11, 6, 7, 16, 2, 8, 8, 8, 8, 8, 8, 30, 7, 15, 1, 13, 13, 14, 16, 4, 15, 15, 16, 3, 19, 11, 18, 1, 3, 6, 2, 15, 30, 15, 2, 5, 14, 1, 6, 10, 10, 3, 7, 17, 10, 20, 11, 5, 6, 7, 0, 10, 13, 4, 15, 4, 2, 5, 2, 2, 3, 2, 8, 22, 4, 3, 5, 2, 4, 3, 3, 1, 19, 8, 9, 9, 7, 13, 6, 2, 13, 18, 21, 4, 8, 3, 5, 22, 16, 5, 3, 30, 19, 8, 12, 4, 8, 1, 20, 7, 10, 12, 2, 2, 4, 2, 15, 2, 40, 12, 11, 17, 1, 11, 29, 6, 48, 8, 9, 14, 20, 21, 3, 4, 1, 6, 2, 16, 2, 27, 2, 7, 27, 2, 7, 26, 2, 6, 18, 9, 2, 6, 13, 4, 1, 3, 5, 21, 17, 7, 12, 0, 6, 6, 5, 5, 5, 3, 5, 2, 9, 7, 4, 3, 11, 2, 5, 8, 11, 3, 3, 16, 24, 20, 6, 6, 24, 7, 10, 3, 11, 3, 14, 12, 2, 1, 12, 20, 7, 2, 16, 2, 24, 5, 4, 4, 11, 10, 8, 8, 3, 7, 1, 3, 9, 8, 2, 23, 2, 9, 4, 2, 2, 7, 15, 11, 10, 13, 9, 15, 4, 13, 1, 16, 0, 1, 6, 6, 6, 11, 11, 4, 5, 19, 16, 15, 4, 8, 8, 25, 8, 18, 14, 11, 11, 8, 8, 8, 6, 7, 20, 20, 9, 3, 16, 5, 12, 9, 9, 9, 10, 20, 5, 6, 8, 7, 7, 7, 17, 6, 6, 7, 7, 19, 5, 9, 9, 8, 26, 1, 15, 13, 4, 21, 6, 11, 1, 8, 10, 5, 8, 7, 11, 8, 12, 5, 4, 14, 20, 8, 4, 27, 9, 14, 1, 12, 4, 5, 15, 13, 23, 4, 4, 9, 1, 7, 16, 2, 2, 6, 8, 5, 3, 15, 14, 7, 1, 3, 7, 10, 2, 6, 7, 2, 14, 8, 3, 31, 3, 6, 3, 24, 3, 13, 4, 7, 21, 21, 11, 3, 1, 20, 9, 3, 28, 4, 4, 15, 5, 1, 5, 16, 16, 3, 4, 4, 1, 9, 9, 8, 16, 0, 4, 5, 16, 37, 7, 7, 15, 14, 7, 7, 10, 10, 2, 3, 7, 7, 4, 10, 0, 4, 18, 6, 1, 12, 9, 4, 9, 1, 4, 5, 1, 5, 46, 4, 5, 1, 4, 5, 11, 7, 16, 10, 2, 18, 4, 10, 3, 4, 7, 7, 13, 13, 4, 3, 13, 2, 26, 12, 25, 5, 7, 7, 6, 3, 25, 6, 20, 1, 3, 31, 10, 2, 12, 13, 2, 27, 6, 27, 14, 2, 4, 5, 23, 10, 4, 4, 7, 17, 17, 6, 7, 7, 4, 7, 7, 23, 23, 8, 3, 20, 6, 17, 8, 10, 9, 6, 4, 14, 2, 2, 15, 2, 11, 18, 5, 22, 14, 30, 6, 57, 9, 14, 18, 12, 5, 20, 13, 2, 22, 13, 8, 3, 1, 4, 2, 39, 18, 14, 3, 60, 7, 30, 3, 14, 13, 13, 37, 4, 24, 3, 25, 5, 2, 4, 24, 12, 12, 20, 4, 22, 13, 13, 3, 10, 3, 17, 22, 4, 21, 12, 6, 1, 19, 0, 6, 24, 11, 27, 8, 27, 5, 5, 5, 4, 23, 12, 5, 3, 12, 5, 2, 26, 4, 4, 19, 12, 5, 8, 8, 6, 3, 28, 2, 10, 3, 15, 11, 10, 3, 5, 14, 2, 25, 11, 16, 1, 4, 0, 5, 9, 8, 7, 19, 4, 2, 5, 6, 2, 39, 7, 6, 21, 7, 11, 17, 2, 7, 37, 23, 20, 11, 9, 1, 21, 6, 20, 20, 9, 3, 6, 2, 2, 8, 32, 16, 17, 4, 7, 14, 2, 16, 8, 21, 29, 10, 5, 26, 15, 21, 24, 2, 4, 18, 2, 10, 20, 21, 18, 16, 7, 7, 2, 6, 3, 26, 15, 6, 7, 6, 5, 3, 2, 13, 3, 35, 5, 6, 8, 6, 6, 6, 27, 1, 8, 6, 4, 27, 6, 10, 20, 20, 15, 21, 8, 8, 10, 34, 14, 1, 6, 7, 17, 7, 7, 32, 8, 55, 4, 38, 14, 18, 5, 4, 7, 8, 10, 22, 1, 5, 17, 8, 12, 3, 50, 9, 10, 4, 7, 2, 19, 7, 7, 2, 6, 17, 3, 32, 7, 7, 23, 19, 9, 30, 7, 4, 3, 5, 30, 22, 11, 6, 1, 13, 2, 35, 7, 3, 16, 5, 19, 30, 14, 16, 0, 4, 4, 9, 29, 5, 20, 29, 2, 4, 27, 14, 8, 16, 23, 15, 6, 7, 1, 16, 3, 13, 22, 36, 18, 6, 10, 5, 2, 2, 3, 18, 9, 2, 10, 2, 8, 9, 21, 8, 19, 5, 10, 22, 31, 10, 9, 9, 21, 13, 10, 4, 2, 2, 8, 9, 2, 9, 8, 6, 17, 8, 13, 17, 6, 8, 8, 7, 10, 2, 59, 13, 7, 16, 11, 13, 7, 12, 16, 9, 6, 6, 11, 14, 12, 15, 6, 4, 22, 3, 30, 33, 5, 5, 1, 35, 8, 19, 14, 8, 13, 6, 3, 15, 2, 11, 19, 30, 7, 4, 14, 7, 2, 7, 12, 2, 51, 8, 5, 19, 0, 5, 11, 6, 4, 13, 13, 6, 3, 4, 9, 11, 19, 3, 27, 6, 10, 37, 6, 6, 34, 7, 38, 10, 23, 30, 9, 5, 30, 25, 5, 22, 11, 5, 14, 19, 10, 18, 4, 21, 3, 18, 3, 25, 6, 1, 13, 7, 20, 7, 6, 35, 11, 21, 8, 8, 8, 8, 8, 22, 9, 33, 9, 9, 33, 18, 7, 7, 7, 18, 7, 10, 3, 23, 6, 9, 3, 17, 3, 2, 13, 11, 11, 4, 17, 0, 4, 5, 15, 4, 10, 1, 9, 5, 12, 17, 28, 6, 8, 8, 4, 1, 6, 4, 17, 9, 3, 16, 7, 13, 13, 5, 3, 6, 16, 15, 1, 16, 4, 1, 2, 10, 3, 3, 3, 19, 7, 16, 2, 14, 4, 5, 6, 36, 1, 9, 8, 4, 17, 6, 22, 4, 5, 8, 1, 4, 6, 15, 8, 30, 20, 2, 4, 5, 3, 1, 3, 8, 13, 18, 3, 1, 37, 1, 15, 7, 6, 5, 15, 1, 4, 13, 4, 16, 4, 16, 10, 5, 9, 15, 12, 27, 7, 47, 10, 8, 5, 17, 5, 16, 3, 13, 5, 6, 5, 19, 5, 10, 1, 7, 8, 5, 6, 3, 6, 11, 9, 1, 5, 2, 12, 6, 14, 4, 14, 10, 3, 3, 36, 5, 6, 4, 8, 17, 13, 8, 12, 9, 3, 8, 2, 26, 5, 8, 13, 9, 9, 13, 36, 5, 15, 9, 19, 1, 22, 5, 14, 3, 17, 23, 11, 9, 16, 14, 6, 13, 16, 2, 36, 2, 30, 8, 4, 11, 2, 6, 19, 21, 5, 10, 8, 2, 7, 12, 2, 13, 9, 4, 19, 9, 10, 0, 13, 7, 17, 1, 12, 3, 19, 9, 3, 4, 10, 11, 4, 16, 11, 8, 12, 7, 3, 3, 29, 6, 10, 1, 20, 6, 12, 1, 11, 11, 5, 11, 16, 10, 6, 16, 4, 2, 5, 15, 0, 4, 4, 6, 2, 5, 15, 7, 12, 29, 4, 9, 28, 11, 8, 11, 5, 19, 11, 10, 4, 1, 4, 3, 5, 2, 23, 9, 30, 6, 24, 3, 5, 11, 11, 8, 3, 1, 14, 5, 3, 20, 8, 11, 1, 3, 2, 6, 2, 3, 6, 1, 19, 3, 21, 5, 30, 55, 20, 5, 9, 24, 22, 7, 4, 8, 14, 2, 17, 6, 4, 14, 13, 14, 4, 15, 29, 8, 32, 4, 11, 6, 6, 5, 32, 22, 19, 3, 27, 11, 7, 3, 17, 8, 3, 3, 16, 18, 4, 3, 22, 2, 3, 7, 4, 7, 12, 2, 19, 4, 1, 3, 18, 4, 7, 13, 2, 18, 12, 4, 16, 10, 10, 4, 6, 3, 9, 2, 45, 7, 9, 1, 1, 26, 13, 17, 6, 5, 5, 2, 2, 15, 1, 2, 24, 17, 10, 3, 15, 2, 9, 26, 7, 10, 6, 28, 1, 3, 8, 6, 3, 3, 1, 18, 4, 2, 2, 17, 28, 18, 19, 8, 8, 7, 19, 13, 2, 3, 42, 1, 4, 6, 1, 11, 8, 4, 25, 45, 43, 11, 10, 11, 36, 1, 19, 15, 18, 5, 11, 5, 21, 12, 7, 1, 14, 8, 7, 19, 4, 2, 19, 16, 2, 39, 2, 18, 26, 1, 8, 14, 6, 34, 4, 17, 5, 4, 10, 1, 12, 2, 16, 3, 16, 6, 2, 2, 25, 2, 17, 35, 16, 3, 5, 2, 18, 8, 9, 23, 12, 7, 29, 8, 12, 9, 7, 11, 14, 5, 5, 11, 9, 9, 27, 19, 6, 3, 20, 10, 10, 15, 12, 5, 17, 13, 11, 3, 17, 2, 20, 1, 3, 11, 15, 2, 2, 5, 2, 10, 13, 5, 9, 7, 44, 6, 22, 1, 23, 7, 10, 3, 17, 3, 3, 3, 11, 2, 2, 19, 17, 21, 4, 15, 16, 29, 7, 3, 14, 16, 23, 7, 2, 7, 28, 12, 4, 8, 16, 1, 6, 3, 9, 1, 20, 13, 13, 10, 12, 25, 9, 5, 6, 29, 3, 16, 4, 8, 1, 3, 9, 13, 2, 3, 17, 22, 5, 14, 25, 13, 7, 23, 5, 2, 13, 8, 2, 33, 6, 8, 12, 11, 5, 17, 5, 12, 1, 3, 14, 5, 6, 1, 3, 11, 14, 2, 12, 3, 5, 20, 18, 11, 1, 10, 7, 15, 7, 2, 8, 15, 2, 9, 4, 12, 34, 21, 13, 11, 12, 14, 20, 10, 18, 3, 4, 10, 11, 13, 2, 6, 4, 5, 10, 1, 10, 0, 5, 7, 15, 7, 5, 18, 16, 2, 2, 19, 7, 13, 6, 21, 1, 15, 10, 14, 6, 4, 17, 12, 5, 3, 9, 3, 12, 1, 3, 6, 13, 2, 20, 19, 14, 7, 7, 5, 17, 2, 4, 3, 12, 6, 1, 2, 16, 12, 9, 2, 4, 4, 15, 1, 9, 4, 17, 1, 12, 0, 11, 5, 3, 1, 4, 10, 8, 7, 5, 10, 6, 8, 3, 5, 3, 2, 20, 14, 13, 15, 10, 9, 6, 8, 8, 13, 1, 3, 1, 8, 27, 1, 6, 12, 18, 10, 7, 4, 9, 6, 8, 1, 11, 2, 6, 15, 17, 1, 3, 8, 24, 14, 8, 16, 0, 6, 6, 5, 5, 5, 3, 33, 6, 2, 22, 8, 19, 24, 2, 4, 5, 7, 4, 11, 11, 5, 11, 11, 6, 3, 7, 5, 14, 3, 17, 10, 11, 1, 6, 0, 7, 16, 8, 8, 8, 6, 16, 12, 2, 2, 16, 8, 6, 6, 1, 2, 2, 1, 18, 1, 9, 12, 18, 7, 9, 13, 1, 10, 23, 10, 12, 10, 12, 18, 7, 11, 11, 5, 9, 7, 14, 9, 12, 2, 3, 1, 3, 35, 20, 6, 7, 15, 6, 6, 7, 4, 2, 11, 8, 6, 2, 22, 11, 8, 15, 7, 22, 1, 24, 4, 12, 6, 13, 2, 13, 4, 17, 14, 8, 1, 5, 2, 4, 16, 13, 6, 9, 4, 6, 7, 4, 7, 11, 1, 11, 4, 20, 8, 16, 16, 10, 9, 8, 13, 3, 11, 2, 9, 15, 5, 13, 14, 1, 19, 29, 8, 8, 9, 14, 1, 11, 10, 10, 10, 4, 9, 12, 11, 7, 12, 7, 1, 19, 1, 5, 12, 8, 5, 2, 2, 25, 9, 5, 6, 6, 18, 1, 28, 11, 7, 1, 33, 4, 48, 4, 4, 19, 20, 13, 20, 13, 5, 16, 13, 10, 1, 19, 2, 21, 17, 7, 17, 6, 5, 17, 9, 2, 19, 7, 6, 1, 12, 5, 21, 3, 6, 10, 2, 6, 3, 9, 11, 2, 23, 8, 3, 6, 6, 5, 8, 7, 2, 13, 26, 2, 14, 6, 9, 40, 9, 24, 6, 13, 3, 6, 3, 12, 3, 2, 20, 12, 15, 4, 13, 9, 6, 14, 6, 8, 3, 19, 9, 11, 5, 11, 4, 10, 6, 8, 5, 2, 41, 6, 14, 8, 8, 12, 9, 13, 10, 6, 33, 10, 20, 1, 3, 7, 31, 16, 4, 21, 10, 10, 3, 15, 7, 27, 5, 2, 4, 3, 9, 6, 3, 2, 24, 16, 2, 14, 1, 21, 20, 11, 10, 8, 18, 3, 10, 4, 7, 20, 19, 5, 5, 13, 14, 7, 16, 10, 11, 0, 7, 23, 11, 14, 8, 6, 2, 5, 6, 3, 2, 8, 9, 15, 8, 34, 9, 7, 17, 24, 8, 8, 5, 5, 32, 5, 10, 3, 1, 15, 2, 2, 12, 0, 6, 8, 4, 1, 4, 5, 8, 21, 12, 16, 7, 7, 7, 2, 15, 17, 10, 3, 19, 17, 4, 6, 7, 9, 6, 1, 1, 6, 7, 12, 6, 8, 5, 2, 3, 2, 2, 29, 1, 13, 6, 4, 14, 2, 2, 16, 16, 6, 3, 14, 2, 13, 1, 13, 21, 1, 29, 36, 53, 8, 12, 12, 2, 17, 17, 18, 24, 12, 3, 6, 6, 16, 16, 5, 3, 33, 8, 30, 7, 4, 20, 7, 7, 3, 12, 7, 11, 12, 2, 16, 13, 6, 8, 21, 4, 19, 4, 2, 5, 8, 2, 4, 4, 15, 7, 11, 3, 15, 6, 19, 23, 2, 11, 5, 9, 12, 21, 17, 4, 2, 10, 2, 5, 11, 1, 2, 10, 7, 3, 9, 3, 5, 6, 16, 9, 6, 23, 9, 14, 7, 7, 4, 4, 23, 7, 16, 11, 13, 1, 10, 6, 3, 8, 2, 6, 17, 16, 16, 4, 28, 1, 15, 0, 7, 4, 10, 10, 5, 10, 5, 2, 11, 11, 18, 1, 14, 4, 10, 15, 7, 11, 25, 7, 11, 7, 1, 19, 4, 8, 5, 4, 5, 10, 13, 19, 16, 2, 4, 19, 13, 13, 3, 1, 8, 19, 6, 8, 1, 14, 6, 20, 8, 8, 8, 8, 7, 2, 6, 19, 1, 13, 14, 27, 17, 20, 8, 1, 1, 8, 7, 10, 13, 2, 12, 2, 2, 21, 8, 3, 28, 36, 2, 28, 6, 47, 6, 25, 19, 2, 7, 16, 14, 14, 8, 18, 1, 3, 16, 16, 15, 1, 27, 9, 9, 6, 9, 8, 3, 19, 2, 13, 8, 36, 4, 10, 5, 23, 20, 6, 3, 16, 3, 14, 7, 27, 5, 5, 6, 8, 5, 4, 22, 18, 3, 3, 10, 10, 7, 3, 23, 2, 22, 25, 18, 2, 5, 6, 2, 3, 3, 27, 12, 3, 4, 4, 28, 3, 19, 10, 2, 16, 5, 23, 1, 12, 9, 5, 3, 13, 12, 5, 3, 11, 14, 2, 10, 4, 4, 14, 8, 2, 5, 26, 5, 13, 5, 19, 1, 5, 2, 4, 2, 1, 6, 6, 5, 20, 4, 15, 6, 22, 19, 8, 13, 4, 22, 2, 17, 0, 5, 23, 6, 6, 7, 4, 7, 23, 15, 11, 32, 7, 5, 14, 8, 3, 2, 1, 5, 3, 18, 13, 4, 3, 19, 10, 10, 11, 13, 6, 6, 6, 2, 4, 13, 18, 4, 5, 10, 15, 6, 13, 16, 9, 12, 13, 6, 20, 10, 15, 6, 12, 2, 2, 19, 10, 7, 12, 9, 14, 7, 14, 8, 29, 15, 26, 7, 4, 13, 8, 2, 19, 4, 14, 1, 3, 2, 10, 2, 4, 2, 3, 8, 13, 5, 14, 5, 19, 4, 6, 1, 18, 6, 17, 12, 7, 4, 4, 2, 12, 9, 7, 21, 1, 9, 1, 6, 4, 13, 6, 3, 7, 11, 2, 13, 5, 18, 0, 14, 20, 8, 13, 7, 17, 12, 12, 22, 2, 6, 5, 16, 2, 3, 3, 1, 21, 1, 11, 11, 15, 6, 9, 3, 5, 7, 16, 6, 2, 5, 2, 16, 5, 5, 1, 5, 4, 7, 21, 2, 9, 5, 28, 6, 38, 23, 2, 28, 7, 7, 10, 8, 1, 5, 23, 16, 6, 3, 16, 6, 7, 1, 3, 3, 3, 21, 30, 5, 3, 5, 11, 18, 2, 8, 4, 5, 3, 28, 10, 5, 5, 16, 2, 5, 28, 1, 12, 12, 14, 21, 11, 5, 7, 13, 9, 4, 10, 5, 2, 20, 2, 3, 14, 7, 7, 29, 11, 6, 11, 5, 2, 14, 21, 11, 3, 22, 4, 1, 23, 11, 13, 0, 6, 9, 1, 24, 8, 13, 3, 8, 25, 4, 4, 10, 2, 12, 3, 18, 7, 9, 1, 5, 19, 1, 11, 7, 2, 5, 12, 15, 3, 3, 2, 9, 3, 16, 3, 7, 10, 8, 6, 14, 7, 10, 1, 14, 8, 16, 3, 7, 9, 2, 9, 17, 13, 26, 6, 3, 8, 6, 10, 1, 4, 9, 2, 16, 2, 2, 9, 3, 3, 19, 7, 5, 16, 7, 15, 19, 13, 28, 7, 7, 15, 2, 2, 24, 12, 9, 3, 8, 20, 24, 23, 2, 4, 4, 5, 20, 2, 9, 4, 4, 16, 2, 9, 2, 7, 3, 14, 5, 20, 4, 5, 1, 29, 6, 20, 1, 4, 9, 2, 18, 8, 29, 25, 4, 4, 4, 2, 22, 10, 23, 4, 16, 1, 2, 20, 2, 6, 14, 6, 4, 3, 1, 2, 2, 26, 2, 7, 23, 5, 1, 10, 4, 1, 6, 5, 13, 14, 3, 22, 19, 12, 3, 10, 9, 2, 20, 2, 22, 22, 2, 4, 4, 6, 11, 2, 11, 4, 17, 5, 13, 7, 23, 6, 23, 25, 8, 23, 2, 2, 9, 5, 21, 3, 8, 7, 10, 26, 17, 6, 5, 1, 5, 5, 6, 12, 2, 3, 26, 2, 4, 10, 2, 18, 21, 11, 9, 12, 13, 8, 6, 12, 2, 10, 5, 6, 21, 24, 5, 6, 1, 18, 2, 19, 13, 7, 5, 16, 3, 2, 8, 17, 3, 27, 11, 14, 6, 17, 3, 7, 17, 37, 2, 10, 4, 17, 10, 8, 11, 6, 14, 19, 4, 23, 3, 15, 0, 1, 4, 4, 10, 8, 2, 17, 13, 3, 7, 0, 12, 5, 14, 2, 3, 3, 7, 5, 2, 2, 2, 11, 19, 5, 6, 16, 7, 7, 7, 2, 6, 12, 15, 3, 26, 3, 10, 6, 10, 3, 5, 25, 17, 5, 3, 18, 9, 2, 5, 5, 5, 11, 21, 5, 18, 9, 13, 17, 3, 26, 8, 22, 20, 19, 9, 11, 5, 2, 7, 12, 2, 8, 6, 16, 11, 12, 15, 9, 25, 3, 28, 9, 26, 22, 2, 13, 17, 21, 3, 20, 16, 11, 14, 1, 1, 4, 18, 12, 19, 5, 5, 5, 8, 7, 4, 25, 7, 5, 3, 55, 25, 2, 8, 12, 2, 9, 10, 3, 8, 8, 22, 6, 19, 0, 4, 16, 5, 3, 3, 2, 5, 6, 10, 13, 20, 23, 6, 19, 1, 3, 4, 16, 22, 4, 7, 2, 16, 3, 15, 15, 14, 14, 14, 1, 5, 23, 15, 17, 28, 22, 3, 26, 7, 7, 8, 10, 2, 1, 8, 11, 5, 29, 4, 31, 34, 49, 20, 4, 9, 16, 3, 3, 32, 19, 5, 10, 1, 21, 5, 20, 3, 18, 8, 2, 3, 7, 14, 19, 16, 25, 6, 24, 2, 2, 12, 9, 5, 28, 2, 12, 5, 25, 2, 5, 9, 7, 5, 22, 38, 15, 3, 13, 10, 6, 15, 11, 15, 7, 7, 13, 7, 13, 3, 2, 13, 2, 8, 4, 9, 18, 4, 16, 1, 14, 14, 11, 3, 13, 7, 14, 29, 2, 5, 5, 14, 14, 12, 3, 1, 12, 2, 8, 7, 33, 1, 4, 0, 16, 5, 25, 7, 2, 41, 4, 18, 4, 6, 7, 20, 7, 12, 12, 6, 3, 15, 6, 8, 2, 5, 17, 5, 29, 7, 10, 0, 28, 17, 5, 4, 8, 2, 13, 4, 0, 11, 3, 29, 11, 8, 7, 14, 5, 10, 10, 2, 11, 9, 22, 4, 19, 9, 30, 7, 17, 12, 6, 3, 17, 6, 2, 3, 11, 2, 49, 6, 9, 35, 16, 13, 7, 18, 8, 21, 10, 2, 47, 5, 3, 33, 7, 14, 7, 17, 9, 9, 4, 15, 2, 15, 7, 24, 4, 10, 15, 4, 6, 3, 12, 2, 11, 3, 3, 3, 49, 7, 5, 3, 7, 11, 11, 3, 16, 8, 2, 23, 10, 2, 9, 31, 19, 13, 7, 1, 14, 1, 10, 34, 8, 15, 7, 5, 25, 18, 15, 6, 17, 31, 6, 16, 4, 1, 16, 2, 14, 2, 2, 25, 5, 5, 1, 9, 9, 14, 6, 7, 2, 2, 17, 27, 7, 18, 3, 5, 3, 8, 6, 25, 16, 20, 3, 6, 11, 10, 20, 8, 12, 6, 15, 2, 2, 15, 7, 8, 17, 7, 17, 14, 36, 8, 8, 8, 6, 15, 15, 11, 28, 7, 19, 3, 19, 44, 15, 5, 5, 5, 2, 15, 2, 24, 16, 16, 5, 20, 18, 2, 3, 1, 8, 5, 2, 20, 8, 4, 2, 17, 14, 5, 12, 3, 2, 6, 17, 9, 3, 2, 2, 38, 30, 7, 5, 19, 19, 8, 3, 16, 8, 22, 1, 16, 0, 12, 5, 18, 7, 2, 7, 6, 7, 1, 7, 0, 5, 13, 8, 7, 24, 6, 12, 3, 30, 3, 17, 6, 18, 1, 18, 6, 34, 1, 9, 7, 9, 3, 13, 16, 13, 4, 9, 5, 21, 15, 2, 24, 4, 16, 3, 14, 22, 15, 3, 10, 4, 14, 12, 35, 27, 5, 5, 1, 6, 2, 3, 14, 3, 1, 11, 18, 16, 13, 8, 6, 20, 6, 7, 1, 2, 8, 21, 3, 27, 6, 21, 1, 21, 8, 13, 18, 18, 5, 19, 14, 10, 13, 18, 3, 10, 16, 1, 7, 1, 5, 6, 17, 1, 15, 35, 8, 13, 18, 21, 1, 10, 6, 2, 2, 8, 10, 16, 4, 8, 3, 5, 24, 14, 5, 3, 8, 2, 13, 10, 7, 8, 1, 11, 5, 7, 9, 9, 20, 23, 12, 5, 35, 9, 17, 20, 2, 4, 11, 8, 15, 18, 20, 5, 6, 10, 24, 15, 9, 5, 15, 15, 4, 3, 25, 3, 3, 5, 1, 4, 11, 2, 2, 19, 10, 15, 1, 19, 0, 5, 19, 15, 7, 5, 14, 9, 2, 2, 14, 7, 15, 6, 23, 1, 10, 9, 2, 16, 15, 7, 3, 1, 12, 11, 3, 3, 11, 11, 8, 2, 14, 4, 15, 24, 7, 24, 11, 5, 5, 4, 2, 2, 9, 10, 17, 1, 5, 23, 7, 16, 3, 9, 3, 9, 9, 9, 13, 6, 4, 13, 2, 14, 11, 27, 27, 5, 5, 17, 11, 8, 19, 4, 15, 4, 20, 10, 8, 2, 12, 6, 14, 6, 2, 2, 9, 42, 5, 14, 5, 4, 5, 15, 10, 9, 7, 12, 7, 12, 11, 5, 6, 8, 9, 6, 26, 22, 2, 11, 6, 9, 20, 24, 7, 16, 7, 9, 9, 2, 3, 14, 8, 8, 15, 7, 15, 7, 21, 1, 9, 4, 2, 23, 9, 8, 8, 13, 15, 7, 7, 24, 4, 12, 8, 6, 1, 5, 11, 1, 17, 8, 2, 1, 5, 17, 10, 18, 4, 16, 7, 9, 16, 9, 15, 3, 12, 1, 3, 3, 2, 6, 28, 8, 2, 26, 15, 7, 1, 1, 18, 2, 2, 4, 12, 6, 7, 5, 5, 8, 13, 13, 6, 8, 5, 16, 1, 7, 10, 2, 4, 10, 6, 10, 10, 5, 3, 34, 1, 11, 13, 21, 1, 1, 6, 6, 23, 9, 7, 3, 13, 13, 2, 26, 10, 8, 21, 7, 21, 7, 22, 1, 33, 9, 42, 1, 3, 5, 21, 23, 4, 22, 9, 5, 13, 15, 25, 3, 6, 6, 6, 2, 24, 6, 20, 30, 17, 8, 6, 24, 3, 7, 17, 19, 10, 7, 7, 21, 11, 4, 3, 20, 9, 7, 9, 28, 17, 6, 11, 6, 6, 0, 5, 4, 22, 1, 11, 11, 23, 27, 6, 10, 6, 22, 28, 1, 20, 7, 6, 6, 6, 4, 16, 17, 19, 7, 29, 16, 7, 15, 1, 13, 3, 16, 20, 13, 5, 14, 1, 10, 2, 21, 13, 7, 5, 2, 7, 2, 13, 17, 2, 20, 5, 1, 11, 7, 15, 10, 6, 6, 1, 3, 6, 4, 33, 3, 10, 3, 11, 3, 13, 4, 18, 8, 6, 30, 2, 23, 7, 6, 3, 4, 11, 2, 30, 5, 5, 14, 4, 8, 1, 7, 0, 2, 13, 1, 14, 4, 47, 6, 14, 9, 9, 7, 1, 19, 12, 51, 9, 4, 8, 11, 26, 12, 7, 16, 7, 10, 1, 20, 20, 2, 28, 4, 7, 7, 15, 1, 2, 8, 6, 5, 17, 15, 13, 5, 5, 11, 3, 14, 1, 8, 1, 4, 23, 1, 5, 17, 22, 7, 2, 21, 1, 14, 13, 12, 3, 21, 11, 10, 25, 16, 2, 16, 4, 2, 27, 19, 5, 3, 25, 11, 21, 29, 2, 4, 18, 13, 12, 11, 4, 15, 11, 7, 17, 6, 6, 6, 17, 6, 13, 3, 20, 5, 9, 12, 9, 21, 6, 11, 3, 19, 9, 14, 5, 13, 3, 2, 18, 11, 2, 18, 14, 5, 3, 10, 18, 6, 15, 3, 4, 5, 3, 3, 13, 4, 8, 8, 6, 3, 1, 6, 6, 3, 1, 13, 13, 5, 13, 5, 21, 1, 22, 8, 19, 23, 7, 3, 14, 6, 17, 4, 2, 10, 4, 4, 1, 10, 4, 17, 3, 3, 3, 7, 3, 19, 10, 13, 10, 7, 7, 9, 3, 9, 3, 11, 15, 7, 6, 10, 31, 41, 49, 6, 10, 11, 15, 7, 11, 10, 2, 11, 24, 16, 8, 21, 7, 19, 1, 9, 20, 10, 3, 2, 1, 11, 12, 2, 26, 2, 3, 6, 13, 9, 6, 7, 1, 5, 6, 2, 20, 4, 13, 1, 19, 0, 8, 8, 6, 22, 8, 21, 10, 6, 5, 22, 2, 14, 32, 18, 6, 18, 12, 1, 8, 13, 1, 4, 25, 2, 20, 12, 4, 2, 11, 15, 5, 20, 1, 9, 13, 2, 2, 7, 19, 2, 3, 15, 2, 5, 5, 12, 10, 11, 5, 5, 8, 11, 9, 24, 17, 16, 30, 4, 5, 6, 4, 2, 12, 4, 2, 21, 26, 2, 3, 9, 18, 15, 7, 18, 5, 18, 1, 4, 19, 2, 10, 3, 22, 10, 4, 8, 17, 2, 28, 19, 19, 6, 4, 8, 1, 10, 0, 2, 20, 1, 17, 4, 16, 6, 7, 3, 55, 21, 10, 35, 6, 21, 14, 36, 8, 10, 3, 2, 2, 5, 10, 2, 4, 4, 53, 19, 6, 15, 1, 4, 27, 13, 7, 8, 16, 5, 2, 14, 9, 24, 9, 11, 6, 14, 3, 12, 9, 17, 3, 14, 6, 2, 9, 5, 20, 11, 25, 7, 7, 20, 8, 6, 3, 7, 16, 12, 5, 11, 16, 7, 7, 16, 3, 3, 6, 8, 5, 2, 2, 10, 3, 21, 6, 8, 8, 6, 1, 3, 3, 3, 5, 17, 14, 10, 10, 11, 7, 4, 7, 7, 18, 13, 10, 24, 4, 10, 7, 14, 3, 13, 7, 1, 9, 7, 4, 7, 8, 2, 5, 2, 23, 25, 7, 5, 5, 5, 2, 17, 0, 4, 20, 1, 14, 4, 24, 12, 14, 24, 6, 10, 1, 14, 7, 25, 1, 16, 18, 2, 10, 10, 14, 17, 9, 10, 1, 10, 7, 23, 9, 15, 1, 3, 1, 20, 16, 2, 9, 4, 20, 12, 17, 4, 1, 13, 7, 7, 15, 8, 14, 5, 12, 7, 7, 31, 6, 30, 6, 4, 9, 15, 5, 16, 9, 4, 5, 10, 38, 12, 2, 4, 13, 10, 9, 15, 15, 3, 3, 1, 21, 2, 25, 13, 3, 4, 12, 9, 9, 1, 7, 42, 20, 8, 12, 24, 7, 6, 14, 8, 2, 3, 27, 12, 4, 4, 4, 12, 2, 27, 10, 27, 10, 2, 4, 19, 8, 11, 24, 9, 2, 2, 6, 13, 5, 7, 7, 2, 6, 3, 12, 0, 6, 14, 1, 16, 14, 11, 6, 16, 6, 6, 11, 13, 7, 6, 4, 1, 2, 7, 12, 4, 3, 21, 5, 2, 24, 13, 14, 4, 21, 21, 10, 3, 9, 38, 1, 13, 9, 21, 5, 6, 18, 2, 11, 11, 16, 20, 19, 7, 6, 10, 2, 2, 15, 14, 2, 5, 4, 12, 10, 10, 5, 27, 1, 31, 15, 22, 9, 8, 3, 19, 6, 6, 8, 6, 3, 52, 11, 5, 8, 17, 9, 6, 36, 2, 18, 10, 16, 3, 12, 6, 14, 1, 4, 11, 2, 9, 0, 6, 8, 19, 4, 24, 3, 4, 19, 24, 9, 6, 3, 9, 2, 44, 6, 21, 11, 2, 13, 5, 2, 8, 9, 3, 24, 7, 17, 5, 16, 8, 6, 25, 3, 14, 1, 3, 24, 8, 14, 24, 4, 7, 13, 6, 1, 14, 0, 6, 23, 9, 11, 8, 6, 25, 1, 18, 15, 7, 5, 4, 9, 2, 15, 14, 21, 11, 4, 12, 6, 2, 15, 4, 16, 15, 11, 7, 6, 13, 2, 2, 8, 12, 2, 12, 12, 12, 4, 4, 2, 1, 5, 0, 3, 10, 1, 9, 7, 8, 6, 9, 11, 12, 3, 31, 12, 14, 32, 6, 27, 9, 7, 9, 2, 2, 14, 13, 2, 52, 2, 12, 20, 29, 3, 21, 6, 4, 11, 6, 3, 22, 15, 11, 7, 4, 8, 1, 17, 5, 2, 28, 4, 19, 7, 11, 1, 2, 8, 6, 15, 4, 5, 15, 7, 7, 1, 22, 1, 7, 21, 11, 22, 3, 4, 7, 2, 30, 22, 1, 18, 3, 16, 8, 2, 6, 6, 18, 8, 22, 15, 6, 11, 1, 18, 5, 22, 16, 9, 3, 19, 6, 7, 1, 11, 4, 2, 21, 15, 13, 9, 5, 18, 1, 6, 19, 6, 6, 3, 12, 3, 19, 6, 8, 5, 15, 11, 2, 18, 7, 11, 6, 6, 10, 4, 9, 5, 5, 5, 7, 20, 2, 9, 0, 10, 33, 38, 49, 19, 11, 20, 2, 6, 15, 20, 12, 5, 22, 12, 5, 5, 5, 2, 4, 1, 2, 6, 14, 9, 2, 4, 6, 5, 20, 8, 20, 2, 18, 4, 17, 5, 17, 3, 10, 5, 11, 0, 14, 31, 20, 6, 11, 9, 9, 14, 11, 1, 13, 6, 16, 16, 7, 16, 21, 15, 6, 12, 2, 16, 21, 17, 8, 6, 12, 1, 9, 10, 2, 5, 8, 15, 29, 11, 5, 23, 1, 4, 5, 4, 32, 20, 8, 14, 34, 5, 19, 7, 13, 15, 11, 15, 1, 3, 14, 2, 9, 11, 4, 2, 7, 19, 5, 4, 8, 2, 9, 7, 6, 3, 9, 1, 5, 10, 18, 2, 2, 7, 2, 13, 5, 28, 18, 4, 3, 6, 9, 2, 21, 4, 2, 17, 11, 4, 11, 2, 20, 1, 5, 7, 4, 11, 4, 4, 19, 5, 15, 4, 4, 2, 15, 12, 5, 4, 9, 13, 6, 8, 8, 9, 6, 5, 8, 4, 3, 15, 2, 17, 1, 3, 3, 15, 2, 16, 7, 13, 4, 8, 5, 2, 2, 7, 8, 13, 10, 3, 1, 12, 6, 37, 8, 22, 7, 6, 12, 12, 7, 6, 1, 17, 2, 15, 11, 16, 1, 4, 0, 5, 8, 9, 7, 5, 14, 16, 2, 2, 17, 7, 5, 15, 17, 5, 3, 6, 17, 9, 10, 8, 8, 6, 2, 3, 6, 3, 21, 3, 13, 7, 13, 5, 8, 11, 11, 3, 24, 6, 28, 11, 7, 5, 24, 1, 2, 8, 8, 3, 22, 12, 19, 17, 11, 5, 9, 1, 19, 5, 17, 7, 21, 7, 6, 12, 12, 12, 3, 13, 16, 19, 2, 28, 4, 52, 12, 14, 26, 6, 11, 4, 6, 39, 10, 2, 5, 1, 5, 6, 41, 31, 40, 55, 16, 7, 21, 18, 31, 3, 20, 3, 21, 3, 20, 14, 15, 5, 15, 5, 29, 18, 2, 7, 12, 5, 3, 10, 5, 19, 10, 8, 9, 7, 12, 8, 3, 1, 8, 2, 12, 3, 11, 11, 2, 28, 24, 13, 24, 13, 5, 12, 5, 5, 9, 25, 2, 13, 6, 11, 3, 2, 1, 9, 15, 8, 3, 3, 7, 8, 13, 7, 14, 2, 3, 3, 12, 28, 23, 3, 11, 6, 9, 3, 6, 18, 42, 46, 5, 5, 3, 19, 1, 6, 4, 13, 14, 17, 7, 11, 11, 17, 1, 3, 20, 6, 2, 3, 16, 4, 12, 10, 11, 4, 3, 5, 6, 14, 8, 19, 3, 7, 11, 6, 9, 13, 7, 4, 1, 6, 6, 1, 8, 7, 8, 3, 6, 5, 20, 1, 6, 0, 7, 11, 8, 8, 8, 6, 10, 12, 2, 2, 11, 8, 6, 14, 7, 21, 1, 11, 5, 2, 9, 2, 11, 0, 14, 13, 13, 6, 6, 6, 2, 21, 13, 2, 3, 2, 15, 4, 3, 3, 14, 10, 8, 13, 8, 2, 1, 12, 7, 2, 21, 16, 7, 8, 7, 5, 5, 2, 4, 3, 17, 15, 6, 7, 14, 5, 1, 9, 10, 3, 14, 14, 4, 10, 12, 12, 13, 7, 2, 2, 2, 29, 13, 15, 13, 12, 15, 11, 4, 15, 2, 9, 9, 6, 3, 2, 36, 2, 6, 45, 12, 5, 19, 1, 7, 6, 2, 15, 13, 8, 18, 8, 11, 6, 62, 5, 4, 3, 21, 9, 9, 34, 4, 22, 11, 5, 8, 4, 16, 3, 3, 1, 7, 4, 18, 1, 35, 22, 8, 6, 7, 5, 2, 2, 19, 4, 7, 8, 17, 6, 7, 22, 4, 3, 14, 1, 9, 12, 8, 18, 16, 9, 19, 1, 15, 15, 9, 3, 1, 9, 9, 11, 3, 4, 7, 1, 11, 3, 2, 27, 15, 8, 10, 10, 6, 6, 12, 2, 2, 10, 12, 4, 8, 15, 0, 14, 12, 7, 2, 11, 14, 10, 4, 22, 8, 2, 9, 12, 10, 24, 7, 5, 11, 2, 41, 13, 14, 14, 23, 7, 18, 1, 12, 13, 26, 6, 4, 12, 9, 17, 3, 21, 3, 25, 3, 21, 18, 19, 11, 19, 13, 18, 7, 15, 1, 17, 3, 13, 5, 7, 1, 12, 32, 7, 59, 0, 48, 4, 20, 4, 22, 10, 22, 5, 12, 21, 7, 7, 7, 5, 14, 3, 8, 15, 2, 22, 15, 1, 9, 16, 23, 7, 6, 49, 5, 13, 1, 24, 21, 11, 11, 4, 21, 27, 7, 15, 17, 11, 17, 13, 18, 5, 6, 5, 22, 5, 2, 12, 11, 2, 32, 18, 10, 15, 6, 6, 6, 43, 2, 3, 16, 7, 10, 11, 5, 3, 4, 2, 14, 8, 2, 1, 28, 10, 5, 13, 7, 5, 28, 3, 3, 19, 5, 42, 6, 5, 5, 2, 15, 5, 3, 23, 9, 15, 12, 14, 8, 20, 3, 23, 1, 5, 0, 1, 4, 11, 3, 2, 41, 4, 23, 32, 14, 5, 16, 23, 5, 1, 3, 4, 9, 2, 21, 2, 12, 1, 3, 9, 11, 1, 4, 1, 5, 7, 5, 9, 4, 5, 1, 6, 0, 7, 13, 7, 7, 8, 2, 16, 3, 44, 16, 18, 16, 6, 17, 10, 7, 9, 2, 2, 11, 12, 2, 23, 2, 12, 15, 31, 3, 24, 6, 8, 8, 2, 6, 14, 6, 4, 4, 19, 6, 2, 2, 4, 9, 11, 22, 5, 24, 9, 8, 3, 8, 2, 2, 33, 20, 3, 22, 1, 10, 17, 12, 4, 4, 7, 3, 5, 5, 4, 4, 25, 10, 3, 7, 5, 8, 8, 7, 10, 6, 4, 15, 2, 14, 16, 6, 13, 8, 7, 1, 3, 14, 12, 8, 3, 16, 5, 2, 14, 5, 5, 14, 14, 9, 7, 7, 25, 3, 3, 16, 14, 8, 33, 4, 7, 4, 23, 10, 15, 22, 9, 11, 8, 8, 8, 10, 2, 19, 27, 2, 5, 1, 10, 15, 2, 15, 4, 17, 1, 11, 3, 9, 32, 0, 60, 40, 62, 62, 27, 25, 12, 26, 27, 18, 21, 4, 18, 13, 2, 8, 4, 17, 21, 8, 5, 17, 19, 8, 9, 18, 25, 10, 7, 31, 7, 7, 8, 4, 14, 21, 6, 1, 13, 0, 6, 9, 9, 7, 7, 9, 7, 9, 23, 6, 6, 15, 6, 11, 4, 4, 4, 10, 9, 2, 4, 4, 4, 13, 13, 2, 3, 9, 25, 5, 8, 10, 13, 3, 9, 18, 8, 35, 1, 19, 33, 6, 3, 9, 9, 17, 17, 13, 11, 6, 16, 5, 18, 0, 19, 4, 3, 1, 30, 9, 17, 18, 11, 5, 11, 7, 18, 3, 4, 12, 16, 20, 5, 8, 6, 8, 2, 2, 16, 11, 2, 4, 10, 8, 1, 62, 4, 37, 1, 40, 7, 9, 22, 4, 7, 1, 18, 14, 2, 17, 7, 7, 3, 13, 2, 2, 20, 15, 3, 0, 10, 4, 7, 7, 4, 3, 1, 17, 2, 3, 2, 2, 10, 3, 24, 12, 9, 5, 10, 8, 3, 2, 4, 4, 17, 5, 8, 3, 12, 9, 23, 14, 4, 22, 9, 20, 30, 2, 4, 7, 15, 3, 3, 21, 8, 32, 4, 4, 12, 2, 9, 16, 2, 15, 7, 3, 3, 6, 4, 15, 2, 9, 11, 14, 3, 9, 3, 5, 12, 4, 32, 9, 10, 5, 17, 1, 2, 20, 6, 12, 4, 2, 20, 10, 24, 4, 11, 5, 44, 17, 2, 6, 4, 2, 28, 7, 7, 17, 15, 18, 6, 16, 8, 13, 10, 34, 6, 6, 9, 6, 7, 9, 5, 16, 3, 9, 3, 16, 8, 4, 10, 8, 16, 2, 10, 6, 6, 23, 3, 24, 42, 8, 5, 5, 5, 2, 1, 3, 17, 17, 3, 3, 13, 2, 9, 6, 2, 18, 0, 13, 3, 37, 2, 17, 31, 12, 5, 6, 17, 2, 3, 16, 20, 4, 11, 5, 13, 14, 2, 8, 13, 2, 14, 4, 7, 3, 22, 14, 16, 1, 3, 6, 7, 8, 0, 7, 46, 5, 48, 4, 7, 17, 17, 25, 3, 18, 10, 8, 50, 8, 12, 12, 16, 28, 9, 7, 13, 5, 25, 10, 7, 7, 4, 19, 7, 28, 1, 9, 1, 28, 14, 19, 4, 4, 14, 11, 2, 22, 4, 13, 4, 21, 22, 34, 7, 10, 5, 6, 3, 20, 6, 4, 17, 4, 19, 10, 7, 12, 6, 5, 13, 30, 1, 25, 5, 19, 5, 9, 7, 2, 13, 2, 42, 5, 10, 11, 6, 7, 6, 2, 7, 9, 1, 2, 17, 4, 13, 4, 7, 25, 15, 5, 5, 14, 12, 7, 49, 10, 21, 22, 2, 19, 14, 6, 21, 26, 11, 17, 11, 20, 14, 10, 5, 4, 16, 11, 19, 6, 6, 31, 13, 3, 3, 8, 8, 2, 10, 4, 13, 2, 18, 29, 4, 4, 1, 5, 12, 9, 15, 33, 10, 5, 10, 7, 15, 3, 9, 8, 18, 7, 18, 5, 3, 1, 15, 5, 8, 3, 20, 15, 17, 21, 11, 6, 6, 9, 1, 3, 3, 2, 1, 18, 16, 6, 17, 9, 4, 3, 7, 6, 7, 3, 15, 2, 16, 4, 2, 22, 12, 9, 9, 11, 6, 10, 10, 8, 12, 1, 32, 9, 4, 8, 4, 6, 7, 24, 19, 7, 7, 19, 7, 33, 13, 10, 7, 4, 6, 1, 16, 0, 2, 17, 1, 9, 3, 2, 4, 49, 20, 4, 17, 10, 10, 14, 8, 8, 19, 3, 7, 3, 58, 13, 25, 1, 18, 1, 17, 5, 21, 3, 16, 23, 16, 11, 6, 1, 4, 13, 3, 14, 2, 23, 6, 5, 3, 14, 6, 15, 8, 3, 3, 15, 11, 15, 1, 15, 1, 27, 5, 13, 3, 20, 6, 12, 10, 17, 7, 13, 1, 10, 14, 2, 17, 4, 7, 7, 19, 1, 2, 8, 6, 10, 35, 10, 20, 8, 13, 6, 25, 1, 12, 11, 11, 1, 25, 2, 8, 16, 8, 7, 8, 1, 10, 5, 7, 6, 2, 36, 1, 11, 15, 22, 3, 25, 11, 17, 11, 7, 3, 17, 1, 3, 7, 2, 23, 1, 13, 4, 23, 3, 3, 3, 4, 17, 7, 29, 5, 5, 25, 22, 6, 3, 15, 1, 32, 11, 2, 20, 1, 4, 1, 8, 7, 1, 2, 14, 13, 3, 5, 1, 4, 29, 3, 25, 31, 2, 4, 25, 9, 13, 8, 18, 10, 36]\n"
     ]
    },
    {
     "data": {
      "text/plain": [
       "True"
      ]
     },
     "execution_count": 29,
     "metadata": {},
     "output_type": "execute_result"
    }
   ],
   "source": [
    "alf = sorted(list(set(txt2)));print(len(alf))\n",
    "cod = encode_move_to_front(txt2);\n",
    "print(\"codi =\",cod);\n",
    "txt2 == decode_move_to_front(cod,alf)"
   ]
  },
  {
   "cell_type": "code",
   "execution_count": 14,
   "id": "ad0efe48",
   "metadata": {},
   "outputs": [
    {
     "name": "stdout",
     "output_type": "stream",
     "text": [
      "[(1, 0, 'a'), (1, 18, 'a')]\n"
     ]
    },
    {
     "data": {
      "text/plain": [
       "True"
      ]
     },
     "execution_count": 14,
     "metadata": {},
     "output_type": "execute_result"
    }
   ],
   "source": [
    "txt=20*\"a\";\n",
    "tok=LZ77_encode(txt,100,100);\n",
    "print(tok)\n",
    "LZ77_decode(tok)==txt"
   ]
  },
  {
   "cell_type": "code",
   "execution_count": 15,
   "id": "243db554",
   "metadata": {},
   "outputs": [
    {
     "name": "stdout",
     "output_type": "stream",
     "text": [
      "['a', 'a', 'a', 'a', 'a', 'a', 'a', 'a', 'a', 'a', 'a', 'a', 'a', 'a', 'a', 'a', 'a', 'a', 'a', 'a']\n"
     ]
    },
    {
     "data": {
      "text/plain": [
       "True"
      ]
     },
     "execution_count": 15,
     "metadata": {},
     "output_type": "execute_result"
    }
   ],
   "source": [
    "tok=LZSS_encode(txt,100,100,5);\n",
    "print(tok)\n",
    "LZSS_decode(tok)==txt"
   ]
  },
  {
   "cell_type": "code",
   "execution_count": 17,
   "id": "ac2dc705",
   "metadata": {},
   "outputs": [
    {
     "name": "stdout",
     "output_type": "stream",
     "text": [
      "[(0, 'a'), (1, 'a'), (2, 'a'), (3, 'a'), (4, 'a'), (5, '')]\n"
     ]
    },
    {
     "data": {
      "text/plain": [
       "True"
      ]
     },
     "execution_count": 17,
     "metadata": {},
     "output_type": "execute_result"
    }
   ],
   "source": [
    "tok=LZ78_encode(txt);\n",
    "print(tok)\n",
    "LZ78_decode(tok)==txt"
   ]
  },
  {
   "cell_type": "code",
   "execution_count": 18,
   "id": "d8b4ca6b",
   "metadata": {},
   "outputs": [
    {
     "name": "stdout",
     "output_type": "stream",
     "text": [
      "[0, 1, 2, 3, 4, 4]\n"
     ]
    },
    {
     "data": {
      "text/plain": [
       "True"
      ]
     },
     "execution_count": 18,
     "metadata": {},
     "output_type": "execute_result"
    }
   ],
   "source": [
    "tok=LZW_encode(txt);\n",
    "print(tok)\n",
    "LZW_decode(tok,[\"a\"])==txt"
   ]
  },
  {
   "cell_type": "code",
   "execution_count": 19,
   "id": "e477039b",
   "metadata": {},
   "outputs": [
    {
     "name": "stdout",
     "output_type": "stream",
     "text": [
      "[(1, 0, 'a'), (1, 19, 'b')]\n"
     ]
    },
    {
     "data": {
      "text/plain": [
       "True"
      ]
     },
     "execution_count": 19,
     "metadata": {},
     "output_type": "execute_result"
    }
   ],
   "source": [
    "txt=20*\"a\"+\"b\";\n",
    "tok=LZ77_encode(txt,100,100);\n",
    "print(tok)\n",
    "LZ77_decode(tok)==txt"
   ]
  },
  {
   "cell_type": "code",
   "execution_count": 20,
   "id": "c399a98e",
   "metadata": {},
   "outputs": [
    {
     "name": "stdout",
     "output_type": "stream",
     "text": [
      "['a', 'a', 'a', 'a', 'a', 'a', 'a', 'a', 'a', 'a', 'a', 'a', 'a', 'a', 'a', 'a', 'a', 'a', 'a', 'a', 'b']\n"
     ]
    },
    {
     "data": {
      "text/plain": [
       "True"
      ]
     },
     "execution_count": 20,
     "metadata": {},
     "output_type": "execute_result"
    }
   ],
   "source": [
    "tok=LZSS_encode(txt,100,100,5);\n",
    "print(tok)\n",
    "LZSS_decode(tok)==txt"
   ]
  },
  {
   "cell_type": "code",
   "execution_count": 21,
   "id": "f2d969bf",
   "metadata": {},
   "outputs": [
    {
     "name": "stdout",
     "output_type": "stream",
     "text": [
      "[0, 2, 3, 4, 5, 5, 1]\n"
     ]
    },
    {
     "data": {
      "text/plain": [
       "True"
      ]
     },
     "execution_count": 21,
     "metadata": {},
     "output_type": "execute_result"
    }
   ],
   "source": [
    "tok=LZW_encode(txt);\n",
    "print(tok)\n",
    "LZW_decode(tok,[\"a\",\"b\"])==txt"
   ]
  },
  {
   "cell_type": "code",
   "execution_count": 22,
   "id": "d7bee293",
   "metadata": {},
   "outputs": [
    {
     "name": "stdout",
     "output_type": "stream",
     "text": [
      "[(1, 0, 'a'), (1, 0, 'e'), (1, 0, 'i'), (1, 0, 'o'), (1, 0, 'u'), (5, 69, 'u')]\n"
     ]
    },
    {
     "data": {
      "text/plain": [
       "True"
      ]
     },
     "execution_count": 22,
     "metadata": {},
     "output_type": "execute_result"
    }
   ],
   "source": [
    "txt=15*\"aeiou\";\n",
    "tok=LZ77_encode(txt,100,100);\n",
    "print(tok)\n",
    "LZ77_decode(tok)==txt"
   ]
  },
  {
   "cell_type": "code",
   "execution_count": 23,
   "id": "af777569",
   "metadata": {},
   "outputs": [
    {
     "name": "stdout",
     "output_type": "stream",
     "text": [
      "['a', 'e', 'i', 'o', 'u', 'a', 'e', 'i', 'o', 'u', 'a', 'e', 'i', 'o', 'u', 'a', 'e', 'i', 'o', 'u', 'a', 'e', 'i', 'o', 'u', 'a', 'e', 'i', 'o', 'u', 'a', 'e', 'i', 'o', 'u', 'a', 'e', 'i', 'o', 'u', 'a', 'e', 'i', 'o', 'u', 'a', 'e', 'i', 'o', 'u', 'a', 'e', 'i', 'o', 'u', 'a', 'e', 'i', 'o', 'u', 'a', 'e', 'i', 'o', 'u', 'a', 'e', 'i', 'o', 'u', 'a', 'e', 'i', 'o', 'u']\n"
     ]
    },
    {
     "data": {
      "text/plain": [
       "True"
      ]
     },
     "execution_count": 23,
     "metadata": {},
     "output_type": "execute_result"
    }
   ],
   "source": [
    "tok=LZSS_encode(txt,100,100,5);\n",
    "print(tok)\n",
    "LZSS_decode(tok)==txt"
   ]
  },
  {
   "cell_type": "code",
   "execution_count": 24,
   "id": "b22451bf",
   "metadata": {},
   "outputs": [
    {
     "name": "stdout",
     "output_type": "stream",
     "text": [
      "[(0, 'a'), (0, 'e'), (0, 'i'), (0, 'o'), (0, 'u'), (1, 'e'), (3, 'o'), (5, 'a'), (2, 'i'), (4, 'u'), (6, 'i'), (10, 'a'), (9, 'o'), (8, 'e'), (7, 'u'), (11, 'o'), (14, 'i'), (12, 'e'), (15, 'a'), (13, 'u'), (16, 'u'), (21, 'a'), (20, 'a'), (23, 'e'), (15, '')]\n"
     ]
    },
    {
     "data": {
      "text/plain": [
       "True"
      ]
     },
     "execution_count": 24,
     "metadata": {},
     "output_type": "execute_result"
    }
   ],
   "source": [
    "tok=LZ78_encode(txt);\n",
    "print(tok)\n",
    "LZ78_decode(tok)==txt"
   ]
  },
  {
   "cell_type": "code",
   "execution_count": 25,
   "id": "c6194304",
   "metadata": {},
   "outputs": [
    {
     "name": "stdout",
     "output_type": "stream",
     "text": [
      "[0, 1, 2, 3, 4, 5, 7, 9, 6, 8, 10, 14, 13, 12, 11, 15, 18, 16, 19, 17, 20, 25, 24, 27, 11]\n"
     ]
    },
    {
     "data": {
      "text/plain": [
       "True"
      ]
     },
     "execution_count": 25,
     "metadata": {},
     "output_type": "execute_result"
    }
   ],
   "source": [
    "tok=LZW_encode(txt);\n",
    "print(tok)\n",
    "LZW_decode(tok,[\"a\",\"e\",\"i\",\"o\",\"u\"])==txt"
   ]
  },
  {
   "cell_type": "code",
   "execution_count": 26,
   "id": "3a1fb5f0",
   "metadata": {},
   "outputs": [
    {
     "name": "stdout",
     "output_type": "stream",
     "text": [
      "[(1, 0, 'a'), (1, 2, 'x'), (1, 0, 'y'), (1, 0, 'z'), (1, 0, 'b'), (1, 4, 'x'), (8, 2, 'c'), (1, 2, 'x'), (6, 2, 'd'), (1, 3, 'd')]\n"
     ]
    },
    {
     "data": {
      "text/plain": [
       "True"
      ]
     },
     "execution_count": 26,
     "metadata": {},
     "output_type": "execute_result"
    }
   ],
   "source": [
    "txt=3*\"a\"+\"xyz\"+5*\"b\"+\"xyz\"+3*\"c\"+\"xyz\"+5*\"d\";\n",
    "tok=LZ77_encode(txt,100,100);\n",
    "print(tok)\n",
    "LZ77_decode(tok)==txt"
   ]
  },
  {
   "cell_type": "code",
   "execution_count": 27,
   "id": "0483886d",
   "metadata": {},
   "outputs": [
    {
     "name": "stdout",
     "output_type": "stream",
     "text": [
      "['a', 'a', 'a', 'x', 'y', 'z', 'b', 'b', 'b', 'b', 'b', 'x', 'y', 'z', 'c', 'c', 'c', 'x', 'y', 'z', 'd', 'd', 'd', 'd', 'd']\n"
     ]
    },
    {
     "data": {
      "text/plain": [
       "True"
      ]
     },
     "execution_count": 27,
     "metadata": {},
     "output_type": "execute_result"
    }
   ],
   "source": [
    "tok=LZSS_encode(txt,100,100,2);\n",
    "print(tok)\n",
    "LZSS_decode(tok)==txt"
   ]
  },
  {
   "cell_type": "code",
   "execution_count": 28,
   "id": "6e6fa283",
   "metadata": {},
   "outputs": [
    {
     "name": "stdout",
     "output_type": "stream",
     "text": [
      "[(0, 'a'), (1, 'a'), (0, 'x'), (0, 'y'), (0, 'z'), (0, 'b'), (6, 'b'), (7, 'x'), (4, 'z'), (0, 'c'), (10, 'c'), (3, 'y'), (5, 'd'), (0, 'd'), (14, 'd'), (14, '')]\n"
     ]
    },
    {
     "data": {
      "text/plain": [
       "True"
      ]
     },
     "execution_count": 28,
     "metadata": {},
     "output_type": "execute_result"
    }
   ],
   "source": [
    "tok=LZ78_encode(txt);\n",
    "print(tok)\n",
    "LZ78_decode(tok)==txt"
   ]
  },
  {
   "cell_type": "code",
   "execution_count": 29,
   "id": "d83b2882",
   "metadata": {},
   "outputs": [
    {
     "name": "stdout",
     "output_type": "stream",
     "text": [
      "[0, 7, 4, 5, 6, 1, 12, 12, 9, 6, 2, 17, 15, 3, 20, 20]\n"
     ]
    },
    {
     "data": {
      "text/plain": [
       "True"
      ]
     },
     "execution_count": 29,
     "metadata": {},
     "output_type": "execute_result"
    }
   ],
   "source": [
    "tok=LZW_encode(txt);\n",
    "print(tok)\n",
    "LZW_decode(tok,[\"a\",\"b\",\"c\",\"d\",\"x\",\"y\",\"z\"])==txt"
   ]
  },
  {
   "cell_type": "markdown",
   "id": "7b271507",
   "metadata": {},
   "source": [
    "## Atenea"
   ]
  },
  {
   "cell_type": "code",
   "execution_count": 134,
   "id": "53de1ca7",
   "metadata": {},
   "outputs": [
    {
     "name": "stdout",
     "output_type": "stream",
     "text": [
      "índex (posició del text a les permutacions) 1479\n",
      "codi = renhreisererghurssnntgnsmnrnnrfuhmsfnegrrrnrrfrnnmktnnetnbgdseeenthnesmnhessmddssrtsnsdntnrrrtsnnmsunnesgsmenenrnhefnhntsrenlssofanatrtrmsrnoenfmnemerrtuutrmhnshesknrarnsrurngntnnedrnrherinrgrnnnhnngdnmttfdsdsdhsuusddthsksetnenghhnfnrnsgrntnnlsmmddh   mwwltltrsrjnffmww  m  hkwkssm thtlledddhdkhmpgtwwwwbd gddmwwwwwwwdrh hhrehae  eeaaa ue   urnn    iiaiiiuioiiiiiii soisssssiuasisasssssuoonnnnnnnnnnniree      uuannni  nn nn  rdd    n        n   a  tthnddtttptitbbtidiitdttbiinligghiiiidihgsrrrrbkmssl  slsss     s wwhhwziibslddnudsggibdrrzdntrggnnddgsddnnzllsnthmkhdddrggbfgkmhmkkkdktrdbghm mdm d bnd  dn  s mbvgwwh vgutvhnhh z     vbhn iid nhn  giigb btgb  jsnhtgbueepepeen foae  r  iannnineii    nf oanrrin r      a n nnaicccccccccaccccc   oo   ccccrnecuacs   ceaarcccea tacaccccccccccccueesml sll s  elsnn eddwwllllltttvvndddddhhttt  eezzzte    ee e ereeeeeeeeeeeggrs eemmm  fhteee   memee     coo    ccnnnn nnl     eebh   lklkktgzrb  hhlaooou naaalleaaauaegeaeaieiieeueereee go mimmmam      ooiiiiumnnieeiiiieeoiaeaneeneieeneiiroeeeeeeeieieeeeeeneeeeeeiren eeeeeuueuuuuuaeeeaueeaimieiiiieiiuiii uiiuauiauaue   uuaauueaaaeaiaaoa reiinuiuhhnen aassnrrlhzjjoovvvhnkvvkrrkkwlrkspooessueeeeeueeaareeeiieaeeeeuueeeeaeeeiaeetf eeeoddrteeehteiiueeapeiieephbbgeeeeerreeeahaedftteeeeeuaaaaeleasneeeuanelaalsseaneeaenenntei   rurr    s      t esoe t   n    reaiieouieiii ulrsrgeo nsgsdihishrzimshllehhss sslnhtghtsnsrzllrlih   sislsnsret  lgaeapseeeezzzzzzzz hbsrbbeealrfh         t  nejsrrdd  anffbkaawz      s    rr rr    t    t   ehh    hrn n srett         \n"
     ]
    },
    {
     "data": {
      "text/plain": [
       "True"
      ]
     },
     "execution_count": 134,
     "metadata": {},
     "output_type": "execute_result"
    }
   ],
   "source": [
    "txt = \"ungeheuerliche art geweitet und von einer schweren dunklen trunkenheit erfullt seinen sinn umnebelt und vollstandig berauscht von irgend etwas unsaglich neuem lockendem und verheissungsvollem das an erste hoffende liebessehnsucht gemahnte aber als er mit kalten und unsicheren handen das buch in der schublade des gartentisches verwahrte war sein gluhender kopf in dem ein seltsamer druck eine beangstigende spannung herrschte als konnte irgend etwas darin zerspringen nicht eines vollkommenen gedankens fahig was war dies fragte er sich wahrend er ins haus ging die haupttreppe erstieg und sich im esszimmer zu den seinen setzte was ist mir geschehen was habe ich vernommen was ist zu mir gesprochen worden zu mir thomas buddenbrook ratsherr dieser stadt chef der getreidefirma johann buddenbrook war dies fur mich bestimmt kann ich es ertragen ich weiss nicht was es war ich weiss nur dass es zu viel zu viel ist fur mein burgerhirn in diesem zustande eines schweren dunklen trunkenen und gedankenlosen uberwaltigtseins verblieb er den ganzen tag dann aber kam der abend und unfahig seinen kopf langer auf den schultern zu halten ging er fruhzeitig zu bette er schlief drei stunden lang tief unerreichbar tief wie noch niemals in seinem leben dann erwachte er so jah so kostlich erschrocken wie man einsam erwacht mit einer keimenden liebe im herzen er wusste sich allein in dem grossen schlafgemach denn gerda schlief jetzt in ida jungmanns zimmer die kurzlich um naher beim kleinen johann zu sein eines der drei altanzimmer bezogen hatte es herrschte\"\n",
    "cod, ind = encode_burrows_wheeler(txt);\n",
    "print(\"índex (posició del text a les permutacions)\",ind);\n",
    "print(\"codi =\",cod);\n",
    "txt == decode_burrows_wheeler(cod,ind)"
   ]
  },
  {
   "cell_type": "code",
   "execution_count": 136,
   "id": "33670663",
   "metadata": {},
   "outputs": [
    {
     "name": "stdout",
     "output_type": "stream",
     "text": [
      "[(1, 0, 'l'), (1, 0, 'i'), (1, 0, 'k'), (1, 0, 'e'), (1, 0, 'n'), (2, 1, 's'), (1, 1, ' '), (1, 0, 'a'), (6, 1, 'd'), (4, 1, 'n'), (9, 1, 'c'), (11, 3, 'a'), (1, 0, 'r'), (20, 1, 'l'), (1, 0, 'y'), (12, 1, 'h'), (7, 1, 'd'), (20, 2, ' '), (13, 1, 't'), (14, 2, 't'), (36, 2, 'n'), (1, 0, 'g'), (10, 1, 'l'), (1, 0, 'o'), (1, 1, 'k'), (5, 1, 't'), (22, 1, 'e'), (4, 1, 'p'), (18, 1, 'i'), (15, 1, 't'), (7, 1, 'r'), (33, 4, 'n'), (8, 1, ' '), (1, 0, 'm'), (6, 2, 'e'), (23, 5, 's'), (59, 1, 'a'), (20, 2, 'b'), (1, 0, 'u'), (18, 2, 'i'), (20, 6, 'i'), (10, 2, 'a'), (83, 3, 't'), (27, 2, 'r'), (13, 5, 'w'), (14, 1, 's'), (4, 1, 'c'), (67, 1, 'm'), (75, 4, 'a'), (24, 3, 'g'), (11, 1, 'i'), (10, 3, 'n'), (6, 1, 'w'), (21, 3, 'n'), (1, 0, 'f'), (12, 2, 'e'), (43, 3, 'o'), (73, 5, 'u'), (97, 1, 'p'), (94, 3, 'l'), (19, 1, 'p'), (40, 2, 's'), (77, 3, 'h'), (77, 2, ' '), (8, 1, 'e'), (1, 1, 'n'), (81, 5, 't'), (3, 1, 'd'), (43, 2, 'n'), (31, 3, 'a'), (67, 3, 'n'), (61, 3, 's'), (31, 1, 'o'), (5, 1, 'i'), (73, 3, 't'), (57, 3, 'w'), (12, 2, 'l'), (6, 2, 'e'), (1, 0, 'x'), (12, 1, 'e'), (17, 1, 't'), (7, 1, 'o'), (84, 1, ' '), (20, 5, 'o'), (79, 1, 'n'), (42, 2, 'i'), (98, 2, 'l'), (4, 1, 'c'), (24, 2, 'd'), (10, 1, 'b'), (1, 0, 'y'), (23, 5, 'h'), (64, 1, 'm'), (1, 1, 'e'), (70, 3, 's'), (97, 15, 'w'), (28, 2, 'n'), (84, 3, 'e'), (9, 2, 'a'), (27, 2, 'p'), (4, 2, 's'), (20, 1, 'o'), (16, 1, 'a'), (56, 2, ' '), (38, 2, 'w'), (9, 2, 'd'), (50, 2, 'e'), (43, 2, 'p'), (43, 2, 'v'), (15, 1, 's'), (35, 1, 'l'), (73, 2, 'w'), (5, 1, 'y'), (77, 4, 'y'), (5, 1, 'c'), (101, 2, 'l'), (25, 1, 'n'), (62, 2, 'p'), (7, 1, 't'), (78, 2, 'e'), (87, 3, 'n'), (20, 1, 'w'), (8, 3, 'e'), (9, 1, 'e'), (23, 1, 's'), (60, 3, 'n'), (5, 1, 't'), (6, 1, 'a'), (57, 2, 'o'), (1, 0, 'f'), (3, 1, 'q'), (33, 1, 'a'), (22, 1, 't'), (25, 2, 'i'), (18, 1, 'g'), (40, 5, 'o'), (108, 2, 'm'), (32, 2, 't'), (7, 1, ' '), (15, 1, 'e'), (57, 2, 'r'), (22, 1, 'd'), (35, 4, 'h'), (24, 3, 'i'), (2, 1, 'u'), (109, 2, 'r'), (9, 1, 's'), (61, 2, 'd'), (51, 3, 'i'), (95, 1, 'k'), (109, 3, 'e'), (1, 0, 'x'), (35, 1, 'i'), (55, 2, 'u'), (122, 3, 'e'), (21, 2, 'm'), (16, 2, 'l'), (10, 1, 'g'), (10, 1, 't'), (106, 3, 'd'), (4, 1, 'w'), (17, 1, 'n'), (9, 2, 't'), (69, 2, 'b'), (25, 3, 'b'), (33, 1, 't'), (20, 2, 's'), (65, 3, 'f'), (123, 2, 'l'), (10, 3, 'l'), (7, 1, 'e'), (1, 0, 'p'), (14, 3, 'c'), (30, 1, 'u'), (10, 1, 'd'), (6, 1, 'n'), (6, 1, 't'), (24, 2, 'o'), (88, 1, 'g'), (109, 3, 't'), (60, 1, 'a'), (5, 2, 's'), (75, 2, ' '), (61, 1, 'a'), (46, 2, 's'), (90, 2, 'l'), (45, 2, 't'), (122, 3, 'e'), (87, 2, 'o'), (1, 1, 'k'), (104, 3, ' '), (104, 2, ' '), (3, 1, 't'), (3, 1, 'r'), (17, 1, 'a'), (26, 2, 'y'), (27, 3, 'o'), (64, 1, 'g'), (4, 1, ' '), (72, 2, 'w'), (112, 2, 't'), (107, 4, 'k'), (75, 2, 'w'), (124, 6, 'h'), (125, 2, ' '), (24, 2, 'a'), (8, 1, 'o'), (19, 1, 'e'), (8, 2, 'n'), (69, 4, ' '), (6, 1, 'i'), (44, 2, 't'), (21, 3, 'f'), (53, 2, 'n'), (34, 2, 't'), (106, 4, 'i'), (104, 5, 'u'), (15, 1, 'e'), (6, 2, 'i'), (80, 3, 'a'), (6, 1, 'k'), (100, 4, 'a'), (118, 3, 's'), (37, 1, 'r'), (31, 1, 's'), (6, 1, 'o'), (44, 1, ' '), (1, 0, 'p'), (28, 1, 'o'), (3, 1, 'l'), (68, 5, 'm'), (33, 2, 'd'), (121, 3, 'm'), (23, 2, 'w'), (78, 2, 't'), (3, 2, 'r'), (21, 2, 't'), (3, 1, 'r'), (17, 2, 'l'), (58, 3, 'w'), (71, 3, 'o'), (17, 2, 'n'), (4, 1, 't'), (10, 1, 'i'), (27, 2, 'o'), (82, 1, 't'), (11, 1, 'k'), (12, 2, 'w'), (77, 4, 'w'), (104, 6, 'm'), (40, 2, 'n'), (8, 2, 'c'), (13, 2, 'p'), (6, 1, 'e'), (40, 2, 'l'), (37, 2, 't'), (85, 3, 'e'), (22, 1, 'l'), (59, 2, 't'), (74, 3, 'e'), (65, 5, 'a'), (118, 2, 'e'), (11, 1, 'v'), (40, 4, 'i'), (110, 2, 't'), (56, 4, 'h'), (74, 2, 's'), (28, 2, 'a'), (62, 2, 'a'), (17, 2, 'w'), (13, 2, ' '), (72, 2, 'u'), (9, 1, 'd'), (36, 2, 's'), (26, 1, 'o'), (1, 1, 'd'), (51, 5, 'u'), (3, 1, 'u'), (128, 6, 'i'), (48, 2, ' '), (23, 2, 'e'), (28, 2, 'f'), (26, 1, 'r'), (11, 3, 'a'), (39, 2, ' '), (65, 2, 'd'), (113, 2, 'o'), (121, 2, ' '), (78, 2, 't'), (59, 2, 'h'), (6, 1, 's'), (95, 5, 'i'), (19, 1, 'e'), (30, 2, 't'), (118, 4, ' '), (76, 2, 'i'), (15, 1, 'e'), (77, 2, 'i'), (12, 1, 'y'), (93, 5, 'w'), (80, 3, 'i'), (104, 2, 'a'), (1, 0, 'p'), (1, 1, 'e'), (4, 1, 'r'), (65, 2, 'c'), (121, 4, 'p'), (43, 2, 't'), (35, 2, 'n'), (8, 1, 'o'), (87, 1, ' '), (6, 1, 'e'), (31, 1, 'p'), (3, 1, 'c'), (14, 1, 'a'), (1, 0, 'b'), (36, 1, 'l'), (50, 4, 'i'), (2, 1, 'b'), (14, 1, 'l'), (5, 1, 'e'), (65, 2, ' '), (75, 3, 'r'), (6, 2, 'n'), (11, 3, 'r'), (6, 1, 'e'), (1, 0, 'x'), (103, 2, 't'), (5, 1, 'd'), (72, 4, 'h'), (113, 4, 't'), (64, 2, 'i'), (60, 1, 'n'), (73, 3, 'm'), (6, 1, 'r'), (36, 2, 'r'), (67, 8, 'l'), (59, 2, 'o'), (1, 1, 'k'), (37, 2, 'g'), (24, 2, 'a'), (42, 3, 'e'), (124, 5, 't'), (4, 1, 'c'), (89, 2, 'u'), (109, 3, 's'), (110, 2, 't'), (2, 1, 'o'), (1, 1, 't'), (72, 3, 'v'), (84, 2, 'y'), (5, 1, 'q'), (21, 1, 'i'), (7, 1, 't'), (83, 8, 'm'), (49, 2, 'n'), (105, 3, 'd'), (4, 1, 'f'), (118, 3, 'n'), (94, 2, 'a'), (74, 1, ' '), (42, 1, 'b'), (23, 1, 'e'), (12, 1, 'v'), (24, 2, 't'), (104, 2, 'l'), (73, 2, 'y'), (36, 2, 'a'), (10, 2, 'h'), (15, 2, 'd'), (86, 2, 'h'), (34, 2, ' '), (18, 2, 'n'), (74, 4, 'a'), (16, 3, 'n'), (8, 1, 'v'), (59, 3, 'n'), (4, 1, 'a'), (5, 2, 'w'), (27, 4, 'n'), (100, 2, ' '), (31, 7, 'b'), (100, 1, 't'), (95, 5, 'g'), (85, 2, 'a'), (10, 2, 'c'), (72, 1, 'a'), (12, 1, 'm'), (6, 1, 't'), (31, 1, ' '), (9, 1, 'o'), (30, 1, 's'), (10, 1, 'd'), (53, 2, 'a'), (105, 2, 'o'), (75, 4, 's'), (37, 5, 'r'), (17, 1, 's'), (1, 0, 'p'), (3, 1, 'c'), (19, 1, 'a'), (53, 1, 'i'), (40, 1, 'i'), (6, 1, 'y'), (19, 2, 'e'), (111, 3, 'd'), (78, 5, 'a'), (2, 1, 'p'), (19, 2, 'a'), (82, 2, ' '), (1, 0, 'f'), (5, 1, 'c'), (22, 3, 'e'), (25, 5, 'r'), (62, 2, 'h'), (120, 3, 'a'), (2, 1, 's'), (70, 2, 'f'), (1, 1, ' '), (128, 2, 'c'), (1, 0, 'k'), (20, 10, 't'), (19, 1, 'g'), (9, 1, 't'), (26, 2, 'm'), (61, 1, 'o'), (17, 2, ' '), (19, 2, 'a'), (47, 2, 'w'), (84, 2, 'h'), (17, 2, 'h'), (16, 1, 'r'), (23, 2, 'h'), (15, 1, 'i'), (36, 2, 'c'), (82, 2, 'n'), (36, 1, 'i'), (3, 2, ' '), (16, 1, 'o'), (3, 1, 'i'), (99, 3, 't'), (9, 2, 'h'), (89, 2, 's'), (11, 1, 'd'), (5, 1, 's'), (84, 4, 'o'), (82, 1, 't'), (51, 2, 'a'), (1, 0, 'y'), (4, 1, 'o'), (90, 2, 's'), (125, 1, 'e'), (9, 1, 'k'), (42, 4, 'w'), (67, 4, 'a'), (2, 1, 'p'), (106, 2, 'u'), (61, 2, 'a'), (67, 2, 'h'), (4, 1, 'b'), (58, 3, 'o'), (34, 2, 'w'), (10, 1, 'i'), (37, 3, 'r'), (78, 5, 'h'), (69, 2, 'l'), (3, 1, 't'), (1, 1, 'e'), (31, 2, 's'), (70, 3, ' '), (79, 1, 'i'), (5, 1, 't'), (24, 2, 'c'), (4, 1, 'l'), (75, 2, 't'), (48, 2, 't'), (52, 2, 'e'), (22, 2, 'e'), (1, 1, 'm'), (2, 1, 'd'), (120, 4, 'u'), (11, 2, ' '), (66, 5, 't'), (8, 1, 'n'), (49, 3, 't'), (33, 2, 'n'), (96, 2, 'n'), (117, 3, 't'), (39, 2, 'r'), (6, 1, 'm'), (14, 3, 'b'), (35, 1, 't'), (4, 1, 'e'), (1, 0, 'v'), (13, 2, 'y'), (118, 9, 'i'), (17, 1, 'y'), (74, 9, 'h'), (7, 1, 'd'), (7, 4, 'm'), (7, 2, 'e'), (5, 1, 'r'), (3, 1, 's'), (35, 3, 't'), (11, 1, 'b'), (126, 2, ' '), (36, 1, 'f'), (23, 2, 'i'), (127, 2, 'n'), (72, 1, 's'), (36, 6, 'b'), (114, 2, 'n'), (109, 2, 'p'), (14, 1, 'i'), (40, 2, 'd'), (20, 1, 'w'), (11, 2, 'h'), (23, 2, 'w'), (8, 1, 'u'), (41, 1, 'd'), (29, 3, 'v'), (63, 7, 't'), (83, 4, 'r'), (68, 11, 'h'), (3, 2, 's'), (35, 1, 'r'), (1, 1, 'o'), (4, 1, 'n'), (53, 3, ' '), (79, 2, 'm'), (76, 2, 'l'), (87, 2, 'w'), (127, 2, 'h'), (5, 1, 'a'), (66, 2, 'a'), (7, 1, 'm'), (93, 2, 'p'), (36, 2, 'r'), (38, 2, 'o'), (22, 2, 'r'), (56, 8, 'i'), (35, 1, 'i'), (6, 1, 'y'), (32, 3, 'd'), (41, 2, 'a'), (11, 1, 'k'), (56, 3, 's'), (23, 2, 'u'), (36, 3, 'i'), (50, 2, 'i'), (95, 2, 'i'), (3, 2, 'w'), (119, 10, 'b'), (3, 1, 'e'), (22, 2, 'n'), (4, 1, 'x'), (21, 2, 't'), (21, 1, ' '), (95, 2, 'p'), (80, 2, 's'), (6, 1, 'b'), (121, 3, 't'), (14, 2, 's'), (37, 1, 's'), (80, 4, ' '), (118, 3, ' '), (95, 3, 'a'), (38, 1, 'y'), (118, 2, 'i'), (5, 1, 'g'), (62, 2, 'r'), (14, 1, 'n'), (6, 2, 'h'), (36, 2, 'w'), (19, 1, 's'), (37, 2, 'o'), (43, 2, 'h'), (4, 1, 'r'), (81, 2, 'g'), (6, 1, 'l'), (116, 2, 'r'), (21, 1, 's'), (51, 4, 'a'), (66, 4, 'n'), (20, 1, 'b'), (2, 1, 'd'), (19, 2, 'c'), (108, 10, 't'), (41, 2, 'u'), (39, 2, 't'), (77, 4, 'p'), (9, 1, 't'), (1, 1, 'i'), (70, 4, 'i'), (92, 2, 'i'), (8, 1, ' '), (30, 1, ' '), (36, 1, 'i'), (33, 2, 'r'), (46, 2, 'h'), (86, 9, 'h'), (17, 1, 'g'), (82, 16, 't'), (22, 3, 'a'), (72, 3, 'i'), (52, 1, 'p'), (10, 1, 's'), (7, 1, 'd'), (54, 2, 'n'), (32, 2, 'd'), (54, 2, 'o'), (41, 1, 'a'), (26, 2, 'r'), (11, 2, 'w'), (5, 2, 'k'), (5, 1, 'u'), (27, 2, 'n'), (86, 5, 'w'), (120, 10, 'b'), (3, 1, 'e'), (20, 2, 't'), (61, 2, 'i'), (6, 1, 'f'), (103, 2, 'c'), (128, 2, 'a'), (100, 3, 'n'), (16, 2, 'n'), (17, 3, 's'), (37, 2, 't'), (7, 1, 'o'), (30, 3, 'h'), (39, 2, 'f'), (39, 2, 'l'), (18, 2, 'g'), (126, 2, 'o'), (10, 1, ' '), (35, 2, 'm'), (99, 2, 't'), (126, 13, 'm'), (52, 2, ' '), (3, 2, 'd'), (30, 4, 't'), (97, 2, 's'), (61, 2, ' '), (13, 1, 'o'), (9, 1, 'i'), (29, 1, 'e'), (18, 1, 't'), (60, 3, 'w'), (11, 1, 'm'), (100, 2, 's'), (3, 1, 'r'), (110, 1, 'a'), (89, 2, 's'), (88, 3, ' '), (21, 4, 'h'), (21, 1, 'u'), (19, 2, 'h'), (5, 1, 'l'), (52, 2, 'w'), (26, 2, 'e'), (5, 1, 's'), (10, 1, ' '), (25, 2, 't'), (19, 1, 'i'), (53, 2, 'v'), (105, 2, 'y'), (12, 1, 'c'), (119, 2, 's'), (4, 1, 'i'), (35, 3, ' '), (44, 2, 'a'), (107, 2, 't'), (49, 2, 'y'), (96, 2, 'l'), (42, 1, 'a'), (6, 1, 's'), (7, 1, 'd'), (23, 1, 'd'), (46, 2, 'u'), (29, 1, 'h'), (87, 3, 'r'), (1, 0, 'k'), (26, 4, 'm'), (72, 2, 'l'), (53, 2, 's'), (128, 5, 'g'), (105, 2, 'e'), (22, 1, 'a'), (15, 1, 'l'), (46, 2, 'w'), (25, 1, 'i'), (6, 1, 'e'), (102, 2, 'e'), (3, 1, 'r'), (3, 1, 'a'), (24, 2, 't'), (9, 3, 'p'), (8, 1, 'p'), (28, 2, ' '), (1, 0, 'b'), (27, 2, 't'), (13, 5, 'n'), (7, 1, 'r'), (11, 2, 'f'), (37, 1, 'r'), (124, 3, 'u'), (78, 3, 'a'), (7, 2, 'e'), (49, 1, 'f'), (120, 3, 't'), (10, 1, 'i'), (68, 2, 'd'), (14, 1, 'm'), (33, 2, ' '), (9, 1, ' '), (10, 2, 'v'), (52, 3, 's'), (12, 1, 'w'), (56, 2, 'u'), (25, 1, ' '), (25, 2, ' '), (60, 2, 'a'), (8, 2, 'q'), (12, 1, 'a'), (43, 1, 'i'), (7, 1, 'y'), (52, 2, 's'), (19, 4, 'e'), (35, 3, 'y'), (6, 1, 'o'), (86, 3, 'r'), (112, 2, 'e')]\n"
     ]
    },
    {
     "data": {
      "text/plain": [
       "True"
      ]
     },
     "execution_count": 136,
     "metadata": {},
     "output_type": "execute_result"
    }
   ],
   "source": [
    "txt = \"likeness and necessarily had a startling look the painter hadnt made the scar but i made it and there it was coming and going now confined to the upper lip as i had seen it at dinner and now showing the whole extent of the wound inflicted by the hammer as i had seen it when she was passionate i wondered peevishly why they couldnt put her anywhere else instead of quartering her on me to get rid of her i undressed quickly extinguished my light and went to bed but as i fell asleep i could not forget that she was still there looking is it really though i want to know and when i awoke in the night i found that i was uneasily asking all sorts of people in my dreams whether it really was or notwithout knowing what i meant chapter little emly there was a servant in that house a man who i understood was usually with steerforth and had come into his service at the university who was in appearance a pattern of respectability i believe there never existed in his station a more respectablelooking man he was taciturn softfooted very quiet in his manner deferential observant always at hand when wanted and never near when not wanted but his great claim to consideration was his respectability he had not a pliant face he had rather a stiff neck rather a tight smooth head with short hair clinging to it at the sides a soft way of speaking with a peculiar habit of whispering the letter s so distinctly that he seemed to use it oftener than any other man but every peculiarity that he had he made respectable if his nose had been upsidedown he would have made that respectable he surrounded himself with an atmosphere of respectability and walked secure in it it would have been next to impossible to suspect him of anything wrong he was so thoroughly respectable nobody could have thought of putting him in a livery he was so highly respectable to have imposed any derogatory work upon him would have been to inflict a wanton insult on the feelings of a most respectable man and of this i noticedthe womenservants in the household were so intuitively conscious that they always did such work themselves and generally while he read the paper by the pantry fire such a selfcontained man i never saw but in that quality as in every other he\"\n",
    "tok = LZ77_encode(txt,128,32);\n",
    "print(tok);\n",
    "txt == LZ77_decode(tok)"
   ]
  },
  {
   "cell_type": "code",
   "execution_count": 137,
   "id": "f10a9053",
   "metadata": {},
   "outputs": [
    {
     "name": "stdout",
     "output_type": "stream",
     "text": [
      "[(0, 'g'), (0, 'u'), (0, 'a'), (0, 'r'), (0, 'd'), (3, 'v'), (3, ' '), (5, 'i'), (0, 'n'), (0, 't'), (4, 'e'), (0, ' '), (0, 's'), (0, 'e'), (2, ' '), (0, 'i'), (12, 'n'), (0, 'o'), (12, 'l'), (16, ' '), (0, 'l'), (21, 'e'), (0, 'v'), (3, 'r'), (14, 'n'), (12, 'u'), (9, 'a'), (12, 'g'), (18, 't'), (14, 't'), (7, 't'), (3, 'n'), (12, 's'), (18, 'l'), (13, ' '), (5, 'a'), (0, 'q'), (2, 'e'), (21, 'l'), (7, 'm'), (14, 'l'), (12, 'd'), (16, 'n'), (9, 'o'), (0, 'c'), (25, 'c'), (16, 'a'), (12, 'q'), (38, ' '), (14, 'r'), (7, 'b'), (25, ' '), (0, 'b'), (14, ' '), (21, 'a'), (12, 'm'), (3, 't'), (14, 'i'), (0, 'x'), (7, 'd'), (54, 'q'), (2, 'a'), (9, ' '), (10, 'e'), (9, 'i'), (60, 'e'), (15, 'a'), (9, 'y'), (35, 'i'), (12, 'a'), (27, 'v'), (7, 'a'), (0, 'm'), (53, ' '), (55, ' '), (10, 'r'), (25, 'a'), (12, 'p'), (25, 'j'), (32, 't'), (12, 'i'), (19, 'e'), (35, 'c'), (3, 'm'), (14, 's'), (12, 'e'), (63, 'l'), (3, 'i'), (11, ' '), (75, 't'), (47, ' '), (0, 'p'), (3, 'u'), (21, 'i'), (27, ' '), (0, 'h'), (6, 'i'), (7, 'c'), (4, 'i'), (36, 't'), (12, 'h'), (97, 'a'), (78, 'a'), (10, 'i'), (10, ' '), (96, 'a'), (23, 'i'), (7, 'f'), (30, ' '), (14, 'x'), (76, 'a'), (23, 'a'), (1, 'a'), (9, 'c'), (16, 'e'), (35, 'b'), (18, 'g'), (50, 'i'), (85, ' '), (43, 'c'), (18, 'r'), (11, 'c'), (45, 'i'), (18, 'n'), (35, 'l'), (106, 'v'), (91, 'e'), (114, 'e'), (13, 'a'), (19, 'a'), (73, 'o'), (4, ' '), (20, 'l'), (126, 'i'), (7, 'e'), (9, 'n'), (14, 'g'), (99, 'd'), (7, 'l'), (66, 's'), (1, 'r'), (3, 'c'), (91, 'p'), (50, 'o'), (86, 'n'), (86, 'l'), (12, 'f'), (124, 's'), (145, ' '), (41, ' '), (0, 'f'), (148, ' '), (5, 'e'), (12, 't'), (29, ' '), (50, 'a'), (130, ' '), (104, 'a'), (103, 'u'), (94, 'n'), (7, 'i'), (70, 'i'), (59, 'o'), (12, 'v'), (34, 'i'), (60, 'i'), (132, 'c'), (18, 'm'), (16, 'c'), (7, 'g'), (50, 'd'), (121, ' '), (20, 'g'), (4, 'a'), (123, 'o'), (129, ' '), (43, 'f'), (41, 'i'), (123, 't'), (57, ' '), (32, 'a'), (23, 'e'), (63, 'p'), (3, 's'), (129, 'n'), (105, 'h'), (16, 'v'), (50, 'n'), (69, ' '), (92, 'r'), (16, 'm'), (6, 'e'), (11, 's'), (81, ' '), (90, 'i'), (7, 'p'), (93, 'l'), (43, 'a'), (164, 'e'), (115, ' '), (11, 'p'), (30, 'i'), (4, 's'), (54, 'l'), (119, 'j'), (18, 'i'), (119, 'i'), (82, 's'), (42, 'e'), (13, 'g'), (174, 'c'), (115, 's'), (12, 'c'), (124, 't'), (14, 'm'), (92, 'l'), (98, 'o'), (73, ' '), (45, 'a'), (9, 'v'), (47, 'v'), (139, 'a'), (147, 'e'), (13, 'o'), (73, 'i'), (66, ' '), (75, 'f'), (84, 'i'), (94, 'a'), (194, 'e'), (35, 'p'), (4, 'o'), (8, 'g'), (135, 's'), (56, 'u'), (21, 't'), (16, 'p'), (94, 'c'), (98, 'r'), (16, 'd'), (196, 'l'), (121, 'a'), (194, 'f'), (14, 'u'), (154, 'o'), (105, 'e'), (21, ' '), (37, 'u'), (54, 'v'), (7, 's'), (3, 'b'), (50, ' '), (92, 'e'), (132, 'r'), (168, 'a'), (9, 'd'), (89, 's'), (215, 'p'), (89, 'e'), (39, 'a'), (213, 'o'), (21, 'o'), (138, 'a'), (42, 'u'), (95, 'o'), (99, 'g'), (198, 'l'), (16, 't'), (180, 'i'), (114, 'o'), (9, 'f'), (2, 's'), (16, 'b'), (22, ' '), (20, 'q'), (62, 'n'), (19, 'i'), (70, 'r'), (99, 'b'), (192, 'n'), (70, ' '), (262, 'r'), (41, 'l'), (72, 'q'), (38, 's'), (64, 's'), (264, 'e'), (231, 'a'), (174, 'u'), (22, 's'), (154, 'i'), (196, 'a'), (2, 'l'), (198, ' '), (76, 'e'), (131, 'l'), (6, 'a'), (245, 't'), (60, 'u'), (95, 'e'), (131, 'c'), (16, 'o'), (78, 'r'), (18, 'f'), (2, 'n'), (36, ' '), (20, 's'), (18, 's'), (92, 'i'), (174, 'v'), (31, 'a'), (63, 'd'), (178, 'c'), (302, 's'), (84, 'e'), (9, 't'), (261, 'n'), (182, 'n'), (45, 'u'), (306, 'q'), (49, 'c'), (168, 'p'), (229, ' '), (222, ' '), (64, 'r'), (174, ' '), (305, ' '), (225, 'n'), (16, 's'), (325, 'i'), (81, 'm'), (92, 'o'), (4, 't'), (80, 'i'), (13, 's'), (191, ' '), (248, 'e'), (277, ' '), (134, 'a'), (317, 'f'), (47, 't'), (17, 'o'), (13, 't'), (257, 'e'), (68, 'o'), (132, 'p'), (252, 'p'), (11, 'm'), (47, 'r'), (75, 'd'), (16, 'g'), (27, 'm'), (25, 't'), (56, 'e'), (35, 'e'), (9, 'l'), (350, 'e'), (208, ' '), (85, 't'), (11, 'l'), (290, ' '), (20, 'd'), (41, 's'), (56, 'o'), (9, 's'), (164, 'i'), (13, 'i'), (53, 'l'), (119, 'v'), (20, 't'), (29, 's'), (146, 's'), (33, 'o'), (111, 'c'), (35, 'd'), (204, 'a'), (366, 'd'), (292, 's'), (129, 'v'), (52, 'p'), (252, 'l'), (108, 'a'), (225, 'l'), (91, 'b'), (2, 'x'), (24, 'e'), (15, 'd'), (305, 'a'), (56, 'a'), (9, 'e'), (326, 'n'), (121, 'm'), (3, 'l'), (194, 'p'), (142, 'i'), (151, 'i'), (219, ' '), (52, 'e'), (21, 's'), (103, 'r'), (325, 'a'), (10, 'g'), (119, 'n'), (18, ' '), (96, 'i'), (101, 'a'), (107, 'a'), (154, 'r'), (3, 'g'), (169, 's'), (81, 'n'), (123, 'd'), (353, 's'), (230, 's'), (12, 'b'), (57, 'e'), (0, 'j'), (297, ' '), (361, 'c'), (99, 'a'), (10, 'u'), (193, ' '), (84, 'b'), (298, 's'), (372, ' '), (30, 's'), (194, 'u'), (10, 's'), (33, 'i'), (73, 'p'), (308, 'a'), (318, ' '), (44, 'm'), (35, 'f'), (228, 'l'), (349, 's'), (358, 'm'), (393, 'a'), (236, 'i'), (119, 'c'), (184, 'o'), (55, 'n'), (119, 'f'), (58, 'e'), (312, 'e'), (358, 's'), (14, 'v'), (119, 'l'), (40, 'o'), (333, ' '), (318, 'i'), (241, 'e'), (95, 'd'), (249, 'u'), (21, 'g'), (24, 'i'), (10, 'a'), (428, ' '), (119, 'p'), (282, 'a'), (112, ' '), (150, 's'), (2, 'f'), (169, 'i'), (353, ' '), (361, 'e'), (13, 'q'), (38, 'l'), (403, 'o'), (213, 'r'), (240, 'a'), (432, 'l'), (416, 'n'), (175, ' '), (398, 'l'), (434, 'u'), (390, 'r'), (393, 's'), (101, 'i'), (70, 'n'), (280, ' '), (10, 'o'), (286, ' '), (3, 'q'), (468, 'l'), (440, 'a'), (422, 'q'), (49, 'd'), (85, 'p'), (422, 'd'), (249, 'i'), (343, 'e'), (35, 'n'), (404, 'e'), (35, 'r'), (14, 'c'), (121, 'd'), (475, ' '), (8, 'u'), (73, 'e'), (9, 'g'), (54, 'd'), (54, 'r'), (84, 's'), (86, 's'), (261, 'm'), (190, 'a'), (461, 'e'), (247, 'p'), (393, 'm'), (404, 'p'), (252, 'n'), (3, 'd'), (393, ' '), (119, 'r'), (308, 't'), (127, 'l'), (28, 'a'), (39, ' '), (307, 'a'), (5, 'q'), (2, 'i'), (99, 'e'), (63, 't'), (121, 'r'), (152, 'a'), (130, 'b'), (283, 'a'), (505, ' '), (319, 'l'), (104, 'v'), (481, 'l'), (440, 'o'), (337, 's'), (209, ' '), (260, 'r'), (5, 'o'), (365, ' '), (133, 'e'), (355, 'n'), (219, 's'), (513, 'e'), (35, 'a'), (247, 'f'), (121, 'n'), (535, 's'), (80, ' '), (417, 'a'), (2, 'm'), (502, 'e'), (154, 'a'), (316, ' '), (52, 't'), (547, 'e'), (434, 'r'), (522, 'e'), (87, 'e'), (493, 'a'), (483, 'd'), (150, 'c'), (24, 'r'), (252, 'd'), (54, 'p'), (30, 'r'), (268, 'x'), (34, ' '), (482, 't'), (162, 'x'), (494, 's'), (223, 'i'), (72, 'm'), (74, 'g'), (25, 'e'), (232, 's'), (268, 'a'), (105, 'a'), (73, 'b'), (26, 'n'), (98, 'e'), (333, 'a'), (147, 'i'), (44, 'r'), (194, 'a'), (577, ' '), (484, 'u'), (528, ' '), (84, 'a'), (368, 'e'), (28, 'r'), (395, 'a'), (48, 'u'), (503, 'e'), (13, 'p'), (16, 'r'), (52, 'l'), (443, 'a'), (383, 'i'), (119, 'b'), (24, 'c'), (41, 'o'), (65, 'n'), (119, 'o'), (63, 'n'), (404, 'h'), (20, 'h'), (196, 'r'), (30, 'e'), (365, 'i'), (152, 'p'), (144, ' '), (124, ' '), (44, ' '), (405, ' '), (151, 'a'), (236, 'a'), (389, 'i'), (578, ' '), (5, 'u'), (232, ' '), (253, 'r'), (518, 's'), (457, 'r'), (157, 't'), (143, 'a'), (293, 'i'), (95, 'b'), (174, 'n'), (397, 'e'), (492, 'r'), (16, 'l'), (535, 'l'), (24, 'b'), (89, 'd'), (363, ' '), (53, 'u'), (59, 'a'), (11, 'u'), (434, 'e'), (91, 't'), (423, 'e'), (298, 'e'), (543, 'q'), (485, 'e'), (83, 'o'), (13, 'e'), (231, 'e'), (619, 'e'), (183, 'e'), (104, 't'), (194, 'd'), (124, 'a'), (316, 'h'), (20, 'm'), (207, 'm'), (332, 'r'), (457, 'n'), (123, 'a'), (146, ' '), (541, 'a'), (500, 'n'), (105, 'd'), (52, 'v'), (169, 't'), (172, 'f'), (18, 'u'), (19, 'h'), (242, ' '), (393, 'g'), (471, ' '), (153, ' '), (151, 'e'), (238, 'i'), (457, 't'), (631, 'a'), (147, 'a'), (597, 'a'), (42, 'i'), (27, 'r'), (189, 'f'), (359, 'e'), (644, 'n'), (107, 'd'), (57, 's'), (281, 'l'), (359, 'i'), (15, 'j'), (206, 'a'), (209, 'l'), (231, 'r'), (191, 'e'), (203, ' '), (177, 'a'), (316, 's'), (78, 'e'), (619, 'p'), (184, 's'), (284, 'u'), (586, 'f'), (549, 'a'), (360, 'l'), (226, 'g'), (282, 'i'), (161, ' '), (612, 't'), (24, 'd'), (170, 'a'), (594, 'e'), (281, 'p'), (193, 'e'), (316, 'a'), (203, 'e'), (157, 'm'), (121, 't'), (688, 's'), (400, 'e'), (543, 'l'), (85, 'h'), (121, 'e'), (355, 's'), (12, 'r'), (215, 'e'), (678, 'e'), (524, 'e'), (343, 'a'), (660, 't'), (719, ' '), (655, 't'), (135, 'l'), (42, 'o'), (247, 'r'), (137, 'l'), (315, 'n'), (622, 'i'), (414, ' '), (671, 'u'), (157, 'd'), (187, 'i'), (367, 'o'), (674, ' '), (614, 'm'), (630, 'i'), (135, 'n'), (366, 'c'), (482, 'r'), (154, 'e'), (65, 'a'), (729, 's'), (28, 'e'), (4, 'm'), (32, 's'), (650, 'u'), (119, 'g'), (50, 'm'), (32, 'e'), (355, 'l'), (748, 'r'), (73, 'a'), (33, 'e'), (1, 'o'), (63, 'c'), (214, 'i'), (9, 'u'), (31, 'r'), (14, 'b'), (393, 'l'), (554, 'n'), (658, 'n'), (137, 'o'), (123, ' '), (417, 'u'), (710, 'm'), (465, 'a'), (584, 'e'), (63, 'v'), (663, 'o'), (132, 'i'), (658, 'p'), (202, 't'), (480, 'a'), (281, 'e'), (343, 'u'), (8, 'a'), (132, 'l'), (98, 'a'), (4, 'r'), (156, ' '), (153, 'n'), (1, 'i'), (68, 'e'), (132, 'a'), (141, 'o'), (433, ' '), (388, ' '), (670, 'l'), (752, 'e'), (749, 'a'), (390, 's')]\n"
     ]
    },
    {
     "data": {
      "text/plain": [
       "True"
      ]
     },
     "execution_count": 137,
     "metadata": {},
     "output_type": "execute_result"
    }
   ],
   "source": [
    "txt = \"guardava dintre seu i no li llevaren una goteta tan sols daquella mel dinnocencia que era ben be la mateixa de quan tenia deu anys i anava amb la trena penjant i les cames en laire la tia paulina havia cridat havia patit havia fet extravagancies bogeries incorreccions lhavia encesa lamor i lhavia ennegrida la desgracia pero en el fons en el fons de tot era la tia paulina i aixo volia dir comica gerdor i graciosa infelicitat anaven passant hiverns i primaveres i la tia paulina veie repetirse les joies i les desgracies contempla com canviava la fesomia de la familia i es prodiga es multiplica crida plora i feu tot el que va saber per romandre sempre ella colorida duna originalitat inconfusible i quan li arribaven a lorella aquestes dues paraules tia paulina tremolava tota duna emocio profunda i sospirava tan deliciosament convencuda que complia a la terra un ministeri importantissim que li havia confiat nostre senyor per premiarla dignament mes enlla de les estrelles i dels mons visibles vi tots els sotracs de la vida passaven per la familia buxareu duna manera normal i pacifica en els parteratges no hi havia tragics incidents i es batejava les criatures amb tots els ets i uts simposaven noms familiars les malalties casolanes feien de les seves la mort venia plena de vulgaritats es plorava el suficient les esqueles no cridaven latencio en els funerals hi anaven totes aquelles cares que despres de vistes no es recorden el diumenge de rams es comprava el palmo per nadal es rostia el gall i sadquirien torrons a labella es cultivaven les coques de llardons i les encasades al forn de sant jaume de tant en tant es fruien les nates del carrer de petritxol tot aixo es feia amb generositat amb una certa finor i amb aquella amable gracia que respiren les families barcelonines on no hi ha pretensions pero on no hi falta mai un duro per gastar la tia paulina branca esteril de larbre dels buxareus feia tambe totes aquelles coses pero en petit i donanthi mes importancia el casament den victor fou lhora algida de felicitat de la familia dinars i festes convidats a lestiu joia dels primers infants pero passa aquella fumarella de gloria i no tarda gaire a presentarse la mort dels pares aleshores es remenaren testaments es porta el dol reglamentari i es feu la divisio de la familia en victor tenia dos germans i dues germanes el germa segon continua treballant en el negoci juntament amb en victor i el petit ana a estudiar la carrera denginyer agronom una de les germanes\"\n",
    "tok = LZ78_encode(txt);\n",
    "print(tok);\n",
    "txt == LZ78_decode(tok)"
   ]
  },
  {
   "cell_type": "code",
   "execution_count": 142,
   "id": "29315600",
   "metadata": {},
   "outputs": [
    {
     "name": "stdout",
     "output_type": "stream",
     "text": [
      "['w', 'a', 's', ' ', 'g', 'o', 'i', 'n', 'g', ' ', 't', 'o', ' ', 'a', 'm', 'e', 'r', 'i', 'c', 'a', ' ', 'i', 'n', ' ', 'a', ' ', 'f', 'l', 'a', 'x', 'e', 'n', ' ', 'w', 'i', 'g', ' ', 'a', 'n', 'd', ' ', 'w', 'h', 'i', 's', 'k', 'e', 'r', 's', (13, 5), 's', 'u', 'c', 'h', (35, 3), 'c', 'o', 'm', 'p', 'l', 'e', 't', 'e', ' ', 'd', 'i', 's', 'g', 'u', 'i', 's', 'e', ' ', (78, 3), 'n', 'e', 'v', 'e', 'r', ' ', 'y', 'o', 'u', ' ', 's', 'e', 'e', (75, 5), 'l', 'l', (15, 4), 'r', ' ', 'b', 'o', 'r', 'n', ' ', 'd', 'a', 'y', 's', (77, 3), (90, 3), 't', 'h', 'e', ' ', 'l', 'i', 't', 't', 'l', 'e', ' ', 'w', 'o', 'm', 'a', 'n', ' ', 'b', 'e', (136, 4), (50, 3), 's', 'o', 'u', 't', 'h', 'a', 'm', 'p', 't', 'o', 'n', ' ', 'm', 'e', 't', ' ', 'h', 'i', 'm', ' ', 'w', 'a', 'l', 'k', (31, 4), 'a', 'l', 'o', (173, 4), (60, 3), 's', 't', 'r', 'e', 'e', 't', 'p', 'i', 'c', 'k', 'e', 'd', (35, 5), (54, 3), (175, 3), 't', 'h', ' ', 'h', (129, 3), 's', 'h', 'a', 'r', 'p', ' ', 'e', 'y', (131, 6), ' ', 'm', 'o', 'm', 'e', 'n', 't', 'r', (102, 5), 't', 'w', 'i', 'x', (85, 4), 's', ' ', 'l', 'e', 'g', 's', (249, 4), 'u', 'p', 's', (103, 6), (221, 4), 'h', 'e', 'l', 'd', ' ', (122, 3), (24, 3), (86, 4), 'l', 'i', 'k', 'e', ' ', 'g', 'r', (10, 3), 'd', 'e', 'a', (93, 3), 'e', 'x', 'c', 'e', 'l', 'l', (77, 3), ' ', 'm', 'i', 's', 's', (89, 3), 'w', 'c', (112, 4), 'c', 'r', 'i', (135, 3), 'i', (234, 4), (67, 3), 'a', 'v', (160, 3), 'a', 'i', (298, 3), 'o', ' ', 'i', 'f', (270, 5), 'h', 'a', (14, 3), 'e', (248, 3), (158, 5), 't', (106, 3), (207, 4), (104, 3), (328, 3), 'h', 'a', 'i', 'r', (168, 4), (215, 4), (194, 3), 'n', 'e', 's', 's', 'b', 'o', 'x', ' ', 'a', 't', (18, 5), 't', 'r', 'i', 'a', 'l', (347, 4), 'i', (361, 3), (69, 3), (88, 4), 'm', 'y', ' ', 'f', (114, 3), (175, 5), ' ', 'c', (249, 3), (86, 4), 'f', 'a', 'c', 'e', ' ', 'r', 'i', 'g', 'h', 't', ' ', 'o', 'p', (106, 3), (206, 4), 'p', 'o', 'u', 'n', 'd', (289, 4), (32, 3), (98, 7), 'm', 'o', 's', 't', ' ', 'b', 'r', 'u', 't', (86, 3), (242, 3), 'n', (26, 3), (401, 5), 's', (108, 4), 'o', 'o', 'k', (247, 5), 'b', (84, 3), (17, 4), (463, 6), 'l', 'o', 'o', 's', (69, 7), 'h', 'o', (287, 3), 't', 'i', (469, 3), (173, 4), (150, 3), 'l', 'o', (386, 5), 'u', 'p', (48, 5), (318, 5), (246, 3), 't', (135, 5), (324, 7), (121, 3), (156, 3), (206, 4), (211, 7), 'o', 'f', 'f', 'i', 'c', (590, 4), 'w', 'e', 'r', (14, 3), 'b', 'l', 'i', 'g', (67, 3), (46, 3), 't', 'a', (366, 3), 'e', (127, 3), 'o', (363, 3), 't', 'o', 'g', 'e', (46, 3), (461, 4), (387, 3), (340, 4), (13, 4), 'e', 'v', 'i', 'd', 'e', 'n', (234, 3), (207, 7), 'g', (695, 3), (209, 3), 'w', 'a', 'y', (681, 6), (147, 3), 'h', (125, 3), 'l', 'y', (672, 6), 'i', (505, 4), (93, 3), 'b', 'y', (46, 5), 'b', (59, 3), (700, 3), (41, 3), (439, 3), (125, 3), 'd', (305, 7), 'h', (545, 3), (175, 5), (238, 5), 'd', 'g', (413, 3), 's', (120, 5), (367, 5), (107, 3), 'c', (707, 3), (194, 7), (23, 3), (484, 7), (303, 8), ' ', 's', (48, 3), 'l', 'e', 'h', (88, 3), (27, 3), (469, 4), 'c', (48, 3), (548, 3), 'o', 'f', (348, 3), (51, 6), ' ', 'k', 'n', 'e', 'w', (71, 3), (187, 3), 'r', 'n', (508, 4), (282, 5), 'f', (327, 4), (540, 4), 'b', (540, 4), 's', 'a', 'm', 's', (62, 4), (159, 3), 'i', 't', (605, 3), 'y', (23, 3), 'l', 'i', 'e', 'f', (64, 5), 'w', 'o', 'u', (348, 3), 'i', (235, 4), (27, 3), 'i', 'n', (127, 5), (44, 6), (242, 8), 'r', 'e', 's', 'p', 'e', 'c', (239, 4), (669, 8), (669, 5), 'f', 'o', (509, 3), (56, 3), (106, 6), 'n', 'o', 'w', (650, 6), (922, 4), (352, 4), (456, 6), (253, 3), (946, 5), (40, 3), (105, 5), (225, 5), (150, 5), (254, 3), 'v', 'a', (366, 4), 'o', (97, 3), 'p', (100, 3), (766, 4), (47, 4), 'u', (331, 4), (580, 4), (670, 4), (701, 5), 'o', 'r', 's', 'h', 'i', 'p', 'f', 'u', (602, 3), (788, 4), 'e', 'a', 'k', (991, 3), (503, 6), 'w', (54, 3), 'y', (99, 3), 'v', (666, 7), (17, 7), 'e', (383, 5), (520, 5), 'p', 'e', 'r', 'f', (190, 3), (442, 5), 'n', 's', 'i', 's', 't', (104, 4), (43, 4), 'u', (436, 3), 'a', 'n', (547, 5), (75, 4), 'e', 'x', (589, 3), (38, 3), (346, 5), (119, 3), (10, 3), (63, 4), (10, 3), (530, 5), 'y', (230, 5), 'a', 'l', (530, 3), 's', (193, 6), (632, 8), ' ', 'h', 'y', 'p', 'o', (938, 3), 't', 'i', 'c', (764, 3), 'k', 'n', (226, 3), (643, 7), 'j', 'u', (579, 3), (34, 4), 's', 'u', 'b', 'j', (132, 3), (271, 5), 'm', (653, 4), (498, 6), 'o', (508, 3), (460, 3), 'p', 'r', 'o', 'f', (925, 3), 'i', (420, 3), (272, 3), (256, 7), 'p', 'l', (888, 4), (100, 8), 'y', (488, 6), (447, 5), 'a', 'r', 'k', 'e', 't', 'v', 'a', 'l', 'u', 'e', (972, 4), 'l', 'e', 'a', (101, 3), (298, 3), 'w', 'e', (377, 3), (8, 5), (977, 5), (712, 7), 'i', 'm', 'm', 'e', 'd', 'i', 'a', 't', (132, 3), 'e', 'r', 'v', (799, 3), (395, 8), 'd', ' ', 'd', (793, 3), 'h', (790, 3), (935, 5), (241, 8), (808, 3), 'x', 'p', 'a', 't', 'r', (51, 4), (69, 5), 'a', (383, 4), (291, 7), (550, 7), 'a', ' ', 'r', 'o', 't', (327, 3), (950, 4), 'l', (503, 3), 'p', (455, 3), (413, 3), (316, 3), 's', 'u', 'g', 'g', (823, 3), 'i', (484, 3), 'p', 'i', 'e', (109, 3), (222, 3), 'b', 'u', (711, 3), (223, 3), (316, 3), (891, 8), (164, 4), 'l', 'e', 'f', (218, 5), 'm', (929, 5), 'h', 'e', 'i', (913, 3), 'y', (413, 3), 'm', (455, 6), (25, 3), 's', 'e', 'l', (330, 4), (895, 5), (436, 4), (845, 5), 'w', 'o', (781, 3), 'r', (745, 4), (472, 3), 'h', 'a', 'p', 's', (276, 5), 'a', ' ', 'g', 'o', 'o', (54, 4), (25, 4), 't', 'r', 'a', 'd', 'd', 'l', (58, 3), (869, 6), (896, 5), (630, 4), (593, 3), 'u', 'n', 's', (833, 3), (646, 3), 'o', 'b', 'b', 'y']\n"
     ]
    },
    {
     "data": {
      "text/plain": [
       "True"
      ]
     },
     "execution_count": 142,
     "metadata": {},
     "output_type": "execute_result"
    }
   ],
   "source": [
    "txt = \"was going to america in a flaxen wig and whiskers and such a complete disguise as never you see in all your born days when the little woman being in southampton met him walking along the streetpicked him out with her sharp eye in a momentran betwixt his legs to upset himand held on to him like grim death excellent miss mowcher cried i youd have said so if you had seen her standing on a chair in the witnessbox at the trial as i did said my friend he cut her face right open and pounded her in the most brutal manner when she took him but she never loosed her hold till he was locked up she held so tight to him in fact that the officers were obliged to take em both together she gave her evidence in the gamest way and was highly complimented by the bench and cheered right home to her lodgings she said in court that shed have took him singlehanded on account of what she knew concerning him if he had been samson and its my belief she would it was mine too and i highly respected miss mowcher for it we had now seen all there was to see it would have been in vain to represent to such a man as the worshipful mr creakle that twenty seven and twenty eight were perfectly consistent and unchanged that exactly what they were then they had always been that the hypocritical knaves were just the subjects to make that sort of profession in such a place that they knew its marketvalue at least as well as we did in the immediate service it would do them when they were expatriated in a word that it was a rotten hollow painfully suggestive piece of business altogether we left them to their system and themselves and went home wondering perhaps its a good thing traddles said i to have an unsound hobby\"\n",
    "tok = LZSS_encode(txt,3,1024,8);\n",
    "print(tok);\n",
    "txt == LZSS_decode(tok)"
   ]
  },
  {
   "cell_type": "code",
   "execution_count": 144,
   "id": "e1bcf576",
   "metadata": {},
   "outputs": [
    {
     "name": "stdout",
     "output_type": "stream",
     "text": [
      "[15, 6, 0, 6, 5, 9, 14, 19, 18, 0, 1, 14, 4, 0, 4, 15, 4, 7, 5, 33, 25, 0, 22, 8, 9, 3, 8, 0, 13, 24, 34, 20, 31, 0, 8, 1, 37, 14, 15, 0, 3, 15, 14, 3, 5, 16, 19, 9, 66, 0, 18, 15, 73, 22, 5, 57, 47, 76, 16, 30, 7, 34, 22, 1, 54, 12, 5, 1, 21, 84, 74, 15, 13, 5, 38, 5, 69, 0, 9, 13, 16, 17, 43, 18, 72, 14, 44, 26, 48, 33, 14, 1, 9, 90, 37, 2, 76, 32, 102, 14, 0, 19, 8, 98, 6, 12, 15, 78, 17, 2, 5, 4, 33, 35, 37, 19, 1, 11, 94, 113, 38, 66, 11, 5, 54, 30, 125, 17, 9, 20, 104, 51, 22, 9, 126, 58, 103, 52, 9, 18, 33, 13, 20, 17, 136, 19, 66, 98, 4, 167, 94, 126, 98, 12, 1, 19, 19, 5, 17, 0, 16, 15, 17, 71, 73, 45, 176, 64, 66, 181, 18, 19, 58, 60, 38, 163, 13, 15, 56, 181, 37, 138, 46, 1, 114, 131, 207, 158, 94, 157, 159, 127, 183, 2, 17, 15, 176, 183, 179, 125, 127, 0, 120, 180, 96, 0, 190, 225, 195, 69, 33, 203, 117, 52, 54, 1, 203, 74, 8, 202, 12, 119, 98, 223, 90, 163, 167, 98, 170, 0, 106, 68, 9, 21, 252, 127, 13, 238, 55, 57, 1, 0, 12, 158, 19, 90, 254, 20, 6, 129, 135, 226, 54, 191, 65, 13, 2, 223, 13, 1, 17, 50, 275, 16, 208, 196, 176, 261, 30, 253, 191, 243, 20, 18, 98, 214, 51, 7, 106, 223, 4, 9, 7, 14, 158, 239, 36, 125, 76, 11, 0, 62, 315, 220, 49, 98, 231, 29, 183, 105, 43, 79, 68, 0, 236, 12, 224, 148, 46, 182, 247, 14, 62, 56, 68, 119, 54, 10, 35, 5, 196, 18, 59, 12, 330, 9, 0, 7, 63, 1, 87, 239, 241, 350, 208, 147, 139, 106, 280, 267, 14, 85, 316, 108, 183, 18, 116, 37, 53, 263, 196, 68, 187, 116, 14, 12, 54, 62, 196, 300, 46, 48, 50, 242, 98, 16, 297, 127, 372, 98, 293, 353, 192, 17, 14, 182, 315, 91, 183, 216, 34, 311, 28, 67, 275, 97, 123, 46, 158, 51, 265, 50, 116, 222, 33, 9, 26, 158, 333, 106, 34, 184, 152, 75, 124, 186, 425, 281, 183, 45, 10, 297, 71, 327, 126, 163, 184, 15, 108, 188, 124, 350, 65, 31, 30, 20, 275, 253, 15, 3, 3, 20, 16, 54, 173, 152, 365, 331, 385, 15, 270, 293, 182, 93, 5, 22, 405, 37, 6, 219, 292, 196, 350, 62, 470, 370, 470, 13, 222, 311, 13, 163, 165, 167, 169, 171, 0, 79, 181, 183, 191, 219, 229, 15, 51, 370, 9, 372, 356, 57, 350, 87, 209, 196, 354, 284, 247, 196, 6, 9, 17, 195, 312, 463, 292, 197, 139, 225, 16, 90, 208, 251, 230, 26, 15, 2, 10, 5, 3, 71, 461, 2, 20, 476, 145, 264, 348, 210, 35, 24, 120, 4, 277, 63, 152, 4, 320, 258, 494, 59, 290, 167, 421, 52, 141, 98, 316, 5, 23, 68, 70, 109, 419, 539, 508, 541, 470, 543, 545, 547, 145, 102, 196, 24, 202, 183, 106, 7, 20, 178, 444, 102, 33, 17, 179, 404, 354, 11, 87, 168, 517, 195, 588, 365, 182, 33, 500, 372, 486, 52, 488, 195, 490, 440, 422, 601, 262, 240, 57, 482, 604, 168, 606, 399, 74, 100, 97, 205, 473, 371, 527, 425, 106, 399, 87, 330, 45, 243, 195, 117, 212, 43, 471, 123, 493, 185, 108, 535, 5, 7, 35, 162, 164, 151, 220, 22, 76, 37, 350, 134, 85, 578, 167, 184, 284, 39, 429, 2, 298, 17, 258, 502, 374, 412, 159, 265, 147, 79, 266, 313, 0, 656, 34, 424, 191, 614, 166, 616, 170, 618, 81, 558, 17, 152, 451, 225, 157, 39, 470, 45, 373, 584, 560, 69, 127, 470, 4, 92, 501, 192, 16, 16, 182, 513, 5, 245, 625, 2, 12, 56, 550, 515, 683, 98, 496, 147, 17, 24, 126, 202, 7, 156, 8, 54, 719, 182, 149, 568, 0, 11, 478, 102, 34, 261, 610, 680, 605, 717, 675, 244, 330, 562, 455, 298, 262, 370, 24, 94, 368, 254, 344, 167, 399, 666, 612, 290, 554, 736, 439, 14, 314, 422, 650, 583, 37, 59, 258, 226, 100, 124, 265, 166, 387, 134, 180, 400, 206, 59, 705, 9, 400, 763, 85, 420, 743, 20, 520, 266, 5, 6, 760, 223, 185, 430, 50, 117, 205, 130, 618, 350, 75, 27, 284, 34, 302, 100, 668, 726, 282, 603, 19, 219, 19, 650, 40, 197, 587, 5, 283, 17, 360, 230, 662, 467, 409, 603, 681, 489, 618, 218, 501, 364, 85, 126, 223, 446, 66, 108, 715, 230, 657, 178, 97, 31, 275, 3, 178, 588, 517, 770, 98, 134, 672, 150, 1, 348, 491, 164, 492, 9, 859, 754, 18, 706, 533, 137, 52, 334, 64, 48, 710, 422, 440, 415, 96, 6, 186, 290, 63, 676, 206, 410, 283, 1, 738, 624, 373, 759, 463, 677, 98, 42, 180, 94, 73, 150, 267, 28, 637, 510, 317, 196, 267, 147, 380, 517, 134, 558, 550, 328, 14, 782, 457, 276, 844, 323, 599, 66, 865, 179, 815, 1, 533, 566, 224, 223, 62, 573, 64, 645, 750, 462, 370, 410, 45, 297, 317, 145, 20, 2, 196, 106, 19, 756, 829, 647, 831, 617, 259, 724, 51, 350, 723, 20, 725, 196, 382, 811, 425, 552, 728, 91, 546, 230, 183, 302, 926, 72, 940, 208, 298, 264, 311, 422, 376, 140, 30, 909, 485, 959, 197, 771, 856, 774, 33, 676, 935, 265, 778, 493, 637, 916, 784, 553, 94, 880, 183, 373, 218, 220, 404, 788, 225, 59, 61, 5, 552, 491, 848, 106, 4]\n"
     ]
    },
    {
     "data": {
      "text/plain": [
       "True"
      ]
     },
     "execution_count": 144,
     "metadata": {},
     "output_type": "execute_result"
    }
   ],
   "source": [
    "txt = \"of feints and dodges of which my aunt had no conception soon went whooping away leaving some deep impressions of his nailed boots in the flowerbeds and taking his donkey in triumph with him miss murdstone during the latter portion of the contest had dismounted and was now waiting with her brother at the bottom of the steps until my aunt should be at leisure to receive them my aunt a little ruffled by the combat marched past them into the house with great dignity and took no notice of their presence until they were announced by janet shall i go away aunt i asked trembling no sir said my aunt certainly not with which she pushed me into a corner near her and fenced me in with a chair as if it were a prison or a bar of justice this position i continued to occupy during the whole interview and from it i now saw mr and miss murdstone enter the room oh said my aunt i was not aware at first to whom i had the pleasure of objecting but i dont allow anybody to ride over that turf i make no exceptions i dont allow anybody to do it your regulation is rather awkward to strangers said miss murdstone is it said my aunt mr murdstone seemed afraid of a renewal of hostilities and interposing began miss trotwood i beg your pardon observed my aunt with a keen look you are the mr murdstone who married the widow of my late nephew david copperfield of blunderstone rookerythough why rookery i dont know i am said mr murdstone youll excuse my saying sir returned my aunt that i think it would have been a much better and happier thing if you had left that poor child alone i so far agree with what miss trotwood has remarked observed miss murdstone bridling that i consider our lamented clara to have been in all essential respects a mere child it is a comfort to you and me maam said my aunt who are getting on in life and are not likely to be made unhappy by our personal attractions that nobody can say the same of us no doubt returned miss murdstone though i thought not with a very ready or gracious assent and it certainly might have been as you say a better and happier thing for my brother if he had never entered\"\n",
    "alf = sorted(list(set(txt)));\n",
    "tok = LZW_encode(txt);\n",
    "print(tok);\n",
    "txt == LZW_decode(tok,alf)"
   ]
  },
  {
   "cell_type": "code",
   "execution_count": 151,
   "id": "2b884e23",
   "metadata": {},
   "outputs": [
    {
     "name": "stdout",
     "output_type": "stream",
     "text": [
      "her nature was represented to us when we engaged her as being feebly expressed in her name she had a written character as large as a proclamation and according to this document could do everything of a domestic nature that ever i heard of and a great many things that i never did hear of she was a woman in the prime of life of a severe countenance and subject particularly in the arms to a sort of perpetual measles or fiery rash she had a cousin in the lifeguards with such long legs that he looked like the afternoon shadow of somebody else his shelljacket was as much too little for him as he was too big for the premises he made the cottage smaller than it need have been by being so very much out of proportion to it besides which the walls were not thick and whenever he passed the evening at our house we always knew of it by hearing one continual growl in the kitchen our treasure was warranted sober and honest i am therefore willing to believe that she was in a fit when we found her under the boiler and that the deficient teaspoons were attributable to the dustman but she preyed upon our minds dreadfully we felt our inexperience and were unable to help ourselves we should have been at her mercy if she had had any but she was a remorseless woman and had none she was the cause of our first little quarrel my dearest life i said one day to dora do you think mary anne has any idea of time why doady inquired dora looking up innocently from her drawing my love because its five and we were to have dined at four dora glanced wistfully at the clock and hinted that she thought it was too fast on the contrary my love said i referring to my watch its a few minutes too slow my little wife came and sat upon my knee to coax me to be quiet and drew a line with her pencil down the middle of my nose but i couldnt dine off that though it was very agreeable dont you think my dear said i it would be better for you to remonstrate with mary anne oh no please i couldnt doady said dora why not my love\n"
     ]
    }
   ],
   "source": [
    "cod =  [4, 6, 19, 15, 3, 23, 3, 0, 4, 17, 2, 4, 0, 10, 25, 1, 14, 6, 8, 22, 1, 17, 22, 6, 0, 1, 1, 0, 2, 7, 0, 8, 9, 4, 0, 5, 20, 1, 3, 4, 7, 17, 7, 7, 4, 12, 2, 0, 0, 6, 4, 3, 10, 4, 2, 1, 0, 7, 4, 1, 4, 3, 0, 2, 1, 4, 1, 0, 0, 3, 12, 0, 2, 15, 1, 6, 0, 1, 10, 5, 2, 9, 5, 5, 4, 9, 3, 5, 8, 7, 7, 0, 20, 2, 6, 3, 5, 8, 1, 0, 8, 7, 3, 1, 11, 4, 9, 8, 0, 1, 8, 3, 4, 4, 2, 7, 7, 6, 0, 9, 4, 0, 9, 1, 1, 1, 1, 0, 9, 6, 9, 8, 1, 4, 10, 9, 6, 3, 12, 7, 12, 19, 4, 9, 1, 10, 1, 2, 5, 0, 3, 2, 3, 3, 1, 3, 8, 0, 10, 3, 2, 11, 8, 0, 7, 21, 4, 11, 16, 5, 10, 11, 13, 1, 12, 0, 7, 12, 0, 15, 6, 8, 5, 13, 15, 11, 5, 8, 9, 6, 5, 3, 0, 0, 2, 4, 16, 5, 25, 16, 16, 6, 1, 18, 8, 14, 8, 6, 16, 5, 15, 6, 11, 15, 14, 10, 21, 1, 4, 17, 15, 17, 8, 0, 15, 10, 1, 3, 11, 2, 0, 0, 7, 0, 8, 3, 17, 4, 0, 4, 6, 6, 16, 13, 4, 0, 14, 0, 18, 12, 3, 8, 11, 6, 15, 3, 0, 0, 11, 3, 2, 0, 13, 14, 5, 5, 11, 4, 7, 6, 6, 12, 6, 12, 11, 5, 10, 11, 0, 0, 1, 1, 2, 10, 1, 11, 1, 13, 9, 6, 9, 2, 8, 8, 11, 7, 9, 0, 5, 2, 1, 7, 2, 10, 5, 5, 6, 3, 4, 2, 10, 7, 4, 0, 0, 6, 1, 8, 19, 6, 13, 24, 0, 8, 3, 9, 11, 11, 2, 13, 1, 7, 1, 0, 10, 3, 8, 3, 2, 12, 6, 0, 11, 1, 12, 5, 1, 5, 10, 6, 11, 6, 1, 6, 2, 1, 0, 4, 1, 0, 0, 0, 1, 0, 1, 10, 1, 10, 2, 1, 4, 6, 1, 0, 4, 2, 2, 5, 2, 2, 3, 13, 1, 0, 3, 1, 0, 3, 0, 3, 4, 1, 7, 2, 9, 21, 1, 1, 0, 0, 1, 1, 0, 1, 6, 2, 0, 0, 0, 2, 1, 0, 2, 8, 4, 3, 23, 5, 12, 0, 0, 0, 0, 15, 7, 2, 8, 0, 6, 7, 13, 2, 11, 0, 0, 0, 14, 0, 8, 18, 4, 0, 20, 20, 14, 5, 0, 0, 11, 2, 4, 5, 0, 0, 0, 0, 0, 0, 0, 0, 0, 0, 0, 0, 0, 13, 1, 0, 5, 13, 0, 6, 1, 9, 1, 6, 1, 1, 5, 9, 4, 20, 7, 0, 8, 5, 5, 0, 8, 1, 2, 0, 1, 1, 0, 1, 0, 0, 0, 0, 0, 8, 4, 1, 0, 6, 19, 2, 6, 6, 1, 1, 1, 2, 2, 2, 0, 1, 1, 0, 12, 7, 7, 8, 5, 11, 0, 12, 0, 7, 0, 0, 5, 15, 18, 8, 7, 0, 0, 0, 0, 0, 0, 0, 3, 1, 0, 0, 13, 18, 0, 0, 12, 0, 3, 0, 0, 0, 20, 1, 0, 1, 1, 2, 1, 3, 11, 0, 0, 6, 18, 7, 0, 7, 1, 6, 3, 3, 5, 5, 2, 6, 2, 5, 0, 0, 0, 12, 1, 0, 0, 0, 0, 0, 8, 4, 5, 5, 11, 3, 7, 1, 1, 1, 5, 17, 0, 1, 6, 4, 4, 1, 4, 4, 4, 1, 3, 0, 0, 2, 0, 2, 0, 4, 5, 3, 4, 4, 1, 1, 1, 1, 0, 0, 1, 0, 0, 1, 7, 3, 5, 1, 2, 0, 0, 4, 2, 3, 3, 0, 0, 5, 12, 7, 0, 3, 0, 0, 0, 0, 0, 0, 0, 0, 0, 0, 4, 1, 0, 0, 0, 6, 5, 2, 8, 4, 0, 13, 13, 14, 12, 25, 1, 4, 19, 9, 4, 0, 0, 24, 4, 18, 19, 2, 0, 13, 1, 0, 6, 2, 2, 6, 14, 2, 11, 1, 1, 2, 1, 2, 0, 0, 4, 7, 0, 7, 1, 3, 0, 0, 0, 0, 7, 3, 11, 7, 5, 6, 0, 6, 0, 0, 0, 3, 9, 9, 6, 5, 9, 10, 10, 5, 23, 16, 10, 8, 18, 6, 11, 0, 1, 4, 0, 0, 0, 1, 1, 0, 1, 12, 10, 6, 5, 4, 11, 19, 9, 9, 4, 9, 3, 1, 1, 1, 6, 7, 6, 5, 0, 6, 3, 13, 22, 9, 5, 5, 14, 12, 13, 9, 0, 2, 1, 23, 17, 8, 8, 17, 2, 11, 0, 3, 15, 1, 14, 5, 17, 5, 0, 4, 10, 2, 16, 0, 20, 6, 4, 5, 0, 0, 15, 0, 13, 6, 0, 0, 1, 21, 23, 3, 8, 10, 19, 5, 9, 15, 10, 12, 13, 9, 11, 9, 2, 2, 2, 0, 2, 0, 0, 0, 3, 14, 2, 10, 20, 5, 1, 0, 0, 3, 13, 7, 1, 15, 5, 0, 13, 1, 13, 10, 6, 3, 10, 12, 12, 5, 2, 16, 1, 13, 9, 18, 6, 12, 3, 16, 7, 0, 1, 12, 1, 8, 13, 4, 0, 3, 3, 22, 0, 0, 0, 0, 0, 0, 0, 0, 6, 1, 0, 5, 1, 4, 3, 0, 0, 1, 1, 1, 18, 1, 3, 2, 2, 0, 0, 0, 0, 0, 0, 1, 1, 0, 0, 22, 16, 15, 9, 0, 7, 1, 0, 0, 0, 0, 0, 0, 0, 0, 0, 9, 5, 0, 23, 0, 7, 0, 2, 1, 8, 5, 1, 8, 22, 21, 0, 2, 11, 2, 13, 3, 2, 0, 7, 0, 0, 0, 0, 3, 3, 3, 3, 2, 0, 0, 0, 0, 0, 0, 1, 0, 0, 1, 0, 0, 0, 0, 0, 0, 0, 0, 0, 3, 0, 0, 1, 0, 2, 0, 1, 1, 1, 2, 1, 1, 1, 1, 0, 0, 0, 2, 0, 0, 0, 1, 1, 3, 21, 0, 0, 2, 0, 0, 0, 7, 1, 0, 5, 3, 1, 2, 1, 0, 0, 0, 1, 1, 1, 0, 1, 0, 5, 2, 7, 4, 0, 2, 0, 0, 0, 0, 0, 0, 0, 11, 5, 21, 15, 1, 2, 12, 15, 1, 0, 0, 19, 7, 10, 8, 12, 9, 15, 20, 6, 12, 2, 0, 0, 19, 1, 6, 16, 4, 14, 9, 14, 8, 0, 11, 1, 0, 0, 0, 12, 14, 10, 1, 3, 17, 17, 10, 10, 10, 3, 7, 2, 7, 20, 5, 0, 0, 8, 0, 1, 11, 10, 1, 0, 15, 16, 4, 0, 4, 11, 6, 0, 0, 0, 0, 4, 1, 7, 3, 0, 0, 2, 0, 9, 10, 0, 0, 5, 1, 16, 16, 0, 14, 0, 19, 17, 3, 1, 8, 0, 0, 3, 18, 10, 1, 17, 6, 19, 6, 16, 0, 0, 0, 0, 0, 10, 17, 18, 1, 2, 0, 1, 20, 5, 11, 14, 20, 11, 0, 4, 0, 0, 0, 0, 3, 1, 0, 0, 1, 12, 5, 4, 2, 10, 0, 12, 6, 0, 0, 0, 0, 0, 7, 5, 7, 1, 0, 0, 6, 2, 10, 10, 17, 3, 10, 15, 6, 9, 9, 3, 7, 1, 3, 0, 0, 4, 0, 5, 1, 2, 2, 1, 3, 11, 2, 2, 1, 0, 0, 10, 0, 0, 9, 2, 0, 0, 0, 0, 0, 0, 0, 0, 0, 0, 5, 4, 6, 5, 1, 1, 0, 3, 0, 2, 0, 3, 0, 3, 1, 3, 1, 1, 0, 15, 1, 2, 3, 0, 7, 6, 2, 1, 0, 6, 2, 1, 1, 1, 0, 0, 0, 3, 1, 0, 0, 0, 0, 0, 0, 0, 1, 5, 5, 0, 16, 2, 1, 2, 2, 0, 18, 7, 3, 1, 7, 3, 4, 0, 0, 4, 1, 0, 0, 0, 0, 0, 0, 0, 3, 1, 1, 1, 0, 7, 0, 1, 5, 6, 1, 9, 1, 0, 0, 3, 6, 0, 6, 16, 0, 1, 2, 7, 4, 3, 9, 4, 2, 1, 3, 0, 4, 0, 0, 11, 0, 0, 3, 1, 0, 6, 2, 2, 0, 0, 1, 1, 9, 1, 2, 1, 0, 0, 12, 4, 0, 0, 15, 2, 5, 14, 12, 5, 15, 13, 0, 0, 0, 0, 0, 0, 0, 0, 0, 0, 0, 0, 0, 1, 9, 0, 4, 15, 0, 8, 6, 12, 16, 0, 6, 8, 3, 1, 0, 10, 20, 11, 5, 20, 8, 13, 0, 14, 0, 0, 0, 5, 0, 7, 10, 13, 10, 20, 0, 0, 8, 0, 0, 0, 8, 2, 9, 13, 7, 8, 0, 0, 5, 22, 0, 0, 13, 0, 15, 3, 2, 1, 0, 8, 1, 1, 10, 0, 0, 0, 0, 0, 3, 3, 2, 12, 0, 0, 0, 11, 12, 1, 19, 3, 4, 0, 0, 24, 1, 5, 1, 4, 0, 13, 16, 3, 20, 6, 2, 0, 0, 0, 0, 0, 14, 3, 0, 0, 0, 0, 6, 1, 5, 2, 2, 0, 2, 2, 2, 1, 1, 1, 1, 0, 20, 1, 1, 1, 0, 3, 3, 2, 2, 0, 0, 0, 0, 3, 8, 18, 7, 1, 11, 6, 5, 6, 1, 2, 0, 0, 7, 1, 0, 1, 0, 3, 4, 5, 22, 20, 1, 8, 7, 9, 19, 3, 0, 0, 1, 0, 10, 8, 2, 2, 8, 6, 3, 3, 6, 18, 2, 0, 4, 4, 18, 1, 9, 3, 4, 0, 1, 11, 12, 12, 2, 4, 1, 4, 2, 0, 1, 1, 1, 0, 10, 2, 0, 0, 0, 0, 0, 4, 11, 3, 4, 4, 0, 19, 1, 0, 2, 1, 5, 8, 0, 2, 20, 1, 0, 4, 1, 0, 1, 15, 18, 11, 3, 10, 18, 17, 0, 0, 0, 0, 13, 6, 8, 7, 0, 0, 5, 0, 17, 0, 8, 12, 8, 6, 1, 0, 0, 0, 0, 0, 0, 0, 0, 0, 0, 0, 3, 6, 3, 3, 0, 0, 0, 0, 0, 1, 3, 0, 1, 1, 0, 5, 2, 5, 3, 5, 10, 6, 0, 5, 4, 5, 0, 4, 0, 0, 3, 0, 0, 0, 7, 6, 2, 20, 3, 0, 2, 10, 6, 9, 6, 5, 5, 10, 20, 4, 3, 1, 1, 9, 1, 0, 8, 1, 0, 10, 9, 0, 0, 0, 4, 5, 16, 5, 4, 1, 12, 5, 0, 0, 4, 1, 8, 2, 18, 7, 11, 8, 0, 0, 7, 0, 0, 0, 0, 0, 0, 0, 0, 0, 0, 0, 0, 0, 0, 0, 0, 0, 0, 0, 0, 0, 0, 0, 0, 0, 17, 1, 0, 0, 0, 0, 0, 3, 13, 2, 9, 10, 3, 9, 0, 0, 3, 5, 5, 0, 0, 0, 0, 0, 0, 0, 0, 0, 0, 0, 0, 0, 0, 0, 0, 2, 2, 2, 3, 7, 0, 12, 1, 12, 1, 0, 0, 8, 2, 1, 0, 3, 0, 0, 7, 5, 17, 25, 9, 0, 18, 0, 6, 0, 3, 0, 15, 2, 0, 0, 0, 0, 15, 0, 2, 12, 3, 1, 1, 1, 0, 0, 1, 0, 0, 0, 0, 0, 8, 0, 7, 2, 3, 10, 0, 2, 0, 18, 22, 2, 1, 0, 0, 12, 14, 3, 5, 0, 0, 1, 14, 1, 1, 0, 0, 0, 0, 7, 0, 1, 18, 1, 0, 3, 1, 1, 3, 0, 0, 0, 0, 0, 0, 0, 0, 0, 0, 0, 0, 3, 1, 0, 0, 0, 0, 0, 0, 0, 0, 0, 0, 0, 0, 0, 0, 0, 0, 0, 4, 1, 0, 0, 0, 3, 0, 1, 0, 0, 0, 2, 4, 0, 16, 0, 0, 5, 8, 8, 15, 0, 19, 11, 5, 0, 5, 5, 14, 3, 4, 6, 0, 0, 0, 0, 7, 0, 1, 7, 2, 3, 6, 9, 5, 6, 9, 10, 0, 0, 4, 7]\n",
    "ind = 1033\n",
    "alf =  [' ', 'a', 'b', 'c', 'd', 'e', 'f', 'g', 'h', 'i', 'j', 'k', 'l', 'm', 'n', 'o', 'p', 'q', 'r', 's', 't', 'u', 'v', 'w', 'x', 'y']\n",
    "mtf = decode_move_to_front(cod,alf)\n",
    "txt = decode_burrows_wheeler(mtf,ind)\n",
    "print(txt)"
   ]
  },
  {
   "cell_type": "code",
   "execution_count": 152,
   "id": "817fc4f6",
   "metadata": {},
   "outputs": [
    {
     "name": "stdout",
     "output_type": "stream",
     "text": [
      "cosas dificultosas se acaban no dijo ricote que se hallo presente a esta platica hay que esperar en favores ni en dadivas porque con el gran don bernardino de velasco conde de salazar a quien dio su majestad cargo de nuestra expulsion no valen ruegos no promesas no dadivas no lastimas porque aunque es verdad que el mezcla la misericordia con la justicia como el vee que todo el cuerpo de nuestra nacion esta contaminado y podrido usa con el antes del cauterio que abrasa que del unguento que molifica y asi con prudencia con sagacidad con diligencia y con miedos que pone ha llevado sobre sus fuertes hombros a debida ejecucion el peso desta gran maquina sin que nuestras industrias estratagemas solicitudes y fraudes hayan podido deslumbrar sus ojos de argos que contino tiene alerta porque no se le quede ni encubra ninguno de los nuestros que como raiz escondida que con el tiempo venga despues a brotar y a echar frutos venenosos en espana ya limpia ya desembarazada de los temores en que nuestra muchedumbre la tenia heroica resolucion del gran filipo tercero y inaudita prudencia en haberla encargado al tal don bernardino de velasco una por una yo hare puesto alla las diligencias posibles y haga el cielo lo que mas fuere servido dijo don antonio don gregorio se ira conmigo a consolar la pena que sus padres deben tener por su ausencia ana felix se quedara con mi mujer en mi casa o en un monasterio y yo se que el senor visorrey gustara se quede en la suya el buen ricote hasta ver como yo negocio el visorrey consintio en\n"
     ]
    }
   ],
   "source": [
    "tok = [(1, 0, 'c'), (1, 0, 'o'), (1, 0, 's'), (1, 0, 'a'), (2, 1, ' '), (1, 0, 'd'), (1, 0, 'i'), (1, 0, 'f'), (2, 1, 'c'), (1, 0, 'u'), (1, 0, 'l'), (1, 0, 't'), (13, 5, 's'), (1, 0, 'e'), (3, 1, 'a'), (13, 1, 'a'), (1, 0, 'b'), (2, 1, 'n'), (7, 1, 'n'), (16, 1, ' '), (26, 2, 'j'), (5, 2, 'r'), (29, 2, 'o'), (28, 1, 'e'), (7, 1, 'q'), (34, 1, 'e'), (29, 4, 'h'), (26, 1, 'l'), (1, 1, 'o'), (6, 1, 'p'), (21, 1, 'e'), (12, 2, 'n'), (22, 3, 'a'), (2, 1, 'e'), (9, 1, 't'), (5, 2, 'p'), (20, 1, 'a'), (6, 1, 'i'), (55, 2, ' '), (30, 2, 'y'), (41, 5, 'e'), (21, 1, 'p'), (3, 1, 'r'), (12, 1, 'r'), (8, 2, 'n'), (3, 1, 'f'), (7, 1, 'v'), (48, 1, 'r'), (16, 2, ' '), (10, 1, 'i'), (14, 4, 'd'), (14, 1, 'd'), (8, 1, 'v'), (4, 1, 's'), (49, 2, 'o'), (20, 1, 'q'), (40, 3, 'c'), (7, 1, 'n'), (22, 2, 'l'), (3, 1, 'g'), (44, 2, 'n'), (27, 2, 'o'), (4, 2, 'b'), (54, 2, 'n'), (55, 2, 'd'), (35, 1, 'n'), (12, 1, ' '), (5, 1, 'e'), (3, 1, 'v'), (27, 2, 'a'), (43, 1, 'c'), (11, 2, 'c'), (26, 2, 'd'), (14, 2, 'd'), (3, 2, 's'), (15, 1, 'l'), (2, 1, 'z'), (32, 2, ' '), (3, 1, ' '), (61, 2, 'i'), (15, 1, 'n'), (19, 2, 'i'), (29, 2, 's'), (10, 1, ' '), (1, 0, 'm'), (16, 1, 'j'), (13, 1, 's'), (1, 0, 't'), (5, 1, 'd'), (41, 2, 'a'), (28, 1, 'g'), (58, 5, 'n'), (21, 1, 'e'), (17, 2, 'r'), (39, 2, 'e'), (1, 0, 'x'), (1, 0, 'p'), (10, 1, 'l'), (10, 1, 'i'), (64, 2, ' '), (2, 1, 'o'), (3, 1, 'v'), (62, 2, 'e'), (9, 2, 'r'), (27, 2, 'g'), (12, 1, 's'), (16, 4, 'p'), (11, 1, 'o'), (58, 1, 'e'), (10, 1, 'a'), (12, 5, 'd'), (62, 2, 'i'), (32, 2, 's'), (11, 4, 'l'), (7, 2, 't'), (12, 1, 'm'), (12, 3, 'p'), (12, 1, 'r'), (1, 0, 'q'), (45, 2, ' '), (10, 1, 'u'), (21, 1, 'q'), (7, 3, 'e'), (17, 2, 'v'), (4, 1, 'r'), (40, 3, ' '), (14, 5, 'l'), (3, 1, 'm'), (4, 1, 'z'), (1, 0, 'c'), (44, 2, ' '), (3, 3, 'm'), (47, 1, 's'), (26, 2, 'i'), (13, 1, 'o'), (30, 2, 'i'), (13, 2, 'c'), (7, 1, 'n'), (20, 4, 'j'), (37, 1, 's'), (1, 0, 't'), (19, 2, 'i'), (16, 4, 'm'), (2, 1, ' '), (47, 3, 'v'), (4, 1, 'e'), (58, 5, 't'), (14, 1, 'd'), (16, 5, 'c'), (12, 2, 'r'), (1, 0, 'p'), (10, 2, 'd'), (18, 2, 'n'), (10, 2, 's'), (22, 1, 'r'), (42, 2, 'n'), (3, 1, 'c'), (48, 1, 'o'), (61, 2, 'e'), (13, 2, 'a'), (54, 3, 'n'), (6, 2, 'm'), (15, 1, 'n'), (4, 1, 'd'), (35, 2, 'y'), (2, 1, 'p'), (52, 2, 'r'), (12, 1, 'd'), (10, 2, 'u'), (27, 1, 'a'), (26, 4, ' '), (63, 3, 'a'), (32, 2, 'e'), (14, 1, ' '), (62, 2, 'l'), (17, 2, 'a'), (23, 1, 't'), (7, 1, 'r'), (58, 2, ' '), (1, 0, 'q'), (8, 1, 'e'), (23, 2, 'b'), (10, 1, 'a'), (37, 3, 'q'), (11, 3, 'd'), (28, 3, 'u'), (38, 1, 'g'), (10, 2, 'n'), (31, 1, 'o'), (17, 5, 'm'), (7, 1, 'l'), (38, 1, 'f'), (2, 1, 'c'), (30, 2, 'y'), (39, 2, 's'), (8, 1, ' '), (9, 1, 'o'), (25, 1, ' '), (1, 0, 'p'), (46, 1, 'u'), (39, 2, 'n'), (10, 1, 'i'), (20, 2, 'c'), (14, 3, 's'), (7, 1, 'g'), (2, 1, 'c'), (12, 1, 'd'), (4, 1, 'd'), (14, 5, 'd'), (10, 1, 'l'), (2, 1, 'g'), (29, 6, 'y'), (17, 5, 'm'), (10, 1, 'e'), (20, 1, 'o'), (36, 1, ' '), (1, 0, 'q'), (51, 1, 'e'), (56, 2, 'o'), (15, 1, 'e'), (5, 1, 'h'), (25, 2, 'l'), (1, 1, 'e'), (1, 0, 'v'), (47, 2, 'o'), (58, 2, 'o'), (1, 0, 'b'), (1, 0, 'r'), (17, 2, 's'), (26, 1, 's'), (4, 1, 'f'), (30, 2, 'r'), (1, 0, 't'), (3, 1, 's'), (29, 2, 'o'), (47, 1, 'b'), (9, 1, 'o'), (8, 2, 'a'), (2, 1, 'd'), (14, 1, 'b'), (57, 1, 'd'), (7, 2, 'e'), (1, 0, 'j'), (2, 1, 'c'), (28, 1, 'c'), (10, 1, 'o'), (57, 1, ' '), (8, 1, 'l'), (64, 2, 'e'), (50, 2, ' '), (25, 2, 's'), (42, 1, 'a'), (6, 1, 'g'), (38, 1, 'a'), (19, 2, 'm'), (4, 1, 'q'), (28, 1, 'i'), (7, 1, 'a'), (8, 1, 's'), (5, 2, ' '), (10, 2, 'e'), (4, 1, 'n'), (4, 2, 's'), (28, 1, 'r'), (16, 1, 's'), (9, 1, 'i'), (10, 1, 'd'), (11, 1, 's'), (10, 2, 'i'), (11, 3, 'e'), (18, 4, 't'), (2, 1, 'g'), (8, 1, 'm'), (13, 3, 's'), (63, 1, 'l'), (20, 1, 'c'), (2, 1, 't'), (28, 1, 'd'), (22, 2, ' '), (1, 0, 'y'), (2, 1, 'f'), (25, 2, 'u'), (10, 4, 'h'), (7, 1, 'y'), (2, 1, 'n'), (6, 1, 'p'), (28, 1, 'd'), (26, 1, 'd'), (4, 1, ' '), (17, 3, 'l'), (22, 1, 'm'), (1, 0, 'b'), (27, 2, 'r'), (46, 2, 'u'), (28, 2, 'o'), (1, 0, 'j'), (2, 1, 's'), (20, 3, ' '), (15, 2, 'g'), (9, 3, 'q'), (18, 1, 'e'), (4, 1, 'c'), (8, 1, 'n'), (1, 0, 't'), (41, 1, 'n'), (41, 2, 't'), (5, 1, 'e'), (6, 1, 'e'), (24, 2, 'l'), (4, 1, 'r'), (10, 1, 'a'), (61, 3, 'r'), (28, 4, 'n'), (23, 2, 's'), (6, 2, 'l'), (3, 2, 'q'), (13, 2, 'd'), (15, 3, 'i'), (3, 1, 'e'), (4, 1, 'c'), (11, 1, 'b'), (28, 1, 'a'), (11, 3, 'n'), (1, 0, 'g'), (9, 1, 'n'), (31, 2, 'd'), (31, 3, 'o'), (36, 1, ' '), (10, 1, 'u'), (8, 1, 's'), (55, 1, 'r'), (9, 3, 'q'), (54, 3, 'c'), (8, 1, 'm'), (25, 2, 'r'), (36, 1, 'i'), (1, 0, 'z'), (46, 2, 's'), (12, 2, 'n'), (35, 1, 'i'), (2, 1, 'a'), (24, 7, 'n'), (18, 2, 'l'), (3, 1, 't'), (16, 1, 'e'), (32, 1, 'p'), (33, 2, 'v'), (6, 1, 'n'), (1, 0, 'g'), (24, 2, 'd'), (35, 2, 'p'), (60, 3, ' '), (10, 2, 'b'), (63, 2, 't'), (6, 1, 'r'), (7, 1, 'y'), (11, 3, 'e'), (42, 1, 'h'), (10, 3, 'f'), (3, 1, 'u'), (17, 1, 'o'), (26, 2, 'v'), (40, 2, 'e'), (2, 1, 'o'), (8, 1, 'o'), (10, 2, 'e'), (63, 3, 's'), (46, 1, 'a'), (6, 1, 'a'), (37, 2, 'a'), (3, 1, 'l'), (1, 0, 'i'), (1, 0, 'm'), (11, 1, 'i'), (10, 5, 'd'), (21, 2, 'e'), (12, 1, 'b'), (49, 2, 'a'), (1, 0, 'z'), (2, 1, 'd'), (14, 4, ' '), (27, 1, 'o'), (44, 2, 't'), (19, 2, 'o'), (18, 1, 'e'), (52, 5, 'q'), (1, 0, 'u'), (19, 2, 'n'), (4, 2, 's'), (19, 1, 'r'), (30, 2, 'm'), (8, 1, 'c'), (1, 0, 'h'), (10, 1, 'd'), (5, 1, 'm'), (47, 1, 'r'), (39, 3, 'a'), (38, 3, 'n'), (1, 0, 'i'), (6, 2, 'h'), (6, 1, 'r'), (44, 1, 'i'), (24, 1, 'a'), (8, 1, 'r'), (36, 2, 'o'), (21, 1, 'u'), (9, 1, 'i'), (5, 1, 'n'), (11, 1, 'd'), (11, 1, 'l'), (4, 1, 'g'), (48, 2, 'n'), (5, 1, 'f'), (14, 1, 'l'), (2, 1, 'p'), (17, 1, ' '), (41, 2, 'r'), (24, 1, 'e'), (38, 2, ' '), (1, 0, 'y'), (2, 1, 'i'), (20, 1, 'a'), (35, 1, 'd'), (5, 1, 't'), (46, 2, 'p'), (15, 1, 'u'), (38, 2, 'n'), (46, 2, 'a'), (10, 1, 'e'), (39, 2, 'h'), (6, 1, 'b'), (31, 2, 'l'), (11, 4, 'c'), (5, 1, 'r'), (57, 1, 'a'), (25, 1, 'o'), (10, 1, 'a'), (14, 1, ' '), (37, 2, 'l'), (4, 1, 'd'), (10, 1, 'n'), (4, 1, 'b'), (27, 2, 'n'), (22, 2, 'd'), (58, 2, 'o'), (15, 2, 'e'), (3, 1, 'v'), (3, 1, 'l'), (13, 1, 's'), (38, 1, 'o'), (8, 1, 'u'), (20, 2, ' '), (1, 0, 'p'), (7, 1, 'r'), (8, 5, 'y'), (15, 2, 'h'), (34, 2, 'e'), (16, 2, 'u'), (4, 1, 's'), (54, 1, 'o'), (60, 3, 'l'), (20, 2, 'l'), (38, 2, ' '), (52, 2, 'l'), (2, 1, 'g'), (19, 1, 'n'), (46, 1, 'i'), (12, 3, 'p'), (24, 1, 's'), (7, 1, 'b'), (15, 1, 'e'), (9, 2, 'y'), (44, 3, 'g'), (32, 2, 'e'), (12, 1, ' '), (24, 2, 'e'), (5, 1, 'o'), (41, 2, 'o'), (3, 1, 'q'), (56, 2, ' '), (1, 0, 'm'), (36, 3, 'f'), (8, 2, 'r'), (10, 2, 's'), (5, 2, 'v'), (26, 1, 'd'), (22, 2, 'd'), (5, 1, 'j'), (5, 3, 'o'), (63, 1, ' '), (26, 1, 'n'), (1, 0, 't'), (6, 2, 'i'), (12, 6, 'g'), (33, 2, 'g'), (7, 1, 'r'), (13, 3, 's'), (41, 2, 'i'), (8, 1, 'a'), (4, 1, 'c'), (20, 2, 'm'), (8, 1, 'g'), (15, 2, 'a'), (10, 4, 's'), (3, 1, 'l'), (8, 1, 'r'), (9, 1, 'l'), (12, 2, 'p'), (29, 1, 'n'), (5, 2, 'q'), (1, 0, 'u'), (35, 2, 's'), (4, 1, 's'), (13, 2, 'a'), (57, 1, 'r'), (10, 1, 's'), (62, 2, 'e'), (1, 0, 'b'), (22, 2, ' '), (1, 0, 't'), (4, 2, 'e'), (35, 2, 'p'), (41, 1, 'r'), (27, 3, ' '), (25, 1, 'u'), (5, 1, 'e'), (15, 1, 'c'), (63, 1, 'a'), (9, 2, 'n'), (4, 2, 'f'), (11, 1, 'l'), (10, 1, 'x'), (22, 2, 'e'), (56, 4, 'd'), (15, 1, 'r'), (17, 2, 'c'), (37, 1, 'n'), (4, 1, 'm'), (19, 1, ' '), (3, 1, 'u'), (1, 0, 'j'), (50, 3, 'e'), (12, 5, 'c'), (22, 1, 's'), (24, 2, 'o'), (13, 4, 'u'), (16, 3, 'o'), (54, 2, 's'), (1, 0, 't'), (28, 2, 'i'), (17, 2, 'y'), (2, 2, 'o'), (59, 7, ' '), (2, 1, 'l'), (10, 3, 'n'), (15, 1, 'r'), (6, 1, 'v'), (25, 1, 's'), (6, 2, 'r'), (11, 1, 'y'), (9, 1, 'g'), (22, 1, 's'), (39, 1, 'a'), (9, 1, 'a'), (33, 7, 'd'), (35, 3, 'n'), (3, 1, 'l'), (15, 3, 'u'), (27, 1, 'a'), (46, 4, 'b'), (20, 2, 'n'), (5, 1, 'r'), (45, 1, 'c'), (45, 1, 't'), (26, 2, 'h'), (18, 1, 's'), (43, 2, ' '), (58, 1, 'e'), (62, 2, 'c'), (15, 1, 'm'), (2, 1, ' '), (33, 1, 'o'), (3, 1, 'n'), (12, 1, 'g'), (5, 1, 'c'), (29, 1, 'o'), (41, 4, 'v'), (7, 1, 's'), (8, 1, 'r'), (1, 1, 'e'), (21, 1, ' '), (28, 2, 'n'), (10, 1, 'i'), (3, 1, 't'), (22, 4, 'n')]\n",
    "txt = LZ77_decode(tok)\n",
    "print(txt)"
   ]
  },
  {
   "cell_type": "code",
   "execution_count": 156,
   "id": "fb05a083",
   "metadata": {},
   "outputs": [
    {
     "name": "stdout",
     "output_type": "stream",
     "text": [
      "bruder moritz deren vier sohne und tochter ja danke sehr sie waren alle wohlauf warum sollten sie ubrigens nicht wohlauf sein nicht wahr kurzum es ging ihnen gut und dann kam er wieder auf das anwachsen der familie und die enge in seinem hause zu sprechen ja dies hier ist etwas anderes sagte er das habe ich schon auf dem wege hier herauf sehen konnen das haus ist eine perle eine perle ohne frage gesetzt dass der vergleich bei diesen dimensionen haltbar ist ha ha schon die tapeten hier ich gestehe ihnen gnadige frau ich bewundere wahrend ich spreche bestandig die tapeten ein scharmantes zimmer effektiv wenn ich denke hier haben sie bislang ihr leben verbringen durfen mit einigen unterbrechungen ja sprach frau permaneder mit jener besonderen kehlkopfstimme die ihr manchmal zu gebote stand unterbrechungen ja wiederholte der konsul mit zuvorkommendem lacheln dann warf er einen blick auf senator buddenbrook und herrn gosch und da die beiden herren im gesprache begriffen waren ruckte er seinen sessel naher zu frau permaneders sofasitz heran und beugte sich zu ihr so dass nun das schwere pusten seiner nase dicht unter der ihren ertonte zu hoflich sich abzuwenden und sich seinem atem zu entziehen sass sie steif und moglichst hoch aufgerichtet und blickte mit gesenkten lidern auf ihn nieder aber er bemerkte durchaus nicht das gezwungene und unangenehme ihrer lage wie ist es gnadige frau sagte er mir scheint wir haben fruher schon einmal geschafte miteinander gemacht damals handelte es sich freilich nur um was noch gleich leckereien zuckerwerk wie und jetzt um ein ganzes haus ich erinnere mich nicht sagte frau permaneder und steifte ihren hals noch mehr denn sein gesicht war ihr unanstandig und unertraglich nahe sie erinnern sich nicht nein ich weiss ehrlich gesagt nichts von zuckerwerk mir schwebt etwas vor von zitronensemmeln mit fetter wurst belegt einem recht widerlichen fruhstucksbrot ich\n"
     ]
    }
   ],
   "source": [
    "tok = [(0, 'b'), (0, 'r'), (0, 'u'), (0, 'd'), (0, 'e'), (2, ' '), (0, 'm'), (0, 'o'), (2, 'i'), (0, 't'), (0, 'z'), (0, ' '), (4, 'e'), (2, 'e'), (0, 'n'), (12, 'v'), (0, 'i'), (5, 'r'), (12, 's'), (8, 'h'), (15, 'e'), (12, 'u'), (15, 'd'), (12, 't'), (8, 'c'), (0, 'h'), (10, 'e'), (6, 'j'), (0, 'a'), (12, 'd'), (29, 'n'), (0, 'k'), (5, ' '), (0, 's'), (5, 'h'), (6, 's'), (17, 'e'), (12, 'w'), (29, 'r'), (5, 'n'), (12, 'a'), (0, 'l'), (42, 'e'), (38, 'o'), (26, 'l'), (29, 'u'), (0, 'f'), (38, 'a'), (2, 'u'), (7, ' '), (34, 'o'), (42, 'l'), (27, 'n'), (19, 'i'), (33, 'u'), (1, 'r'), (17, 'g'), (40, 's'), (12, 'n'), (17, 'c'), (26, 't'), (44, 'h'), (42, 'a'), (3, 'f'), (19, 'e'), (17, 'n'), (59, 'i'), (0, 'c'), (61, ' '), (0, 'w'), (29, 'h'), (6, 'k'), (3, 'r'), (11, 'u'), (50, 'e'), (34, ' '), (0, 'g'), (66, 'g'), (12, 'i'), (26, 'n'), (40, ' '), (77, 'u'), (10, ' '), (3, 'n'), (4, ' '), (4, 'a'), (15, 'n'), (12, 'k'), (29, 'm'), (12, 'e'), (6, 'w'), (37, 'd'), (18, ' '), (46, 'f'), (30, 'a'), (76, 'a'), (15, 'w'), (29, 'c'), (26, 's'), (81, 'd'), (93, 'f'), (89, 'i'), (42, 'i'), (55, 'n'), (85, 'd'), (37, ' '), (40, 'g'), (33, 'i'), (15, ' '), (34, 'e'), (66, 'e'), (50, 'h'), (46, 's'), (33, 'z'), (3, ' '), (34, 'p'), (14, 'c'), (26, 'e'), (109, 'j'), (29, ' '), (4, 'i'), (5, 's'), (12, 'h'), (37, 'r'), (79, 's'), (83, 'e'), (10, 'w'), (29, 's'), (41, 'n'), (13, 'r'), (122, ' '), (34, 'a'), (77, 't'), (33, 'e'), (6, 'd'), (128, ' '), (26, 'a'), (1, 'e'), (79, 'c'), (26, ' '), (34, 'c'), (26, 'o'), (109, 'a'), (64, ' '), (13, 'm'), (38, 'e'), (77, 'e'), (123, 'i'), (93, 'h'), (18, 'a'), (144, 's'), (35, 'e'), (109, 'k'), (8, 'n'), (21, 'n'), (95, 's'), (123, 'a'), (3, 's'), (125, 't'), (90, 'i'), (21, ' '), (0, 'p'), (18, 'l'), (134, 'i'), (161, 'p'), (163, 'e'), (12, 'o'), (80, 'e'), (12, 'f'), (2, 'a'), (147, ' '), (147, 's'), (5, 't'), (11, 't'), (156, 's'), (30, 'e'), (6, 'v'), (18, 'g'), (43, 'i'), (68, 'h'), (12, 'b'), (5, 'i'), (30, 'i'), (122, 'e'), (109, 'd'), (17, 'm'), (58, 'i'), (154, 'e'), (109, 'h'), (29, 'l'), (10, 'b'), (39, ' '), (17, 's'), (83, 'h'), (120, 'h'), (120, 's'), (180, 'o'), (185, 'i'), (33, 't'), (29, 'p'), (173, 'e'), (189, 'i'), (93, 'i'), (180, ' '), (172, 't'), (152, ' '), (17, 'h'), (155, ' '), (77, 'n'), (29, 'd'), (57, 'e'), (169, 'r'), (46, ' '), (60, 'h'), (181, 'e'), (70, 'u'), (23, 'e'), (14, ' '), (70, 'a'), (26, 'r'), (40, 'd'), (139, 'h'), (19, 'p'), (117, 'h'), (33, 'b'), (122, 't'), (31, 'd'), (57, ' '), (121, 'e'), (24, 'a'), (162, 'e'), (53, ' '), (182, 'n'), (19, 'c'), (137, 'r'), (7, 'a'), (15, 't'), (131, 'z'), (186, 'm'), (93, 'e'), (47, 'f'), (5, 'k'), (10, 'i'), (0, 'v'), (146, 'n'), (109, 'i'), (204, 'd'), (40, 'k'), (33, 'h'), (124, ' '), (137, 'b'), (81, 's'), (106, 'b'), (193, 'l'), (31, 'g'), (79, 'h'), (6, 'l'), (5, 'b'), (81, 'v'), (18, 'b'), (9, 'n'), (147, 'n'), (30, 'u'), (2, 'f'), (81, 'm'), (17, 't'), (160, 'n'), (211, 'n'), (22, 'n'), (27, 'r'), (56, 'e'), (180, 'u'), (15, 'g'), (81, 'j'), (196, 'p'), (170, 'c'), (140, 'f'), (170, 'u'), (12, 'p'), (18, 'm'), (31, 'e'), (130, ' '), (7, 'i'), (83, 'j'), (40, 'e'), (6, 'b'), (122, 'o'), (217, 'r'), (81, 'k'), (35, 'l'), (32, 'o'), (162, 'f'), (34, 't'), (239, 'e'), (183, 'e'), (256, 'r'), (12, 'm'), (31, 'c'), (26, 'm'), (190, ' '), (74, ' '), (147, 'b'), (8, 't'), (33, 's'), (10, 'a'), (23, ' '), (84, 't'), (260, 'r'), (5, 'c'), (26, 'u'), (273, 'e'), (119, 'a'), (38, 'i'), (5, 'd'), (18, 'h'), (8, 'l'), (27, ' '), (282, 'k'), (154, 's'), (3, 'l'), (297, 'i'), (83, 'z'), (3, 'v'), (8, 'r'), (291, 'm'), (7, 'e'), (217, 'm'), (12, 'l'), (98, 'h'), (5, 'l'), (185, 'a'), (87, ' '), (219, 'r'), (47, ' '), (240, 'i'), (208, 'b'), (103, 'c'), (32, ' '), (94, ' '), (110, 'n'), (29, 't'), (324, ' '), (1, 'u'), (4, 'd'), (40, 'b'), (2, 'o'), (8, 'k'), (269, 'd'), (123, 'e'), (2, 'r'), (109, 'g'), (8, 's'), (204, 'u'), (306, 'd'), (120, 'd'), (253, 'e'), (17, 'd'), (81, 'h'), (18, 'r'), (81, 'i'), (50, 'g'), (122, 'p'), (276, 'h'), (225, 'e'), (77, 'r'), (17, 'f'), (47, 'e'), (109, 'w'), (39, 'e'), (109, 'r'), (3, 'c'), (32, 't'), (134, 'r'), (65, 'i'), (208, 's'), (122, 's'), (330, ' '), (15, 'a'), (118, 'r'), (12, 'z'), (115, 'f'), (278, ' '), (231, 'r'), (236, 'n'), (314, 'e'), (2, 's'), (19, 'o'), (47, 'a'), (34, 'i'), (10, 'z'), (349, 'r'), (31, ' '), (84, 'd'), (215, 'u'), (133, 'e'), (54, 'c'), (140, 'z'), (115, 'i'), (220, ' '), (51, ' '), (86, 's'), (76, 'n'), (84, ' '), (401, ' '), (141, 'h'), (70, 'e'), (218, 'p'), (158, 't'), (252, 'e'), (111, 'r'), (59, 'a'), (110, ' '), (121, 'c'), (69, 'u'), (237, 'e'), (135, 'e'), (6, 'i'), (220, 'e'), (109, 'e'), (2, 't'), (154, 't'), (114, 'u'), (123, 'o'), (47, 'l'), (214, ' '), (389, 'c'), (140, 'a'), (1, 'z'), (3, 'w'), (221, 'e'), (109, 'u'), (306, 's'), (425, 's'), (233, 'e'), (50, 'a'), (27, 'm'), (380, 'u'), (90, 'n'), (390, 'i'), (152, 'n'), (19, 'a'), (34, 's'), (54, 'e'), (19, 't'), (182, 'f'), (348, ' '), (7, 'o'), (77, 'l'), (214, 's'), (194, 'o'), (204, 'a'), (64, 'g'), (18, 'i'), (180, 't'), (173, ' '), (393, ' '), (1, 'l'), (60, 'k'), (317, 'm'), (266, ' '), (172, 'e'), (15, 'k'), (232, 'l'), (357, 'e'), (2, 'n'), (41, 'u'), (334, 'i'), (80, ' '), (15, 'i'), (385, 'r'), (41, 'b'), (240, 'r'), (215, 'm'), (18, 'k'), (317, 'd'), (73, 'c'), (137, 'u'), (402, 'i'), (454, ' '), (404, 'g'), (5, 'z'), (216, 'n'), (262, 'e'), (446, 'u'), (378, 'n'), (483, 'h'), (326, ' '), (207, 'r'), (93, 'l'), (29, 'g'), (33, 'w'), (106, 'i'), (293, ' '), (131, 'g'), (378, 'd'), (211, ' '), (47, 'r'), (213, 's'), (490, 't'), (373, ' '), (283, 'r'), (234, 'h'), (233, 't'), (313, 'r'), (157, 'b'), (81, 'f'), (49, 'h'), (93, 's'), (197, 'n'), (267, 'm'), (300, 'g'), (122, 'c'), (137, 'f'), (459, 'i'), (27, 'i'), (485, 'd'), (93, 'g'), (5, 'm'), (329, 't'), (95, 'm'), (190, 's'), (157, 'n'), (13, 'l'), (317, 'e'), (76, 's'), (425, 'f'), (14, 'i'), (337, 'h'), (59, 'u'), (6, 'u'), (50, 'w'), (136, 'n'), (25, 'h'), (12, 'g'), (179, 'c'), (140, 'l'), (309, 'k'), (18, 'e'), (37, 'n'), (437, 'c'), (32, 'e'), (2, 'w'), (474, ' '), (70, 'i'), (104, 'd'), (12, 'j'), (173, 'z'), (83, 'u'), (75, 'i'), (351, 'a'), (15, 'z'), (131, 'h'), (113, ' '), (425, 'e'), (261, 'n'), (538, ' '), (283, 'c'), (140, 'n'), (214, 't'), (441, 'g'), (317, 'f'), (382, 'p'), (280, 'a'), (21, 'd'), (93, 'u'), (432, 't'), (445, 't'), (108, 'h'), (14, 'n'), (157, 'l'), (402, 'o'), (204, 'm'), (35, 'r'), (176, 'n'), (109, 's'), (233, ' '), (172, 'i'), (479, 'w'), (192, 'i'), (399, 'u'), (485, 's'), (305, 'n'), (121, 'g'), (484, 'n'), (18, 't'), (170, 'g'), (528, ' '), (378, 'h'), (304, 'i'), (373, 'i'), (87, 'e'), (465, ' '), (426, 'h'), (67, 'c'), (69, 'n'), (576, 'i'), (204, 'w'), (182, 's'), (76, 'e'), (220, 'l'), (425, 'g'), (122, 'a'), (133, ' '), (469, 'c'), (61, 's'), (16, 'o'), (109, 'z'), (371, 'k'), (18, 'w'), (543, 'm'), (17, 'r'), (502, 'w'), (258, 't'), (90, 't'), (219, 's'), (606, 'r'), (606, 'n'), (380, 'i'), (10, 'r'), (188, 'n'), (110, 'm'), (326, 'l'), (109, 'm'), (460, 'f'), (173, 't'), (93, 'w'), (73, 's'), (83, 'b'), (330, 'e'), (603, 'e'), (111, 'm'), (12, 'r'), (309, 'h'), (83, 'w'), (464, 'r'), (528, 'e'), (109, 'f'), (507, 's'), (10, 'u'), (68, 'k'), (34, 'b'), (346, 't'), (139, 'h')]\n",
    "txt = LZ78_decode(tok);\n",
    "print(txt)"
   ]
  },
  {
   "cell_type": "code",
   "execution_count": 157,
   "id": "9d4c5c4b",
   "metadata": {},
   "outputs": [
    {
     "name": "stdout",
     "output_type": "stream",
     "text": [
      "vous qui etes le maitre si vous vouliez il lui prit la main cosette est belle ditil cosette se porte bien vous la verrez bientot mais apaisezvous vous parlez trop vivement et puis vous sortez vos bras du lit et cela vous fait tousser en effet des quintes de toux interrompaient fantine presque a chaque mot fantine ne murmura pas elle craignait davoir compromis par quelques plaintes trop passionnees la confiance quelle voulait inspirer et elle se mit a dire des paroles indifferentes cest assez joli montfermeil nestcepas lete on va y faire des parties de plaisir ces thenardier fontils de bonnes affaires il ne passe pas grand monde dans leur pays cest une espece de gargote que cette aubergela m madeleine lui tenait toujours la main il la considerait avec anxiete il etait evident quil etait venu pour lui dire des choses devant lesquelles sa pensee hesitait maintenant le medecin sa visite faite setait retire la soeur simplice etait seule restee aupres deux cependant au milieu de ce silence fantine secria je lentends mon dieu je lentends elle etendit le bras pour quon se tut autour delle retint son souffle et se mit a ecouter avec ravissement il y avait un enfant qui jouait dans la cour lenfant de la portiere ou dune ouvriere quelconque cest la un de ces hasards quon retrouve toujours et qui semblent faire partie de la mysterieuse mise en scene des evenements lugubres lenfant cetait une petite fille allait venait courait pour se rechauffer riait et chantait a haute voix helas a quoi les jeux des enfants ne se melentils pas cetait cette petite fille que fantine entendait chanter oh repritelle cest ma cosette je reconnais sa voix lenfant seloigna comme il etait venu la voix seteignit fantine ecouta encore quelque temps puis son visage sassombrit et m madeleine lentendit qui disait a voix basse comme ce medecin est mechant de ne pas me laisser voir ma fille il a une mauvaise figure cet hommela cependant le fond riant de ses idees revint elle continua de se parler a ellememe la tete sur loreiller comme nous allons etre heureuses nous aurons un petit jardin dabord m madeleine me la promis ma fille jouera dans le jardin elle doit savoir ses lettres maintenant je la ferai epeler elle courra dans lherbe apres les papillons je la regarderai et puis elle fera sa premiere communion ah ca quand feratelle sa premiere communion elle se mit a compter sur ses doigts un deux trois quatre elle a sept ans dans cinq ans elle aura un voile blanc\n"
     ]
    }
   ],
   "source": [
    "tok = ['v', 'o', 'u', 's', ' ', 'q', 'u', 'i', ' ', 'e', 't', 'e', 's', ' ', 'l', 'e', ' ', 'm', 'a', 'i', 't', 'r', 'e', ' ', 's', 'i', ' ', (27, 5), 'v', 'o', 'u', 'l', 'i', 'e', 'z', ' ', 'i', 'l', ' ', 'l', 'u', 'i', ' ', 'p', 'r', 'i', 't', ' ', 'l', 'a', (38, 4), 'n', ' ', 'c', 'o', 's', 'e', 't', 't', 'e', ' ', 'e', 's', 't', ' ', 'b', 'e', 'l', 'l', 'e', ' ', 'd', 'i', 't', 'i', 'l', (24, 9), 's', 'e', ' ', 'p', 'o', 'r', 't', 'e', ' ', 'b', 'i', 'e', 'n', (79, 6), 'l', 'a', ' ', 'v', 'e', 'r', 'r', 'e', 'z', (20, 5), 't', 'o', 't', (74, 4), 's', ' ', 'a', 'p', 'a', 'i', 's', 'e', 'z', (114, 8), 's', ' ', 'p', 'a', 'r', 'l', 'e', 'z', ' ', 't', 'r', 'o', 'p', ' ', 'v', 'i', 'v', 'e', 'm', 'e', 'n', 't', ' ', 'e', 't', ' ', 'p', 'u', 'i', (34, 7), 's', (90, 4), 'z', ' ', 'v', 'o', 's', ' ', 'b', 'r', 'a', 's', ' ', 'd', 'u', ' ', 'l', 'i', (36, 5), 'c', 'e', (102, 4), (36, 4), 'f', 'a', 'i', 't', ' ', 't', 'o', 'u', 's', 's', 'e', 'r', ' ', 'e', 'n', ' ', 'e', 'f', 'f', 'e', 't', ' ', 'd', 'e', (242, 5), 'n', (241, 4), 'd', 'e', (32, 4), 'x', ' ', (14, 4), 'r', 'r', 'o', 'm', 'p', 'a', (151, 4), ' ', 'f', 'a', 'n', 't', 'i', 'n', 'e', ' ', 'p', 'r', 'e', 's', 'q', 'u', 'e', ' ', 'a', ' ', 'c', 'h', 'a', (9, 4), 'm', 'o', (29, 10), 'n', 'e', ' ', 'm', 'u', 'r', 'm', 'u', 'r', 'a', ' ', 'p', 'a', 's', ' ', (257, 5), 'c', 'r', 'a', 'i', 'g', 'n', (119, 4), 'd', 'a', 'v', 'o', 'i', 'r', ' ', 'c', 'o', 'm', 'p', 'r', 'o', 'm', 'i', (211, 5), ' ', 'q', 'u', 'e', 'l', 'q', 'u', 'e', 's', ' ', 'p', 'l', 'a', (129, 6), (226, 5), 'p', 'a', 's', 's', 'i', 'o', 'n', 'n', 'e', (387, 4), 'a', ' ', 'c', 'o', 'n', 'f', 'i', 'a', 'n', 'c', 'e', (48, 5), 'l', 'e', (389, 5), (84, 4), 'i', 'n', 's', 'p', 'i', 'r', (204, 4), 't', (111, 6), 's', 'e', ' ', 'm', 'i', 't', ' ', 'a', ' ', 'd', 'i', 'r', 'e', (217, 5), 'p', 'a', 'r', 'o', 'l', 'e', 's', ' ', 'i', 'n', 'd', 'i', 'f', 'f', 'e', 'r', 'e', (102, 5), 'c', (419, 4), 'a', 's', 's', 'e', 'z', ' ', 'j', 'o', 'l', 'i', ' ', 'm', 'o', 'n', 't', 'f', 'e', 'r', 'm', 'e', 'i', 'l', ' ', 'n', 'e', 's', 't', 'c', 'e', (194, 4), 'l', 'e', 't', 'e', ' ', 'o', 'n', ' ', 'v', 'a', ' ', 'y', (316, 4), (83, 10), 't', 'i', (300, 6), (183, 4), 's', (214, 4), (186, 4), 'h', 'e', 'n', 'a', 'r', 'd', 'i', 'e', 'r', ' ', 'f', 'o', 'n', 't', 'i', 'l', (34, 5), 'b', (199, 4), 's', ' ', 'a', 'f', (64, 5), 's', ' ', (97, 5), (225, 5), (6, 5), ' ', 'g', 'r', 'a', 'n', 'd', (128, 4), 'd', 'e', ' ', 'd', 'a', 'n', (117, 4), 'u', 'r', ' ', 'p', 'a', 'y', (165, 7), 'u', 'n', 'e', ' ', 'e', 's', 'p', 'e', 'c', (124, 4), ' ', 'g', 'a', 'r', 'g', 'o', 't', (264, 5), ' ', 'c', 'e', 't', 't', 'e', ' ', 'a', 'u', 'b', 'e', 'r', 'g', (482, 4), 'm', ' ', 'm', 'a', 'd', 'e', 'l', 'e', (395, 4), 'l', 'u', 'i', ' ', 't', 'e', (376, 5), 't', 'o', 'u', 'j', 'o', 'u', 'r', (329, 5), 'm', 'a', 'i', 'n', (130, 4), (340, 6), 's', 'i', 'd', 'e', 'r', (35, 4), 'a', 'v', 'e', 'c', ' ', 'a', 'n', 'x', 'i', (240, 4), 'i', 'l', ' ', 'e', 't', (22, 4), 'e', 'v', 'i', 'd', (508, 4), 'q', 'u', (19, 9), 'v', 'e', 'n', 'u', ' ', 'p', 'o', 'u', 'r', (97, 5), (356, 9), 'c', 'h', 'o', 's', (272, 5), 'v', 'a', 'n', 't', ' ', 'l', 'e', 's', (423, 6), 's', ' ', 's', 'a', ' ', 'p', 'e', 'n', 's', 'e', 'e', ' ', 'h', 'e', 's', 'i', (67, 5), (131, 4), (154, 4), (41, 5), ' ', 'm', 'e', 'd', 'e', 'c', 'i', 'n', (41, 4), 'v', 'i', 's', 'i', 't', 'e', (359, 4), 't', (456, 4), (45, 5), 'r', 'e', 't', (100, 4), 'l', 'a', ' ', 's', 'o', (279, 4), 's', 'i', 'm', 'p', 'l', 'i', 'c', 'e', (143, 7), 's', 'e', 'u', 'l', 'e', ' ', 'r', 'e', 's', 't', 'e', (265, 4), 'p', (352, 4), 'd', 'e', 'u', 'x', ' ', 'c', 'e', 'p', 'e', 'n', 'd', (100, 4), 'a', 'u', ' ', 'm', 'i', 'l', 'i', 'e', 'u', (318, 4), 'c', 'e', ' ', 's', 'i', 'l', 'e', 'n', 'c', (103, 4), 'n', 't', (297, 4), 's', 'e', 'c', 'r', 'i', 'a', ' ', 'j', 'e', ' ', 'l', 'e', (152, 4), 'd', 's', (396, 4), ' ', 'd', (50, 4), (21, 12), (208, 4), ' ', 'e', (12, 4), 'i', (185, 5), 'b', 'r', 'a', 's', (266, 6), 'q', 'u', 'o', 'n', ' ', 's', 'e', ' ', 't', 'u', (110, 4), 't', (19, 4), 'd', (46, 5), (189, 4), 'n', 't', ' ', 's', (31, 4), 'o', 'u', 'f', 'f', (65, 5), (42, 4), 'm', (371, 4), ' ', 'e', 'c', 'o', 'u', 't', 'e', 'r', (381, 6), 'r', 'a', 'v', 'i', 's', 's', 'e', 'm', (368, 4), 'i', 'l', ' ', 'y', ' ', 'a', 'v', (225, 4), 'u', 'n', ' ', 'e', 'n', (171, 4), (389, 4), ' ', 'j', 'o', 'u', (21, 4), 'd', 'a', 'n', (461, 5), 'c', (392, 5), (32, 7), 'd', (294, 5), 'p', 'o', 'r', 't', 'i', 'e', 'r', 'e', ' ', 'o', 'u', ' ', 'd', 'u', 'n', (8, 4), 'v', 'r', (17, 5), (402, 4), 'c', 'o', 'n', 'q', 'u', (262, 4), 's', 't', (45, 4), 'u', 'n', (276, 6), 's', ' ', 'h', 'a', 's', 'a', 'r', 'd', 's', (203, 6), 'r', 'e', 't', 'r', 'o', 'u', 'v', 'e', ' ', 't', 'o', 'u', 'j', 'o', 'u', 'r', 's', (182, 4), (127, 4), 's', 'e', 'm', 'b', (272, 4), (419, 4), 'r', 'e', ' ', 'p', 'a', (108, 4), (121, 7), 'm', 'y', 's', 't', 'e', 'r', 'i', 'e', 'u', (223, 5), 's', 'e', ' ', 'e', 'n', ' ', 's', 'c', 'e', 'n', (32, 4), 's', ' ', 'e', 'v', 'e', 'n', (220, 5), 's', ' ', 'l', 'u', 'g', 'u', 'b', (424, 4), (185, 8), 'c', (459, 6), (173, 4), 'p', 'e', 't', (508, 4), 'f', 'i', (318, 4), 'a', 'l', 'l', (24, 4), 'v', 'e', 'n', (7, 4), (236, 4), (8, 4), (370, 5), 's', (348, 4), 'c', 'h', 'a', 'u', 'f', 'f', 'e', 'r', ' ', 'r', 'i', (25, 4), 'e', 't', ' ', 'c', 'h', 'a', 'n', (76, 5), 'a', ' ', 'h', 'a', 'u', 't', 'e', ' ', 'v', 'o', 'i', 'x', ' ', 'h', 'e', 'l', 'a', 's', ' ', 'a', (220, 4), 'i', ' ', 'l', 'e', 's', ' ', 'j', 'e', 'u', 'x', (150, 6), (129, 5), 's', ' ', 'n', 'e', (405, 5), 'e', (220, 4), 'i', 'l', 's', ' ', 'p', 'a', 's', (150, 8), 'c', 'e', 't', 't', (152, 15), (322, 4), (56, 4), 'i', 'n', (229, 4), 't', 'e', 'n', 'd', (41, 5), (124, 4), 'e', 'r', ' ', 'o', 'h', ' ', 'r', 'e', 'p', 'r', 'i', 't', 'e', (44, 4), (362, 5), 'm', (426, 4), 's', (73, 5), 'j', (185, 5), 'o', 'n', 'n', 'a', 'i', 's', ' ', 's', 'a', (161, 6), (265, 8), 's', 'e', 'l', 'o', 'i', 'g', 'n', (46, 4), 'm', 'm', 'e', ' ', 'i', 'l', ' ', (132, 6), 'v', 'e', 'n', 'u', (355, 4), (45, 5), 's', 'e', 't', 'e', 'i', 'g', 'n', 'i', (389, 4), (132, 7), 'c', 'o', 'u', 't', 'a', ' ', 'e', 'n', 'c', 'o', (487, 7), (162, 4), 't', 'e', 'm', 'p', 's', ' ', 'p', 'u', (104, 4), 'o', 'n', ' ', 'v', 'i', 's', 'a', 'g', 'e', ' ', 's', 'a', 's', 's', 'o', 'm', 'b', 'r', (304, 6), 'm', ' ', 'm', 'a', 'd', 'e', 'l', 'e', (70, 4), (252, 4), 'e', 'n', 'd', 'i', (490, 6), 'd', 'i', 's', (328, 6), (116, 5), 'b', 'a', 's', 's', 'e', (150, 7), 'c', (297, 4), 'd', 'e', 'c', 'i', 'n', ' ', (220, 5), (391, 4), 'n', 't', ' ', 'd', 'e', (326, 4), (313, 4), 'm', 'e', ' ', 'l', 'a', 'i', 's', 's', 'e', 'r', (61, 4), 'r', (254, 4), (312, 6), 'i', 'l', ' ', 'a', (486, 5), 'm', 'a', 'u', 'v', 'a', 'i', 's', (336, 4), 'g', 'u', 'r', (83, 4), 't', ' ', 'h', (93, 4), 'l', 'a', ' ', 'c', 'e', 'p', (337, 4), 'n', 't', ' ', 'l', 'e', ' ', 'f', 'o', 'n', 'd', (478, 4), (96, 6), 's', 'e', 's', ' ', 'i', 'd', 'e', 'e', 's', ' ', 'r', 'e', 'v', 'i', 'n', 't', ' ', (354, 6), 'o', (262, 4), 'u', 'a', (34, 6), ' ', 'p', 'a', 'r', 'l', 'e', 'r', ' ', 'a', (29, 5), 'm', 'e', (141, 5), ' ', 't', 'e', 't', 'e', ' ', 's', 'u', 'r', ' ', 'l', 'o', 'r', 'e', (140, 4), 'r', (205, 7), 'n', 'o', 'u', 's', ' ', 'a', 'l', 'l', 'o', 'n', 's', ' ', 'e', 't', 'r', 'e', ' ', 'h', 'e', 'u', 'r', 'e', 'u', (106, 4), (27, 6), 'u', 'r', (27, 4), 'u', 'n', ' ', 'p', 'e', 't', 'i', 't', ' ', 'j', 'a', 'r', 'd', 'i', 'n', ' ', 'd', 'a', 'b', 'o', 'r', 'd', (319, 13), (105, 6), 'p', 'r', 'o', 'm', 'i', 's', (243, 10), 'j', 'o', 'u', 'e', 'r', 'a', ' ', 'd', 'a', 'n', 's', (208, 4), (63, 7), (184, 5), 'd', 'o', 'i', 't', ' ', 's', 'a', (291, 5), (112, 4), 'l', 'e', 't', 't', 'r', 'e', (60, 4), 'i', (393, 4), (244, 4), 'j', (84, 5), 'f', 'e', 'r', 'a', 'i', ' ', 'e', 'p', 'e', (183, 4), (243, 7), 'u', 'r', (86, 9), 'h', 'e', 'r', 'b', 'e', ' ', 'a', 'p', (60, 4), 'l', 'e', 's', ' ', 'p', 'a', 'p', 'i', (209, 6), (63, 6), 'r', 'e', 'g', 'a', 'r', 'd', (68, 6), 't', ' ', 'p', 'u', 'i', 's', (69, 6), (87, 4), ' ', 's', (179, 4), 'e', 'm', 'i', 'e', (390, 4), 'o', 'm', 'm', 'u', 'n', 'i', 'o', 'n', ' ', 'a', 'h', ' ', 'c', 'a', ' ', 'q', 'u', 'a', 'n', 'd', (39, 5), 't', (49, 5), (44, 22), (27, 6), 'e', ' ', 'm', 'i', 't', ' ', 'a', (24, 4), 'p', 't', 'e', 'r', (364, 5), (213, 4), 'd', 'o', 'i', 'g', 't', (320, 5), 'd', 'e', 'u', 'x', ' ', 't', 'r', 'o', 'i', 's', (89, 4), (363, 4), (58, 5), 'a', ' ', 's', 'e', 'p', 't', ' ', (202, 4), (207, 5), 'c', 'i', 'n', 'q', (14, 5), (30, 6), 'u', 'r', 'a', (61, 4), 'v', 'o', 'i', 'l', 'e', ' ', 'b', 'l', 'a', 'n', 'c']\n",
    "txt = LZSS_decode(tok)\n",
    "print(txt)"
   ]
  },
  {
   "cell_type": "code",
   "execution_count": 158,
   "id": "bbbc5d99",
   "metadata": {},
   "outputs": [
    {
     "name": "stdout",
     "output_type": "stream",
     "text": [
      "thank you aunt i said she was much gratified and both her hands being occupied patted me on the head with her whip is it a large school aunt i asked why i dont know said my aunt we are going to mr wickfields first does he keep a school i asked no trot said my aunt he keeps an office i asked for no more information about mr wickfield as she offered none and we conversed on other subjects until we came to canterbury where as it was marketday my aunt had a great opportunity of insinuating the grey pony among carts baskets vegetables and hucksters goods the hairbreadth turns and twists we made drew down upon us a variety of speeches from the people standing about which were not always complimentary but my aunt drove on with perfect indifference and i dare say would have taken her own way with as much coolness through an enemys country at length we stopped before a very old house bulging out over the road a house with long low latticewindows bulging out still farther and beams with carved heads on the ends bulging out too so that i fancied the whole house was leaning forward trying to see who was passing on the narrow pavement below it was quite spotless in its cleanliness the oldfashioned brass knocker on the low arched door ornamented with carved garlands of fruit and flowers twinkled like a star the two stone steps descending to the door were as white as if they had been covered with fair linen and all the angles and corners and carvings and mouldings and quaint little panes of glass and quainter little windows though as old as the hills were as pure as any snow that ever fell upon the hills when the ponychaise stopped at the door and my eyes were intent upon the house i saw a cadaverous face appear at a small window on the ground floor in a little round tower that formed one side of the house and quickly disappear the low arched door then opened and the face came out it was quite as cadaverous as it had looked in the window though in the grain of it there was that tinge of red which is sometimes to be observed in the skins of redhaired people it belonged to a redhaired persona youth of fifteen as i take it now but looking much olderwhose hair was cropped as close as the closest stubble who had hardly any eyebrows and no eyelashes and eyes of a redbrown so unsheltered and unshaded that i remember wondering how he went to sleep he was highshouldered and bony\n"
     ]
    }
   ],
   "source": [
    "alf = [' ', 'a', 'b', 'c', 'd', 'e', 'f', 'g', 'h', 'i', 'j', 'k', 'l', 'm', 'n', 'o', 'p', 'q', 'r', 's', 't', 'u', 'v', 'w', 'y']\n",
    "tok = [20, 8, 1, 14, 11, 0, 24, 15, 21, 0, 1, 21, 14, 20, 0, 9, 0, 19, 1, 9, 4, 41, 8, 5, 0, 23, 1, 19, 0, 13, 21, 3, 8, 0, 7, 18, 1, 20, 9, 6, 9, 5, 45, 27, 45, 2, 15, 25, 0, 47, 18, 73, 68, 52, 2, 5, 9, 14, 7, 0, 15, 3, 3, 21, 16, 65, 45, 16, 61, 20, 66, 53, 48, 15, 14, 0, 25, 48, 47, 1, 45, 23, 9, 72, 74, 49, 8, 9, 16, 39, 52, 107, 34, 0, 12, 1, 18, 7, 48, 19, 56, 15, 15, 12, 34, 36, 38, 40, 51, 11, 95, 23, 8, 24, 39, 0, 4, 98, 38, 11, 14, 15, 23, 41, 43, 45, 13, 138, 35, 37, 49, 48, 120, 48, 7, 15, 81, 83, 20, 15, 53, 75, 106, 3, 11, 64, 5, 12, 4, 52, 64, 18, 19, 38, 141, 5, 52, 47, 0, 134, 5, 113, 1, 41, 125, 127, 139, 133, 95, 145, 100, 18, 71, 148, 44, 53, 152, 130, 73, 48, 184, 16, 52, 27, 84, 6, 64, 3, 48, 132, 19, 134, 45, 6, 15, 75, 194, 13, 219, 213, 14, 218, 18, 13, 61, 9, 98, 34, 70, 21, 38, 13, 166, 9, 168, 170, 172, 34, 52, 19, 182, 15, 210, 5, 18, 193, 98, 156, 14, 105, 48, 3, 98, 22, 248, 19, 95, 231, 71, 109, 19, 21, 2, 10, 5, 3, 20, 52, 130, 9, 128, 23, 255, 1, 13, 48, 163, 0, 3, 27, 94, 18, 2, 21, 18, 138, 136, 248, 156, 115, 38, 50, 52, 228, 18, 134, 20, 4, 1, 138, 151, 129, 154, 26, 67, 58, 249, 61, 84, 16, 16, 219, 20, 36, 107, 138, 246, 39, 14, 19, 81, 21, 229, 82, 100, 182, 59, 5, 138, 315, 14, 152, 222, 328, 283, 18, 271, 0, 2, 192, 341, 258, 122, 20, 1, 2, 12, 180, 34, 253, 73, 55, 11, 177, 259, 58, 126, 173, 329, 102, 43, 286, 311, 4, 72, 317, 18, 323, 353, 45, 20, 106, 177, 52, 276, 53, 104, 48, 4, 249, 147, 141, 23, 99, 88, 231, 21, 207, 0, 22, 120, 65, 20, 320, 6, 41, 16, 5, 269, 47, 174, 196, 13, 363, 0, 401, 15, 16, 351, 41, 348, 253, 161, 232, 32, 295, 111, 56, 155, 249, 0, 145, 38, 1, 12, 50, 24, 52, 256, 13, 412, 9, 279, 37, 120, 138, 287, 235, 201, 154, 383, 15, 258, 84, 99, 106, 72, 401, 18, 6, 269, 131, 416, 247, 249, 14, 212, 373, 139, 302, 424, 42, 290, 32, 241, 26, 447, 348, 134, 99, 109, 146, 449, 303, 49, 107, 57, 51, 53, 55, 57, 256, 127, 14, 180, 52, 25, 196, 21, 7, 481, 99, 5, 488, 151, 432, 32, 37, 289, 34, 38, 351, 82, 72, 379, 177, 411, 401, 69, 5, 226, 156, 393, 248, 320, 469, 32, 260, 342, 21, 12, 7, 417, 419, 84, 258, 75, 101, 0, 196, 104, 117, 8, 521, 48, 450, 57, 12, 98, 83, 542, 147, 119, 20, 62, 212, 106, 253, 146, 78, 524, 526, 328, 528, 177, 274, 128, 6, 120, 101, 75, 68, 342, 5, 278, 378, 480, 282, 120, 258, 45, 103, 362, 231, 532, 497, 362, 287, 525, 527, 234, 100, 126, 41, 164, 25, 312, 40, 562, 460, 90, 408, 136, 127, 102, 538, 49, 482, 351, 27, 417, 226, 50, 18, 374, 289, 417, 281, 260, 539, 537, 601, 52, 92, 19, 324, 557, 99, 532, 14, 120, 196, 147, 92, 258, 437, 38, 79, 545, 39, 295, 482, 17, 21, 107, 123, 315, 20, 351, 619, 322, 634, 432, 603, 14, 12, 81, 489, 408, 127, 4, 562, 244, 230, 488, 69, 60, 644, 144, 85, 134, 75, 578, 182, 633, 120, 56, 95, 141, 219, 84, 371, 278, 497, 94, 105, 571, 339, 574, 58, 120, 119, 253, 52, 321, 6, 18, 638, 427, 354, 6, 545, 359, 375, 81, 11, 351, 45, 650, 134, 117, 177, 120, 408, 375, 164, 510, 488, 414, 185, 52, 4, 180, 212, 416, 328, 281, 532, 673, 166, 292, 242, 110, 639, 726, 63, 363, 138, 308, 567, 497, 282, 446, 292, 680, 72, 562, 9, 75, 650, 488, 99, 566, 428, 128, 532, 27, 7, 643, 462, 256, 371, 359, 566, 682, 161, 207, 354, 222, 524, 4, 760, 462, 637, 43, 154, 650, 548, 413, 92, 488, 688, 399, 752, 51, 761, 45, 768, 81, 285, 118, 107, 642, 539, 81, 386, 490, 537, 493, 481, 688, 241, 482, 532, 111, 12, 12, 378, 725, 482, 16, 288, 293, 353, 138, 19, 145, 147, 590, 38, 5, 530, 0, 454, 800, 0, 389, 622, 182, 799, 801, 110, 735, 532, 334, 24, 56, 43, 522, 510, 314, 95, 312, 722, 126, 565, 762, 138, 332, 352, 276, 424, 783, 678, 820, 334, 408, 792, 522, 40, 42, 147, 187, 283, 302, 530, 521, 817, 1, 461, 1, 835, 707, 312, 187, 19, 228, 819, 551, 386, 448, 408, 59, 501, 217, 542, 674, 81, 117, 771, 787, 533, 878, 586, 845, 329, 312, 226, 279, 45, 251, 41, 44, 97, 399, 798, 600, 566, 637, 238, 700, 138, 765, 42, 866, 531, 668, 146, 34, 18, 671, 45, 723, 363, 99, 411, 497, 836, 354, 532, 562, 461, 283, 279, 84, 585, 116, 296, 0, 903, 94, 726, 858, 1, 860, 391, 729, 38, 733, 880, 216, 645, 532, 873, 912, 25, 32, 494, 946, 330, 60, 882, 321, 116, 564, 539, 797, 26, 38, 62, 82, 898, 533, 135, 421, 57, 9, 243, 15, 279, 62, 279, 490, 164, 79, 84, 2, 260, 18, 683, 882, 532, 215, 81, 776, 967, 4, 26, 742, 95, 410, 412, 213, 631, 171, 543, 95, 281, 187, 249, 991, 365, 994, 259, 98, 187, 31, 234, 57, 689, 63, 94, 735, 482, 40, 472, 997, 425, 912, 441, 118, 126, 11, 417, 54, 422, 654, 248, 597, 522, 992, 166, 482, 3, 196, 835, 67, 647, 15, 522, 961, 255, 542, 260, 177, 414, 266, 350, 614, 164, 733, 26, 608, 12, 152, 335, 0, 843, 2, 626, 780, 1022, 1061, 24, 171, 51, 404, 462, 843, 989, 1003, 66, 1063, 476, 588, 820, 323, 47, 12, 285, 922, 45, 36, 244, 381, 374, 962, 139, 249, 279, 13, 79, 166, 98, 716, 18, 417, 537, 147, 182, 276, 154, 612, 351, 185, 203, 616, 73, 9, 494, 244, 468, 1099, 1085, 342, 98, 24]\n",
    "txt = LZW_decode(tok,alf)\n",
    "print(txt)"
   ]
  }
 ],
 "metadata": {
  "kernelspec": {
   "display_name": "Python 3 (ipykernel)",
   "language": "python",
   "name": "python3"
  },
  "language_info": {
   "codemirror_mode": {
    "name": "ipython",
    "version": 3
   },
   "file_extension": ".py",
   "mimetype": "text/x-python",
   "name": "python",
   "nbconvert_exporter": "python",
   "pygments_lexer": "ipython3",
   "version": "3.9.13"
  }
 },
 "nbformat": 4,
 "nbformat_minor": 5
}
