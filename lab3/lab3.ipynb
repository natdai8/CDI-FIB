{
 "cells": [
  {
   "cell_type": "markdown",
   "id": "92a0a31f",
   "metadata": {},
   "source": [
    "## Entropy"
   ]
  },
  {
   "cell_type": "code",
   "execution_count": 10,
   "id": "09d81601",
   "metadata": {},
   "outputs": [],
   "source": [
    "import math\n",
    "\n",
    "def entropy(txt, k=1, pre=\"\"):\n",
    "    freq = {}\n",
    "    n = len(txt) - k + 1\n",
    "    l = 0\n",
    "    for i in range(n):\n",
    "        if txt[i-len(pre):i] == pre:\n",
    "            if txt[i:i+k] not in freq:\n",
    "                freq[txt[i:i+k]] = 0\n",
    "            freq[txt[i:i+k]] += 1\n",
    "            l += 1\n",
    "\n",
    "    probs = {}\n",
    "    for block, count in freq.items():\n",
    "        probs[block] = count / l\n",
    "\n",
    "    entropy = 0\n",
    "    for p in probs.values():\n",
    "        entropy -= p * math.log2(p)\n",
    "\n",
    "    return entropy"
   ]
  },
  {
   "cell_type": "code",
   "execution_count": 11,
   "id": "93b0110c",
   "metadata": {},
   "outputs": [],
   "source": [
    "def calc_entropy(prob_dict):\n",
    "    return sum([-v*math.log2(v) for _,v in prob_dict.items()])"
   ]
  },
  {
   "cell_type": "code",
   "execution_count": 12,
   "id": "d72ad2e7",
   "metadata": {},
   "outputs": [],
   "source": [
    "def entropy2(src):\n",
    "    total = sum(src.values())\n",
    "    prob = {k:v/total for k,v in src.items()}\n",
    "    return calc_entropy(prob)"
   ]
  },
  {
   "cell_type": "markdown",
   "id": "27be4bdd",
   "metadata": {},
   "source": [
    "## Del Lab1 cambiado"
   ]
  },
  {
   "cell_type": "code",
   "execution_count": 13,
   "id": "f1ece67f",
   "metadata": {},
   "outputs": [],
   "source": [
    "from collections import defaultdict\n",
    "\n",
    "def source_fromtext(txt, n=1):\n",
    "    freq_packs = {}\n",
    "    for i in range(len(txt) - n + 1):\n",
    "        packs = txt[i:i+n]\n",
    "        if packs in freq_packs:\n",
    "            freq_packs[packs] += 1\n",
    "        else:\n",
    "            freq_packs[packs] = 1\n",
    "    freq_list = [(k, v) for k, v in freq_packs.items()]\n",
    "    return sorted(freq_list, key=lambda x: x[0])"
   ]
  },
  {
   "cell_type": "markdown",
   "id": "14ae30d7",
   "metadata": {},
   "source": [
    "## Huffman + Lab2"
   ]
  },
  {
   "cell_type": "code",
   "execution_count": 29,
   "id": "dbbdcd08",
   "metadata": {},
   "outputs": [],
   "source": [
    "import heapq\n",
    "import operator\n",
    "\n",
    "def huffman_code(txt,src, n):\n",
    "    \n",
    "    #src = source_fromtext(txt, n);\n",
    "    \n",
    "    d_nodes = {}\n",
    "    for c in src:\n",
    "        d_nodes[c[0]] = 0\n",
    "    \n",
    "    sorted_d = sorted(src, key=lambda x: x[1]) \n",
    "\n",
    "    while len(sorted_d) > 1:\n",
    "        new_c = sorted_d[0][0] + sorted_d[1][0]\n",
    "        new_f = sorted_d[0][1] + sorted_d[1][1]\n",
    "        \n",
    "        for i in range(0, len(sorted_d[0][0]), n):\n",
    "            package = sorted_d[0][0][i:i+n]\n",
    "            d_nodes[package] += 1\n",
    "\n",
    "        for i in range(0, len(sorted_d[1][0]), n):\n",
    "            package = sorted_d[1][0][i:i+n]\n",
    "            d_nodes[package] += 1\n",
    "        \n",
    "        sorted_d[1] = (new_c,new_f)\n",
    "        sorted_d.pop(0);\n",
    "        sorted_d = sorted(sorted_d, key=lambda x: x[1])\n",
    "        \n",
    "    return d_nodes"
   ]
  },
  {
   "cell_type": "code",
   "execution_count": 15,
   "id": "e81dad5b",
   "metadata": {},
   "outputs": [],
   "source": [
    "def kraft_inequality(L, N):\n",
    "    suma = 0\n",
    "    for l in L:\n",
    "        suma += N ** -l\n",
    "        \n",
    "    return suma <= 1"
   ]
  },
  {
   "cell_type": "code",
   "execution_count": 16,
   "id": "e95e9f6d",
   "metadata": {},
   "outputs": [],
   "source": [
    "def canonical_code(Lista, N, Chars):\n",
    "    \n",
    "    if not kraft_inequality(Lista, N):\n",
    "        return 'Les longituds no satisfan Kraft: no existeix cap codi'\n",
    "    \n",
    "    L = sorted(Lista)\n",
    "    #print(L)\n",
    "    codes = []\n",
    "    index = 0\n",
    "    l = 0\n",
    "    for length in L:\n",
    "        if codes == []:\n",
    "            code = list(Chars[index])\n",
    "            l = 1\n",
    "            while l != length:\n",
    "                l += 1\n",
    "                code.append(Chars[0])\n",
    "        else:\n",
    "            index += 1\n",
    "            if (index < N):\n",
    "                code[-1] = Chars[index]\n",
    "            else:\n",
    "                code[-1] = Chars[0]\n",
    "                change_index = -2\n",
    "                while code[change_index] == Chars[N-1]:\n",
    "                    code[change_index] = Chars[0]\n",
    "                    change_index -= 1   \n",
    "                code[change_index] = Chars[Chars.index(code[change_index])+1]\n",
    "                index = 0\n",
    "            while l != length:\n",
    "                l += 1\n",
    "                code.append(Chars[0])\n",
    "                index = 0\n",
    "        codes.append(''.join(code))\n",
    "    res = []\n",
    "    for long in Lista:\n",
    "        element = list(filter(lambda i: (len(i) == long), codes))\n",
    "        res.append(element[0])\n",
    "        codes.remove(element[0])\n",
    "        \n",
    "    return res"
   ]
  },
  {
   "cell_type": "markdown",
   "id": "d27bb9c7",
   "metadata": {},
   "source": [
    "## Mean length"
   ]
  },
  {
   "cell_type": "code",
   "execution_count": 17,
   "id": "2e56bd18",
   "metadata": {},
   "outputs": [],
   "source": [
    "def mean_length(src, code):\n",
    "    \n",
    "    total_weight = sum([x[1] for x in src])\n",
    "    total_length = sum([len(code[i]) * w[1] for i, w in enumerate(src)])\n",
    "\n",
    "    return total_length / total_weight"
   ]
  },
  {
   "cell_type": "markdown",
   "id": "a61c86ab",
   "metadata": {},
   "source": [
    "## Arithmetic encoding"
   ]
  },
  {
   "cell_type": "code",
   "execution_count": 18,
   "id": "f3c51dfa",
   "metadata": {},
   "outputs": [],
   "source": [
    "from math import floor\n",
    "len2 = len\n",
    "bin2 = bin"
   ]
  },
  {
   "cell_type": "code",
   "execution_count": 19,
   "id": "f50427ba",
   "metadata": {},
   "outputs": [],
   "source": [
    "def arithmetic_decode_bin(bin,k, src,len):\n",
    "    suma = 0\n",
    "    src2 = []\n",
    "    for i in range(len2(src)):\n",
    "        suma += src[i][1]\n",
    "    for i in range(len2(src)):\n",
    "        src2.append((src[i][0],src[i][1]/suma))\n",
    "    alpha = '0' * k\n",
    "    beta = '1' * k\n",
    "    gamma = bin[:k]\n",
    "    usados = k\n",
    "    x = ''\n",
    "    cumulative_probs = [0]\n",
    "    aux = 0.0\n",
    "    for i in range(len2(src2)):\n",
    "        aux += src2[i][1]\n",
    "        cumulative_probs.append(aux)\n",
    "    while len2(x) != len:\n",
    "        delta = int(beta,2) - int(alpha,2) + 1\n",
    "        subintervals = []\n",
    "        for j in range(1, len2(cumulative_probs)):\n",
    "            aux = (int(alpha,2) + int(floor(delta * cumulative_probs[j-1])),\n",
    "                   int(alpha,2) + int(floor(delta * cumulative_probs[j]) - 1))\n",
    "            subintervals.append(aux)\n",
    "        for ind, subint in enumerate(subintervals):\n",
    "            if subint[0] <= int(gamma,2) <= subint[1]:\n",
    "                x += src2[ind][0]\n",
    "                alpha = bin2(subint[0])[2:].zfill(k)\n",
    "                beta = bin2(subint[1])[2:].zfill(k)\n",
    "        if len2(x) == len:\n",
    "            break\n",
    "        while alpha[0] == beta[0]:\n",
    "            alpha = alpha[1:] + '0'\n",
    "            beta = beta[1:] + '1'\n",
    "            if usados == len2(bin):\n",
    "                gamma = gamma[1:] + '0'\n",
    "            else:\n",
    "                gamma = gamma[1:] + bin[usados]\n",
    "                usados += 1\n",
    "        while alpha[:2] == '01' and beta[:2] == '10':\n",
    "            alpha = alpha[0] + alpha[2:] + '0'\n",
    "            beta = beta[0] + beta[2:] + '1'\n",
    "            if usados == len2(bin):\n",
    "                gamma = gamma[0] + gamma[2:] + '0'\n",
    "            else:\n",
    "                gamma = gamma[0] + gamma[2:] + bin[usados]\n",
    "                usados += 1\n",
    "    return x\n",
    "\n"
   ]
  },
  {
   "cell_type": "code",
   "execution_count": 20,
   "id": "02125eed",
   "metadata": {},
   "outputs": [],
   "source": [
    "def arithmetic_encode_bin(str,k):\n",
    "    src = source_fromtext(txt);\n",
    "    suma = 0\n",
    "    src2 = []\n",
    "    for i in range(len(src)):\n",
    "        suma += src[i][1]\n",
    "    for i in range(len2(src)):\n",
    "        src2.append((src[i][0],src[i][1]/suma))\n",
    "   \n",
    "    alpha = '0' * k\n",
    "    beta = '1' * k\n",
    "    c = \"\"\n",
    "    u = 0\n",
    "    cumulative_probs = [0]\n",
    "    aux = 0.0\n",
    "    for i in range(len(src2)):\n",
    "        aux += src2[i][1]\n",
    "        cumulative_probs.append(aux)\n",
    "    for i in range(len(str)):\n",
    "        delta = int(beta,2) - int(alpha,2) + 1\n",
    "        subintervals = []\n",
    "        for j in range(1, len(cumulative_probs)):\n",
    "            aux = (int(alpha,2) + int(floor(delta * cumulative_probs[j-1])),\n",
    "                   int(alpha,2) + int(floor(delta * cumulative_probs[j]) - 1))\n",
    "            subintervals.append(aux)\n",
    "        ind = [src2.index(tupla) for tupla in src2 if tupla[0] == str[i]][0]\n",
    "        alpha = bin(subintervals[ind][0])[2:].zfill(k)\n",
    "        beta = bin(subintervals[ind][1])[2:].zfill(k)\n",
    "        while alpha[0] == beta[0]:\n",
    "            c += alpha[0]\n",
    "            if alpha[0] == '0':\n",
    "                    c += '1' * u\n",
    "            else:\n",
    "                    c += '0' * u\n",
    "            u = 0\n",
    "            alpha = alpha[1:] + '0'\n",
    "            beta = beta[1:] + '1'\n",
    "        while alpha[:2] == '01' and beta[:2] == '10':\n",
    "            alpha = alpha[0] + alpha[2:] + '0'\n",
    "            beta = beta[0] + beta[2:] + '1'\n",
    "            u += 1\n",
    "    return c + '1'"
   ]
  },
  {
   "cell_type": "code",
   "execution_count": 21,
   "id": "ee032e60",
   "metadata": {},
   "outputs": [],
   "source": [
    "#no esta bien\n",
    "def arithmetic_encode_bin(input_str, src, k):\n",
    "    suma = sum(freq for _, freq in src)\n",
    "    src2 = [(s, freq/suma) for s, freq in src]\n",
    "   \n",
    "    alpha = '0' * k\n",
    "    beta = '1' * k\n",
    "    c = \"\"\n",
    "    u = 0\n",
    "    cumulative_probs = [0]\n",
    "    aux = 0.0\n",
    "    for i in range(len(src2)):\n",
    "        aux += src2[i][1]\n",
    "        cumulative_probs.append(aux)\n",
    "    for i in range(len(input_str)):\n",
    "        delta = int(beta,2) - int(alpha,2) + 1\n",
    "        subintervals = []\n",
    "        for j in range(1, len(cumulative_probs)):\n",
    "            aux = (int(alpha,2) + int(floor(delta * cumulative_probs[j-1])),\n",
    "                   int(alpha,2) + int(floor(delta * cumulative_probs[j]) - 1))\n",
    "            subintervals.append(aux)\n",
    "        ind = next(i for i, (s_j, _) in enumerate(src) if input_str[i] == s_j)\n",
    "        alpha = bin(subintervals[ind][0])[2:].zfill(k)\n",
    "        beta = bin(subintervals[ind][1])[2:].zfill(k)\n",
    "        while alpha[0] == beta[0]:\n",
    "            c += alpha[0]\n",
    "            if alpha[0] == '0':\n",
    "                c += '1' * u\n",
    "            else:\n",
    "                c += '0' * u\n",
    "            u = 0\n",
    "            alpha = alpha[1:] + '0'\n",
    "            beta = beta[1:] + '1'\n",
    "        while alpha[:2] == '01' and beta[:2] == '10':\n",
    "            alpha = alpha[0] + alpha[2:] + '0'\n",
    "            beta = beta[0] + beta[2:] + '1'\n",
    "            u += 1\n",
    "    return c + '1'\n"
   ]
  },
  {
   "cell_type": "code",
   "execution_count": 22,
   "id": "1639be94",
   "metadata": {},
   "outputs": [],
   "source": [
    "def arithmetic_encode_bin2(str,src,k):\n",
    "    suma = 0\n",
    "    src2 = []\n",
    "    for i in range(len2(src)):\n",
    "        suma += src[i][1]\n",
    "    for i in range(len2(src)):\n",
    "        src2.append((src[i][0],src[i][1]/suma))\n",
    "    alpha = '0' * k\n",
    "    beta = '1' * k\n",
    "    c = \"\"\n",
    "    u = 0\n",
    "    cumulative_probs = [0]\n",
    "    aux = 0.0\n",
    "    for i in range(len(src2)):\n",
    "        aux += src2[i][1]\n",
    "        cumulative_probs.append(aux)\n",
    "    for i in range(0, len(str), 2):\n",
    "        if (i < len(str) - 1):\n",
    "            delta = int(beta,2) - int(alpha,2) + 1\n",
    "            subintervals = []\n",
    "            for j in range(1, len(cumulative_probs)):\n",
    "                aux = (int(alpha,2) + int(floor(delta * cumulative_probs[j-1])),\n",
    "                       int(alpha,2) + int(floor(delta * cumulative_probs[j]) - 1))\n",
    "                subintervals.append(aux)\n",
    "            ind = [src2.index(tupla) for tupla in src2 if tupla[0] == (str[i] + str[i + 1])][0]\n",
    "            alpha = bin(subintervals[ind][0])[2:].zfill(k)\n",
    "            beta = bin(subintervals[ind][1])[2:].zfill(k)\n",
    "            while alpha[0] == beta[0]:\n",
    "                c += alpha[0]\n",
    "                if alpha[0] == '0':\n",
    "                        c += '1' * u\n",
    "                else:\n",
    "                        c += '0' * u\n",
    "                u = 0\n",
    "                alpha = alpha[1:] + '0'\n",
    "                beta = beta[1:] + '1'\n",
    "            while alpha[:2] == '01' and beta[:2] == '10':\n",
    "                alpha = alpha[0] + alpha[2:] + '0'\n",
    "                beta = beta[0] + beta[2:] + '1'\n",
    "                u += 1\n",
    "    return c + '1'"
   ]
  },
  {
   "cell_type": "markdown",
   "id": "63692274",
   "metadata": {},
   "source": [
    "## Lab2 Encode & Decode"
   ]
  },
  {
   "cell_type": "code",
   "execution_count": 32,
   "id": "261ea3eb",
   "metadata": {},
   "outputs": [],
   "source": [
    "def encode (txta, corr):\n",
    "    \n",
    "    txt_encoded = ''\n",
    "    i, j = 0, 0\n",
    "    \n",
    "    while j <= len(txta):\n",
    "        substring = txta[i:j]\n",
    "        if substring in corr:\n",
    "            txt_encoded += corr[substring]\n",
    "            i = j\n",
    "        j += 1\n",
    "\n",
    "    if i != len(txta): # all the text could not be processed\n",
    "        return 'Message could not be encoded'\n",
    "    \n",
    "    return txt_encoded"
   ]
  },
  {
   "cell_type": "code",
   "execution_count": 24,
   "id": "214db4ce",
   "metadata": {},
   "outputs": [],
   "source": [
    "def decode(txta, corr):\n",
    "    \n",
    "    txt_decoded = ''\n",
    "    i, j = 0, 1\n",
    "    \n",
    "    while j <= len(txta):\n",
    "        substring = txta[i:j]\n",
    "        if substring in corr.values():\n",
    "            key = list(corr.keys())[list(corr.values()).index(substring)]\n",
    "            txt_decoded += key\n",
    "            i = j\n",
    "        j += 1\n",
    "\n",
    "    if i != len(txta):\n",
    "        return 'Message could not be decoded'\n",
    "    \n",
    "    return txt_decoded"
   ]
  },
  {
   "cell_type": "markdown",
   "id": "08d7ac47",
   "metadata": {},
   "source": [
    "## Product probabilities"
   ]
  },
  {
   "cell_type": "code",
   "execution_count": 25,
   "id": "9152efaa",
   "metadata": {},
   "outputs": [],
   "source": [
    "def product_prob(src):\n",
    "    dict2 = {}\n",
    "    src2 = dict(src)\n",
    "    for k, v in src2.items():\n",
    "        for l, m in src2.items():\n",
    "            dict2[k+l] = v*m\n",
    "    my_list = [(k, v) for k, v in dict2.items()]\n",
    "    return my_list"
   ]
  },
  {
   "cell_type": "markdown",
   "id": "4aa3d8ab",
   "metadata": {},
   "source": [
    "## Tests"
   ]
  },
  {
   "cell_type": "code",
   "execution_count": 26,
   "id": "efe6dbc0",
   "metadata": {},
   "outputs": [
    {
     "data": {
      "text/plain": [
       "'el ingenioso hidalgo don quijote de la mancha tasa yo juan gallo de andrada escribano de camara del rey nuestro senor de los que residen en su consejo certifico y doy fe que habiendo visto por los senores del un libro intitulado el ingenioso hidalgo de la mancha compuesto por miguel de cervantes saavedra tasaron cada pliego del dicho libro a tres maravedis y medio el cual tiene ochenta y tres pliegos que al dicho precio monta el dicho libro docientos y noventa maravedis y medio en que se ha de vender en papel y dieron licencia para que a este precio se pueda vender y mandaron que esta tasa se ponga al principio del dicho libro y no se pueda vender sin ella y para que dello conste di la presente en valladolid a veinte dias del mes de deciembre de mil y seiscientos y cuatro anos juan gallo de andrada testimonio de las erratas este libro no tiene cosa digna que no corresponda a su original en testimonio de lo haber correcto di esta fee en el colegio de la madre de dios de los teologos de '"
      ]
     },
     "execution_count": 26,
     "metadata": {},
     "output_type": "execute_result"
    }
   ],
   "source": [
    "quijote = open(\"quijote_clean.txt\",\"r\",encoding=\"utf-8\").read(); quijote[:1000]"
   ]
  },
  {
   "cell_type": "code",
   "execution_count": 72,
   "id": "f9be88dc",
   "metadata": {},
   "outputs": [
    {
     "data": {
      "text/plain": [
       "[3.9688875658964196, 7.004395616708034, 9.58395130083852, 11.723763678102449]"
      ]
     },
     "execution_count": 72,
     "metadata": {},
     "output_type": "execute_result"
    }
   ],
   "source": [
    "[entropy(quijote,k) for k in range(1,5)]"
   ]
  },
  {
   "cell_type": "code",
   "execution_count": 73,
   "id": "032c580c",
   "metadata": {},
   "outputs": [
    {
     "data": {
      "text/plain": [
       "[3.9688875658964196, 3.502197808354017, 3.1946504336128396, 2.930940919525612]"
      ]
     },
     "execution_count": 73,
     "metadata": {},
     "output_type": "execute_result"
    }
   ],
   "source": [
    "[entropy(quijote,k)/k for k in range(1,5)]"
   ]
  },
  {
   "cell_type": "code",
   "execution_count": 74,
   "id": "696647d1",
   "metadata": {},
   "outputs": [
    {
     "data": {
      "text/plain": [
       "4.07680021049908"
      ]
     },
     "execution_count": 74,
     "metadata": {},
     "output_type": "execute_result"
    }
   ],
   "source": [
    "entropy(quijote,1,\" \")"
   ]
  },
  {
   "cell_type": "code",
   "execution_count": 75,
   "id": "eea0e098",
   "metadata": {},
   "outputs": [
    {
     "data": {
      "text/plain": [
       "[0.0, 3.2018434371133657, 1.715405240640153, 2.5628583734966432]"
      ]
     },
     "execution_count": 75,
     "metadata": {},
     "output_type": "execute_result"
    }
   ],
   "source": [
    "[entropy(quijote,1,\"q\"), entropy(quijote,1,\"a\"), entropy(quijote,1,\"j\"), entropy(quijote,1,\"m\")]"
   ]
  },
  {
   "cell_type": "code",
   "execution_count": 76,
   "id": "5b55c4f6",
   "metadata": {},
   "outputs": [
    {
     "data": {
      "text/plain": [
       "[4.329577792128523, 0.06840583225936889, 7.215960486296072, 0.0]"
      ]
     },
     "execution_count": 76,
     "metadata": {},
     "output_type": "execute_result"
    }
   ],
   "source": [
    "[entropy(quijote,2,pre=\"res\"), entropy(quijote,1,pre=\"quij\"), entropy(quijote,3,pre=\"al\"), entropy(quijote,1,pre=\"espadas\")]"
   ]
  },
  {
   "cell_type": "code",
   "execution_count": 77,
   "id": "af8208f8",
   "metadata": {},
   "outputs": [
    {
     "data": {
      "text/plain": [
       "[3.035508050811614, 2.5795556841304856, 2.1398123772639295, 1.8052454910228128]"
      ]
     },
     "execution_count": 77,
     "metadata": {},
     "output_type": "execute_result"
    }
   ],
   "source": [
    "[entropy(quijote,k+1) - entropy(quijote,k) for k in range(1,5)]"
   ]
  },
  {
   "cell_type": "code",
   "execution_count": 78,
   "id": "e9cb776c",
   "metadata": {},
   "outputs": [
    {
     "name": "stdout",
     "output_type": "stream",
     "text": [
      "[(' ', 381208), ('a', 200499), ('b', 24147), ('c', 59437), ('d', 87240), ('e', 229191), ('f', 7581), ('g', 17225), ('h', 19920), ('i', 90077), ('j', 10530), ('l', 89143), ('m', 44658), ('n', 112683), ('o', 162514), ('p', 35465), ('q', 32483), ('r', 100955), ('s', 125728), ('t', 61749), ('u', 79560), ('v', 17856), ('w', 2), ('x', 377), ('y', 25115), ('z', 6491)]\n"
     ]
    }
   ],
   "source": [
    "src = source_fromtext(quijote); print(src)"
   ]
  },
  {
   "cell_type": "code",
   "execution_count": 27,
   "id": "97ee8d8b",
   "metadata": {},
   "outputs": [
    {
     "name": "stdout",
     "output_type": "stream",
     "text": [
      "{' ': 2, 'a': 3, 'b': 7, 'c': 5, 'd': 5, 'e': 3, 'f': 9, 'g': 7, 'h': 7, 'i': 5, 'j': 8, 'l': 5, 'm': 6, 'n': 4, 'o': 4, 'p': 6, 'q': 6, 'r': 5, 's': 4, 't': 5, 'u': 5, 'v': 7, 'w': 11, 'x': 11, 'y': 7, 'z': 10}\n",
      "[(' ', '00'), ('a', '010'), ('b', '1111010'), ('c', '10110'), ('d', '10111'), ('e', '011'), ('f', '111111110'), ('g', '1111011'), ('h', '1111100'), ('i', '11000'), ('j', '11111110'), ('l', '11001'), ('m', '111010'), ('n', '1000'), ('o', '1001'), ('p', '111011'), ('q', '111100'), ('r', '11010'), ('s', '1010'), ('t', '11011'), ('u', '11100'), ('v', '1111101'), ('w', '11111111110'), ('x', '11111111111'), ('y', '1111110'), ('z', '1111111110')]\n"
     ]
    }
   ],
   "source": [
    "res = huffman_code(quijote, 1)\n",
    "print(res)\n",
    "huf = [(key, value) for key, value in zip(res.keys(), canonical_code(res.values(), 2, ['0', '1']))]\n",
    "print(huf)"
   ]
  },
  {
   "cell_type": "code",
   "execution_count": 82,
   "id": "08234450",
   "metadata": {},
   "outputs": [
    {
     "data": {
      "text/plain": [
       "(3.9688875658964196, 4.01764734394614)"
      ]
     },
     "execution_count": 82,
     "metadata": {},
     "output_type": "execute_result"
    }
   ],
   "source": [
    "cod = [y for x,y in huf];\n",
    "entropy(quijote,1), mean_length(src,cod)"
   ]
  },
  {
   "cell_type": "code",
   "execution_count": 96,
   "id": "1a2cf2b0",
   "metadata": {},
   "outputs": [
    {
     "name": "stdout",
     "output_type": "stream",
     "text": [
      "[(' a', 30582), (' b', 5547), (' c', 26710), (' d', 43510), (' e', 35913), (' f', 5025), (' g', 3813), (' h', 12512), (' i', 2723), (' j', 1283), (' l', 32728), (' m', 21278), (' n', 11545), (' o', 6064), (' p', 25482), (' q', 27349), (' r', 6915), (' s', 30083), (' t', 15198), (' u', 4214), (' v', 11166), (' w', 2), (' x', 82), (' y', 21251), (' z', 232), ('a ', 69563), ('aa', 10), ('ab', 10283), ('ac', 5158), ('ad', 12488), ('ae', 435), ('af', 279), ('ag', 1846), ('ah', 585), ('ai', 926), ('aj', 1069), ('al', 14904), ('am', 5728), ('an', 24135), ('ao', 72), ('ap', 1372), ('aq', 1925), ('ar', 17978), ('as', 23324), ('at', 2606), ('au', 1593), ('av', 1159), ('ax', 1), ('ay', 1410), ('az', 1650), ('b ', 7), ('ba', 7301), ('bc', 4), ('bd', 1), ('be', 3074), ('bi', 4571), ('bj', 9), ('bl', 1645), ('bo', 1451), ('br', 4281), ('bs', 18), ('bt', 1), ('bu', 1784), ('c ', 15), ('ca', 10986), ('cc', 53), ('ce', 7034), ('ch', 6368), ('ci', 10132), ('cl', 479), ('cm', 1), ('co', 16171), ('cr', 1671), ('ct', 189), ('cu', 6338), ('d ', 3270), ('da', 11555), ('de', 34444), ('dh', 5), ('di', 12070), ('dj', 1), ('dl', 21), ('dm', 300), ('dn', 4), ('do', 22084), ('dq', 6), ('dr', 1537), ('ds', 1), ('du', 1820), ('dv', 122), ('e ', 80134), ('ea', 1863), ('eb', 1252), ('ec', 5911), ('ed', 4579), ('ee', 313), ('ef', 361), ('eg', 3278), ('eh', 45), ('ei', 1048), ('ej', 2104), ('el', 18886), ('em', 3210), ('en', 37398), ('eo', 801), ('ep', 810), ('eq', 169), ('er', 27601), ('es', 33528), ('et', 2116), ('eu', 21), ('ev', 1632), ('ex', 168), ('ey', 463), ('ez', 1500), ('f ', 1), ('fa', 1334), ('fe', 1196), ('fi', 1557), ('fl', 181), ('fo', 495), ('fr', 650), ('fu', 2167), ('g ', 1), ('ga', 4136), ('ge', 872), ('gi', 823), ('gl', 198), ('gm', 5), ('gn', 247), ('go', 4248), ('gr', 2274), ('gu', 4421), ('h ', 207), ('ha', 9219), ('he', 2212), ('hi', 1795), ('ho', 5696), ('hr', 2), ('hu', 789), ('i ', 8756), ('ia', 10715), ('ib', 1525), ('ic', 4330), ('id', 5473), ('ie', 13818), ('if', 396), ('ig', 3181), ('ih', 2), ('ii', 79), ('ij', 4753), ('il', 2607), ('im', 3058), ('in', 8691), ('io', 8566), ('ip', 333), ('iq', 174), ('ir', 4425), ('is', 5441), ('it', 2181), ('iu', 166), ('iv', 738), ('ix', 41), ('iy', 2), ('iz', 626), ('j ', 2), ('ja', 2102), ('je', 1494), ('ji', 98), ('jo', 5867), ('ju', 967), ('l ', 17382), ('la', 23546), ('lb', 179), ('lc', 630), ('ld', 643), ('le', 12944), ('lf', 88), ('lg', 1473), ('lh', 29), ('li', 4355), ('lj', 10), ('ll', 9244), ('lm', 736), ('ln', 1), ('lo', 13715), ('lp', 182), ('lq', 81), ('lr', 12), ('ls', 111), ('lt', 1134), ('lu', 1604), ('lv', 884), ('lx', 15), ('lz', 145), ('m ', 22), ('ma', 10685), ('mb', 1704), ('me', 10190), ('mi', 7892), ('mm', 1), ('mn', 4), ('mo', 8605), ('mp', 2327), ('mq', 1), ('mu', 3227), ('n ', 34754), ('na', 9138), ('nc', 6780), ('nd', 11629), ('ne', 5107), ('nf', 571), ('ng', 1926), ('nh', 15), ('ni', 4563), ('nj', 145), ('nl', 124), ('nm', 208), ('nn', 11), ('no', 16275), ('nq', 596), ('nr', 268), ('ns', 2375), ('nt', 15244), ('nu', 1248), ('nv', 465), ('nz', 1241), ('o ', 71374), ('oa', 23), ('ob', 2059), ('oc', 3053), ('od', 4077), ('oe', 130), ('of', 479), ('og', 480), ('oh', 242), ('oi', 476), ('oj', 647), ('ol', 3975), ('om', 6099), ('on', 20439), ('oo', 21), ('op', 511), ('oq', 140), ('or', 15525), ('os', 25915), ('ot', 4901), ('ov', 488), ('ox', 2), ('oy', 937), ('oz', 521), ('p ', 1), ('pa', 8209), ('pc', 3), ('pe', 5706), ('pi', 2081), ('pl', 1084), ('po', 10688), ('pr', 3684), ('ps', 4), ('pt', 56), ('pu', 3949), ('qu', 32483), ('r ', 19155), ('ra', 22448), ('rb', 630), ('rc', 1812), ('rd', 2438), ('re', 16372), ('rf', 88), ('rg', 486), ('ri', 8008), ('rj', 73), ('rl', 1390), ('rm', 2215), ('rn', 1264), ('ro', 13653), ('rp', 259), ('rq', 1439), ('rr', 2362), ('rs', 1532), ('rt', 3657), ('ru', 904), ('rv', 447), ('ry', 1), ('rz', 322), ('s ', 51513), ('sa', 10849), ('sb', 19), ('sc', 2728), ('sd', 321), ('se', 17164), ('sf', 206), ('sg', 165), ('sh', 110), ('si', 9541), ('sj', 1), ('sl', 153), ('sm', 948), ('sn', 171), ('so', 6938), ('sp', 3782), ('sq', 140), ('sr', 1), ('ss', 4), ('st', 13987), ('su', 6859), ('sv', 128), ('t ', 41), ('ta', 15079), ('tc', 10), ('te', 15577), ('ti', 5493), ('to', 13758), ('tr', 8603), ('tu', 3188), ('u ', 3999), ('ua', 3636), ('ub', 945), ('uc', 1960), ('ud', 2081), ('ue', 38434), ('uf', 88), ('ug', 486), ('uh', 6), ('ui', 6630), ('uj', 435), ('ul', 1502), ('um', 841), ('un', 8721), ('uo', 90), ('up', 350), ('uq', 434), ('ur', 3166), ('us', 3392), ('ut', 457), ('uv', 599), ('ux', 3), ('uy', 1051), ('uz', 254), ('v ', 25), ('va', 2537), ('ve', 6089), ('vi', 5167), ('vo', 2412), ('vu', 1626), ('wa', 2), ('x ', 43), ('xa', 19), ('xc', 62), ('xe', 6), ('xh', 1), ('xi', 49), ('xl', 20), ('xm', 7), ('xo', 2), ('xp', 54), ('xt', 21), ('xv', 28), ('xx', 65), ('y ', 20062), ('ya', 1429), ('ye', 664), ('yl', 1), ('ym', 2), ('yo', 2805), ('yt', 1), ('yu', 151), ('z ', 881), ('za', 3096), ('zb', 4), ('zc', 233), ('ze', 2), ('zg', 91), ('zl', 1), ('zm', 21), ('zn', 52), ('zo', 2037), ('zp', 3), ('zq', 29), ('zu', 41)]\n"
     ]
    }
   ],
   "source": [
    "src2 = source_fromtext(quijote,2);\n",
    "print(src2)"
   ]
  },
  {
   "cell_type": "code",
   "execution_count": 85,
   "id": "375a8ef9",
   "metadata": {},
   "outputs": [
    {
     "name": "stdout",
     "output_type": "stream",
     "text": [
      "[(' a', '001000'), (' b', '10110000'), (' c', '001001'), (' d', '001010'), (' e', '001011'), (' f', '110101110'), (' g', '110101111'), (' h', '0111000'), (' i', '1110110000'), (' j', '11111001010'), (' l', '001100'), (' m', '0111001'), (' n', '0111010'), (' o', '10110001'), (' p', '001101'), (' q', '001110'), (' r', '10110010'), (' s', '001111'), (' t', '0111011'), (' u', '110110000'), (' v', '0111100'), (' w', '11111111111111101100'), (' x', '111111111101000'), (' y', '0111101'), (' z', '1111111011000'), ('a ', '00000'), ('aa', '111111111111101100'), ('ab', '10110011'), ('ac', '110110001'), ('ad', '0111110'), ('ae', '111111001110'), ('af', '1111111011001'), ('ag', '1110110001'), ('ah', '111111001111'), ('ai', '11111001011'), ('aj', '11111001100'), ('al', '0111111'), ('am', '10110100'), ('an', '010000'), ('ao', '111111111101001'), ('ap', '1110110010'), ('aq', '1110110011'), ('ar', '1000000'), ('as', '010001'), ('at', '1110110100'), ('au', '1110110101'), ('av', '11111001101'), ('ax', '111111111111111101110'), ('ay', '1110110110'), ('az', '1110110111'), ('b ', '111111111111101101'), ('ba', '10110101'), ('bc', '1111111111111101100'), ('bd', '111111111111111101111'), ('be', '110110010'), ('bi', '110110011'), ('bj', '111111111111101110'), ('bl', '1110111000'), ('bo', '1110111001'), ('br', '110110100'), ('bs', '11111111111101000'), ('bt', '111111111111111110000'), ('bu', '1110111010'), ('c ', '11111111111101001'), ('ca', '10110110'), ('cc', '111111111101010'), ('ce', '10110111'), ('ch', '10111000'), ('ci', '10111001'), ('cl', '111111010000'), ('cm', '111111111111111110001'), ('co', '1000001'), ('cr', '1110111011'), ('ct', '1111111011010'), ('cu', '10111010'), ('d ', '110110101'), ('da', '1000010'), ('de', '010010'), ('dh', '1111111111111101101'), ('di', '1000011'), ('dj', '111111111111111110010'), ('dl', '11111111111101010'), ('dm', '1111111011011'), ('dn', '1111111111111101110'), ('do', '1000100'), ('dq', '111111111111101111'), ('dr', '1110111100'), ('ds', '111111111111111110011'), ('du', '1110111101'), ('dv', '11111111011100'), ('e ', '00001'), ('ea', '1110111110'), ('eb', '11111001110'), ('ec', '10111011'), ('ed', '110110110'), ('ee', '1111111011100'), ('ef', '111111010001'), ('eg', '110110111'), ('eh', '111111111101011'), ('ei', '11111001111'), ('ej', '1110111111'), ('el', '1000101'), ('em', '110111000'), ('en', '010011'), ('eo', '11111010000'), ('ep', '11111010001'), ('eq', '11111111011101'), ('er', '010100'), ('es', '010101'), ('et', '1111000000'), ('eu', '11111111111101011'), ('ev', '1111000001'), ('ex', '11111111011110'), ('ey', '111111010010'), ('ez', '1111000010'), ('f ', '111111111111111110100'), ('fa', '11111010010'), ('fe', '11111010011'), ('fi', '1111000011'), ('fl', '1111111011101'), ('fo', '111111010011'), ('fr', '111111010100'), ('fu', '1111000100'), ('g ', '111111111111111110101'), ('ga', '110111001'), ('ge', '11111010100'), ('gi', '11111010101'), ('gl', '1111111011110'), ('gm', '111111111111110000'), ('gn', '1111111011111'), ('go', '110111010'), ('gr', '1111000101'), ('gu', '110111011'), ('h ', '1111111100000'), ('ha', '10111100'), ('he', '1111000110'), ('hi', '1111000111'), ('ho', '10111101'), ('hr', '11111111111111101101'), ('hu', '11111010110'), ('i ', '10111110'), ('ia', '10111111'), ('ib', '1111001000'), ('ic', '110111100'), ('id', '110111101'), ('ie', '1000110'), ('if', '111111010101'), ('ig', '110111110'), ('ih', '11111111111111101110'), ('ii', '111111111101100'), ('ij', '110111111'), ('il', '1111001001'), ('im', '111000000'), ('in', '11000000'), ('io', '11000001'), ('ip', '1111111100001'), ('iq', '11111111011111'), ('ir', '111000001'), ('is', '111000010'), ('it', '1111001010'), ('iu', '11111111100000'), ('iv', '11111010111'), ('ix', '1111111111101010'), ('iy', '11111111111111101111'), ('iz', '111111010110'), ('j ', '11111111111111110000'), ('ja', '1111001011'), ('je', '1111001100'), ('ji', '11111111100001'), ('jo', '11000010'), ('ju', '11111011000'), ('l ', '1000111'), ('la', '010110'), ('lb', '1111111100010'), ('lc', '111111010111'), ('ld', '111111011000'), ('le', '1001000'), ('lf', '11111111100010'), ('lg', '1111001101'), ('lh', '1111111111101011'), ('li', '111000011'), ('lj', '111111111111110001'), ('ll', '11000011'), ('lm', '11111011001'), ('ln', '111111111111111110110'), ('lo', '1001001'), ('lp', '1111111100011'), ('lq', '111111111101101'), ('lr', '11111111111101100'), ('ls', '11111111100011'), ('lt', '11111011010'), ('lu', '1111001110'), ('lv', '11111011011'), ('lx', '11111111111101101'), ('lz', '11111111100100'), ('m ', '1111111111101100'), ('ma', '11000100'), ('mb', '1111001111'), ('me', '11000101'), ('mi', '11000110'), ('mm', '111111111111111110111'), ('mn', '1111111111111101111'), ('mo', '11000111'), ('mp', '1111010000'), ('mq', '111111111111111111000'), ('mu', '111000100'), ('n ', '010111'), ('na', '11001000'), ('nc', '11001001'), ('nd', '1001010'), ('ne', '111000101'), ('nf', '111111011001'), ('ng', '1111010001'), ('nh', '11111111111101110'), ('ni', '111000110'), ('nj', '11111111100101'), ('nl', '11111111100110'), ('nm', '1111111100100'), ('nn', '11111111111101111'), ('no', '1001011'), ('nq', '111111011010'), ('nr', '1111111100101'), ('ns', '1111010010'), ('nt', '1001100'), ('nu', '11111011100'), ('nv', '111111011011'), ('nz', '11111011101'), ('o ', '00010'), ('oa', '1111111111101101'), ('ob', '1111010011'), ('oc', '111000111'), ('od', '111001000'), ('oe', '11111111100111'), ('of', '111111011100'), ('og', '111111011101'), ('oh', '1111111100110'), ('oi', '111111011110'), ('oj', '111111011111'), ('ol', '111001001'), ('om', '11001010'), ('on', '1001101'), ('oo', '11111111111110000'), ('op', '111111100000'), ('oq', '11111111101000'), ('or', '1001110'), ('os', '011000'), ('ot', '111001010'), ('ov', '111111100001'), ('ox', '11111111111111110001'), ('oy', '11111011110'), ('oz', '111111100010'), ('p ', '111111111111111111001'), ('pa', '11001011'), ('pc', '1111111111111110000'), ('pe', '11001100'), ('pi', '1111010100'), ('pl', '11111011111'), ('po', '11001101'), ('pr', '111001011'), ('ps', '1111111111111110001'), ('pt', '111111111101110'), ('pu', '111001100'), ('qu', '011001'), ('r ', '1001111'), ('ra', '011010'), ('rb', '111111100011'), ('rc', '1111010101'), ('rd', '1111010110'), ('re', '1010000'), ('rf', '11111111101001'), ('rg', '111111100100'), ('ri', '11001110'), ('rj', '111111111101111'), ('rl', '1111010111'), ('rm', '1111011000'), ('rn', '11111100000'), ('ro', '1010001'), ('rp', '1111111100111'), ('rq', '1111011001'), ('rr', '1111011010'), ('rs', '1111011011'), ('rt', '111001101'), ('ru', '11111100001'), ('rv', '111111100101'), ('ry', '111111111111111111010'), ('rz', '1111111101000'), ('s ', '00011'), ('sa', '11001111'), ('sb', '11111111111110001'), ('sc', '1111011100'), ('sd', '1111111101001'), ('se', '1010010'), ('sf', '1111111101010'), ('sg', '11111111101010'), ('sh', '11111111101011'), ('si', '11010000'), ('sj', '111111111111111111011'), ('sl', '11111111101100'), ('sm', '11111100010'), ('sn', '11111111101101'), ('so', '11010001'), ('sp', '111001110'), ('sq', '11111111101110'), ('sr', '111111111111111111100'), ('ss', '1111111111111110010'), ('st', '1010011'), ('su', '11010010'), ('sv', '11111111101111'), ('t ', '1111111111101110'), ('ta', '1010100'), ('tc', '111111111111110010'), ('te', '1010101'), ('ti', '111001111'), ('to', '1010110'), ('tr', '11010011'), ('tu', '111010000'), ('u ', '111010001'), ('ua', '111010010'), ('ub', '11111100011'), ('uc', '1111011101'), ('ud', '1111011110'), ('ue', '011011'), ('uf', '11111111110000'), ('ug', '111111100110'), ('uh', '111111111111110011'), ('ui', '11010100'), ('uj', '111111100111'), ('ul', '1111011111'), ('um', '11111100100'), ('un', '11010101'), ('uo', '11111111110001'), ('up', '1111111101011'), ('uq', '111111101000'), ('ur', '111010011'), ('us', '111010100'), ('ut', '111111101001'), ('uv', '111111101010'), ('ux', '1111111111111110011'), ('uy', '11111100101'), ('uz', '1111111101100'), ('v ', '1111111111101111'), ('va', '1111100000'), ('ve', '11010110'), ('vi', '111010101'), ('vo', '1111100001'), ('vu', '1111100010'), ('wa', '11111111111111110010'), ('x ', '1111111111110000'), ('xa', '11111111111110010'), ('xc', '111111111110000'), ('xe', '111111111111110100'), ('xh', '111111111111111111101'), ('xi', '111111111110001'), ('xl', '11111111111110011'), ('xm', '111111111111110101'), ('xo', '11111111111111110011'), ('xp', '111111111110010'), ('xt', '11111111111110100'), ('xv', '1111111111110001'), ('xx', '111111111110011'), ('y ', '1010111'), ('ya', '1111100011'), ('ye', '111111101011'), ('yl', '111111111111111111110'), ('ym', '11111111111111110100'), ('yo', '111010110'), ('yt', '111111111111111111111'), ('yu', '11111111110010'), ('z ', '11111100110'), ('za', '111010111'), ('zb', '1111111111111110100'), ('zc', '1111111101101'), ('ze', '11111111111111110101'), ('zg', '11111111110011'), ('zl', '11111111111111110110'), ('zm', '11111111111110101'), ('zn', '111111111110100'), ('zo', '1111100100'), ('zp', '1111111111111110101'), ('zq', '1111111111110010'), ('zu', '1111111111110011')]\n"
     ]
    }
   ],
   "source": [
    "res2 = huffman_code(quijote, 2)\n",
    "huf2 = [(key, value) for key, value in zip(res2.keys(), canonical_code(res2.values(), 2, ['0', '1']))]\n",
    "print(huf2)"
   ]
  },
  {
   "cell_type": "code",
   "execution_count": 88,
   "id": "427dbfb3",
   "metadata": {},
   "outputs": [
    {
     "data": {
      "text/plain": [
       "(7.004395616708034, 7.031574318947213)"
      ]
     },
     "execution_count": 88,
     "metadata": {},
     "output_type": "execute_result"
    }
   ],
   "source": [
    "cod2 = [y for x,y in huf2];\n",
    "entropy(quijote,2), mean_length(src2,cod2)"
   ]
  },
  {
   "cell_type": "code",
   "execution_count": 126,
   "id": "7b906cc0",
   "metadata": {},
   "outputs": [
    {
     "name": "stdout",
     "output_type": "stream",
     "text": [
      "[('0', 19), ('1', 5)]\n"
     ]
    }
   ],
   "source": [
    "txt=\"001110001000000000001000\"; src = source_fromtext(txt); print(src)"
   ]
  },
  {
   "cell_type": "code",
   "execution_count": 142,
   "id": "bd6e7d01",
   "metadata": {},
   "outputs": [
    {
     "name": "stdout",
     "output_type": "stream",
     "text": [
      "[(' ', 7), (\"'\", 2), ('.', 1), ('S', 1), ('a', 2), ('d', 2), ('e', 8), ('f', 1), ('g', 3), ('j', 4), ('m', 1), ('n', 5), ('p', 1), ('s', 1), ('t', 6), ('u', 4), ('z', 1)]\n"
     ]
    }
   ],
   "source": [
    "txt=\"Setze jutges d'un jutjat mengen fetge d'un penjat.\";\n",
    "src = source_fromtext(txt);\n",
    "print(src);"
   ]
  },
  {
   "cell_type": "code",
   "execution_count": 143,
   "id": "b157d9cf",
   "metadata": {},
   "outputs": [
    {
     "name": "stdout",
     "output_type": "stream",
     "text": [
      "001101010011001110100111101100011100010001010010001101110110101100100001110011000111010111101101110001110010000011000001100110111000111000011101110001011111000000110011100110101111111111\n"
     ]
    }
   ],
   "source": [
    "cod = arithmetic_encode_bin(txt,src,8);\n",
    "print(cod)"
   ]
  },
  {
   "cell_type": "code",
   "execution_count": 144,
   "id": "b2a1bf1e",
   "metadata": {},
   "outputs": [
    {
     "name": "stdout",
     "output_type": "stream",
     "text": [
      "Setze jutges d'un jutjat mengen fetge d'un penjat.\n"
     ]
    },
    {
     "data": {
      "text/plain": [
       "True"
      ]
     },
     "execution_count": 144,
     "metadata": {},
     "output_type": "execute_result"
    }
   ],
   "source": [
    "txt_decoded = arithmetic_decode_bin(cod,8,src,len(txt));\n",
    "print(txt_decoded)\n",
    "txt_decoded == txt"
   ]
  },
  {
   "cell_type": "code",
   "execution_count": 145,
   "id": "3154ddad",
   "metadata": {},
   "outputs": [
    {
     "data": {
      "text/plain": [
       "(184.66702205340573, 186)"
      ]
     },
     "execution_count": 145,
     "metadata": {},
     "output_type": "execute_result"
    }
   ],
   "source": [
    "len(txt)*entropy(txt,1),len(cod)"
   ]
  },
  {
   "cell_type": "code",
   "execution_count": 22,
   "id": "4ebb9498",
   "metadata": {},
   "outputs": [
    {
     "name": "stdout",
     "output_type": "stream",
     "text": [
      "001101100100000000101000001101110000010010110010000010000111000100010011110010000101100111000011011011001110011011101000111101101100010101100001100010101011110101001110001101110001111111101100111110010100100110100011010000010110011100110011000011100001010111100010101100000011100000100011101001101110010000001100101101011010001000001100010001001110000101111010111001111100001000100010110001101100001001110011001101000110110101111010110100111101001110100011110010101110011011110110010000011001011111010110010010111001001011000101110110100011011010011001010001110111011101111110111011011010111101111100011101011000010001000110001001001110110000001100001111101111000000000110001011100000010101111001100010111001111011010111101010001100100100011011000001111110111110100100111011010001011100101111000101111110111100100110011010000100000011111011110110100110111100100001001010111110100000011101010011100100001111011111010000010001101001110010100110100100101000110010011010001000001101001110101000001001100010100011001110111011001000011101110100001010100101100000001111011111000101100010001011001001101101110100010110110101010100110101000010101111011010101011000100100010000110100001000111110111010010010101011000101010001001010110000100110001010111011000011101101001000100000101000000110100100011110011101100111111110010100001110101111011011001110000001100000000100101011010000101111110100101100101100000010101101101001110110011110011110111001110110010011111010111111000111001001001000010100111001111101111100010011110111011001010000111110100010100110001111100010110110101001110111100101010011011010111001011100111101001111100000001101100110011001000011100000111110000000010100101101111000011001101111000101000111000001101100110010001101010010011101011110100001010100111001011000001101011101010001001000111011000011010111101011010010100111011101001010011000100110000011111010111011111110000010000111100100101000000100110010111000011100100010100010011101101111011101100100111000100100000101111000110110000100011001101111011111010110100111001101101101010110010010111111111111001011001001110001100000010000011011101101100001011000100111111000110111100000001101110111110010011001100100100110101101000000111100001111101011110110001011100011011000100110110011101100111010010100011001111011000000001110001010110001101000011010110000110101001001010100110011000011100011110110111111001101011010001100001110101011010111101110101110101101001000110011010000101010011101101110000000100110011001100100101010001010010100000011111101110000111110010110011101100000110101000010110100111100111001110010111001010101101100110100011010110100000111001101100101010101111011110001110100000010111110101110100111110111110101110101001110001110111111010001010001011100100010100100010010001010110111100110000100010110011000101100100110010000100101110010111100101000110111001111011011010101100001000111010110100110011010101001111111101000001100011011101011000001010101111100101100010000001110011111011110010101010111110100001110111011110001000000101010111111010010011101110001001111101000111001111100011100001110100111010100010000111100011000101010011101010000110101110101010000110010001010110110100001111000000101000010011010001000101010110010110100110011010101011011100101010100101110000111111100110111010000110101011010001000011000011000000010111100010010100001110010110011100110101100000000011001101110000110100001001011101110101111100010000110001010100000101110010110000010101010111010111001100111011000010111101000101010110111001100110010011110010110011110110000000111001000111010011101000010100000110111010000000111100110101011010000110101001000100100011110000110101001010110011001111011011110010001101011101110101100010000110000101000011010010101001110001011101111101111101000101001100111100100111011101101100101011100000100110011100010000000010001001010000001011111101111000111101011010100110011000001011101110001001010101000111011000110010001010000001110101010100101010010001010011100110011101001010100000000111110010000110011001101000101011101101001011001011010101001100010101010111001100000000111010111111001001110101110000110101100000010010000000111101101001110011111001001110001000101000100011100110101111111111100011101010010100111010110011001000011110001110001001110101001100001111000101011100111101010110010010110001000111010101011010110110101101000110000100001100100101111100100010111000101101110010111101101000110111010101110011010001100001011100000000111011000011001011000100000111010010010100101010110000011110101001100000111101000010010110011010011011000011110101011111111100000011000001010011011111000011100101100000001100100010111000011111110001101000110100010001000100010101101011000110010111010100111000100101011101001001000010001001100001111100011001101000111111111010011110001011101010110011101101001011000010101010101100001011111100110111100010110010111100110110110111100100111100011000110011101011110010010100011110111010101100001111100101000010010100101000000111111101000101100100101111110101000110010110000100000101010111011000000100101100000110101011101001011010100111000010001100010111010010000010000100110010101001101001111000010001001010000010101000110010101111110011100111011010100110100010100101100110101101111011100010000111011000011110111011001010100101001010101110011110001010010011111101111011110000001001111111011001011010000111110101100010100101101001101110001000111100001110000111000000001001111000100011110101110111100101001110011100001000110101100110001001001110101111011100101111111011111010110110111001010111110100110111110010001000110111101111101001111110101000011101110110110100011101101111010101010000000111011110010100100010110010001000101011011001101010100011111001111111011110000110111110010100010100001000011011100010111001101101111001001001100100001101000101000000001000110001100100111011011000011111100000011100000010110011111011111101010011110110001111110101101100100001111110010011101101000001010111001111101111011101100001100100001011011111010011110111101010101000011010101001000111000100010010100100011101010000101100110100010111011011101101110101000000000011100010111001111001100001010011011011111101001000001000111110001110001010110100011000101110100110100011111001110000010010101100101000110101101111001100011001100110011010010111111110010011000011101111001101100110110000011011110111000101101010111101000100111010010110100110000110000111100100111101101111001100111000110100100110011001011100100001011100101001001110110100110001011011010101010111100100010000010101111111110011010000111100001101101010011100000000010111100100011111100111100010101110110111001010001101001001010101110000111001010101000011101000010100001011000000111001001010001011000011011000111010111010001111101101010100100101110000000101001101010011010100100111010110011000000011011100110111000010010110101101000011000110011010111000110001000001011111001100000110010000001111010000000110000111000010100011111000101101000110111011100100110011010101100010100101001100111011100110111110111101011100111101001000110001110011110010100101111101110001111011010110001011010111000100100110100000001000100100000101111000101001011101100000110011010111110000101100010101001011111010111110011011101011101010001110101000000010011001111100010011110000110001000101000111000001100111101011101010011001000001010101001111101000001001110110000111001111000110011001101100011010110100101011110101100100010011111100010101101110110111010001110000100001000001100101010110000011011100001010011101000111111111011100011010110011100001111011000110110111111011100000101001101001111100000011000000000000101011011100000010101111111100001010110001011101111100000111011001111001011101000111100011001010001100000010011110000100101001000101110000100001111101111010000011010011000011001110100001111110011110011001101001001110011000001000100101000000100111110010110101110010111000001011101011111100011011011001100001000101110110100000000110101000000101000110001111011100001101101111001100001010011000001010110011101001010101000001111011010011101100111100010101011001111101010100000100101010100111001111111000111010010111001011110101000101110000011010001000100000001111110011010101101110010000100001111000101001110110010101110110000000000011101000001011100010010101111011110100100000111101011010001001011101110001100010000010001101100100010100010011110101011100001010000011101110001110100011001000111110101000100111101010010101011101111010010000011101001101100110011001000100001100010111000101111101010101101111111010111110100111010111100010100110000111011111110001011011110000101011100001100011101111111101010010010000110110010001010001000101111100010011110011010110000100111010100010100011111001110100011100010110111110010010010100011110001010000101101100011110101100000100100000111111010001011000000100111111111100111110000001111001111000011000111001001111000000000010111100101110000001000110010001110111010101000010011000110010001010001101011101001001010111110011101111010001000100000111010101000001101111011010101011001001001100011011110010110110011000011010001100110111100001101010001101100111001011111110000010111100101000101101001111011110001010000001101011011101111000000101110100100010000001010000100100111011101000001011000111000010011001011110100101001100000100010010111000100101000010000011010010011101100110101101001011000111101100001101110000000100111000001110101011001111000011100001110011010010010111110100110000110011110011101011111011001011010001001110010000010000010101010010011011000010110000000010101110101000111011100000010111010010001000001110111001100110101010101100111111101100000011010011000001100111001001110000011011001110110101110011100010100100110000010010001111001011011010011001011011111110100011100110110111001100100111001000111000000011011101111111100111010110101000100001100010111011100010100000000011100111011110010110000111110010010101000110010101001111111010010110100111011100101110010010001011101010010111001100000111000100110101101001110000000000100011011110110011001111010110000111111010110111011111101110010100110100101111110111001010001110011110100110001111001010011100011001010000101110011110011101100011000101110110100001001011101001000010010111000000010111100001101100011010111101101000100010110001111010111101010010101000110000001101001101110100110000011110101110111001010100100111011000101000011101010110000001100110111001111110011010110010100011010001000010111010010000010000010101010111101000011101001001110000000010011110001010101001010111001111001011000110110110000100001001011101001011101101001101000011101100110000101111111101101000111001101101111101000101100101101001001011001010011011010010001110101100100111001110000000000111100101110110010011000100001101100101011000110000110110010101010100000101111110101010010011001101100110000000110001011011110101101100000011111011110100101000101110111001011001100101110000111010000001101100010101111010101101011010010100110001100111001001011100000011000110111000001011110010011001001110001111110101110001011101100100001100101100000111111111011010111110011110010111010101010111001010011111011110011010011101101011110110010111000111111010010111000111001000101100010101111100111000000110110101110101100101001101011011011100011000010110010000110011101010000011001011110100111011010100011100010010101010000101111110010001111011001111011000001111010101000111101000111000010010000100111010100000100001100101100011011010100011110001011011011111000000100000101101100100010111001000111000111001010011001010100001000110001011010110000101101101010011110000011000011100011110111100010000101010101001010110000111000011000110001111110100111100001010111101100100100101101101110000000100110110000010001010000010101000110011000010110011110010110110101101010110010110101010111001000000000010101111001101101111000101100011100010000000111010101101101011011000100000110111110111001001000011010100101011010100010001000100101100001011000111111010001000000000000100111010101110110010010110111011010111111010011111010000110010011000111000010000110001111110110111011001000111111100000111011011001111100010101111001010001111111100010101011111011110001001101100111011110111101010011000001001011011001110001101010100010110111111101110001010010110111110001111000111001001110101001110101010010100101010010111000110110100001001001011101100010100101101110001101110100011010110100101100010000111110110100011101011011011110001110000100101110110101100001011111000010100110101010101001010010000100101011010010101000000110000001001011011101100100101010000111101100111010110000100010001111110000010111011001011001010111000100101011111100101100010100110100111000000111100001010010001001111110100010000100100010000101100011110110111110100111011011011010010101110111101100110100101000101000111100001110010100110111001111100001111000010100011011111001010110100100010111100010100100111000001010101110111000011101110000111001111010101000001101011101100001010101101110101111110101111111011111010010110001110110000010011111010110000111010100011010101000001010101100101011100011111000010000111100100110100101100011001000010110010010101010001100001000110000010010110110011011111000110101011101100100101011010010000000110111011010100001000010001010110000101001000000100100110010000111010000011111000010011100110100010010111100000101011111000101000101001000011100010011110101001000111111110111101000111001101001001010010000011111001000101000111100010000001011100001001110100110010010101011000110010001101000101010110101001011111111100010001111111010100101110111001110111110001011000111100010011111111001100011111111100001101010011101000011000001100101010000010011110001100010100100001010001001010011010111110011001001100001001000001100001010010111111111110111011100111100001100101100010010000011011010100011001000100111110000011010010100111110111001101001101110110000010001101111001001001111110101111011111100000000100110010010100101000000000110011110010001101100010010101010110001111111101110100000001100111011001101100111010011001101100101000100101000000111110111000110011101101010100000101011011010010000111110100010001011010011000001110110001010011101001010011001100101011110011110101100000111110101001110111101011100010111010101000101111011100101110111011101111101100011110001110110111011110011011011010000000111110001111010111101100100100000011100101000011101110001001100101000101001010001001001110110101100001111001111110111000011111101000010011101000000001000011101101110000110100101110111011000010101010000000010100111100011011111011011010101101001100001101000011011110110111001010011110111110011100010100100101111011101100100011000011100111010111000001011000000001101010110001101110111110100010001110100011010100110011001110001000111000110000011111111010000000101000101000000110111110101110001001001010100110100110100010100111111010000000111001001101111001000011100110111101011000100111010010101100101000001011001010101100110010011001010110001011010010000011100011001011000100011100001100000111000111011110010110100000011000101110010101111100100001100111000000010101000111000000101010011010010111000010111001000010000001100101010101111000100011011011000100011010101101110100000110011100011100100011011001110110000000111001000111010111111100110111110100011111000000000110110001010111111111010111001100011101001110010101010111100101100101001000000100011001101110100001100101010000101100100001100100101101010101000100011110001100101010001000000010111011111110111010111010011001110010011110110011110101100011010111100101110100101100111100111100111011011001110110101000010111110000111010010111000110111100111111010100110110100101100111100110010010111111001100000100101011010011011010011001001110100000100000000001100000000101110011110001110111000100100010000010000110101101010001000011011110101001111001100101010110111010111111010001100101100110111001010101111110011001100000010111101100010011011001100010001100100010100011001111111011111110101100110000001000110111101001100111111100000010001100110111011000110000011001111110111000011000111001010111010100101111111111010100101000010010000110001011010000000010000110110111011100110001110101101000001001010001110111100100000111001011000101110001000100000110100100111011010000010001110101110001110100001001001010011000101111111100000000010000110011100110011110001110011111010110010111100000001011100000111111111110011111010011101111001101101010001011100100011100100010001100010010110011101011100111101111111000010111111010010010110011001110111001001001100111110101111110111101111010011110101101011000000001011101011100101101111111000011100100010010010101001001011100101011011110001011001111111000111110011000110001111101111110001100110001000111011001111111011101111010010011001011011000110110010000100111100101011001000010001101110100111010101100001111101001100100001101011010000101011100100011111000100010010110000101101111000111111110100110001110110101000011111100010101110000001111000100000011111011000001001001000100000111010100110011111000010101101001001101110110001010010001011100010000001011000010101011011010000010111001010001110000010110101000111111011111110010101111100000000000011011010110011101001111001000011101001010010100101011100100111011100110011010011101010000011000011101001011000101111000101101010010001001000110110010110101110100010111111010101111100111110111010011110100001000010111000011011000101101011010011100001100101111111001011001000001101101110111011111010011010110011110100010011110011111000011010100110000101101110101110110001111000000111111011101001010011011001110101101110000101000010110000011110100101111101010110010000010001010110111001000010110101111101010010001001101011111011011000111010101011001111011100001111111100011111101100101111110101010011111101110000100000000111111001010001101000010010100010001000010100011000111011010001001100100010110100001001000111101110001110110000001110101000101011010111111110001111111110101011101000110010001100111110000100001111100101011101001001000010001011111010000100110010001100011011111101110100010010100010101100100010100100110101111010100110011000110110110001001110100001111001110101001110010010001011011111100101110001111001001011011000111001111100110001001100010101000111010000100000100111000101000010100111100101010110111101011011111010011100111000000000000000110110100010100010010110011101101110110101001010110001111010000110111100101101011010110111110110000100000110111101110010010101101100100100110100101101110000011110111100101111000010001001000000001010110111111100101001011001001011100010110110000010110101111101000001100010011010000001000010010111010111111010011001101100001000111100111001001011000101100110100110001001111100001001010110010110110100110010111000100001000001111001010011001010111111110100011100100000010101001011001110111000100111000000101001010010011111110000101001111011001110001101000010111011111011011010011111001111100100010010000101110001111111101011110110100010000000011100001011001111000111001001101011011101100110110100110100111011110001001001101000001010010100000111100001110000100101110001101000110101001000100000100010110000100001101100001001111110110011101010110101101010110110001000011010100110010011110001001010110011101001101110100111000110100110011001011000000111010110000101010110011111010011110100111011110111100100011000100010101101001100001111001010010010011110001000100111011000110010100111100011110111011011111010111100011110000011001110000110101000110101000110001011000000010111100111111101100111010010010011010001001101100010011101101111110110011110011010110010101100011010111100011001100110110100100001111001111001110110111011000000111000111110111110011000101001100000011010000001100000010100111010011011110011110101111111000110010000000001100011100100001110111110000001111000010100111000111111001000001001111110010110111010111111001101001110011110000110001110101100000111010110010101010010111100111001101111111001110010100000001100010100011110000111110001001010010011100110110011100101100100111000110000011001110001100000100001000011101001110100000110101010100011101100001110000010011111010101110111001111110111001011001001110111110011001011001001011001110011100100101011010100011111001010010001100100110010001011010101010010001101110011111100111100010011000010010010010010110000010101101101100011000001100001110111000001101100011100000111111101110111001110011001011010111010101110111111100011111100011001111111100010100111101000001111011001100110110010010000111101110111100011110110001010000010001101101001100011101101100110010110110000001001001110101110001110011000000010101100011011001111011001011010011001110000010111110101010011100010100101010111100101111101101101101111001000010111010101100111100101000110100011011011100001001010000001111101001001100111010110011100001110101000110000110101111010011100101111001000011000000110010101000101001111110001110000100111111010001001001010010010000001100000100100100101000111110001010010110000101010011011011100111011010100010000100110010011001100100110101110001010101000101010010000011111011000111111010010100010000100110010011100110100111110110110110110110011000100101101000010001101010100000000100101110001100010100010100010011101000001101011011010010111001110011001110111000110010100001001100010111011111110010101000011101011011101001110100111001111100101111111110000011000001110110110011000001001101011100110001011010011110000001101100000010100011000010011001011010101100111010101101101101100000010000100100010011011110111110001011101010010110100010110001111001100101011010110101001111011100101001101011010100101000110101001101000010001001000100000100111001000100010011011010110010111011010111000100001001100001000111011110101101100001101000110000101111100010101111011100110100111111110110111111011100001101011001001001000100110101010001100100101011101001011011000100110100000011101001001110001111010000011101001011000101001000000001100001010011101101011000011011010001111101100100100110011001000100101000011100101111100000110111111000010100110100011100000010001010000000010011100010111101000101011110000001110000100110011100001000001001001100001110011010111001100110000100101011001010010010010101010110001011111101111110110111011111010110100011101000111000110010111101000110001000011000011011110000001110101111010000111001001101000011011001010001100101110110000111101110111011011011001001011101001001110010010100100101000101010111100010000101010010001011100101110010000011001011000010011000001011101100101111001100100100000100000011011101100100100010000000000011110110101111000111001000010101011010000100010100100010010100000110100001110101100111100001001011000100011110111010001000101101111011001100101010100001001011011110111000000010011000111111111111000001100001110100011101110001001010101111101110011110010000010000000101001011000101111011101001110111110101100000000001000010010011110011000111100110110111101110100100011111110001001001110001000010011101010100001101011110100010011100000001110000001010000010110110110100010000000001110100110101110000010000101111100101100111001010000110100000000010000011111001111100000010001110100101110111110100101000000111100001011011100011000001100111001100011100011000001010011111111010100111001010010111011100000000001101001111110010110001111100110001111011100110001001011010111110101000010001101111000011110101100000011100111000011000100011000111100000001010011010111000100011000101001010110001010011000110010111101001100000011101111010001011100001001111100000001011110100111101110100111110110001100111110010000001000000111110000100011010000111100101101100011110111111010000101110101001010110000101111101001101100000111010000111111100010111010110100010001110111000111001010100100010011001100010001000000001011010111111100110110111110001000100101001001011111000000101000100110111010110000000100000010101010010110101011000100001100001000010010011111010110010110101101110000000011101101000001110001111011101101001101011010110111111011000010111001010110000111100110100010001001001110001011101101110110111101011011001100111110010100101100111100011010101111000100101111000111010110100000100010101011011111100010101001111101011001011110000011111100011100001110000011100101010110110101100100011001110101011111001000001010100111001111101001000011110011000101011100101100111000110000000111010100000011100111000000110100110000001001101101010001100101001111000011010001000100111100010001011010010000011100110011000010000011001100001110111101010000011111110001101100111101101010011101000001000010011001110110001000100111101001101101001011010100010101111011000101011110101100101001001001111010101111011011111101011101111000011111111011000101111111000000001100001011101011000100110001001101001000000000111001000110100110011000010011011010100011001101000100110101100011100100000001010001000010000000111100000101100100000101011011010110001001111100101100111110010010111111101110000100111101110000000111100101000011000011100001011110110001110000001101100011011111011111001110101101110100010010101111010110100100110101110100101011111101100111110110011011000111011110011011111100111011000110100001011011011000100010100001110010100011001001001111110011101110000001110111110101100010110000001011010101010111111111010111011111001101010001111101101100100110010101001110101101000001001001101000011100001100101001100000011101110001011110010101001011110011011001010011101100001101100011101011011000011001100110010100101010110101100000000011111101000111100111111100100111111100101110111100111000100001011101001111011010101110001001100111011111010001110011000010010000111011010110101000100010110001110011001001010100111000011010111100100001001001010010111000011011010110101101000010110011110001100110000010001111001110100100001000011000010001100101010000001010110110110100101011111010000000000011000011101111111001011100101100111101110110001101100111101100000100111111110101011011100010111011001010111011110011001010011100010100001001110111011010001001000111101110000011000110110000100001101111010000000100011011110111011101111000011111110011100011110001000000100001110001101011011100111111000001000010010010111001100101101001111100001111010110110100011101000011011001101100000110011110011110010001111100101011001110001110101010110001111111101001000101000100111001001101101001110010011011101010111100101110001010101001110100000100011100000100100001001111010001011000010100100110001001001001100001111010101010100110001000000101011010011111101001101111110100011111000011000001101111100100100011000111010110000000010011011001111000011000110010001101101110110000001101000011101000100101111010000100001111011110000110101101111000111101010111110101110101000110010101101100011010100010100111000101011001110000111100010111111101110010011110101000001100111110001100110011100110000001011100010100111101111110010100001010011110110101010110110000011001001111000111000100001011110000100101011101100010101011000010001101001101010101001110000011001001110011010101110000000111001100000010101100101001011100010000010000100001110111011100111000011100100111001010000010101110101011010111011100000101100011111110101000001010100110011000110010010111100000100011010001110011100111010001111110010110101101100100110011011011010010001100010111011011101100000100001001011110011110000100110011100101101000001110101110001010111110010101101010001100000001011000001001000011001111110000100001010100111001000011001011101011010010110101100000010111001010001010011101010101110101110111000001110101100101101101011010110001110011111111000001010111110100101101010111001010000100111001101110011111100010001011100010011000110000001001100010010100101011111101010011000101111111000011101110000010110010110110110000000111101100100101101011001110000111110001001001110000001100111001110000100001001100011111000000011111100001001001010100101111011101100001111001000100011110101101001010111100110010111001101100101000001101110111111001100000011011100011000110100101110111111110111010010000111111110100100110110101011010111110010111111010010100101111111000010110010000110010101110101100111011110100100010111011000110001111111110010111111100110011101000101011001110010011101100110010001011010010101001110111011101001000010010010001010111011011011000100101111110100101001100000111111110101000110001000000010100001101001000000001110010011111001101001100011110010001111010110100000111101100010010010010110100001011111010101111000010000100110100010010111001010010001000011110100001101101010001100010100110111011110000011101000110111100011111011001010111011110111011010010000100100001011111001011000001000010100000110000111001001110110110010110101111111101001101100000011101001000001011101010011110000110110101010111111110001101100001111101000010101100111000011110101001101010110101100001100100111111001000111110000100101101111111111100000011000110100011101010000010101110110111101011001011110001110100011101011101000010001100110111000010001110011011100011111011110100101010101000111000100001110000010101010101111111110010011100000101101010100001001100010101101111000101010000001111110100010110101101000100011100011011100011010100001000000011000011011110000111111110001101011100010010011110110001000000011000110111010101111101001110000000100111010001110000111110011110100111000101111100101001101110101000110101100110101000000110111100110000110011000100011010000111110100110000101100100100101011010010110000111100011100010110011001000010010101100111011011101101010101100100111011010111100110111111110110110100110100100011010010100100101000110110110000110111111111000000111111000010010100010010101010010010101000011000010111001010001110000101100000110000001111100101101001110111110001110010100111011010000011011111011101010000100111011111000000000001110011010010010010101111111000100011101100011011001010000101110010000001000101110010001011011110010010110010111001111011001100100110111000001001001101100101011011100011011000010000010100011111101100100111001001100011110101001011100101001001000101001000000111001110100110001110111110011000101110000101110001111001111011011000110111011000011110000001010000111001010110011110110111111110000010110010110111110001100111111010110010001100000100000111111111010101011101001001000111100110011100111111110100110101000111001000011110110100101011001100011000001101101000000111111000100111001100010100001111110101000111000011100100011100111010100111011010101111001101100010010111001011110001001100111010101001100001100001101100111000010000111110010011001010001100011011110001011110111110111110100100010100000010100001000101000111110011100111000010100010000010101001010111111011101000111011100001001010000000101101101000101110000111000100000111010101010011100111101111011001011110111101111101001000100010000001100100011111101000000001101011101011010100010111110000100011101010011100100010001110001010100110001001000010000001010100011010010110001101010100011000110100110111111010111010010011101111110010100001000110110110111111101110100011011101111101100100110111001101111110100011011110111010000111001001010100011111100111010110100111110100111011010110000100111110011110111110101110001111000111111101001001110100111001010011101100011110001010101110010001010000010100000010100011001001101000110010101001110111010010100100011101101001101000110111010001010001101011011011110010110111100100110001000101000001110100011010010111100010010000111001011101110111111010110111000010110111001001111111011010100000010101111111101011010000000010101011000110101001000001111000001011101111000110000101101110110111111101101100101110000101110110001111010100010000100010101001110010010111010111000010101000001111111111110011000001100010100111110101101111110111101001000001100111101100000110110011111111100110000100100111010100000001110101001010101011111100001010011100011000111100101111110001011010000010110011001110101100010111100101000011000001110010111111111011010010001111100101100011010010000010110010100010101000000100101100111011011000101101100111010011111001101110010110010100001001010000000001011000011000010011100111101010101101010000110011111011110001100000001111111011111001001010010001101101010010011011111101101000101001100101010000000100011011110011011001000000000001100000011100010000001100100010001010010011110000100001001111010111111011100100100001000111000110000110000010001100110110010101110011111000010001100101111111001100000111101111000100111000001100011001101110110010100100111101110010010100100100110111000101000000001011001011110011100111011111011100000110111110011001111010000110110010111111100001010100110111010101000010011010111010111000100111011001010010110101110001110011000001101000000001101011011010100001101100000011011000101111000111000101010000111000100001010010001010011001110010000001000111011010111001010111101001110010000101101110000010001110011100110111111101100111100101111100100010011110100111100111001100100111100111010110011011001101111100101101100101000000001010000100111000100101111101010110000000111000100000111000101110001011001011101000001111111100000001011000101010001010110110010011010010101101010110101011000101100110101100111101111001110111011000110011111100010010111010111110110010111111000100001101111001010001100011110011111011100011111000110110110000110111000111110011100001001110001011111110000001010001011111010010001000000111001111011110111100010100110000011100101010011110101101010111100011111010110000111100010001100001011100101010011011100001000010111100110101111101011000101111000111011001000111011010101010110010101111100101001111101100101100010011101001110100111100000100110001111000010110111001100001111100101101011101110100010100000101110000111000001110010010100001000001111101101111101011101001011100000111011001000111110111001110110001100000101000101001010111001101000110110011011001001001011101011011111010001001111010010100001111011000101110000111101011011000000010110001101010000100101100110011000000010111010010000010000011100000101011000011111100101011001001111000111001011000010000000001010011110010010000000001110011111011010111101101010010011000000010111111110111011000010110101100000000110011111110010011000111000101101010011111011101011111010011010000011101001110011110111101000110111100101010010101111011101011100101110000010010001111001010110101101001011010110001011000010101010001011010010001111000000100000111110101101000100010001101000000110100111111010000110000001110111111111110000111001110000110101111110100011111101010110101100110111000101110111101111110010011001001011000100101100111010101110000010010011101011000100001100000001100001001010110011111011000101100011100101010001101010001111001101001011001101011010000111100001000110000001011001100110100011011010000010111110111100000100000000100101101011100011011110000000001101001000101000010101100001001100010111011100011100010000000000001010111101000000111001001101010100100110101010100100111110000011011010101101101010001010101001011101011011011000010011100101110010000100100000100001111000001101010110010011000110010010001111100101011000101000011110110101110100010101011110010011110010011110100000101000000001111101111010010001101111000000011101101011010101100001001101001000001001111100111100100110010000001100000100111110110010110110010101000000000111000101011000011111101001001010011111000110100001101010000100110101001000110101011001110111111100111111011001001100000001100111000010100010110101011111100100000011000110100000001000011110011000111101010101101111011111011010001101000111000111011000101111111000101100011010001011000110000110010001010011110000100100101100101011110101111000000011101110101100001010101101011001110110101000001100111001010011001000011011100101111000011111011110100001001111110011000001001101111001010001101000111001111110011011100101011101010101010111001100100111001011101000010010111011001101001000101110111101010001100010011100010001110110001111001000110000100001110111001110010101100111010010010110101101011111100010001100110110001010110110010010111010011010001111110110101100100011110100001001011001011000011010011011011000001010001111100100010100101000010000011100111100011010101000101011000000111010010101010001100101000010110100111100110110100001101011011011111100110111110000100010011000111100011111000100011010111100011010100011000011111111010110110011001001000001010111100100011000010011111101111000000100101001101100111010111111010111001110111001111110001100110111100010011011000011001011101010101111110001110001010110000110100111011101011110101010011010000111101001101101111111100000110100000001110010000001100001101111001000111111010010011111010100001101100000000111011011100111110110010100011011000111111100111110000010101001010111010000110100011101011001010011010101011011011000000111101000101111001101010101100010011101011111100001011001011100001010011100001100011000011001111111001001011011110110101111110000010000010001011110100110001110001000111001110011011101100100000100010000111100110011110110111010101110101001100110110011100001011000111010011111111110011001110001110101100010001110001010111111000111011011001001101011110010110101011111111011100010010001111100000101010011111100011111100011110001011010011110000010010010011100100101000111101101111100000011101111101000100100000110001000001111000101010101001111101010101010111010001000110001101110000011010101101101111100110110101001101010100111001111000110001110110010100011011010001000000010110110110111010010010110110111011001010000010010111011100001011101000001010100000001000011000000010001001000111110010011000100001101101001010001001001011101100011000010001010100101100110010001111100101110010100010000100010000001100001111100111111110000100111011110000010110101000101110111000101100000100010110100011101010011010110011110000110100011101010110010011000100010011010011010010111000011101001111010000010100000111001001000111001100010010100010001010101100101100100000001111011001100111011011010010001011011011100000110010001001010001101010000111001111010000101010100111100011010110010011111110000110000100010011110010001000111001101110100111001001111000001110000001101000111100001011001000110011100110101100010100010111001011011000111001001000100111110001100111101110010101111111111000011100010111010010000111101110110110001011011110001000010000100101010000111011000000001011011110101001011111000001010110101111111000000110001000110000001011111101000011100011011111010100101110101000001001110101011000000110110100100111111011110110011010001110110011111101011101000110100111101110111000100011111011100001000111100101001101100010001001000110110101110001010110110111010100110110111011010001001101110100011101100111100000100100100110101101101110111100100110001010100001111000111011100100110001011000011111100001000111111111101000011011100001001101101000000111001010100011011000110111110001011000010111111010101010110101001111101011100000101111100010000001011000000101011001010100101000111000001010101001101100100101011111101100000011101110101011010000000011111010000110111111001111010000101001001110000011001100000101011100010000101001010110111010100001110110100000110110001011010101101111101101100101011100010110100100001000011111100111111110110101100100101011101000101110100111100011100000100100010011111010001100101111101011111100110000101111110101001010111011110000110010001100000001000001010110111110111111001011011101110000010111001111001101011010001010101000011000100101001000000110111001001101001001111101001000001100000111001110011111011001001111000000010111010100100010001010011010001111100101000110011110111101100001000010100011100001000100011111011111001111100000101000101001011000110100011011111100111110011010100011110011111001000111011110100010001010000111000000001100010000001011011110011000001011000111011010111111100101010111011011100011010001110001000111000001001110111100101010101011000111001010001100110101001011011100110001111110110100110100111011110111111111110010001010011001101011001100100001010010100011101111110100001000100010100010111001110100100100101011100001000001000011000010110000010001100001010111110100001010110000000000111011101111110001100110101000101011100100000111000101000111111001101111111110111101101001000100101101000000010101111100101100010110000001011110001011100100110001111110010110010101110110111111111101101010000110001110101010001000001111100100101111001100101010001011110111000010110100010000011001101000011011001011110110110101001101100101110110010000010110101011000110011010010111110001111001011101001011110011100111001001011001111100110011011001101111100000000111111111011110000110010101111000000101001101100110101001011110110111011001011101010110111000111111111011101100001001000000111101011101111000100110000110101110011111010111000010000110111101011111101000111010110000101001000001000111101000101110100110010000110110010010001110111001100011100000101101100101010100101110010100110001101011100111011101100111011110101001100011100111100101001011110000000011010100100010000101101011010110000010010101011111110111011010101001000111110110001101111110011010010111011001000001011100000100001101111100101100100101000010101110011001010000011000110010111011111001110001000001011011000110011010010011000001111101110011010111110110100011111101100011100010100111001110101110110100101100100001101110111011111010110111100000011111011010001100101111011110100000111100100010111010100000101110100000110100111011000000010110111001010101000100100010001110010111001001101110101101001110111100111101000001000111001010111001000011010100110001010010000010111111000101101100010100010010000001001100011011001001101011011111011100000011000000101010111101111111100100111100101000101100110110101110110100101001100011111011011111010010001100111010011100100010110011000110000111111100110001111101001100000000001111011110010111011111001101000010011001100010100100001011101100001010011111010000101111110110011001111100111011010000011101101101111110111010110011111111101100101001101011000001000011001010110101011110010111010000101000110010001110011001100101001000110111010000011110100010111011110110011110100011100101010000010010100011010011001010001101010011100010111000100110110011011111011010110110111001100011111011101100111010000010100000101110111011000101010101001011010100010101110100101101100000111001001011100111100111111011001100100001101111001110100011001011100110010111000001100110010100110101110000101000001000001100100011010111011101101111001011110111000111110010110001101100101011000101000100110010101000110101110001110100101100101001100011101101101001110111100110110011001011111010001000000011001011010001010111110100111011110010000001111101100110100101111100001100110110010000000000010011100000011010010011100010000111101010010110100001010101000000010011010110000101001010011011101010010010110101101001011010010000010011000111000110110000000000101001111001110101000010100111110011101100001101001110000011010110001101111100101001001000110010000100011001101110000000001101001000001010111101111000011001000011100100110000100001100011010011101011011010000110111011100101101100100110100101010100101011100001010000000001000010101001001011001101011111010001111000111010110101100011001011001111101101111000010100100100001011110110110010010011001001001011011101000011100111101001101111001111001101000000101100101101011110111110010011011110101010101001001110000101100100111011110000111000111101110110100101101001100010010110000000101000111000001111111110011010111010101101010100101110011111101101000111001110110100001010110001110000101001100110101001111110010011000010001111100110110111001111001100011100000010000001111100001000001100011101111000001111010000010010111001101000010100011111011010001000000101001000011001100101100100111011000001001000000111101110001011110101110000010000001011011000001111000110000011100010000110010110011111100101000000001010000011010010100101001001010010101011000111101100101110010010010110110001110000010011010111101110011010001101111010010111010111011100011011011001111100011010011001111010011101110011011010110001010110011001111001011001010111111000100111001011110100110010100110010001101010111101101111000111110001011011000000100001001111100110110100000010100101110101111010100110100010001011001000100011111001111001111100001000110011011001100110101001011111100111000010001101000011010100001010110100011100101011010001101100001111001100110010110010100111010110111100010101100110100011100011110011110111111010111000100101101100011111011011001100111001001101001100101111111000111110011110100010110110011000001000110011111101011000011110010100100111101000100001011001001110100110100101010111010101000011010101101111\n"
     ]
    }
   ],
   "source": [
    "txt = \"En un lugar de la Mancha, de cuyo nombre no quiero acordarme, no ha mucho tiempo que vivía un hidalgo de los de lanza en astillero, adarga antigua, rocín flaco y galgo corredor. Una olla de algo más vaca que carnero, salpicón las más noches, duelos y quebrantos los sábados, lantejas los viernes, algún palomino de añadidura los domingos, consumían las tres partes de su hacienda. El resto della concluían sayo de velarte, calzas de velludo para las fiestas, con sus pantuflos de lo mesmo, y los días de entresemana se honraba con su vellorí de lo más fino. Tenía en su casa una ama que pasaba de los cuarenta, y una sobrina que no llegaba a los veinte, y un mozo de campo y plaza, que así ensillaba el rocín como tomaba la podadera. Frisaba la edad de nuestro hidalgo con los cincuenta años; era de complexión recia, seco de carnes, enjuto de rostro, gran madrugador y amigo de la caza. Quieren decir que tenía el sobrenombre de Quijada, o Quesada, que en esto hay alguna diferencia en los autores que deste caso escriben; aunque, por conjeturas verosímiles, se deja entender que se llamaba Quejana. Pero esto importa poco a nuestro cuento; basta que en la narración dél no se salga un punto de la verdad.\\nEs, pues, de saber que este sobredicho hidalgo, los ratos que estaba ocioso, que eran los más del año, se daba a leer libros de caballerías, con tanta afición y gusto, que olvidó casi de todo punto el ejercicio de la caza, y aun la administración de su hacienda. Y llegó a tanto su curiosidad y desatino en esto, que vendió muchas hanegas de tierra de sembradura para comprar libros de caballerías en que leer, y así, llevó a su casa todos cuantos pudo haber dellos; y de todos, ningunos le parecían tan bien como los que compuso el famoso Feliciano de Silva, porque la claridad de su prosa y aquellas entricadas razones suyas le parecían de perlas, y más cuando llegaba a leer aquellos requiebros y cartas de desafíos, donde en muchas partes hallaba escrito: La razón de la sinrazón que a mi razón se hace, de tal manera mi razón enflaquece, que con razón me quejo de la vuestra fermosura. Y también cuando leía: ...los altos cielos que de vuestra divinidad divinamente con las estrellas os fortifican, y os hacen merecedora del merecimiento que merece la vuestra grandeza.\\nCon estas razones perdía el pobre caballero el juicio, y desvelábase por entenderlas y desentrañarles el sentido, que no se lo sacara ni las entendiera el mesmo Aristóteles, si resucitara para sólo ello. No estaba muy bien con las heridas que don Belianís daba y recebía, porque se imaginaba que, por grandes maestros que le hubiesen curado, no dejaría de tener el rostro y todo el cuerpo lleno de cicatrices y señales. Pero, con todo, alababa en su autor aquel acabar su libro con la promesa de aquella inacabable aventura, y muchas veces le vino deseo de tomar la pluma y dalle fin al pie de la letra, como allí se promete; y sin duda alguna lo hiciera, y aun saliera con ello, si otros mayores y continuos pensamientos no se lo estorbaran. Tuvo muchas veces competencia con el cura de su lugar -que era hombre docto, graduado en Sigüenza-, sobre cuál había sido mejor caballero: Palmerín de Ingalaterra o Amadís de Gaula; mas maese Nicolás, barbero del mesmo pueblo, decía que ninguno llegaba al Caballero del Febo, y que si alguno se le podía comparar, era don Galaor, hermano de Amadís de Gaula, porque tenía muy acomodada condición para todo; que no era caballero melindroso, ni tan llorón como su hermano, y que en lo de la valentía no le iba en zaga.\\nEn resolución, él se enfrascó tanto en su letura, que se le pasaban las noches leyendo de claro en claro, y los días de turbio en turbio; y así, del poco dormir y del mucho leer, se le secó el celebro, de manera que vino a perder el juicio. Llenósele la fantasía de todo aquello que leía en los libros, así de encantamentos como de pendencias, batallas, desafíos, heridas, requiebros, amores, tormentas y disparates imposibles; y asentósele de tal modo en la imaginación que era verdad toda aquella máquina de aquellas sonadas soñadas invenciones que leía, que para él no había otra historia más cierta en el mundo. Decía él que el Cid Ruy Díaz había sido muy buen caballero, pero que no tenía que ver con el Caballero de la Ardiente Espada, que de sólo un revés había partido por medio dos fieros y descomunales gigantes. Mejor estaba con Bernardo del Carpio, porque en Roncesvalles había muerto a Roldán el encantado, valiéndose de la industria de Hércules, cuando ahogó a Anteo, el hijo de la Tierra, entre los brazos. Decía mucho bien del gigante Morgante, porque, con ser de aquella generación gigantea, que todos son soberbios y descomedidos, él solo era afable y bien criado. Pero, sobre todos, estaba bien con Reinaldos de Montalbán, y más cuando le veía salir de su castillo y robar cuantos topaba, y cuando en allende robó aquel ídolo de Mahoma que era todo de oro, según dice su historia. Diera él, por dar una mano de coces al traidor de Galalón, al ama que tenía, y aun a su sobrina de añadidura.\\nEn efeto, rematado ya su juicio, vino a dar en el más estraño pensamiento que jamás dio loco en el mundo; y fue que le pareció convenible y necesario, así para el aumento de su honra como para el servicio de su república, hacerse caballero andante, y irse por todo el mundo con sus armas y caballo a buscar las aventuras y a ejercitarse en todo aquello que él había leído que los caballeros andantes se ejercitaban, deshaciendo todo género de agravio, y poniéndose en ocasiones y peligros donde, acabándolos, cobrase eterno nombre y fama. Imaginábase el pobre ya coronado por el valor de su brazo, por lo menos, del imperio de Trapisonda; y así, con estos tan agradables pensamientos, llevado del estraño gusto que en ellos sentía, se dio priesa a poner en efeto lo que deseaba.\\nY lo primero que hizo fue limpiar unas armas que habían sido de sus bisabuelos, que, tomadas de orín y llenas de moho, luengos siglos había que estaban puestas y olvidadas en un rincón. Limpiólas y aderezólas lo mejor que pudo, pero vio que tenían una gran falta, y era que no tenían celada de encaje, sino morrión simple; mas a esto suplió su industria, porque de cartones hizo un modo de media celada, que, encajada con el morrión, hacían una apariencia de celada entera. Es verdad que para probar si era fuerte y podía estar al riesgo de una cuchillada, sacó su espada y le dio dos golpes, y con el primero y en un punto deshizo lo que había hecho en una semana; y no dejó de parecerle mal la facilidad con que la había hecho pedazos, y, por asegurarse deste peligro, la tornó a hacer de nuevo, poniéndole unas barras de hierro por de dentro, de tal manera que él quedó satisfecho de su fortaleza; y, sin querer hacer nueva experiencia della, la diputó y tuvo por celada finísima de encaje.\\nFue luego a ver su rocín, y, aunque tenía más cuartos que un real y más tachas que el caballo de Gonela, que tantum pellis et ossa fuit, le pareció que ni el Bucéfalo de Alejandro ni Babieca el del Cid con él se igualaban. Cuatro días se le pasaron en imaginar qué nombre le pondría; porque, según se decía él a sí mesmo, no era razón que caballo de caballero tan famoso, y tan bueno él por sí, estuviese sin nombre conocido; y ansí, procuraba acomodársele de manera que declarase quién había sido, antes que fuese de caballero andante, y lo que era entonces; pues estaba muy puesto en razón que, mudando su señor estado, mudase él también el nombre, y le cobrase famoso y de estruendo, como convenía a la nueva orden y al nuevo ejercicio que ya profesaba. Y así, después de muchos nombres que formó, borró y quitó, añadió, deshizo y tornó a hacer en su memoria e imaginación, al fin le vino a llamar Rocinante: nombre, a su parecer, alto, sonoro y significativo de lo que había sido cuando fue rocín, antes de lo que ahora era, que era antes y primero de todos los rocines del mundo.\\nPuesto nombre, y tan a su gusto, a su caballo, quiso ponérsele a sí mismo, y en este pensamiento duró otros ocho días, y al cabo se vino a llamar don Quijote; de donde -como queda dicho- tomaron ocasión los autores desta tan verdadera historia que, sin duda, se debía de llamar Quijada, y no Quesada, como otros quisieron decir. Pero, acordándose que el valeroso Amadís no sólo se había contentado con llamarse Amadís a secas, sino que añadió el nombre de su reino y patria, por Hepila famosa, y se llamó Amadís de Gaula, así quiso, como buen caballero, añadir al suyo el nombre de la suya y llamarse don Quijote de la Mancha, con que, a su parecer, declaraba muy al vivo su linaje y patria, y la honraba con tomar el sobrenombre della.\\nLimpias, pues, sus armas, hecho del morrión celada, puesto nombre a su rocín y confirmándose a sí mismo, se dio a entender que no le faltaba otra cosa sino buscar una dama de quien enamorarse; porque el caballero andante sin amores era árbol sin hojas y sin fruto y cuerpo sin alma. Decíase él a sí:\\n-Si yo, por malos de mis pecados, o por mi buena suerte, me encuentro por ahí con algún gigante, como de ordinario les acontece a los caballeros andantes, y le derribo de un encuentro, o le parto por mitad del cuerpo, o, finalmente, le venzo y le rindo, ¿no será bien tener a quien enviarle presentado y que entre y se hinque de rodillas ante mi dulce señora, y diga con voz humilde y rendido: ''Yo, señora, soy el gigante Caraculiambro, señor de la ínsula Malindrania, a quien venció en singular batalla el jamás como se debe alabado caballero don Quijote de la Mancha, el cual me mandó que me presentase ante vuestra merced, para que la vuestra grandeza disponga de mí a su talante''?\\n¡Oh, cómo se holgó nuestro buen caballero cuando hubo hecho este discurso, y más cuando halló a quien dar nombre de su dama! Y fue, a lo que se cree, que en un lugar cerca del suyo había una moza labradora de muy buen parecer, de quien él un tiempo anduvo enamorado, aunque, según se entiende, ella jamás lo supo, ni le dio cata dello. Llamábase Aldonza Lorenzo, y a ésta le pareció ser bien darle título de señora de sus pensamientos; y, buscándole nombre que no desdijese mucho del suyo, y que tirase y se encaminase al de princesa y gran señora, vino a llamarla Dulcinea del Toboso, porque era natural del Toboso; nombre, a su parecer, músico y peregrino y significativo, como todos los demás que a él y a sus cosas había puesto.\"\n",
    "cod = arithmetic_encode_bin(txt,23);\n",
    "print(cod)"
   ]
  },
  {
   "cell_type": "markdown",
   "id": "8dbb95ae",
   "metadata": {},
   "source": [
    "## Atenea"
   ]
  },
  {
   "cell_type": "code",
   "execution_count": 146,
   "id": "33a57710",
   "metadata": {},
   "outputs": [
    {
     "data": {
      "text/plain": [
       "'001100100110011110100001101111101000111010111100110011111011011000011101000111111010011011111111101010101101010011001000100111110000100110000011000011010101101010111111100110110111000110111001100011001010110010101111011000111011011000111101100111001111110100000001110110011010010010011010011011010011011000011001111111001010011000110011011011011100111111111000100001101111001101100001111000011110111110010000101110001100100010110010101100110010100101011011100001110011111011010001110001011010101111111011000001100111000001011111010101100110101010011010101101001101011100001001010010000101001101011111000011000111000010111110001010001100101011110010100000110011001010011010000111010101010100011011110101111001011000111000100010011010101011011101100001111100000011100101100011011001011000011100111110011101101011000000000011111110111001011100110010111001001000100100111010110111010000010110000000101110111000101011001001000000101100101011010011011010100100101000010101010100000101011100001111001011111111011100110000011111001010011010111001000010000010000100101101011001110001100000111000101101001000100011100001001101001011010111011110000100101110101111100000110001110001110001010101001111011101100110011011011110101010001000100000111110011011001110111111010110101100101010101100000000011011010111111000110110100001010110100110101100000010011011111010110101101110010010001111011111101101011011111001100100111100100100011111000101011010111100001010111111001100101001001000011011110001010010110100111010010010011010010010011111101111000011010000111000000011001100001111101010010110001011010001010010101011111111111100010010000000100111111000011011100110101111100001010011111111001011101101111100100110010010001011011010101001101001100011000100011111011110001000101000001011001001101100100101111110100100001110001110111111010011110010110000011011010101000001001101101101110000101001000101010110011010101001000101111111011010011100110100000101000111110000111010100000000110100000100001001111010011011110100111010111110011100101110001011001111100101001111111100011010100000000000101010011110110001010001001101111001010111000111000100000111101101011000001001101100000111010110110110110001001010101101001101001111000001111111110001010100000110001000100011101010110100000000101111011000001011101100111001101010011100111011000101000011011110001010000101111111100000010101001100001100000101011110000011111010001010100011000101001101111001000010000100010001001111110110010111110010101101110111000111001001111101010101110100010100111100110011011000111011100000001010001010000001000100111110000001001110100101100010000010000001001101010101100111010110111011101111001010111111101'"
      ]
     },
     "execution_count": 146,
     "metadata": {},
     "output_type": "execute_result"
    }
   ],
   "source": [
    "txt = \"a couple of yards in the air and then delivered a war whoop and set off round and round the room banging against furniture upsetting flower pots and making general havoc next he rose on his hind feet and pranced around in a frenzy of enjoyment with his head over his shoulder and his voice proclaiming his unappeasable happiness then he went tearing around the house again spreading chaos and destruction in his path aunt polly entered in time to see him throw a few double summersets deliver a final mighty hurrah and sail through the open window carrying the rest of the flower pots with him the old lady stood petrified with astonishment peering\"\n",
    "src = [(' ', 72190), ('a', 23858), ('b', 5017), ('c', 6697), ('d', 15027), ('e', 36243), ('f', 6113), ('g', 6699), ('h', 19838), ('i', 19165), ('j', 662), ('k', 3070), ('l', 12294), ('m', 7309), ('n', 20475), ('o', 23601), ('p', 4825), ('q', 180), ('r', 15584), ('s', 18060), ('t', 29363), ('u', 9107), ('v', 2433), ('w', 8111), ('x', 412), ('y', 6809), ('z', 158)];\n",
    "cod = arithmetic_encode_bin(txt,src,21);\n",
    "cod"
   ]
  },
  {
   "cell_type": "code",
   "execution_count": 112,
   "id": "416482c9",
   "metadata": {},
   "outputs": [
    {
     "data": {
      "text/plain": [
       "'100101010101000010100110010101111100100100101010010001000011011011101100001100000100001111111111001011010011110000101001110001001101100111001001010001111110111110100001100000000011011010010011111110001110001001111110010001110011000110000111001110100001111001001010010000100010001101000111110000100010110011001011111111111110101011100110011011001010100101101011011011100000100011011011011111110010101100001111000001100011110001100010110110100100110011101000111011110101001011010100001101100100101000110011011010100001010001010001110101101111101101101010000001100110111010010011111010110010010100011000100101101011000111111010000110101011111101011101000000111001100101011111001011001100000110111000110111101011010010100111110011100100111010001010011001011010100001100101001011010110110010000101111001011101100001100000001110010100111101010000010011111110010111001010111110101101100101010010001101001100001101011011011111000101110011110001101100010110110101111100111111001001010111101111010100111100001110101101000011001010111001110101110001110100110000011011110000111111100010010011010110111010001011100010000010110110001011001110000100000000011011101011011110101100101111011111011'"
      ]
     },
     "execution_count": 112,
     "metadata": {},
     "output_type": "execute_result"
    }
   ],
   "source": [
    "txt = \"111111110111111111111111111011111111111111111111111100110111111101111111110111111111111111111111111111111101110111111111111111111111111111111111110111111101111111011111111111011111111111111111111111101111110111111101111111111111111111111111111111111011110101111101011111011110011111111111011101111101111111111111111111111111011111111111111111111111111111101111111111011101111111111100111111111111111111111111111111111101011111111111111111110111111111111101111011111110111111111101111111111111111111111111111111110111111111111111111111111111101111011101111111111111111111101111111111111111111111111111111110101111111111111101111111111111111111101111111111111111111111110101111111100111011111111111011111011111111111111101111111111111111111111111111111011111111111110111111101111111111111111111111110111101111111001101111101111111110011111111111111111101111101111101010111111111111111101111111111111111111111101111111111101011111111111111111101111111111110101111111111111111111111111111111111111101011111111011111111111111111111111111110110111101111111110011111011011111110111101111111111111111111101111111111111111100110111101111110111111111111101111111111111111111011111111111110111111011111111111100111111111111111111111111110111011111111011001111111111011111111111111111111111001101111111011101111111011111111111111111011110111110011111011111111111111101111111011110111111111111110111111111011111011111111111111111001101111100111111111111011111101111011111111111110011110101111111011111111111111111111111111111101101111111111101111111111111111111111111111111111111111111111111111111011111111101011111110011111111101111110111111001111111111111111111111111011101111011111111111101111111111111110111111111111111110101111111111111111111111111111111111110111111110111111111111111111111110011111111111111111111111011111111111111110111011101111011111111011101111111110111110111110101111111111111011111111111011111111111011101111101111111111111111111001111011111111111111111111101111111111111111111111111111101111111011100111111111111110111111111110011111001111111011111111111111111111111111111111110111111011100111111011101111001111111111111111111111111111111111111111111111101110111111111110111111111110111111111111111111101111111100111111111111111111111111111111111011111110111111110111100111111111111111111111111110111111111111111111111110011111111111011111111111111111111111111111111111111010111111111110111111101111111111111111111111111111111111111111111111111110111111111111110111111111111111111111111111111011101111111110111011111010111111111111111110111011111111111111100111111010111000111101111111111011111111101111111111101111111111101011111111111111111111111111111110111111111111111111011111101111111111111111101110111111111110111110111111111011111111111111111110111111101110111111111111111111111111111111111111111111111111111\"\n",
    "src = [('00', 37), ('01', 288), ('10', 78), ('11', 1947)]\n",
    "cod = arithmetic_encode_bin2(txt,src,15);\n",
    "cod"
   ]
  },
  {
   "cell_type": "code",
   "execution_count": 35,
   "id": "b1190143",
   "metadata": {},
   "outputs": [
    {
     "data": {
      "text/plain": [
       "'100111100000011001111110101010010111001111000001011011001010011011111001100111011111111100011011101100111111010010111000000101110010101111111100101100000110110111100101100011001010011000011111000001000100110110001100101010011010000111101100010010001100000101101100101100000101101100101110100101001101110100111010010100111010011110001110011100101111000111001001111010111101101100001100111101000011001001100111100000111000100111010111010010111000001100011010010101001110101010000100001110101001101010110011101001011100101001000110111011010011100111111000110111010010110101110101111010100111100110010111100011100100101101100101001101001000111101001111000111001001001111000000100001000010101111110010110110110100111010011110001110010011110101111000110001001111101001100001111010101111110011010110110010111000000110011111101000010000110111110101111100010011110000010101101110100101100111110100111110000110000101111111100111110010001001000110000010110110010100110111110100100101001100010011110000001001000000101111010111011101111111000110110100110111011110010101000100111001010001111000101010110010110110010100110110010011011111111100010011110000001100111101000010011110010001011101000111101100110011100010100110010111000001101101101010011111001110010110101100011001111110100011110101111100001010001001111010100111111001010001001000110000001000010100111100011100111001010100111010011110001111001011010100110010100101101011101000011001010011110101001010001100011010010110101010010111000000100100011000001001111100101100100111100000101101100101001111010111100011000100111110100010010001100000110111110100101010111101101111000111001000100110011001100011100100101101100101001101010011001111000001001111000001011011001010001011100111001001001100000010011001110010011100010011111001101010100001100101001110100101100111110111000001111010111101101100011011101001111001011011110011000001001100011011101010010011101000101111110101111101110101000100101000011001010011110101011000101100101101100101100000111111110111100111010111011010111000001011100100101101100101001101010011001111000001001111000001011011001010011110110011001110001010011001011100000010010001100000101101100101100011011101010010111001'"
      ]
     },
     "execution_count": 35,
     "metadata": {},
     "output_type": "execute_result"
    }
   ],
   "source": [
    "txt = \"of himself the clock chimed eleven but he did not hear it and then there came mingling with his half formed dreams a most melancholy caterwauling the raising of a neighboring window disturbed him a cry of scat you devil and the crash of an empty bottle against the back of his aunts woodshed brought him wide awake and a single minute later he was dressed and out of the window and creeping along the roof of the ell on all fours he meowd with caution once or twice as he went then jumped to the roof of the woodshed and thence to\"\n",
    "src = [(' ', 72190), ('a', 23858), ('b', 5017), ('c', 6697), ('d', 15027), ('e', 36243), ('f', 6113), ('g', 6699), ('h', 19838), ('i', 19165), ('j', 662), ('k', 3070), ('l', 12294), ('m', 7309), ('n', 20475), ('o', 23601), ('p', 4825), ('q', 180), ('r', 15584), ('s', 18060), ('t', 29363), ('u', 9107), ('v', 2433), ('w', 8111), ('x', 412), ('y', 6809), ('z', 158)];\n",
    "res = huffman_code(txt, src, 1)\n",
    "huf = [(key, value) for key, value in zip(res.keys(), canonical_code(res.values(), 2, ['0', '1']))]\n",
    "corr = dict(huf)\n",
    "encode(txt,corr)"
   ]
  },
  {
   "cell_type": "code",
   "execution_count": 149,
   "id": "426654d0",
   "metadata": {},
   "outputs": [
    {
     "name": "stdout",
     "output_type": "stream",
     "text": [
      "he said well ill go back to the widder for a month and tackle it and see if i can come to stand it if youll let me blong to the gang tom all right huck its a whiz come along old chap and ill ask the widow to let up on you a little huck will you tom now will you thats good if shell let up on some of the roughest things ill smoke private and cuss private and crowd through or bust when you going to start the gang and turn robbers oh right off well get the boys together and have the initiation tonight maybe have the which have the initiation whats that its to swear to stand by one another and never tell the gangs secrets even if youre chopped all to flinders and kill anybody and all his family that hurts one\n"
     ]
    }
   ],
   "source": [
    "txt = \"0111101010000111010100000010111010010000111000111001010110101000101101101001110101111110111110001011001100001010001010100111110101000000011111000010110011011111110000111100101001101110001001001000111100010100000001100100011001011001001000011001000110111101111000011011110101101101000011111100011111001111010000011000000001000100000110111100010010001010011000101001111110010110111010111001101111111101110000101111011110010111100010001100010101001110011110000000101100001100011101000011110110101101111111111000101100111001100101100000000001100011101101000000101100111111000010100101101010001101110000110111111100011100110110000100111010110110100111100110001111011111011111101000001001010111111000010000111100100100100110010110000100000100000110100010010010011111000011110101010111011001110101010011011101011110011000001011010101010001101010100001001010011111010000011001100010000001110000100010100110111100000111011111011110100100010011111111101111010011001100000011100000110101011110100101011011110111100110111110011001100000111010111010001010110001111111111000101110011001100111000010111101111001010011001001000110011011010010011101110111001100111101011011100011011111111011110000011101111101100011111110101100010111011100000010001011100111110100001100001001100011101011001000100110001001011111101000111110010010011110100100000101111000101010101010110001001010100010111100101110110000110100100010101000011110011011011011011110001001001101111001010010110001100111101001100011001010011010111010010001111000000101101110000000111011001001011110101110110111000000110001000011010001011101001110011000101010101111000110111110111001100110010010111111011100110000000000001110110110000001001101110110101001001010011010110110101001111101001000000001001110100111101001101110001111100010100010000101110011001100110101110110011010100100110101010010011100100100010000000101110110010010001001110001110000000011111101110100111111010000000000111100101000101000001011100001000010101011101110000011111001010000111010101111001011110101000111110000001111011101001100101111110000111011010100111111110001010100110001101011101000111000010000111000011101011010100011011111011011110000001010100000111000011011010100001100100101111011011001011011110111111010101100011110000010011100001010010111110110000111111011101111010110010001001110011111111010110100100000100011011001001111110000001101101011001010101111110001111010110001110101001100001100001001100110111110110010010111100000011011111010011011000000000101111000000010001000001100010001111110100100111101001010100011011110111001101010000011000010101010101101001010000000101100100111000001100001111011000011101010101100011100000111100000001011001101100001001111010001100110100001100100001010010000011100000010100010010100010101000110100101010101100100001111000011001001100111101100111100010010111000110101111011110010111000010111110101011011010111001001010010100001001100001011\"\n",
    "src = [(' ', 72190), ('a', 23858), ('b', 5017), ('c', 6697), ('d', 15027), ('e', 36243), ('f', 6113), ('g', 6699), ('h', 19838), ('i', 19165), ('j', 662), ('k', 3070), ('l', 12294), ('m', 7309), ('n', 20475), ('o', 23601), ('p', 4825), ('q', 180), ('r', 15584), ('s', 18060), ('t', 29363), ('u', 9107), ('v', 2433), ('w', 8111), ('x', 412), ('y', 6809), ('z', 158)];\n",
    "txt_decoded = arithmetic_decode_bin(txt,23,src,713);\n",
    "print(txt_decoded)"
   ]
  },
  {
   "cell_type": "code",
   "execution_count": null,
   "id": "52f2b0ef",
   "metadata": {},
   "outputs": [],
   "source": [
    "txt = \"111111011100000101111000000000000110101101110100100001010000000111110001010011101001001010101110101111000101000110000101011111001010001100101010100010000111011011100010111001111001111011101111111011101000100110101001010111001100110010000000100111001011110110001010000011110100111010101011011011100111011001100101100010111101000010110011010110010011100011111100011101001001000111111000011010100000111101010000101000101100011100001011111100101000100001100001111110001010110110100001010111101011011010110100111010100110001001001011001010101111100011110101000110110010101100011110001010011101100110011100010011110011000001000010110111101101111000110110001111110011101111111010010100001001110110101010001110001000000001100110011101100010010110111001110100100110111000110110011110000011000110111101010011110000001000000111101101101110011100101011001111101011010011000101111101001101010010011011011010000111111010000100001000001011000101011010011100001010100001001001000111000111001010100100001101010101001101111111111000001111011100111111100011010011100000100011101111001100100110000010011101111010101011011110000001010111010001001100111011011000110111010000100110110000011010111010010011000111110000011110011100000000000100011011011110001100001010110001101010100000100110001011101101100101111010010101000010100100001000101110010100011111101001101111111111100011000100000101110111101101001101111101011000011000011011111110111111011011100010110100001010001000000101011010010100001001000010011100110111110100000011100001000111001010111100100100101001101100001100101101100100010001001000010010010001100101110101000100001111100101010000101001000010110000100010101100111000101100101010111001011011010110011101011010100100010101111111100010101000001010110101110100101011101011010010000010111101000011100010011101001000100000010010110000101110010010111110000010111111110000000001001000100001010001111001010101011101000000000100111000000100000010110100011101001001000011011100100111001100010000101000011100000111101100110111110100001010010111011001011111101100110101101111000000001100110110101110110010111001000101011110100111011000011111011110100010100101000001000001101101110100101010001001001101110100011101110001000001111001110110001001000010110111110111111111011111001011010111110111011001011111111011110101111011011110001010110010110010001010011111000101101001011100001100101111101000101111100010101101001000011011110110111111010000011000011101010110011011001001110111101101101000010111101101101011001011001001100010101111010011111000011011011100000011000101000001101111001110010101110010000110011111110010001001101011001101101101000010101001000011100100010110101100111110100010001000110000100001011100000000110010011000001011000101001001110111001000111011001011101001110011111011010100011000111000000100101000110101001101110010011110111101111010110010010000011110000000010100000111000101001010110011100110001110111110010000010101011001011011000010110000100011111010010010111101000000111010000110010100011110000100010100110101001010000001110101111111001000110000000101101010000010010011001110000101110111101101001111011010100111011001010101111111100010100001000000011101110110001011001101100100001100110011001101001011010000100110000000111111001000001001001110001000011010101101101011100000010000000101111101110010110001110001110110111001010100010000110011100111010011100111110010011111100100010101101010101000100010001000011101010001110000111011000000010111010111101101010011010110101001111101111010111101110000011100000111101000111110111111110100110000100011101110011101101110000101101111111101100101101010010110001110101011010101100111011011011101010001001100000110011100000011011000010011000000100000101110011101010010001110111011010010101100000110101011011110010000110111011010011111111010001001000110100000001111000011010111011100010000110011010010000100011111110011111001001010000111111101011000000011100010000110110101000110010010001100110011100110101001110001110111110011110011011011110001111101110101110000001001101010110001000001010010000110111111110010000010010000100011110010001011001101010100111011001001000011011100111101000101011111011001000110101010001111001011111010011110010111000011101111010111110101010110101011101100100100010001101111111001000011011101111010101001011010111111101000011101010001100101011101000000010101101000010111011001110000010111101110100010011111010101101101111011010011011100000010101101001000000111011110101011101101100010110001100110001001101001100001100100010000000001011000110111110101011101110100001111010001101111110011000110111000001000110111010000011010100101111011011010001110110111010010010011110100111100011110011110101001110010101010101110010111000100111010111000110011100111001110010101000100000010000111000000110000001100100110101111111111110100101110110000011100000000101001001010011011000000101011010011100010000111011011000110111100100101110110110100001000110011010111010010100110000001100000111110000011001110110101100100111010001111100001000011011101111110010000111010010001111111000111011011111000110011111010010000001011100110010100100000101011100010011011001011110011000110010000000110111000011101101001110011001000000001011111000001011101110001010000010101011111011101100110111000001000001110000110011001101110110110100010001001001111110101001011111110000011000011111101000000010101011011000001010010001011110110100010001110100001110101001100001110111000110001010010011000101111100000111000110000100100001000010000110110000001110011011101011110111001011111001010011111010101100011010010110100110101101010011001111110010100001101000101011110001000001101100110111000010110100010111\"\n",
    "src = [('00', 1498), ('01', 259), ('10', 17), ('11', 380)]\n",
    "txt_decoded = arithmetic_decode_bin(txt,14,src,9080);\n",
    "print(txt_decoded)"
   ]
  },
  {
   "cell_type": "code",
   "execution_count": 30,
   "id": "61d40b8a",
   "metadata": {},
   "outputs": [
    {
     "data": {
      "text/plain": [
       "'if you had been in hucks place youd a sneaked down the hill and never told anybody on the robbers you cant do any but mean things and you cant bear to see anybody praised for doing good ones there no thanks as the widow says and tom cuffed sids ears and helped him to the door with several kicks now go and tell auntie if you dare and tomorrow youll catch it some minutes later the widows guests were at the supper table and a dozen children were propped up at little side tables in the same room after the fashion of that country and that day at the proper time mr jones made his little speech'"
      ]
     },
     "execution_count": 30,
     "metadata": {},
     "output_type": "execute_result"
    }
   ],
   "source": [
    "txt = \"011111100000111110100111110000011001001100000110110010101011000000111100000011011110011011111111101010001110111100101001101110101001111101001111100110000001000010101000010101001111110010111000001100010011111011000001011011001010001100111110011100100010010001100000100001011111111001011101000101110011100111000000100100011111011011010011100011111000100110000010110110010100110101001110110110110010111010101000111110100111110000110111010010001011001100010010001001000111110001101101111001011001110100101010010000010110110011110001110011010000100100011000001111101001111100001101110100100010110011011001010100110100010111001001010010101010001001000111110110110100111000111110001110111101001000111101001011100000111000100111010001100010010111100011100100111001100110011100000100110000101101000101101100101110100101001000100100101101100100100011111101010000100101000101101100101001111010111110001001111101001010010011111010100001001000110000010111001111010001101111111001110001110000101110000010100111110001010000101010011010101000010010001100000011001011100111101101011100000011001111110100010111001001011011001010011000100110011101000111101011110110110001010010111111110010111010010011001001111110011111011111111101010001000100111110100111001100100010010001100000101101011100111001000100111100100010110111010100011111100000111110100111110000110000100110100101000100100011000001011100111101010011101011010100111110100111110100111110011001110010011011101001011110111011000011110110010101001111010010100111010011110001111001011010110100011001010010110101110100010110110010100111101011111000100111110110100011100111110001011010101110100011110101011101001010001001011001011011001010010101111001110111110110101110100010110100110110110010101000100100011000000100001100010011111111111101011000001101110110011111001110001101001011000001111010101110100101001110111101010011110111110110101110000011110011101100010010110011001011110111011110010101001010011111000010100101101001101101100101011010000111100000101101100101001010010011101001010011010100110011110100001001110001011010111010001011011001010011100001001010011001111001100000100111100000101101100100101100110111100111110010001011110101111100001001000110000010110110010010110011000010011111000010010110010110110010100111011110101001111011010111010001011011111101001010011101011010001111111101001100001011010001110100100110000101000110011110100011001011110111011110010101001010111011010101011101110110\"\n",
    "src = [(' ', 72190), ('a', 23858), ('b', 5017), ('c', 6697), ('d', 15027), ('e', 36243), ('f', 6113), ('g', 6699), ('h', 19838), ('i', 19165), ('j', 662), ('k', 3070), ('l', 12294), ('m', 7309), ('n', 20475), ('o', 23601), ('p', 4825), ('q', 180), ('r', 15584), ('s', 18060), ('t', 29363), ('u', 9107), ('v', 2433), ('w', 8111), ('x', 412), ('y', 6809), ('z', 158)];\n",
    "res = huffman_code(txt, src, 1)\n",
    "huf = [(key, value) for key, value in zip(res.keys(), canonical_code(res.values(), 2, ['0', '1']))]\n",
    "corr = dict(huf)\n",
    "decode(txt,corr)"
   ]
  },
  {
   "cell_type": "code",
   "execution_count": 148,
   "id": "b8b8004e",
   "metadata": {},
   "outputs": [
    {
     "data": {
      "text/plain": [
       "0.029262373111501816"
      ]
     },
     "execution_count": 148,
     "metadata": {},
     "output_type": "execute_result"
    }
   ],
   "source": [
    "src = [('a', 407), ('b', 5), ('c', 3150), ('d', 2), ('e', 8), ('f', 3844), ('g', 106251), ('h', 11724), ('i', 3), ('j', 81217), ('k', 2), ('l', 829), ('m', 77), ('n', 3576), ('o', 1242), ('p', 7331), ('q', 533), ('r', 112), ('s', 1), ('t', 4), ('u', 1), ('v', 757), ('w', 8262), ('x', 4063), ('y', 1172), ('z', 56)];\n",
    "pp = product_prob(src)\n",
    "res = huffman_code(\"quijote\", pp, 2)\n",
    "huf = [(key, value) for key, value in zip(res.keys(), canonical_code(res.values(), 2, ['0', '1']))]\n",
    "cod = [y for x,y in huf];\n",
    "pp2 = dict(pp);\n",
    "mean_length(pp, cod) - entropy2(pp2)"
   ]
  },
  {
   "cell_type": "code",
   "execution_count": null,
   "id": "6d3040f2",
   "metadata": {},
   "outputs": [],
   "source": [
    "entropy(quijote,2,pre=\"co\")"
   ]
  }
 ],
 "metadata": {
  "kernelspec": {
   "display_name": "Python 3 (ipykernel)",
   "language": "python",
   "name": "python3"
  },
  "language_info": {
   "codemirror_mode": {
    "name": "ipython",
    "version": 3
   },
   "file_extension": ".py",
   "mimetype": "text/x-python",
   "name": "python",
   "nbconvert_exporter": "python",
   "pygments_lexer": "ipython3",
   "version": "3.9.13"
  }
 },
 "nbformat": 4,
 "nbformat_minor": 5
}
